{
 "cells": [
  {
   "cell_type": "markdown",
   "id": "d5f00eeb",
   "metadata": {},
   "source": [
    "# A molecular single-cell lung atlas of lethal COVID-19"
   ]
  },
  {
   "cell_type": "markdown",
   "id": "319d8c9b",
   "metadata": {},
   "source": [
    "The Dataset was downloaded from https://www.ncbi.nlm.nih.gov/geo/query/acc.cgi?acc=GSE171524\n",
    "Download the GSE171524_RAW.tar file and save it for instance in a folder called raw. "
   ]
  },
  {
   "cell_type": "code",
   "execution_count": 2,
   "id": "8b1d10cb",
   "metadata": {
    "execution": {
     "iopub.execute_input": "2025-06-09T13:37:18.912859Z",
     "iopub.status.busy": "2025-06-09T13:37:18.911549Z",
     "iopub.status.idle": "2025-06-09T13:37:18.919252Z",
     "shell.execute_reply": "2025-06-09T13:37:18.918035Z",
     "shell.execute_reply.started": "2025-06-09T13:37:18.912795Z"
    }
   },
   "outputs": [],
   "source": [
    "# Packages to install (if not available yet, remove ##):\n",
    "## !pip install scanpy\n",
    "##!pip install scvi-tools\n",
    "##!pip install --upgrade pip\n",
    "##!pip install scikit-misc #required for 'seurat_v3' option in scanpy\n",
    "##!pip install leidenalg"
   ]
  },
  {
   "cell_type": "code",
   "execution_count": 1,
   "id": "aed2e609",
   "metadata": {
    "execution": {
     "iopub.execute_input": "2025-06-09T13:44:12.140776Z",
     "iopub.status.busy": "2025-06-09T13:44:12.139149Z",
     "iopub.status.idle": "2025-06-09T13:44:12.148824Z",
     "shell.execute_reply": "2025-06-09T13:44:12.147638Z",
     "shell.execute_reply.started": "2025-06-09T13:44:12.140713Z"
    },
    "scrolled": true
   },
   "outputs": [
    {
     "name": "stderr",
     "output_type": "stream",
     "text": [
      "/Users/thorsten/.pyenv/versions/3.10.6/envs/Bioinformatics/lib/python3.10/site-packages/anndata/utils.py:434: FutureWarning: Importing read_csv from `anndata` is deprecated. Import anndata.io.read_csv instead.\n",
      "  warnings.warn(msg, FutureWarning)\n",
      "/Users/thorsten/.pyenv/versions/3.10.6/envs/Bioinformatics/lib/python3.10/site-packages/anndata/utils.py:434: FutureWarning: Importing read_excel from `anndata` is deprecated. Import anndata.io.read_excel instead.\n",
      "  warnings.warn(msg, FutureWarning)\n",
      "/Users/thorsten/.pyenv/versions/3.10.6/envs/Bioinformatics/lib/python3.10/site-packages/anndata/utils.py:434: FutureWarning: Importing read_hdf from `anndata` is deprecated. Import anndata.io.read_hdf instead.\n",
      "  warnings.warn(msg, FutureWarning)\n",
      "/Users/thorsten/.pyenv/versions/3.10.6/envs/Bioinformatics/lib/python3.10/site-packages/anndata/utils.py:434: FutureWarning: Importing read_loom from `anndata` is deprecated. Import anndata.io.read_loom instead.\n",
      "  warnings.warn(msg, FutureWarning)\n",
      "/Users/thorsten/.pyenv/versions/3.10.6/envs/Bioinformatics/lib/python3.10/site-packages/anndata/utils.py:434: FutureWarning: Importing read_mtx from `anndata` is deprecated. Import anndata.io.read_mtx instead.\n",
      "  warnings.warn(msg, FutureWarning)\n",
      "/Users/thorsten/.pyenv/versions/3.10.6/envs/Bioinformatics/lib/python3.10/site-packages/anndata/utils.py:434: FutureWarning: Importing read_text from `anndata` is deprecated. Import anndata.io.read_text instead.\n",
      "  warnings.warn(msg, FutureWarning)\n",
      "/Users/thorsten/.pyenv/versions/3.10.6/envs/Bioinformatics/lib/python3.10/site-packages/anndata/utils.py:434: FutureWarning: Importing read_umi_tools from `anndata` is deprecated. Import anndata.io.read_umi_tools instead.\n",
      "  warnings.warn(msg, FutureWarning)\n"
     ]
    }
   ],
   "source": [
    "#Import of packages\n",
    "import scanpy as sc\n",
    "import scvi\n",
    "from scipy.sparse import csr_matrix"
   ]
  },
  {
   "cell_type": "code",
   "execution_count": 16,
   "id": "c19a7832",
   "metadata": {
    "execution": {
     "iopub.execute_input": "2025-06-09T13:46:28.480842Z",
     "iopub.status.busy": "2025-06-09T13:46:28.478569Z",
     "iopub.status.idle": "2025-06-09T13:46:42.035989Z",
     "shell.execute_reply": "2025-06-09T13:46:42.035198Z",
     "shell.execute_reply.started": "2025-06-09T13:46:28.480757Z"
    }
   },
   "outputs": [],
   "source": [
    "# Import the read file (in this case csv file but can also be an h5 or other file formats). Use sc.read and Tab to see the possiblities for scanpy.\n",
    "adata = sc.read_csv('/GSE171524_RAW/GSM5226574_C51ctr_raw_counts.csv.gz').T"
   ]
  },
  {
   "cell_type": "code",
   "execution_count": 3,
   "id": "fd9bbe97",
   "metadata": {
    "execution": {
     "iopub.execute_input": "2025-06-07T15:42:45.933420Z",
     "iopub.status.busy": "2025-06-07T15:42:45.933180Z",
     "iopub.status.idle": "2025-06-07T15:42:45.938270Z",
     "shell.execute_reply": "2025-06-07T15:42:45.937913Z",
     "shell.execute_reply.started": "2025-06-07T15:42:45.933404Z"
    }
   },
   "outputs": [
    {
     "data": {
      "text/plain": [
       "AnnData object with n_obs × n_vars = 6099 × 34546"
      ]
     },
     "execution_count": 3,
     "metadata": {},
     "output_type": "execute_result"
    }
   ],
   "source": [
    "adata # shows what adata is"
   ]
  },
  {
   "cell_type": "markdown",
   "id": "c630cc9f",
   "metadata": {},
   "source": [
    "# AnnData Format\n",
    "The variable adata is an Anndata format (https://anndata.readthedocs.io/en/latest/tutorials/notebooks/getting-started.html) and consist of three components:\n",
    " - adata.obs\n",
    " - adata.var \n",
    " - adata.X\n",
    " \n",
    " adata.obs contains the cell barcodes (later additional observations are added to this dataframe)<br>\n",
    " adata.var contains the GeneNames <br>\n",
    " adata.X is the matrix with the read counts\n",
    " \n",
    " Let's get a feeling for the data. In python we can use different functions to check the dataframe/matrix and get a quick **overview** of its structure.<br>\n",
    " \n",
    " \n",
    " - .shape &rarr; shows the number of rows and columns (rows, columns) in a dataframe\n",
    " - .dtype &rarr; shows the datatype of each column (float, integer, string, object). In single cell data this works in the beginning only on the adata.X! \n",
    " - .info &rarr; give general infos on the dataframe including column names, non-null values, and dtypes\n",
    " - .describe() &rarr; summary of numeric columns (Count, mean, std, min, 25%, 50%, 75%, max) <br>\n",
    " \n",
    " \n",
    " **Column or indices can be accessed by using:**  <br>\n",
    " - .columns &rarr; shows the column names if there is a header\n",
    " - .index &rarr; shows the indices of the dataframe <br>\n",
    " \n",
    " Below we will only show the shape but try the other commands too:)"
   ]
  },
  {
   "cell_type": "code",
   "execution_count": 4,
   "id": "110b67d6",
   "metadata": {
    "execution": {
     "iopub.execute_input": "2025-06-07T15:42:45.939432Z",
     "iopub.status.busy": "2025-06-07T15:42:45.939309Z",
     "iopub.status.idle": "2025-06-07T15:42:45.941638Z",
     "shell.execute_reply": "2025-06-07T15:42:45.941394Z",
     "shell.execute_reply.started": "2025-06-07T15:42:45.939421Z"
    }
   },
   "outputs": [
    {
     "data": {
      "text/plain": [
       "(6099, 0)"
      ]
     },
     "execution_count": 4,
     "metadata": {},
     "output_type": "execute_result"
    }
   ],
   "source": [
    "adata.obs.shape"
   ]
  },
  {
   "cell_type": "code",
   "execution_count": 5,
   "id": "f2c5f7a3",
   "metadata": {
    "execution": {
     "iopub.execute_input": "2025-06-07T15:42:45.942078Z",
     "iopub.status.busy": "2025-06-07T15:42:45.941991Z",
     "iopub.status.idle": "2025-06-07T15:42:45.944331Z",
     "shell.execute_reply": "2025-06-07T15:42:45.944102Z",
     "shell.execute_reply.started": "2025-06-07T15:42:45.942068Z"
    }
   },
   "outputs": [
    {
     "data": {
      "text/plain": [
       "(34546, 0)"
      ]
     },
     "execution_count": 5,
     "metadata": {},
     "output_type": "execute_result"
    }
   ],
   "source": [
    "adata.var.shape"
   ]
  },
  {
   "cell_type": "code",
   "execution_count": 6,
   "id": "d78ff48f",
   "metadata": {
    "execution": {
     "iopub.execute_input": "2025-06-07T15:42:45.944862Z",
     "iopub.status.busy": "2025-06-07T15:42:45.944751Z",
     "iopub.status.idle": "2025-06-07T15:42:45.946928Z",
     "shell.execute_reply": "2025-06-07T15:42:45.946663Z",
     "shell.execute_reply.started": "2025-06-07T15:42:45.944852Z"
    }
   },
   "outputs": [
    {
     "data": {
      "text/plain": [
       "(6099, 34546)"
      ]
     },
     "execution_count": 6,
     "metadata": {},
     "output_type": "execute_result"
    }
   ],
   "source": [
    "adata.X # this is a numpy array!\n",
    "adata.X.shape"
   ]
  },
  {
   "cell_type": "markdown",
   "id": "60322762",
   "metadata": {},
   "source": [
    "# Doublet Removal "
   ]
  },
  {
   "cell_type": "markdown",
   "id": "7324b5da-a4a9-4e16-ac53-52e7aca9cf95",
   "metadata": {
    "execution": {
     "iopub.execute_input": "2025-06-06T18:48:36.623617Z",
     "iopub.status.busy": "2025-06-06T18:48:36.621955Z",
     "iopub.status.idle": "2025-06-06T18:48:36.638189Z",
     "shell.execute_reply": "2025-06-06T18:48:36.635587Z",
     "shell.execute_reply.started": "2025-06-06T18:48:36.623543Z"
    }
   },
   "source": [
    "This used scvi to remove doublets (see how to import above) and scanpy (sc) to modify the dataframes"
   ]
  },
  {
   "cell_type": "code",
   "execution_count": 7,
   "id": "95c0bdd9",
   "metadata": {
    "execution": {
     "iopub.execute_input": "2025-06-07T15:42:45.947464Z",
     "iopub.status.busy": "2025-06-07T15:42:45.947359Z",
     "iopub.status.idle": "2025-06-07T15:42:45.949908Z",
     "shell.execute_reply": "2025-06-07T15:42:45.949541Z",
     "shell.execute_reply.started": "2025-06-07T15:42:45.947453Z"
    }
   },
   "outputs": [
    {
     "data": {
      "text/plain": [
       "AnnData object with n_obs × n_vars = 6099 × 34546"
      ]
     },
     "execution_count": 7,
     "metadata": {},
     "output_type": "execute_result"
    }
   ],
   "source": [
    "adata"
   ]
  },
  {
   "cell_type": "code",
   "execution_count": 8,
   "id": "15f94549-6513-488b-b9ad-dcbf42e97191",
   "metadata": {
    "execution": {
     "iopub.execute_input": "2025-06-07T15:42:45.950649Z",
     "iopub.status.busy": "2025-06-07T15:42:45.950492Z",
     "iopub.status.idle": "2025-06-07T15:42:45.953238Z",
     "shell.execute_reply": "2025-06-07T15:42:45.952948Z",
     "shell.execute_reply.started": "2025-06-07T15:42:45.950637Z"
    }
   },
   "outputs": [
    {
     "data": {
      "text/plain": [
       "34546"
      ]
     },
     "execution_count": 8,
     "metadata": {},
     "output_type": "execute_result"
    }
   ],
   "source": [
    "Total_Number_of_genes = adata.shape[1]\n",
    "Total_Number_of_genes"
   ]
  },
  {
   "cell_type": "code",
   "execution_count": 9,
   "id": "17ad89dc-d870-4c3f-90aa-abaeaa9ac07a",
   "metadata": {
    "execution": {
     "iopub.execute_input": "2025-06-07T15:42:45.953929Z",
     "iopub.status.busy": "2025-06-07T15:42:45.953794Z",
     "iopub.status.idle": "2025-06-07T15:42:46.903001Z",
     "shell.execute_reply": "2025-06-07T15:42:46.902470Z",
     "shell.execute_reply.started": "2025-06-07T15:42:45.953918Z"
    }
   },
   "outputs": [],
   "source": [
    "# Keeps only genes that are found in at least 10 cells\n",
    "sc.pp.filter_genes(adata, min_cells = 10)"
   ]
  },
  {
   "cell_type": "code",
   "execution_count": 10,
   "id": "7f89628a-9688-4fa8-8b5a-bd5a7a36fa70",
   "metadata": {
    "execution": {
     "iopub.execute_input": "2025-06-07T15:42:46.905575Z",
     "iopub.status.busy": "2025-06-07T15:42:46.905398Z",
     "iopub.status.idle": "2025-06-07T15:42:46.909226Z",
     "shell.execute_reply": "2025-06-07T15:42:46.908922Z",
     "shell.execute_reply.started": "2025-06-07T15:42:46.905557Z"
    }
   },
   "outputs": [
    {
     "data": {
      "text/plain": [
       "AnnData object with n_obs × n_vars = 6099 × 19896\n",
       "    var: 'n_cells'"
      ]
     },
     "execution_count": 10,
     "metadata": {},
     "output_type": "execute_result"
    }
   ],
   "source": [
    "adata"
   ]
  },
  {
   "cell_type": "code",
   "execution_count": 11,
   "id": "3d19665f-68ed-44da-a176-46fdedcf9a37",
   "metadata": {
    "execution": {
     "iopub.execute_input": "2025-06-07T15:42:46.909898Z",
     "iopub.status.busy": "2025-06-07T15:42:46.909781Z",
     "iopub.status.idle": "2025-06-07T15:42:46.912657Z",
     "shell.execute_reply": "2025-06-07T15:42:46.912337Z",
     "shell.execute_reply.started": "2025-06-07T15:42:46.909886Z"
    }
   },
   "outputs": [
    {
     "data": {
      "text/plain": [
       "19896"
      ]
     },
     "execution_count": 11,
     "metadata": {},
     "output_type": "execute_result"
    }
   ],
   "source": [
    "Number_of_genes_filtered = adata.shape[1]\n",
    "Number_of_genes_filtered"
   ]
  },
  {
   "cell_type": "code",
   "execution_count": 12,
   "id": "52baf0e7-89c7-471b-ab1f-eff6934883e7",
   "metadata": {
    "execution": {
     "iopub.execute_input": "2025-06-07T15:42:46.913395Z",
     "iopub.status.busy": "2025-06-07T15:42:46.913243Z",
     "iopub.status.idle": "2025-06-07T15:42:46.915959Z",
     "shell.execute_reply": "2025-06-07T15:42:46.915659Z",
     "shell.execute_reply.started": "2025-06-07T15:42:46.913384Z"
    }
   },
   "outputs": [
    {
     "data": {
      "text/plain": [
       "42.407225149076595"
      ]
     },
     "execution_count": 12,
     "metadata": {},
     "output_type": "execute_result"
    }
   ],
   "source": [
    "# Small Calculation on how much percent of genes are lost\n",
    "Loss_of_genes = ((Total_Number_of_genes-Number_of_genes_filtered)/Total_Number_of_genes)*100\n",
    "Loss_of_genes"
   ]
  },
  {
   "cell_type": "code",
   "execution_count": 13,
   "id": "01e651da-259b-4868-ba3d-cc1c036dc98d",
   "metadata": {
    "execution": {
     "iopub.execute_input": "2025-06-07T15:42:46.916633Z",
     "iopub.status.busy": "2025-06-07T15:42:46.916482Z",
     "iopub.status.idle": "2025-06-07T15:42:49.847698Z",
     "shell.execute_reply": "2025-06-07T15:42:49.847019Z",
     "shell.execute_reply.started": "2025-06-07T15:42:46.916621Z"
    }
   },
   "outputs": [],
   "source": [
    "# Subset the top 2000 genes of the dataset to train the scvi model (to be quicker and it is sufficient training material)\n",
    "sc.pp.highly_variable_genes(adata, n_top_genes = 2000, subset = True, flavor = 'seurat_v3')"
   ]
  },
  {
   "cell_type": "code",
   "execution_count": 14,
   "id": "8b57eaf7-1fa3-4ff8-843c-f247606631f0",
   "metadata": {
    "execution": {
     "iopub.execute_input": "2025-06-07T15:42:49.848576Z",
     "iopub.status.busy": "2025-06-07T15:42:49.848465Z",
     "iopub.status.idle": "2025-06-07T15:42:49.851902Z",
     "shell.execute_reply": "2025-06-07T15:42:49.851556Z",
     "shell.execute_reply.started": "2025-06-07T15:42:49.848560Z"
    }
   },
   "outputs": [
    {
     "data": {
      "text/plain": [
       "AnnData object with n_obs × n_vars = 6099 × 2000\n",
       "    var: 'n_cells', 'highly_variable', 'highly_variable_rank', 'means', 'variances', 'variances_norm'\n",
       "    uns: 'hvg'"
      ]
     },
     "execution_count": 14,
     "metadata": {},
     "output_type": "execute_result"
    }
   ],
   "source": [
    "# Check if subsetting worked\n",
    "adata"
   ]
  },
  {
   "cell_type": "code",
   "execution_count": 15,
   "id": "8d618db0-961c-4913-87a5-933be89c520f",
   "metadata": {
    "execution": {
     "iopub.execute_input": "2025-06-07T15:42:49.852387Z",
     "iopub.status.busy": "2025-06-07T15:42:49.852299Z",
     "iopub.status.idle": "2025-06-07T15:48:11.727775Z",
     "shell.execute_reply": "2025-06-07T15:48:11.727391Z",
     "shell.execute_reply.started": "2025-06-07T15:42:49.852376Z"
    }
   },
   "outputs": [
    {
     "name": "stderr",
     "output_type": "stream",
     "text": [
      "/Users/thorsten/.pyenv/versions/3.10.6/envs/SingleCell/lib/python3.10/site-packages/scvi/train/_trainrunner.py:69: UserWarning: `accelerator` has been automatically set to `cpu` although 'mps' exists. If you wish to run on mps backend, use explicitly accelerator=='mps' in train function.In future releases it will become default for mps supported machines.\n",
      "  accelerator, lightning_devices, device = parse_device_args(\n",
      "GPU available: True (mps), used: False\n",
      "TPU available: False, using: 0 TPU cores\n",
      "HPU available: False, using: 0 HPUs\n",
      "/Users/thorsten/.pyenv/versions/3.10.6/envs/SingleCell/lib/python3.10/site-packages/lightning/pytorch/trainer/setup.py:177: GPU available but not used. You can set it by doing `Trainer(accelerator='gpu')`.\n",
      "/Users/thorsten/.pyenv/versions/3.10.6/envs/SingleCell/lib/python3.10/site-packages/lightning/pytorch/trainer/connectors/data_connector.py:425: The 'train_dataloader' does not have many workers which may be a bottleneck. Consider increasing the value of the `num_workers` argument` to `num_workers=7` in the `DataLoader` to improve performance.\n"
     ]
    },
    {
     "data": {
      "application/vnd.jupyter.widget-view+json": {
       "model_id": "29f46876103a4d198c8b9fe5496d7a55",
       "version_major": 2,
       "version_minor": 0
      },
      "text/plain": [
       "Training:   0%|          | 0/400 [00:00<?, ?it/s]"
      ]
     },
     "metadata": {},
     "output_type": "display_data"
    },
    {
     "name": "stderr",
     "output_type": "stream",
     "text": [
      "`Trainer.fit` stopped: `max_epochs=400` reached.\n"
     ]
    }
   ],
   "source": [
    "# Train the SCVI Model\n",
    "scvi.model.SCVI.setup_anndata(adata)\n",
    "vae = scvi.model.SCVI(adata)\n",
    "vae.train()"
   ]
  },
  {
   "cell_type": "code",
   "execution_count": 16,
   "id": "8bbaf095-521e-441b-9c7f-8a51a778063a",
   "metadata": {
    "execution": {
     "iopub.execute_input": "2025-06-07T15:48:11.728742Z",
     "iopub.status.busy": "2025-06-07T15:48:11.728609Z",
     "iopub.status.idle": "2025-06-07T15:48:42.299732Z",
     "shell.execute_reply": "2025-06-07T15:48:42.298766Z",
     "shell.execute_reply.started": "2025-06-07T15:48:11.728725Z"
    }
   },
   "outputs": [
    {
     "name": "stdout",
     "output_type": "stream",
     "text": [
      "\u001b[34mINFO    \u001b[0m Creating doublets, preparing SOLO model.                                                                  \n"
     ]
    },
    {
     "name": "stderr",
     "output_type": "stream",
     "text": [
      "/Users/thorsten/.pyenv/versions/3.10.6/envs/SingleCell/lib/python3.10/site-packages/scvi/train/_trainrunner.py:69: UserWarning: `accelerator` has been automatically set to `cpu` although 'mps' exists. If you wish to run on mps backend, use explicitly accelerator=='mps' in train function.In future releases it will become default for mps supported machines.\n",
      "  accelerator, lightning_devices, device = parse_device_args(\n",
      "GPU available: True (mps), used: False\n",
      "TPU available: False, using: 0 TPU cores\n",
      "HPU available: False, using: 0 HPUs\n",
      "/Users/thorsten/.pyenv/versions/3.10.6/envs/SingleCell/lib/python3.10/site-packages/lightning/pytorch/trainer/setup.py:177: GPU available but not used. You can set it by doing `Trainer(accelerator='gpu')`.\n",
      "/Users/thorsten/.pyenv/versions/3.10.6/envs/SingleCell/lib/python3.10/site-packages/lightning/pytorch/trainer/connectors/data_connector.py:425: The 'train_dataloader' does not have many workers which may be a bottleneck. Consider increasing the value of the `num_workers` argument` to `num_workers=7` in the `DataLoader` to improve performance.\n",
      "/Users/thorsten/.pyenv/versions/3.10.6/envs/SingleCell/lib/python3.10/site-packages/lightning/pytorch/trainer/connectors/data_connector.py:425: The 'val_dataloader' does not have many workers which may be a bottleneck. Consider increasing the value of the `num_workers` argument` to `num_workers=7` in the `DataLoader` to improve performance.\n"
     ]
    },
    {
     "data": {
      "application/vnd.jupyter.widget-view+json": {
       "model_id": "78404fb61f99474fa9181e1e52908733",
       "version_major": 2,
       "version_minor": 0
      },
      "text/plain": [
       "Training:   0%|          | 0/400 [00:00<?, ?it/s]"
      ]
     },
     "metadata": {},
     "output_type": "display_data"
    },
    {
     "name": "stdout",
     "output_type": "stream",
     "text": [
      "Monitored metric validation_loss did not improve in the last 30 records. Best score: 0.288. Signaling Trainer to stop.\n"
     ]
    }
   ],
   "source": [
    "# Train the doublet class model (it has an stop inside if loss is not changing anymore)\n",
    "solo = scvi.external.SOLO.from_scvi_model(vae)\n",
    "solo.train()"
   ]
  },
  {
   "cell_type": "code",
   "execution_count": 17,
   "id": "734fbc41-6c6e-4dbc-ad43-863262a3a34f",
   "metadata": {
    "execution": {
     "iopub.execute_input": "2025-06-07T15:48:42.301555Z",
     "iopub.status.busy": "2025-06-07T15:48:42.301099Z",
     "iopub.status.idle": "2025-06-07T15:48:42.379606Z",
     "shell.execute_reply": "2025-06-07T15:48:42.379302Z",
     "shell.execute_reply.started": "2025-06-07T15:48:42.301531Z"
    }
   },
   "outputs": [
    {
     "name": "stderr",
     "output_type": "stream",
     "text": [
      "/Users/thorsten/.pyenv/versions/3.10.6/envs/SingleCell/lib/python3.10/site-packages/torch/utils/_contextlib.py:116: UserWarning: Prior to scvi-tools 1.1.3, `SOLO.predict` with `soft=True` (the default option) returned logits instead of probabilities. This behavior has since been corrected to return probabiltiies. The previous behavior can be replicated by passing in `return_logits=True`.\n",
      "  return func(*args, **kwargs)\n",
      "/Users/thorsten/.pyenv/versions/3.10.6/envs/SingleCell/lib/python3.10/site-packages/torch/utils/_contextlib.py:116: UserWarning: Prior to scvi-tools 1.1.3, `SOLO.predict` with `soft=True` (the default option) returned logits instead of probabilities. This behavior has since been corrected to return probabiltiies. The previous behavior can be replicated by passing in `return_logits=True`.\n",
      "  return func(*args, **kwargs)\n"
     ]
    },
    {
     "data": {
      "text/html": [
       "<div>\n",
       "<style scoped>\n",
       "    .dataframe tbody tr th:only-of-type {\n",
       "        vertical-align: middle;\n",
       "    }\n",
       "\n",
       "    .dataframe tbody tr th {\n",
       "        vertical-align: top;\n",
       "    }\n",
       "\n",
       "    .dataframe thead th {\n",
       "        text-align: right;\n",
       "    }\n",
       "</style>\n",
       "<table border=\"1\" class=\"dataframe\">\n",
       "  <thead>\n",
       "    <tr style=\"text-align: right;\">\n",
       "      <th></th>\n",
       "      <th>doublet</th>\n",
       "      <th>singlet</th>\n",
       "      <th>prediction</th>\n",
       "    </tr>\n",
       "  </thead>\n",
       "  <tbody>\n",
       "    <tr>\n",
       "      <th>TAGGTACCATGGCCAC-1_1</th>\n",
       "      <td>0.806161</td>\n",
       "      <td>0.193839</td>\n",
       "      <td>doublet</td>\n",
       "    </tr>\n",
       "    <tr>\n",
       "      <th>ATTCACTGTAACAGGC-1_1</th>\n",
       "      <td>0.896878</td>\n",
       "      <td>0.103122</td>\n",
       "      <td>doublet</td>\n",
       "    </tr>\n",
       "    <tr>\n",
       "      <th>TAACTTCCAACCACGC-1_1</th>\n",
       "      <td>0.639890</td>\n",
       "      <td>0.360110</td>\n",
       "      <td>doublet</td>\n",
       "    </tr>\n",
       "    <tr>\n",
       "      <th>TTGGGTACACGACAAG-1_1</th>\n",
       "      <td>0.728426</td>\n",
       "      <td>0.271574</td>\n",
       "      <td>doublet</td>\n",
       "    </tr>\n",
       "    <tr>\n",
       "      <th>AGGCCACAGAGTCACG-1_1</th>\n",
       "      <td>0.791725</td>\n",
       "      <td>0.208275</td>\n",
       "      <td>doublet</td>\n",
       "    </tr>\n",
       "    <tr>\n",
       "      <th>...</th>\n",
       "      <td>...</td>\n",
       "      <td>...</td>\n",
       "      <td>...</td>\n",
       "    </tr>\n",
       "    <tr>\n",
       "      <th>CGCCATTGTTTGCCGG-1_1</th>\n",
       "      <td>0.033506</td>\n",
       "      <td>0.966494</td>\n",
       "      <td>singlet</td>\n",
       "    </tr>\n",
       "    <tr>\n",
       "      <th>CACTGGGGTCTACGTA-1_1</th>\n",
       "      <td>0.001865</td>\n",
       "      <td>0.998135</td>\n",
       "      <td>singlet</td>\n",
       "    </tr>\n",
       "    <tr>\n",
       "      <th>CATACTTGTAGAGGAA-1_1</th>\n",
       "      <td>0.007503</td>\n",
       "      <td>0.992497</td>\n",
       "      <td>singlet</td>\n",
       "    </tr>\n",
       "    <tr>\n",
       "      <th>TTTGGTTTCCACGGAC-1_1</th>\n",
       "      <td>0.002731</td>\n",
       "      <td>0.997269</td>\n",
       "      <td>singlet</td>\n",
       "    </tr>\n",
       "    <tr>\n",
       "      <th>ATGCATGAGTCATGAA-1_1</th>\n",
       "      <td>0.005801</td>\n",
       "      <td>0.994199</td>\n",
       "      <td>singlet</td>\n",
       "    </tr>\n",
       "  </tbody>\n",
       "</table>\n",
       "<p>6099 rows × 3 columns</p>\n",
       "</div>"
      ],
      "text/plain": [
       "                       doublet   singlet prediction\n",
       "TAGGTACCATGGCCAC-1_1  0.806161  0.193839    doublet\n",
       "ATTCACTGTAACAGGC-1_1  0.896878  0.103122    doublet\n",
       "TAACTTCCAACCACGC-1_1  0.639890  0.360110    doublet\n",
       "TTGGGTACACGACAAG-1_1  0.728426  0.271574    doublet\n",
       "AGGCCACAGAGTCACG-1_1  0.791725  0.208275    doublet\n",
       "...                        ...       ...        ...\n",
       "CGCCATTGTTTGCCGG-1_1  0.033506  0.966494    singlet\n",
       "CACTGGGGTCTACGTA-1_1  0.001865  0.998135    singlet\n",
       "CATACTTGTAGAGGAA-1_1  0.007503  0.992497    singlet\n",
       "TTTGGTTTCCACGGAC-1_1  0.002731  0.997269    singlet\n",
       "ATGCATGAGTCATGAA-1_1  0.005801  0.994199    singlet\n",
       "\n",
       "[6099 rows x 3 columns]"
      ]
     },
     "execution_count": 17,
     "metadata": {},
     "output_type": "execute_result"
    }
   ],
   "source": [
    "# Use predict to annotate the cell barcodes with the trained identifier and annotate it as a string in \"doublet\" or \"singlet\"\n",
    "df = solo.predict()\n",
    "df['prediction'] = solo.predict(soft=False)\n",
    "df"
   ]
  },
  {
   "cell_type": "code",
   "execution_count": 18,
   "id": "509be197-8aa8-4940-b4e6-4f3b2fb5a298",
   "metadata": {
    "execution": {
     "iopub.execute_input": "2025-06-07T15:50:52.528634Z",
     "iopub.status.busy": "2025-06-07T15:50:52.527178Z",
     "iopub.status.idle": "2025-06-07T15:50:52.547880Z",
     "shell.execute_reply": "2025-06-07T15:50:52.547288Z",
     "shell.execute_reply.started": "2025-06-07T15:50:52.528524Z"
    }
   },
   "outputs": [
    {
     "data": {
      "text/html": [
       "<div>\n",
       "<style scoped>\n",
       "    .dataframe tbody tr th:only-of-type {\n",
       "        vertical-align: middle;\n",
       "    }\n",
       "\n",
       "    .dataframe tbody tr th {\n",
       "        vertical-align: top;\n",
       "    }\n",
       "\n",
       "    .dataframe thead th {\n",
       "        text-align: right;\n",
       "    }\n",
       "</style>\n",
       "<table border=\"1\" class=\"dataframe\">\n",
       "  <thead>\n",
       "    <tr style=\"text-align: right;\">\n",
       "      <th></th>\n",
       "      <th>doublet</th>\n",
       "      <th>singlet</th>\n",
       "    </tr>\n",
       "    <tr>\n",
       "      <th>prediction</th>\n",
       "      <th></th>\n",
       "      <th></th>\n",
       "    </tr>\n",
       "  </thead>\n",
       "  <tbody>\n",
       "    <tr>\n",
       "      <th>doublet</th>\n",
       "      <td>1122</td>\n",
       "      <td>1122</td>\n",
       "    </tr>\n",
       "    <tr>\n",
       "      <th>singlet</th>\n",
       "      <td>4977</td>\n",
       "      <td>4977</td>\n",
       "    </tr>\n",
       "  </tbody>\n",
       "</table>\n",
       "</div>"
      ],
      "text/plain": [
       "            doublet  singlet\n",
       "prediction                  \n",
       "doublet        1122     1122\n",
       "singlet        4977     4977"
      ]
     },
     "execution_count": 18,
     "metadata": {},
     "output_type": "execute_result"
    }
   ],
   "source": [
    "# Check how much cells are lost (close to 20%)\n",
    "df.groupby('prediction').count()"
   ]
  },
  {
   "cell_type": "code",
   "execution_count": 39,
   "id": "5751eee2-af0a-4dfc-8d78-b644d964b31f",
   "metadata": {
    "execution": {
     "iopub.execute_input": "2025-06-07T16:18:18.770858Z",
     "iopub.status.busy": "2025-06-07T16:18:18.770094Z",
     "iopub.status.idle": "2025-06-07T16:18:18.788272Z",
     "shell.execute_reply": "2025-06-07T16:18:18.787188Z",
     "shell.execute_reply.started": "2025-06-07T16:18:18.770797Z"
    }
   },
   "outputs": [
    {
     "data": {
      "text/html": [
       "<div>\n",
       "<style scoped>\n",
       "    .dataframe tbody tr th:only-of-type {\n",
       "        vertical-align: middle;\n",
       "    }\n",
       "\n",
       "    .dataframe tbody tr th {\n",
       "        vertical-align: top;\n",
       "    }\n",
       "\n",
       "    .dataframe thead th {\n",
       "        text-align: right;\n",
       "    }\n",
       "</style>\n",
       "<table border=\"1\" class=\"dataframe\">\n",
       "  <thead>\n",
       "    <tr style=\"text-align: right;\">\n",
       "      <th></th>\n",
       "      <th>doublet</th>\n",
       "      <th>singlet</th>\n",
       "      <th>prediction</th>\n",
       "      <th>dif</th>\n",
       "    </tr>\n",
       "  </thead>\n",
       "  <tbody>\n",
       "    <tr>\n",
       "      <th>TAGGTACCATGGCCAC-1_1</th>\n",
       "      <td>0.806161</td>\n",
       "      <td>0.193839</td>\n",
       "      <td>doublet</td>\n",
       "      <td>0.612323</td>\n",
       "    </tr>\n",
       "    <tr>\n",
       "      <th>ATTCACTGTAACAGGC-1_1</th>\n",
       "      <td>0.896878</td>\n",
       "      <td>0.103122</td>\n",
       "      <td>doublet</td>\n",
       "      <td>0.793757</td>\n",
       "    </tr>\n",
       "    <tr>\n",
       "      <th>TAACTTCCAACCACGC-1_1</th>\n",
       "      <td>0.639890</td>\n",
       "      <td>0.360110</td>\n",
       "      <td>doublet</td>\n",
       "      <td>0.279781</td>\n",
       "    </tr>\n",
       "    <tr>\n",
       "      <th>TTGGGTACACGACAAG-1_1</th>\n",
       "      <td>0.728426</td>\n",
       "      <td>0.271574</td>\n",
       "      <td>doublet</td>\n",
       "      <td>0.456851</td>\n",
       "    </tr>\n",
       "    <tr>\n",
       "      <th>AGGCCACAGAGTCACG-1_1</th>\n",
       "      <td>0.791725</td>\n",
       "      <td>0.208275</td>\n",
       "      <td>doublet</td>\n",
       "      <td>0.583451</td>\n",
       "    </tr>\n",
       "    <tr>\n",
       "      <th>...</th>\n",
       "      <td>...</td>\n",
       "      <td>...</td>\n",
       "      <td>...</td>\n",
       "      <td>...</td>\n",
       "    </tr>\n",
       "    <tr>\n",
       "      <th>CGCCATTGTTTGCCGG-1_1</th>\n",
       "      <td>0.033506</td>\n",
       "      <td>0.966494</td>\n",
       "      <td>singlet</td>\n",
       "      <td>-0.932988</td>\n",
       "    </tr>\n",
       "    <tr>\n",
       "      <th>CACTGGGGTCTACGTA-1_1</th>\n",
       "      <td>0.001865</td>\n",
       "      <td>0.998135</td>\n",
       "      <td>singlet</td>\n",
       "      <td>-0.996270</td>\n",
       "    </tr>\n",
       "    <tr>\n",
       "      <th>CATACTTGTAGAGGAA-1_1</th>\n",
       "      <td>0.007503</td>\n",
       "      <td>0.992497</td>\n",
       "      <td>singlet</td>\n",
       "      <td>-0.984994</td>\n",
       "    </tr>\n",
       "    <tr>\n",
       "      <th>TTTGGTTTCCACGGAC-1_1</th>\n",
       "      <td>0.002731</td>\n",
       "      <td>0.997269</td>\n",
       "      <td>singlet</td>\n",
       "      <td>-0.994538</td>\n",
       "    </tr>\n",
       "    <tr>\n",
       "      <th>ATGCATGAGTCATGAA-1_1</th>\n",
       "      <td>0.005801</td>\n",
       "      <td>0.994199</td>\n",
       "      <td>singlet</td>\n",
       "      <td>-0.988398</td>\n",
       "    </tr>\n",
       "  </tbody>\n",
       "</table>\n",
       "<p>6099 rows × 4 columns</p>\n",
       "</div>"
      ],
      "text/plain": [
       "                       doublet   singlet prediction       dif\n",
       "TAGGTACCATGGCCAC-1_1  0.806161  0.193839    doublet  0.612323\n",
       "ATTCACTGTAACAGGC-1_1  0.896878  0.103122    doublet  0.793757\n",
       "TAACTTCCAACCACGC-1_1  0.639890  0.360110    doublet  0.279781\n",
       "TTGGGTACACGACAAG-1_1  0.728426  0.271574    doublet  0.456851\n",
       "AGGCCACAGAGTCACG-1_1  0.791725  0.208275    doublet  0.583451\n",
       "...                        ...       ...        ...       ...\n",
       "CGCCATTGTTTGCCGG-1_1  0.033506  0.966494    singlet -0.932988\n",
       "CACTGGGGTCTACGTA-1_1  0.001865  0.998135    singlet -0.996270\n",
       "CATACTTGTAGAGGAA-1_1  0.007503  0.992497    singlet -0.984994\n",
       "TTTGGTTTCCACGGAC-1_1  0.002731  0.997269    singlet -0.994538\n",
       "ATGCATGAGTCATGAA-1_1  0.005801  0.994199    singlet -0.988398\n",
       "\n",
       "[6099 rows x 4 columns]"
      ]
     },
     "execution_count": 39,
     "metadata": {},
     "output_type": "execute_result"
    }
   ],
   "source": [
    "#Calculating the difference of doublet and singlet score to identify cells that have high scores in both (close to 0)\n",
    "df['dif'] = df.doublet - df.singlet\n",
    "df"
   ]
  },
  {
   "cell_type": "code",
   "execution_count": 20,
   "id": "2adec2f8",
   "metadata": {
    "execution": {
     "iopub.execute_input": "2025-06-07T15:51:23.745695Z",
     "iopub.status.busy": "2025-06-07T15:51:23.743429Z",
     "iopub.status.idle": "2025-06-07T15:51:23.911796Z",
     "shell.execute_reply": "2025-06-07T15:51:23.911376Z",
     "shell.execute_reply.started": "2025-06-07T15:51:23.745601Z"
    }
   },
   "outputs": [],
   "source": [
    "import seaborn as sns"
   ]
  },
  {
   "cell_type": "code",
   "execution_count": 24,
   "id": "477f799e-f5e8-4538-b037-5b2269eee9d2",
   "metadata": {
    "execution": {
     "iopub.execute_input": "2025-06-07T16:02:00.558506Z",
     "iopub.status.busy": "2025-06-07T16:02:00.556424Z",
     "iopub.status.idle": "2025-06-07T16:02:00.833601Z",
     "shell.execute_reply": "2025-06-07T16:02:00.831330Z",
     "shell.execute_reply.started": "2025-06-07T16:02:00.558425Z"
    }
   },
   "outputs": [
    {
     "data": {
      "text/plain": [
       "<seaborn.axisgrid.FacetGrid at 0x2a75a11e0>"
      ]
     },
     "execution_count": 24,
     "metadata": {},
     "output_type": "execute_result"
    },
    {
     "data": {
      "image/png": "[encoded data removed]",
      "text/plain": [
       "<Figure size 500x500 with 1 Axes>"
      ]
     },
     "metadata": {},
     "output_type": "display_data"
    }
   ],
   "source": [
    "#Use seaborn to show histogram of dif and decide emperically a cutoff\n",
    "sns.displot(df[df.prediction == 'doublet'], x= 'dif', bins=30, kde=True)"
   ]
  },
  {
   "cell_type": "code",
   "execution_count": 50,
   "id": "49ef8c23-cd9d-463d-8298-e2660c3b7506",
   "metadata": {
    "execution": {
     "iopub.execute_input": "2025-06-07T16:41:15.008231Z",
     "iopub.status.busy": "2025-06-07T16:41:15.007663Z",
     "iopub.status.idle": "2025-06-07T16:41:15.028795Z",
     "shell.execute_reply": "2025-06-07T16:41:15.027718Z",
     "shell.execute_reply.started": "2025-06-07T16:41:15.008196Z"
    }
   },
   "outputs": [
    {
     "data": {
      "text/html": [
       "<div>\n",
       "<style scoped>\n",
       "    .dataframe tbody tr th:only-of-type {\n",
       "        vertical-align: middle;\n",
       "    }\n",
       "\n",
       "    .dataframe tbody tr th {\n",
       "        vertical-align: top;\n",
       "    }\n",
       "\n",
       "    .dataframe thead th {\n",
       "        text-align: right;\n",
       "    }\n",
       "</style>\n",
       "<table border=\"1\" class=\"dataframe\">\n",
       "  <thead>\n",
       "    <tr style=\"text-align: right;\">\n",
       "      <th></th>\n",
       "      <th>doublet</th>\n",
       "      <th>singlet</th>\n",
       "      <th>prediction</th>\n",
       "      <th>dif</th>\n",
       "    </tr>\n",
       "  </thead>\n",
       "  <tbody>\n",
       "    <tr>\n",
       "      <th>TAGGTACCATGGCCAC-1_1</th>\n",
       "      <td>0.806161</td>\n",
       "      <td>0.193839</td>\n",
       "      <td>doublet</td>\n",
       "      <td>0.612323</td>\n",
       "    </tr>\n",
       "    <tr>\n",
       "      <th>ATTCACTGTAACAGGC-1_1</th>\n",
       "      <td>0.896878</td>\n",
       "      <td>0.103122</td>\n",
       "      <td>doublet</td>\n",
       "      <td>0.793757</td>\n",
       "    </tr>\n",
       "    <tr>\n",
       "      <th>TTGGGTACACGACAAG-1_1</th>\n",
       "      <td>0.728426</td>\n",
       "      <td>0.271574</td>\n",
       "      <td>doublet</td>\n",
       "      <td>0.456851</td>\n",
       "    </tr>\n",
       "    <tr>\n",
       "      <th>AGGCCACAGAGTCACG-1_1</th>\n",
       "      <td>0.791725</td>\n",
       "      <td>0.208275</td>\n",
       "      <td>doublet</td>\n",
       "      <td>0.583451</td>\n",
       "    </tr>\n",
       "    <tr>\n",
       "      <th>CACTGAAGTCGAAGCA-1_1</th>\n",
       "      <td>0.731615</td>\n",
       "      <td>0.268385</td>\n",
       "      <td>doublet</td>\n",
       "      <td>0.463231</td>\n",
       "    </tr>\n",
       "    <tr>\n",
       "      <th>...</th>\n",
       "      <td>...</td>\n",
       "      <td>...</td>\n",
       "      <td>...</td>\n",
       "      <td>...</td>\n",
       "    </tr>\n",
       "    <tr>\n",
       "      <th>CAATACGCAATGTGGG-1_1</th>\n",
       "      <td>0.716351</td>\n",
       "      <td>0.283649</td>\n",
       "      <td>doublet</td>\n",
       "      <td>0.432701</td>\n",
       "    </tr>\n",
       "    <tr>\n",
       "      <th>AAAGAACGTACACTCA-1_1</th>\n",
       "      <td>0.935838</td>\n",
       "      <td>0.064162</td>\n",
       "      <td>doublet</td>\n",
       "      <td>0.871677</td>\n",
       "    </tr>\n",
       "    <tr>\n",
       "      <th>GGGCTACTCGTGCAGC-1_1</th>\n",
       "      <td>0.729028</td>\n",
       "      <td>0.270972</td>\n",
       "      <td>doublet</td>\n",
       "      <td>0.458057</td>\n",
       "    </tr>\n",
       "    <tr>\n",
       "      <th>ATCAGGTGTCGTCTCT-1_1</th>\n",
       "      <td>0.840900</td>\n",
       "      <td>0.159100</td>\n",
       "      <td>doublet</td>\n",
       "      <td>0.681800</td>\n",
       "    </tr>\n",
       "    <tr>\n",
       "      <th>GGCTTTCTCTACACAG-1_1</th>\n",
       "      <td>0.779454</td>\n",
       "      <td>0.220546</td>\n",
       "      <td>doublet</td>\n",
       "      <td>0.558908</td>\n",
       "    </tr>\n",
       "  </tbody>\n",
       "</table>\n",
       "<p>465 rows × 4 columns</p>\n",
       "</div>"
      ],
      "text/plain": [
       "                       doublet   singlet prediction       dif\n",
       "TAGGTACCATGGCCAC-1_1  0.806161  0.193839    doublet  0.612323\n",
       "ATTCACTGTAACAGGC-1_1  0.896878  0.103122    doublet  0.793757\n",
       "TTGGGTACACGACAAG-1_1  0.728426  0.271574    doublet  0.456851\n",
       "AGGCCACAGAGTCACG-1_1  0.791725  0.208275    doublet  0.583451\n",
       "CACTGAAGTCGAAGCA-1_1  0.731615  0.268385    doublet  0.463231\n",
       "...                        ...       ...        ...       ...\n",
       "CAATACGCAATGTGGG-1_1  0.716351  0.283649    doublet  0.432701\n",
       "AAAGAACGTACACTCA-1_1  0.935838  0.064162    doublet  0.871677\n",
       "GGGCTACTCGTGCAGC-1_1  0.729028  0.270972    doublet  0.458057\n",
       "ATCAGGTGTCGTCTCT-1_1  0.840900  0.159100    doublet  0.681800\n",
       "GGCTTTCTCTACACAG-1_1  0.779454  0.220546    doublet  0.558908\n",
       "\n",
       "[465 rows x 4 columns]"
      ]
     },
     "execution_count": 50,
     "metadata": {},
     "output_type": "execute_result"
    }
   ],
   "source": [
    "# Generate a list containing only filtered doublet cells (to not loose to much data)\n",
    "doublets = df[(df['prediction'] == 'doublet') & (df.dif > 0.42)]\n",
    "doublets"
   ]
  },
  {
   "cell_type": "code",
   "execution_count": 51,
   "id": "7fe01986-9cc4-4ebc-a5d5-3df3cfabbe1c",
   "metadata": {
    "execution": {
     "iopub.execute_input": "2025-06-07T16:41:25.413576Z",
     "iopub.status.busy": "2025-06-07T16:41:25.412830Z",
     "iopub.status.idle": "2025-06-07T16:41:38.892303Z",
     "shell.execute_reply": "2025-06-07T16:41:38.890770Z",
     "shell.execute_reply.started": "2025-06-07T16:41:25.413540Z"
    }
   },
   "outputs": [
    {
     "data": {
      "text/html": [
       "<div>\n",
       "<style scoped>\n",
       "    .dataframe tbody tr th:only-of-type {\n",
       "        vertical-align: middle;\n",
       "    }\n",
       "\n",
       "    .dataframe tbody tr th {\n",
       "        vertical-align: top;\n",
       "    }\n",
       "\n",
       "    .dataframe thead th {\n",
       "        text-align: right;\n",
       "    }\n",
       "</style>\n",
       "<table border=\"1\" class=\"dataframe\">\n",
       "  <thead>\n",
       "    <tr style=\"text-align: right;\">\n",
       "      <th></th>\n",
       "      <th>doublet</th>\n",
       "    </tr>\n",
       "  </thead>\n",
       "  <tbody>\n",
       "    <tr>\n",
       "      <th>TAGGTACCATGGCCAC-1_1</th>\n",
       "      <td>True</td>\n",
       "    </tr>\n",
       "    <tr>\n",
       "      <th>ATTCACTGTAACAGGC-1_1</th>\n",
       "      <td>True</td>\n",
       "    </tr>\n",
       "    <tr>\n",
       "      <th>TAACTTCCAACCACGC-1_1</th>\n",
       "      <td>False</td>\n",
       "    </tr>\n",
       "    <tr>\n",
       "      <th>TTGGGTACACGACAAG-1_1</th>\n",
       "      <td>True</td>\n",
       "    </tr>\n",
       "    <tr>\n",
       "      <th>AGGCCACAGAGTCACG-1_1</th>\n",
       "      <td>True</td>\n",
       "    </tr>\n",
       "    <tr>\n",
       "      <th>...</th>\n",
       "      <td>...</td>\n",
       "    </tr>\n",
       "    <tr>\n",
       "      <th>CGCCATTGTTTGCCGG-1_1</th>\n",
       "      <td>False</td>\n",
       "    </tr>\n",
       "    <tr>\n",
       "      <th>CACTGGGGTCTACGTA-1_1</th>\n",
       "      <td>False</td>\n",
       "    </tr>\n",
       "    <tr>\n",
       "      <th>CATACTTGTAGAGGAA-1_1</th>\n",
       "      <td>False</td>\n",
       "    </tr>\n",
       "    <tr>\n",
       "      <th>TTTGGTTTCCACGGAC-1_1</th>\n",
       "      <td>False</td>\n",
       "    </tr>\n",
       "    <tr>\n",
       "      <th>ATGCATGAGTCATGAA-1_1</th>\n",
       "      <td>False</td>\n",
       "    </tr>\n",
       "  </tbody>\n",
       "</table>\n",
       "<p>6099 rows × 1 columns</p>\n",
       "</div>"
      ],
      "text/plain": [
       "                      doublet\n",
       "TAGGTACCATGGCCAC-1_1     True\n",
       "ATTCACTGTAACAGGC-1_1     True\n",
       "TAACTTCCAACCACGC-1_1    False\n",
       "TTGGGTACACGACAAG-1_1     True\n",
       "AGGCCACAGAGTCACG-1_1     True\n",
       "...                       ...\n",
       "CGCCATTGTTTGCCGG-1_1    False\n",
       "CACTGGGGTCTACGTA-1_1    False\n",
       "CATACTTGTAGAGGAA-1_1    False\n",
       "TTTGGTTTCCACGGAC-1_1    False\n",
       "ATGCATGAGTCATGAA-1_1    False\n",
       "\n",
       "[6099 rows x 1 columns]"
      ]
     },
     "execution_count": 51,
     "metadata": {},
     "output_type": "execute_result"
    }
   ],
   "source": [
    "# Reload adata and annotate doublet annotation on all barcodes/cells (before we filtered out already many cells to train the model!)\n",
    "adata = sc.read_csv('/GSE171524_RAW/GSM5226574_C51ctr_raw_counts.csv.gz').T\n",
    "# This annotates the cells with True/false True = doublet, false = singlet\n",
    "adata.obs['doublet'] = adata.obs.index.isin(doublets.index)\n",
    "adata.obs"
   ]
  },
  {
   "cell_type": "code",
   "execution_count": 52,
   "id": "5ac94367-e277-4686-abfe-7dc3bb0c9e98",
   "metadata": {
    "execution": {
     "iopub.execute_input": "2025-06-07T16:41:38.894008Z",
     "iopub.status.busy": "2025-06-07T16:41:38.893810Z",
     "iopub.status.idle": "2025-06-07T16:41:38.898253Z",
     "shell.execute_reply": "2025-06-07T16:41:38.897922Z",
     "shell.execute_reply.started": "2025-06-07T16:41:38.893992Z"
    }
   },
   "outputs": [
    {
     "data": {
      "text/plain": [
       "View of AnnData object with n_obs × n_vars = 5634 × 34546\n",
       "    obs: 'doublet'"
      ]
     },
     "execution_count": 52,
     "metadata": {},
     "output_type": "execute_result"
    }
   ],
   "source": [
    "# Filter adata for singlets (~ means you keep the false which are the singlets)\n",
    "adata = adata[~adata.obs.doublet]\n",
    "# Check how many cells are left over\n",
    "adata"
   ]
  },
  {
   "cell_type": "markdown",
   "id": "d65c2c20-1b64-4862-a2b6-a32ecdba479d",
   "metadata": {},
   "source": [
    "# Preprocessing"
   ]
  },
  {
   "cell_type": "code",
   "execution_count": 53,
   "id": "4c715100-8f78-4fed-a0d3-8d5b235dae42",
   "metadata": {
    "execution": {
     "iopub.execute_input": "2025-06-07T16:48:26.048434Z",
     "iopub.status.busy": "2025-06-07T16:48:26.046458Z",
     "iopub.status.idle": "2025-06-07T16:48:26.093265Z",
     "shell.execute_reply": "2025-06-07T16:48:26.092794Z",
     "shell.execute_reply.started": "2025-06-07T16:48:26.048363Z"
    }
   },
   "outputs": [
    {
     "data": {
      "text/html": [
       "<div>\n",
       "<style scoped>\n",
       "    .dataframe tbody tr th:only-of-type {\n",
       "        vertical-align: middle;\n",
       "    }\n",
       "\n",
       "    .dataframe tbody tr th {\n",
       "        vertical-align: top;\n",
       "    }\n",
       "\n",
       "    .dataframe thead th {\n",
       "        text-align: right;\n",
       "    }\n",
       "</style>\n",
       "<table border=\"1\" class=\"dataframe\">\n",
       "  <thead>\n",
       "    <tr style=\"text-align: right;\">\n",
       "      <th></th>\n",
       "    </tr>\n",
       "  </thead>\n",
       "  <tbody>\n",
       "    <tr>\n",
       "      <th>AL627309.1</th>\n",
       "    </tr>\n",
       "    <tr>\n",
       "      <th>AL627309.5</th>\n",
       "    </tr>\n",
       "    <tr>\n",
       "      <th>AL627309.4</th>\n",
       "    </tr>\n",
       "    <tr>\n",
       "      <th>AL669831.2</th>\n",
       "    </tr>\n",
       "    <tr>\n",
       "      <th>LINC01409</th>\n",
       "    </tr>\n",
       "    <tr>\n",
       "      <th>...</th>\n",
       "    </tr>\n",
       "    <tr>\n",
       "      <th>VN1R2</th>\n",
       "    </tr>\n",
       "    <tr>\n",
       "      <th>AL031676.1</th>\n",
       "    </tr>\n",
       "    <tr>\n",
       "      <th>SMIM34A</th>\n",
       "    </tr>\n",
       "    <tr>\n",
       "      <th>AL050402.1</th>\n",
       "    </tr>\n",
       "    <tr>\n",
       "      <th>AL445072.1</th>\n",
       "    </tr>\n",
       "  </tbody>\n",
       "</table>\n",
       "<p>34546 rows × 0 columns</p>\n",
       "</div>"
      ],
      "text/plain": [
       "Empty DataFrameView\n",
       "Columns: []\n",
       "Index: [AL627309.1, AL627309.5, AL627309.4, AL669831.2, LINC01409, FAM87B, LINC01128, LINC00115, FAM41C, AL645608.6, AL645608.2, LINC02593, SAMD11, NOC2L, KLHL17, PLEKHN1, PERM1, AL645608.7, HES4, ISG15, AL645608.1, AGRN, C1orf159, AL390719.3, LINC01342, AL390719.2, TTLL10-AS1, TTLL10, TNFRSF18, TNFRSF4, SDF4, B3GALT6, C1QTNF12, UBE2J2, LINC01786, SCNN1D, ACAP3, PUSL1, INTS11, AL139287.1, CPTP, DVL1, MXRA8, AURKAIP1, CCNL2, MRPL20-AS1, MRPL20, AL391244.2, ANKRD65, AL391244.1, LINC01770, VWA1, ATAD3C, ATAD3B, ATAD3A, TMEM240, SSU72, AL645728.1, FNDC10, AL691432.4, AL691432.2, MIB2, MMP23B, CDK11B, FO704657.1, SLC35E2B, CDK11A, SLC35E2A, NADK, GNB1, AL109917.1, CALML6, TMEM52, CFAP74, GABRD, AL391845.1, PRKCZ, AL590822.2, PRKCZ-AS1, FAAP20, AL590822.1, SKI, AL590822.3, MORN1, AL589739.1, AL513477.2, RER1, PEX10, PLCH2, AL139246.4, PANK4, HES5, AL139246.5, TNFRSF14-AS1, TNFRSF14, AL139246.3, PRXL2B, MMEL1, TTC34, AC242022.2, ...]\n",
       "\n",
       "[34546 rows x 0 columns]"
      ]
     },
     "execution_count": 53,
     "metadata": {},
     "output_type": "execute_result"
    }
   ],
   "source": [
    "#Filter adata.var for removal of MT genes \n",
    "adata.var['mt'] = adata.var[adata.var.index.str.startswith('MT-')]"
   ]
  },
  {
   "cell_type": "code",
   "execution_count": 64,
   "id": "ac0cf324-8552-4770-a11f-e0b6e351b9d2",
   "metadata": {
    "execution": {
     "iopub.execute_input": "2025-06-07T17:11:22.434242Z",
     "iopub.status.busy": "2025-06-07T17:11:22.432810Z",
     "iopub.status.idle": "2025-06-07T17:11:23.820568Z",
     "shell.execute_reply": "2025-06-07T17:11:23.819714Z",
     "shell.execute_reply.started": "2025-06-07T17:11:22.434188Z"
    }
   },
   "outputs": [
    {
     "name": "stderr",
     "output_type": "stream",
     "text": [
      "/var/folders/vn/wdw36m4d5k13n07b5xlhgmsr0000gn/T/ipykernel_45124/310233584.py:1: ImplicitModificationWarning: Trying to modify attribute `.var` of view, initializing view as actual.\n",
      "  adata.var['mt'] = adata.var.index.str.startswith('MT-')\n"
     ]
    }
   ],
   "source": [
    "#Using boolean series to assign if mitochondrial gene or not to adata.var dataframe\n",
    "adata.var['mt'] = adata.var.index.str.startswith('MT-')"
   ]
  },
  {
   "cell_type": "code",
   "execution_count": 65,
   "id": "1e29034a-99a8-446f-9507-935dcb78c48b",
   "metadata": {
    "execution": {
     "iopub.execute_input": "2025-06-07T17:11:31.728105Z",
     "iopub.status.busy": "2025-06-07T17:11:31.727502Z",
     "iopub.status.idle": "2025-06-07T17:11:31.750861Z",
     "shell.execute_reply": "2025-06-07T17:11:31.750059Z",
     "shell.execute_reply.started": "2025-06-07T17:11:31.728053Z"
    }
   },
   "outputs": [
    {
     "data": {
      "text/html": [
       "<div>\n",
       "<style scoped>\n",
       "    .dataframe tbody tr th:only-of-type {\n",
       "        vertical-align: middle;\n",
       "    }\n",
       "\n",
       "    .dataframe tbody tr th {\n",
       "        vertical-align: top;\n",
       "    }\n",
       "\n",
       "    .dataframe thead th {\n",
       "        text-align: right;\n",
       "    }\n",
       "</style>\n",
       "<table border=\"1\" class=\"dataframe\">\n",
       "  <thead>\n",
       "    <tr style=\"text-align: right;\">\n",
       "      <th></th>\n",
       "      <th>mt</th>\n",
       "    </tr>\n",
       "  </thead>\n",
       "  <tbody>\n",
       "    <tr>\n",
       "      <th>AL627309.1</th>\n",
       "      <td>False</td>\n",
       "    </tr>\n",
       "    <tr>\n",
       "      <th>AL627309.5</th>\n",
       "      <td>False</td>\n",
       "    </tr>\n",
       "    <tr>\n",
       "      <th>AL627309.4</th>\n",
       "      <td>False</td>\n",
       "    </tr>\n",
       "    <tr>\n",
       "      <th>AL669831.2</th>\n",
       "      <td>False</td>\n",
       "    </tr>\n",
       "    <tr>\n",
       "      <th>LINC01409</th>\n",
       "      <td>False</td>\n",
       "    </tr>\n",
       "    <tr>\n",
       "      <th>...</th>\n",
       "      <td>...</td>\n",
       "    </tr>\n",
       "    <tr>\n",
       "      <th>VN1R2</th>\n",
       "      <td>False</td>\n",
       "    </tr>\n",
       "    <tr>\n",
       "      <th>AL031676.1</th>\n",
       "      <td>False</td>\n",
       "    </tr>\n",
       "    <tr>\n",
       "      <th>SMIM34A</th>\n",
       "      <td>False</td>\n",
       "    </tr>\n",
       "    <tr>\n",
       "      <th>AL050402.1</th>\n",
       "      <td>False</td>\n",
       "    </tr>\n",
       "    <tr>\n",
       "      <th>AL445072.1</th>\n",
       "      <td>False</td>\n",
       "    </tr>\n",
       "  </tbody>\n",
       "</table>\n",
       "<p>34546 rows × 1 columns</p>\n",
       "</div>"
      ],
      "text/plain": [
       "               mt\n",
       "AL627309.1  False\n",
       "AL627309.5  False\n",
       "AL627309.4  False\n",
       "AL669831.2  False\n",
       "LINC01409   False\n",
       "...           ...\n",
       "VN1R2       False\n",
       "AL031676.1  False\n",
       "SMIM34A     False\n",
       "AL050402.1  False\n",
       "AL445072.1  False\n",
       "\n",
       "[34546 rows x 1 columns]"
      ]
     },
     "execution_count": 65,
     "metadata": {},
     "output_type": "execute_result"
    }
   ],
   "source": [
    "adata.var"
   ]
  },
  {
   "cell_type": "markdown",
   "id": "331e7f08-3562-4e0b-a9e4-489cf13d6f5e",
   "metadata": {},
   "source": [
    "Next we annotated the ribosomal genes. "
   ]
  },
  {
   "cell_type": "code",
   "execution_count": 23,
   "id": "d52e5a45-aca8-4e2c-bdfa-9eabade59fb0",
   "metadata": {
    "execution": {
     "iopub.execute_input": "2025-06-09T14:06:45.783667Z",
     "iopub.status.busy": "2025-06-09T14:06:45.781835Z",
     "iopub.status.idle": "2025-06-09T14:06:45.791602Z",
     "shell.execute_reply": "2025-06-09T14:06:45.790431Z",
     "shell.execute_reply.started": "2025-06-09T14:06:45.783602Z"
    }
   },
   "outputs": [],
   "source": [
    "import pandas as pd"
   ]
  },
  {
   "cell_type": "code",
   "execution_count": 24,
   "id": "b97b32b0-9789-47d1-9045-82bdcdcfd234",
   "metadata": {
    "execution": {
     "iopub.execute_input": "2025-06-09T14:06:49.383246Z",
     "iopub.status.busy": "2025-06-09T14:06:49.382781Z",
     "iopub.status.idle": "2025-06-09T14:06:49.387329Z",
     "shell.execute_reply": "2025-06-09T14:06:49.386519Z",
     "shell.execute_reply.started": "2025-06-09T14:06:49.383216Z"
    }
   },
   "outputs": [],
   "source": [
    "\n",
    "ribo_url = \"http://software.broadinstitute.org/gsea/msigdb/download_geneset.jsp?geneSetName=KEGG_RIBOSOME&fileType=txt\"\n"
   ]
  },
  {
   "cell_type": "code",
   "execution_count": 25,
   "id": "bc054ffb-7a0f-4381-8f77-d76ea88385d5",
   "metadata": {
    "execution": {
     "iopub.execute_input": "2025-06-09T14:06:49.924443Z",
     "iopub.status.busy": "2025-06-09T14:06:49.923100Z",
     "iopub.status.idle": "2025-06-09T14:06:52.689727Z",
     "shell.execute_reply": "2025-06-09T14:06:52.689094Z",
     "shell.execute_reply.started": "2025-06-09T14:06:49.924359Z"
    }
   },
   "outputs": [
    {
     "data": {
      "text/html": [
       "<div>\n",
       "<style scoped>\n",
       "    .dataframe tbody tr th:only-of-type {\n",
       "        vertical-align: middle;\n",
       "    }\n",
       "\n",
       "    .dataframe tbody tr th {\n",
       "        vertical-align: top;\n",
       "    }\n",
       "\n",
       "    .dataframe thead th {\n",
       "        text-align: right;\n",
       "    }\n",
       "</style>\n",
       "<table border=\"1\" class=\"dataframe\">\n",
       "  <thead>\n",
       "    <tr style=\"text-align: right;\">\n",
       "      <th></th>\n",
       "      <th>0</th>\n",
       "    </tr>\n",
       "  </thead>\n",
       "  <tbody>\n",
       "    <tr>\n",
       "      <th>0</th>\n",
       "      <td>FAU</td>\n",
       "    </tr>\n",
       "    <tr>\n",
       "      <th>1</th>\n",
       "      <td>MRPL13</td>\n",
       "    </tr>\n",
       "    <tr>\n",
       "      <th>2</th>\n",
       "      <td>RPL10</td>\n",
       "    </tr>\n",
       "    <tr>\n",
       "      <th>3</th>\n",
       "      <td>RPL10A</td>\n",
       "    </tr>\n",
       "    <tr>\n",
       "      <th>4</th>\n",
       "      <td>RPL10L</td>\n",
       "    </tr>\n",
       "    <tr>\n",
       "      <th>...</th>\n",
       "      <td>...</td>\n",
       "    </tr>\n",
       "    <tr>\n",
       "      <th>83</th>\n",
       "      <td>RPS9</td>\n",
       "    </tr>\n",
       "    <tr>\n",
       "      <th>84</th>\n",
       "      <td>RPSA</td>\n",
       "    </tr>\n",
       "    <tr>\n",
       "      <th>85</th>\n",
       "      <td>RSL24D1</td>\n",
       "    </tr>\n",
       "    <tr>\n",
       "      <th>86</th>\n",
       "      <td>RSL24D1P11</td>\n",
       "    </tr>\n",
       "    <tr>\n",
       "      <th>87</th>\n",
       "      <td>UBA52</td>\n",
       "    </tr>\n",
       "  </tbody>\n",
       "</table>\n",
       "<p>88 rows × 1 columns</p>\n",
       "</div>"
      ],
      "text/plain": [
       "             0\n",
       "0          FAU\n",
       "1       MRPL13\n",
       "2        RPL10\n",
       "3       RPL10A\n",
       "4       RPL10L\n",
       "..         ...\n",
       "83        RPS9\n",
       "84        RPSA\n",
       "85     RSL24D1\n",
       "86  RSL24D1P11\n",
       "87       UBA52\n",
       "\n",
       "[88 rows x 1 columns]"
      ]
     },
     "execution_count": 25,
     "metadata": {},
     "output_type": "execute_result"
    }
   ],
   "source": [
    "ribo_genes = pd.read_table(ribo_url, skiprows=2, header=None)\n",
    "ribo_genes"
   ]
  },
  {
   "cell_type": "code",
   "execution_count": 77,
   "id": "e1b93ae5-403f-4022-a563-90dd59f26e6d",
   "metadata": {
    "execution": {
     "iopub.execute_input": "2025-06-07T18:15:37.649941Z",
     "iopub.status.busy": "2025-06-07T18:15:37.649223Z",
     "iopub.status.idle": "2025-06-07T18:15:37.666601Z",
     "shell.execute_reply": "2025-06-07T18:15:37.665649Z",
     "shell.execute_reply.started": "2025-06-07T18:15:37.649906Z"
    }
   },
   "outputs": [],
   "source": [
    "adata.var['ribo'] = adata.var_names.isin(ribo_genes[0].values)"
   ]
  },
  {
   "cell_type": "code",
   "execution_count": 78,
   "id": "0c1f65f8-150c-4338-a4c8-b0d7fa1e084a",
   "metadata": {
    "execution": {
     "iopub.execute_input": "2025-06-07T18:15:41.100581Z",
     "iopub.status.busy": "2025-06-07T18:15:41.099820Z",
     "iopub.status.idle": "2025-06-07T18:15:41.112754Z",
     "shell.execute_reply": "2025-06-07T18:15:41.112079Z",
     "shell.execute_reply.started": "2025-06-07T18:15:41.100520Z"
    }
   },
   "outputs": [
    {
     "data": {
      "text/html": [
       "<div>\n",
       "<style scoped>\n",
       "    .dataframe tbody tr th:only-of-type {\n",
       "        vertical-align: middle;\n",
       "    }\n",
       "\n",
       "    .dataframe tbody tr th {\n",
       "        vertical-align: top;\n",
       "    }\n",
       "\n",
       "    .dataframe thead th {\n",
       "        text-align: right;\n",
       "    }\n",
       "</style>\n",
       "<table border=\"1\" class=\"dataframe\">\n",
       "  <thead>\n",
       "    <tr style=\"text-align: right;\">\n",
       "      <th></th>\n",
       "      <th>mt</th>\n",
       "      <th>ribo</th>\n",
       "    </tr>\n",
       "  </thead>\n",
       "  <tbody>\n",
       "    <tr>\n",
       "      <th>AL627309.1</th>\n",
       "      <td>False</td>\n",
       "      <td>False</td>\n",
       "    </tr>\n",
       "    <tr>\n",
       "      <th>AL627309.5</th>\n",
       "      <td>False</td>\n",
       "      <td>False</td>\n",
       "    </tr>\n",
       "    <tr>\n",
       "      <th>AL627309.4</th>\n",
       "      <td>False</td>\n",
       "      <td>False</td>\n",
       "    </tr>\n",
       "    <tr>\n",
       "      <th>AL669831.2</th>\n",
       "      <td>False</td>\n",
       "      <td>False</td>\n",
       "    </tr>\n",
       "    <tr>\n",
       "      <th>LINC01409</th>\n",
       "      <td>False</td>\n",
       "      <td>False</td>\n",
       "    </tr>\n",
       "    <tr>\n",
       "      <th>...</th>\n",
       "      <td>...</td>\n",
       "      <td>...</td>\n",
       "    </tr>\n",
       "    <tr>\n",
       "      <th>VN1R2</th>\n",
       "      <td>False</td>\n",
       "      <td>False</td>\n",
       "    </tr>\n",
       "    <tr>\n",
       "      <th>AL031676.1</th>\n",
       "      <td>False</td>\n",
       "      <td>False</td>\n",
       "    </tr>\n",
       "    <tr>\n",
       "      <th>SMIM34A</th>\n",
       "      <td>False</td>\n",
       "      <td>False</td>\n",
       "    </tr>\n",
       "    <tr>\n",
       "      <th>AL050402.1</th>\n",
       "      <td>False</td>\n",
       "      <td>False</td>\n",
       "    </tr>\n",
       "    <tr>\n",
       "      <th>AL445072.1</th>\n",
       "      <td>False</td>\n",
       "      <td>False</td>\n",
       "    </tr>\n",
       "  </tbody>\n",
       "</table>\n",
       "<p>34546 rows × 2 columns</p>\n",
       "</div>"
      ],
      "text/plain": [
       "               mt   ribo\n",
       "AL627309.1  False  False\n",
       "AL627309.5  False  False\n",
       "AL627309.4  False  False\n",
       "AL669831.2  False  False\n",
       "LINC01409   False  False\n",
       "...           ...    ...\n",
       "VN1R2       False  False\n",
       "AL031676.1  False  False\n",
       "SMIM34A     False  False\n",
       "AL050402.1  False  False\n",
       "AL445072.1  False  False\n",
       "\n",
       "[34546 rows x 2 columns]"
      ]
     },
     "execution_count": 78,
     "metadata": {},
     "output_type": "execute_result"
    }
   ],
   "source": [
    "adata.var"
   ]
  },
  {
   "cell_type": "code",
   "execution_count": 79,
   "id": "0296450d-ca50-43ab-9de2-48cfc8f442ce",
   "metadata": {
    "execution": {
     "iopub.execute_input": "2025-06-07T18:19:02.792562Z",
     "iopub.status.busy": "2025-06-07T18:19:02.781725Z",
     "iopub.status.idle": "2025-06-07T18:19:04.200340Z",
     "shell.execute_reply": "2025-06-07T18:19:04.199520Z",
     "shell.execute_reply.started": "2025-06-07T18:19:02.792442Z"
    }
   },
   "outputs": [],
   "source": [
    "# Calculate statistic for ribosomal, mitochondrial, UMI number and genes per cell (in adata.var and adata.obs)\n",
    "sc.pp.calculate_qc_metrics(adata, qc_vars=['mt','ribo'], percent_top=None, log1p=False, inplace=True)"
   ]
  },
  {
   "cell_type": "code",
   "execution_count": 80,
   "id": "b41ae05a-9c46-4b8a-8967-79b4695c61e1",
   "metadata": {
    "execution": {
     "iopub.execute_input": "2025-06-07T18:19:30.325764Z",
     "iopub.status.busy": "2025-06-07T18:19:30.324346Z",
     "iopub.status.idle": "2025-06-07T18:19:30.363112Z",
     "shell.execute_reply": "2025-06-07T18:19:30.362585Z",
     "shell.execute_reply.started": "2025-06-07T18:19:30.325705Z"
    }
   },
   "outputs": [
    {
     "data": {
      "text/html": [
       "<div>\n",
       "<style scoped>\n",
       "    .dataframe tbody tr th:only-of-type {\n",
       "        vertical-align: middle;\n",
       "    }\n",
       "\n",
       "    .dataframe tbody tr th {\n",
       "        vertical-align: top;\n",
       "    }\n",
       "\n",
       "    .dataframe thead th {\n",
       "        text-align: right;\n",
       "    }\n",
       "</style>\n",
       "<table border=\"1\" class=\"dataframe\">\n",
       "  <thead>\n",
       "    <tr style=\"text-align: right;\">\n",
       "      <th></th>\n",
       "      <th>mt</th>\n",
       "      <th>ribo</th>\n",
       "      <th>n_cells_by_counts</th>\n",
       "      <th>mean_counts</th>\n",
       "      <th>pct_dropout_by_counts</th>\n",
       "      <th>total_counts</th>\n",
       "    </tr>\n",
       "  </thead>\n",
       "  <tbody>\n",
       "    <tr>\n",
       "      <th>AL627309.1</th>\n",
       "      <td>False</td>\n",
       "      <td>False</td>\n",
       "      <td>6</td>\n",
       "      <td>0.001065</td>\n",
       "      <td>99.893504</td>\n",
       "      <td>6.0</td>\n",
       "    </tr>\n",
       "    <tr>\n",
       "      <th>AL627309.5</th>\n",
       "      <td>False</td>\n",
       "      <td>False</td>\n",
       "      <td>26</td>\n",
       "      <td>0.004615</td>\n",
       "      <td>99.538516</td>\n",
       "      <td>26.0</td>\n",
       "    </tr>\n",
       "    <tr>\n",
       "      <th>AL627309.4</th>\n",
       "      <td>False</td>\n",
       "      <td>False</td>\n",
       "      <td>3</td>\n",
       "      <td>0.000532</td>\n",
       "      <td>99.946752</td>\n",
       "      <td>3.0</td>\n",
       "    </tr>\n",
       "    <tr>\n",
       "      <th>AL669831.2</th>\n",
       "      <td>False</td>\n",
       "      <td>False</td>\n",
       "      <td>2</td>\n",
       "      <td>0.000355</td>\n",
       "      <td>99.964501</td>\n",
       "      <td>2.0</td>\n",
       "    </tr>\n",
       "    <tr>\n",
       "      <th>LINC01409</th>\n",
       "      <td>False</td>\n",
       "      <td>False</td>\n",
       "      <td>231</td>\n",
       "      <td>0.044373</td>\n",
       "      <td>95.899894</td>\n",
       "      <td>250.0</td>\n",
       "    </tr>\n",
       "    <tr>\n",
       "      <th>...</th>\n",
       "      <td>...</td>\n",
       "      <td>...</td>\n",
       "      <td>...</td>\n",
       "      <td>...</td>\n",
       "      <td>...</td>\n",
       "      <td>...</td>\n",
       "    </tr>\n",
       "    <tr>\n",
       "      <th>VN1R2</th>\n",
       "      <td>False</td>\n",
       "      <td>False</td>\n",
       "      <td>0</td>\n",
       "      <td>0.000000</td>\n",
       "      <td>100.000000</td>\n",
       "      <td>0.0</td>\n",
       "    </tr>\n",
       "    <tr>\n",
       "      <th>AL031676.1</th>\n",
       "      <td>False</td>\n",
       "      <td>False</td>\n",
       "      <td>0</td>\n",
       "      <td>0.000000</td>\n",
       "      <td>100.000000</td>\n",
       "      <td>0.0</td>\n",
       "    </tr>\n",
       "    <tr>\n",
       "      <th>SMIM34A</th>\n",
       "      <td>False</td>\n",
       "      <td>False</td>\n",
       "      <td>0</td>\n",
       "      <td>0.000000</td>\n",
       "      <td>100.000000</td>\n",
       "      <td>0.0</td>\n",
       "    </tr>\n",
       "    <tr>\n",
       "      <th>AL050402.1</th>\n",
       "      <td>False</td>\n",
       "      <td>False</td>\n",
       "      <td>0</td>\n",
       "      <td>0.000000</td>\n",
       "      <td>100.000000</td>\n",
       "      <td>0.0</td>\n",
       "    </tr>\n",
       "    <tr>\n",
       "      <th>AL445072.1</th>\n",
       "      <td>False</td>\n",
       "      <td>False</td>\n",
       "      <td>0</td>\n",
       "      <td>0.000000</td>\n",
       "      <td>100.000000</td>\n",
       "      <td>0.0</td>\n",
       "    </tr>\n",
       "  </tbody>\n",
       "</table>\n",
       "<p>34546 rows × 6 columns</p>\n",
       "</div>"
      ],
      "text/plain": [
       "               mt   ribo  n_cells_by_counts  mean_counts  \\\n",
       "AL627309.1  False  False                  6     0.001065   \n",
       "AL627309.5  False  False                 26     0.004615   \n",
       "AL627309.4  False  False                  3     0.000532   \n",
       "AL669831.2  False  False                  2     0.000355   \n",
       "LINC01409   False  False                231     0.044373   \n",
       "...           ...    ...                ...          ...   \n",
       "VN1R2       False  False                  0     0.000000   \n",
       "AL031676.1  False  False                  0     0.000000   \n",
       "SMIM34A     False  False                  0     0.000000   \n",
       "AL050402.1  False  False                  0     0.000000   \n",
       "AL445072.1  False  False                  0     0.000000   \n",
       "\n",
       "            pct_dropout_by_counts  total_counts  \n",
       "AL627309.1              99.893504           6.0  \n",
       "AL627309.5              99.538516          26.0  \n",
       "AL627309.4              99.946752           3.0  \n",
       "AL669831.2              99.964501           2.0  \n",
       "LINC01409               95.899894         250.0  \n",
       "...                           ...           ...  \n",
       "VN1R2                  100.000000           0.0  \n",
       "AL031676.1             100.000000           0.0  \n",
       "SMIM34A                100.000000           0.0  \n",
       "AL050402.1             100.000000           0.0  \n",
       "AL445072.1             100.000000           0.0  \n",
       "\n",
       "[34546 rows x 6 columns]"
      ]
     },
     "execution_count": 80,
     "metadata": {},
     "output_type": "execute_result"
    }
   ],
   "source": [
    "adata.var"
   ]
  },
  {
   "cell_type": "code",
   "execution_count": 81,
   "id": "5b9bff3d-5538-402b-b4e5-2897431b23f3",
   "metadata": {
    "execution": {
     "iopub.execute_input": "2025-06-07T18:27:32.615962Z",
     "iopub.status.busy": "2025-06-07T18:27:32.614107Z",
     "iopub.status.idle": "2025-06-07T18:27:32.662645Z",
     "shell.execute_reply": "2025-06-07T18:27:32.662203Z",
     "shell.execute_reply.started": "2025-06-07T18:27:32.615880Z"
    }
   },
   "outputs": [
    {
     "data": {
      "text/html": [
       "<div>\n",
       "<style scoped>\n",
       "    .dataframe tbody tr th:only-of-type {\n",
       "        vertical-align: middle;\n",
       "    }\n",
       "\n",
       "    .dataframe tbody tr th {\n",
       "        vertical-align: top;\n",
       "    }\n",
       "\n",
       "    .dataframe thead th {\n",
       "        text-align: right;\n",
       "    }\n",
       "</style>\n",
       "<table border=\"1\" class=\"dataframe\">\n",
       "  <thead>\n",
       "    <tr style=\"text-align: right;\">\n",
       "      <th></th>\n",
       "      <th>doublet</th>\n",
       "      <th>n_genes_by_counts</th>\n",
       "      <th>total_counts</th>\n",
       "      <th>total_counts_mt</th>\n",
       "      <th>pct_counts_mt</th>\n",
       "      <th>total_counts_ribo</th>\n",
       "      <th>pct_counts_ribo</th>\n",
       "    </tr>\n",
       "  </thead>\n",
       "  <tbody>\n",
       "    <tr>\n",
       "      <th>TAACTTCCAACCACGC-1_1</th>\n",
       "      <td>False</td>\n",
       "      <td>5158</td>\n",
       "      <td>15645.0</td>\n",
       "      <td>221.0</td>\n",
       "      <td>1.412592</td>\n",
       "      <td>211.0</td>\n",
       "      <td>1.348674</td>\n",
       "    </tr>\n",
       "    <tr>\n",
       "      <th>TTGGTTTTCCTAGCTC-1_1</th>\n",
       "      <td>False</td>\n",
       "      <td>3902</td>\n",
       "      <td>11472.0</td>\n",
       "      <td>463.0</td>\n",
       "      <td>4.035913</td>\n",
       "      <td>13.0</td>\n",
       "      <td>0.113319</td>\n",
       "    </tr>\n",
       "    <tr>\n",
       "      <th>CGCATAACATGCCGGT-1_1</th>\n",
       "      <td>False</td>\n",
       "      <td>3745</td>\n",
       "      <td>8617.0</td>\n",
       "      <td>119.0</td>\n",
       "      <td>1.380991</td>\n",
       "      <td>25.0</td>\n",
       "      <td>0.290124</td>\n",
       "    </tr>\n",
       "    <tr>\n",
       "      <th>TCTATCACAAGGCTTT-1_1</th>\n",
       "      <td>False</td>\n",
       "      <td>3582</td>\n",
       "      <td>8276.0</td>\n",
       "      <td>183.0</td>\n",
       "      <td>2.211213</td>\n",
       "      <td>5.0</td>\n",
       "      <td>0.060416</td>\n",
       "    </tr>\n",
       "    <tr>\n",
       "      <th>CACTTCGCAGTACTAC-1_1</th>\n",
       "      <td>False</td>\n",
       "      <td>3244</td>\n",
       "      <td>8059.0</td>\n",
       "      <td>253.0</td>\n",
       "      <td>3.139347</td>\n",
       "      <td>14.0</td>\n",
       "      <td>0.173719</td>\n",
       "    </tr>\n",
       "    <tr>\n",
       "      <th>...</th>\n",
       "      <td>...</td>\n",
       "      <td>...</td>\n",
       "      <td>...</td>\n",
       "      <td>...</td>\n",
       "      <td>...</td>\n",
       "      <td>...</td>\n",
       "      <td>...</td>\n",
       "    </tr>\n",
       "    <tr>\n",
       "      <th>CGCCATTGTTTGCCGG-1_1</th>\n",
       "      <td>False</td>\n",
       "      <td>355</td>\n",
       "      <td>410.0</td>\n",
       "      <td>3.0</td>\n",
       "      <td>0.731707</td>\n",
       "      <td>0.0</td>\n",
       "      <td>0.000000</td>\n",
       "    </tr>\n",
       "    <tr>\n",
       "      <th>CACTGGGGTCTACGTA-1_1</th>\n",
       "      <td>False</td>\n",
       "      <td>346</td>\n",
       "      <td>403.0</td>\n",
       "      <td>0.0</td>\n",
       "      <td>0.000000</td>\n",
       "      <td>0.0</td>\n",
       "      <td>0.000000</td>\n",
       "    </tr>\n",
       "    <tr>\n",
       "      <th>CATACTTGTAGAGGAA-1_1</th>\n",
       "      <td>False</td>\n",
       "      <td>360</td>\n",
       "      <td>410.0</td>\n",
       "      <td>2.0</td>\n",
       "      <td>0.487805</td>\n",
       "      <td>0.0</td>\n",
       "      <td>0.000000</td>\n",
       "    </tr>\n",
       "    <tr>\n",
       "      <th>TTTGGTTTCCACGGAC-1_1</th>\n",
       "      <td>False</td>\n",
       "      <td>299</td>\n",
       "      <td>405.0</td>\n",
       "      <td>0.0</td>\n",
       "      <td>0.000000</td>\n",
       "      <td>2.0</td>\n",
       "      <td>0.493827</td>\n",
       "    </tr>\n",
       "    <tr>\n",
       "      <th>ATGCATGAGTCATGAA-1_1</th>\n",
       "      <td>False</td>\n",
       "      <td>351</td>\n",
       "      <td>411.0</td>\n",
       "      <td>0.0</td>\n",
       "      <td>0.000000</td>\n",
       "      <td>0.0</td>\n",
       "      <td>0.000000</td>\n",
       "    </tr>\n",
       "  </tbody>\n",
       "</table>\n",
       "<p>5634 rows × 7 columns</p>\n",
       "</div>"
      ],
      "text/plain": [
       "                      doublet  n_genes_by_counts  total_counts  \\\n",
       "TAACTTCCAACCACGC-1_1    False               5158       15645.0   \n",
       "TTGGTTTTCCTAGCTC-1_1    False               3902       11472.0   \n",
       "CGCATAACATGCCGGT-1_1    False               3745        8617.0   \n",
       "TCTATCACAAGGCTTT-1_1    False               3582        8276.0   \n",
       "CACTTCGCAGTACTAC-1_1    False               3244        8059.0   \n",
       "...                       ...                ...           ...   \n",
       "CGCCATTGTTTGCCGG-1_1    False                355         410.0   \n",
       "CACTGGGGTCTACGTA-1_1    False                346         403.0   \n",
       "CATACTTGTAGAGGAA-1_1    False                360         410.0   \n",
       "TTTGGTTTCCACGGAC-1_1    False                299         405.0   \n",
       "ATGCATGAGTCATGAA-1_1    False                351         411.0   \n",
       "\n",
       "                      total_counts_mt  pct_counts_mt  total_counts_ribo  \\\n",
       "TAACTTCCAACCACGC-1_1            221.0       1.412592              211.0   \n",
       "TTGGTTTTCCTAGCTC-1_1            463.0       4.035913               13.0   \n",
       "CGCATAACATGCCGGT-1_1            119.0       1.380991               25.0   \n",
       "TCTATCACAAGGCTTT-1_1            183.0       2.211213                5.0   \n",
       "CACTTCGCAGTACTAC-1_1            253.0       3.139347               14.0   \n",
       "...                               ...            ...                ...   \n",
       "CGCCATTGTTTGCCGG-1_1              3.0       0.731707                0.0   \n",
       "CACTGGGGTCTACGTA-1_1              0.0       0.000000                0.0   \n",
       "CATACTTGTAGAGGAA-1_1              2.0       0.487805                0.0   \n",
       "TTTGGTTTCCACGGAC-1_1              0.0       0.000000                2.0   \n",
       "ATGCATGAGTCATGAA-1_1              0.0       0.000000                0.0   \n",
       "\n",
       "                      pct_counts_ribo  \n",
       "TAACTTCCAACCACGC-1_1         1.348674  \n",
       "TTGGTTTTCCTAGCTC-1_1         0.113319  \n",
       "CGCATAACATGCCGGT-1_1         0.290124  \n",
       "TCTATCACAAGGCTTT-1_1         0.060416  \n",
       "CACTTCGCAGTACTAC-1_1         0.173719  \n",
       "...                               ...  \n",
       "CGCCATTGTTTGCCGG-1_1         0.000000  \n",
       "CACTGGGGTCTACGTA-1_1         0.000000  \n",
       "CATACTTGTAGAGGAA-1_1         0.000000  \n",
       "TTTGGTTTCCACGGAC-1_1         0.493827  \n",
       "ATGCATGAGTCATGAA-1_1         0.000000  \n",
       "\n",
       "[5634 rows x 7 columns]"
      ]
     },
     "execution_count": 81,
     "metadata": {},
     "output_type": "execute_result"
    }
   ],
   "source": [
    "adata.obs"
   ]
  },
  {
   "cell_type": "code",
   "execution_count": 82,
   "id": "afd3016a-7b5e-4d44-a1f8-ab8de096ae29",
   "metadata": {
    "execution": {
     "iopub.execute_input": "2025-06-07T18:35:30.740106Z",
     "iopub.status.busy": "2025-06-07T18:35:30.738365Z",
     "iopub.status.idle": "2025-06-07T18:35:30.771041Z",
     "shell.execute_reply": "2025-06-07T18:35:30.770472Z",
     "shell.execute_reply.started": "2025-06-07T18:35:30.740025Z"
    }
   },
   "outputs": [
    {
     "data": {
      "text/html": [
       "<div>\n",
       "<style scoped>\n",
       "    .dataframe tbody tr th:only-of-type {\n",
       "        vertical-align: middle;\n",
       "    }\n",
       "\n",
       "    .dataframe tbody tr th {\n",
       "        vertical-align: top;\n",
       "    }\n",
       "\n",
       "    .dataframe thead th {\n",
       "        text-align: right;\n",
       "    }\n",
       "</style>\n",
       "<table border=\"1\" class=\"dataframe\">\n",
       "  <thead>\n",
       "    <tr style=\"text-align: right;\">\n",
       "      <th></th>\n",
       "      <th>mt</th>\n",
       "      <th>ribo</th>\n",
       "      <th>n_cells_by_counts</th>\n",
       "      <th>mean_counts</th>\n",
       "      <th>pct_dropout_by_counts</th>\n",
       "      <th>total_counts</th>\n",
       "    </tr>\n",
       "  </thead>\n",
       "  <tbody>\n",
       "    <tr>\n",
       "      <th>AL445072.1</th>\n",
       "      <td>False</td>\n",
       "      <td>False</td>\n",
       "      <td>0</td>\n",
       "      <td>0.000000</td>\n",
       "      <td>100.000000</td>\n",
       "      <td>0.0</td>\n",
       "    </tr>\n",
       "    <tr>\n",
       "      <th>AC092958.4</th>\n",
       "      <td>False</td>\n",
       "      <td>False</td>\n",
       "      <td>0</td>\n",
       "      <td>0.000000</td>\n",
       "      <td>100.000000</td>\n",
       "      <td>0.0</td>\n",
       "    </tr>\n",
       "    <tr>\n",
       "      <th>AC092994.1</th>\n",
       "      <td>False</td>\n",
       "      <td>False</td>\n",
       "      <td>0</td>\n",
       "      <td>0.000000</td>\n",
       "      <td>100.000000</td>\n",
       "      <td>0.0</td>\n",
       "    </tr>\n",
       "    <tr>\n",
       "      <th>C3orf80</th>\n",
       "      <td>False</td>\n",
       "      <td>False</td>\n",
       "      <td>0</td>\n",
       "      <td>0.000000</td>\n",
       "      <td>100.000000</td>\n",
       "      <td>0.0</td>\n",
       "    </tr>\n",
       "    <tr>\n",
       "      <th>AC026316.2</th>\n",
       "      <td>False</td>\n",
       "      <td>False</td>\n",
       "      <td>0</td>\n",
       "      <td>0.000000</td>\n",
       "      <td>100.000000</td>\n",
       "      <td>0.0</td>\n",
       "    </tr>\n",
       "    <tr>\n",
       "      <th>...</th>\n",
       "      <td>...</td>\n",
       "      <td>...</td>\n",
       "      <td>...</td>\n",
       "      <td>...</td>\n",
       "      <td>...</td>\n",
       "      <td>...</td>\n",
       "    </tr>\n",
       "    <tr>\n",
       "      <th>AKAP13</th>\n",
       "      <td>False</td>\n",
       "      <td>False</td>\n",
       "      <td>4034</td>\n",
       "      <td>2.814696</td>\n",
       "      <td>28.399006</td>\n",
       "      <td>15858.0</td>\n",
       "    </tr>\n",
       "    <tr>\n",
       "      <th>MBNL1</th>\n",
       "      <td>False</td>\n",
       "      <td>False</td>\n",
       "      <td>4126</td>\n",
       "      <td>2.668974</td>\n",
       "      <td>26.766063</td>\n",
       "      <td>15037.0</td>\n",
       "    </tr>\n",
       "    <tr>\n",
       "      <th>NEAT1</th>\n",
       "      <td>False</td>\n",
       "      <td>False</td>\n",
       "      <td>4135</td>\n",
       "      <td>4.908591</td>\n",
       "      <td>26.606319</td>\n",
       "      <td>27655.0</td>\n",
       "    </tr>\n",
       "    <tr>\n",
       "      <th>ZBTB20</th>\n",
       "      <td>False</td>\n",
       "      <td>False</td>\n",
       "      <td>4270</td>\n",
       "      <td>2.399006</td>\n",
       "      <td>24.210153</td>\n",
       "      <td>13516.0</td>\n",
       "    </tr>\n",
       "    <tr>\n",
       "      <th>MALAT1</th>\n",
       "      <td>False</td>\n",
       "      <td>False</td>\n",
       "      <td>5625</td>\n",
       "      <td>63.596557</td>\n",
       "      <td>0.159744</td>\n",
       "      <td>358303.0</td>\n",
       "    </tr>\n",
       "  </tbody>\n",
       "</table>\n",
       "<p>34546 rows × 6 columns</p>\n",
       "</div>"
      ],
      "text/plain": [
       "               mt   ribo  n_cells_by_counts  mean_counts  \\\n",
       "AL445072.1  False  False                  0     0.000000   \n",
       "AC092958.4  False  False                  0     0.000000   \n",
       "AC092994.1  False  False                  0     0.000000   \n",
       "C3orf80     False  False                  0     0.000000   \n",
       "AC026316.2  False  False                  0     0.000000   \n",
       "...           ...    ...                ...          ...   \n",
       "AKAP13      False  False               4034     2.814696   \n",
       "MBNL1       False  False               4126     2.668974   \n",
       "NEAT1       False  False               4135     4.908591   \n",
       "ZBTB20      False  False               4270     2.399006   \n",
       "MALAT1      False  False               5625    63.596557   \n",
       "\n",
       "            pct_dropout_by_counts  total_counts  \n",
       "AL445072.1             100.000000           0.0  \n",
       "AC092958.4             100.000000           0.0  \n",
       "AC092994.1             100.000000           0.0  \n",
       "C3orf80                100.000000           0.0  \n",
       "AC026316.2             100.000000           0.0  \n",
       "...                           ...           ...  \n",
       "AKAP13                  28.399006       15858.0  \n",
       "MBNL1                   26.766063       15037.0  \n",
       "NEAT1                   26.606319       27655.0  \n",
       "ZBTB20                  24.210153       13516.0  \n",
       "MALAT1                   0.159744      358303.0  \n",
       "\n",
       "[34546 rows x 6 columns]"
      ]
     },
     "execution_count": 82,
     "metadata": {},
     "output_type": "execute_result"
    }
   ],
   "source": [
    "# Before filtering table includes genes not occuring in cells\n",
    "adata.var.sort_values('n_cells_by_counts')"
   ]
  },
  {
   "cell_type": "code",
   "execution_count": 83,
   "id": "5c0185ff-d6e9-46a8-b1f9-de44460d6bb6",
   "metadata": {
    "execution": {
     "iopub.execute_input": "2025-06-07T18:36:28.657524Z",
     "iopub.status.busy": "2025-06-07T18:36:28.655640Z",
     "iopub.status.idle": "2025-06-07T18:36:30.273086Z",
     "shell.execute_reply": "2025-06-07T18:36:30.272380Z",
     "shell.execute_reply.started": "2025-06-07T18:36:28.657437Z"
    }
   },
   "outputs": [],
   "source": [
    "#Filtering genes to be detected at least in 3 cells\n",
    "sc.pp.filter_genes(adata, min_cells=3)"
   ]
  },
  {
   "cell_type": "code",
   "execution_count": 84,
   "id": "acaae9d5-3436-4738-87c3-566b9ada092b",
   "metadata": {
    "execution": {
     "iopub.execute_input": "2025-06-07T18:36:35.568221Z",
     "iopub.status.busy": "2025-06-07T18:36:35.566874Z",
     "iopub.status.idle": "2025-06-07T18:36:35.608703Z",
     "shell.execute_reply": "2025-06-07T18:36:35.608145Z",
     "shell.execute_reply.started": "2025-06-07T18:36:35.568136Z"
    }
   },
   "outputs": [
    {
     "data": {
      "text/html": [
       "<div>\n",
       "<style scoped>\n",
       "    .dataframe tbody tr th:only-of-type {\n",
       "        vertical-align: middle;\n",
       "    }\n",
       "\n",
       "    .dataframe tbody tr th {\n",
       "        vertical-align: top;\n",
       "    }\n",
       "\n",
       "    .dataframe thead th {\n",
       "        text-align: right;\n",
       "    }\n",
       "</style>\n",
       "<table border=\"1\" class=\"dataframe\">\n",
       "  <thead>\n",
       "    <tr style=\"text-align: right;\">\n",
       "      <th></th>\n",
       "      <th>mt</th>\n",
       "      <th>ribo</th>\n",
       "      <th>n_cells_by_counts</th>\n",
       "      <th>mean_counts</th>\n",
       "      <th>pct_dropout_by_counts</th>\n",
       "      <th>total_counts</th>\n",
       "      <th>n_cells</th>\n",
       "    </tr>\n",
       "  </thead>\n",
       "  <tbody>\n",
       "    <tr>\n",
       "      <th>LINC02478</th>\n",
       "      <td>False</td>\n",
       "      <td>False</td>\n",
       "      <td>3</td>\n",
       "      <td>0.000532</td>\n",
       "      <td>99.946752</td>\n",
       "      <td>3.0</td>\n",
       "      <td>3</td>\n",
       "    </tr>\n",
       "    <tr>\n",
       "      <th>AL358333.1</th>\n",
       "      <td>False</td>\n",
       "      <td>False</td>\n",
       "      <td>3</td>\n",
       "      <td>0.000532</td>\n",
       "      <td>99.946752</td>\n",
       "      <td>3.0</td>\n",
       "      <td>3</td>\n",
       "    </tr>\n",
       "    <tr>\n",
       "      <th>AL139317.3</th>\n",
       "      <td>False</td>\n",
       "      <td>False</td>\n",
       "      <td>3</td>\n",
       "      <td>0.000532</td>\n",
       "      <td>99.946752</td>\n",
       "      <td>3.0</td>\n",
       "      <td>3</td>\n",
       "    </tr>\n",
       "    <tr>\n",
       "      <th>SH3TC2-DT</th>\n",
       "      <td>False</td>\n",
       "      <td>False</td>\n",
       "      <td>3</td>\n",
       "      <td>0.000532</td>\n",
       "      <td>99.946752</td>\n",
       "      <td>3.0</td>\n",
       "      <td>3</td>\n",
       "    </tr>\n",
       "    <tr>\n",
       "      <th>TBPL2</th>\n",
       "      <td>False</td>\n",
       "      <td>False</td>\n",
       "      <td>3</td>\n",
       "      <td>0.000532</td>\n",
       "      <td>99.946752</td>\n",
       "      <td>3.0</td>\n",
       "      <td>3</td>\n",
       "    </tr>\n",
       "    <tr>\n",
       "      <th>...</th>\n",
       "      <td>...</td>\n",
       "      <td>...</td>\n",
       "      <td>...</td>\n",
       "      <td>...</td>\n",
       "      <td>...</td>\n",
       "      <td>...</td>\n",
       "      <td>...</td>\n",
       "    </tr>\n",
       "    <tr>\n",
       "      <th>AKAP13</th>\n",
       "      <td>False</td>\n",
       "      <td>False</td>\n",
       "      <td>4034</td>\n",
       "      <td>2.814696</td>\n",
       "      <td>28.399006</td>\n",
       "      <td>15858.0</td>\n",
       "      <td>4034</td>\n",
       "    </tr>\n",
       "    <tr>\n",
       "      <th>MBNL1</th>\n",
       "      <td>False</td>\n",
       "      <td>False</td>\n",
       "      <td>4126</td>\n",
       "      <td>2.668974</td>\n",
       "      <td>26.766063</td>\n",
       "      <td>15037.0</td>\n",
       "      <td>4126</td>\n",
       "    </tr>\n",
       "    <tr>\n",
       "      <th>NEAT1</th>\n",
       "      <td>False</td>\n",
       "      <td>False</td>\n",
       "      <td>4135</td>\n",
       "      <td>4.908591</td>\n",
       "      <td>26.606319</td>\n",
       "      <td>27655.0</td>\n",
       "      <td>4135</td>\n",
       "    </tr>\n",
       "    <tr>\n",
       "      <th>ZBTB20</th>\n",
       "      <td>False</td>\n",
       "      <td>False</td>\n",
       "      <td>4270</td>\n",
       "      <td>2.399006</td>\n",
       "      <td>24.210153</td>\n",
       "      <td>13516.0</td>\n",
       "      <td>4270</td>\n",
       "    </tr>\n",
       "    <tr>\n",
       "      <th>MALAT1</th>\n",
       "      <td>False</td>\n",
       "      <td>False</td>\n",
       "      <td>5625</td>\n",
       "      <td>63.596557</td>\n",
       "      <td>0.159744</td>\n",
       "      <td>358303.0</td>\n",
       "      <td>5625</td>\n",
       "    </tr>\n",
       "  </tbody>\n",
       "</table>\n",
       "<p>24121 rows × 7 columns</p>\n",
       "</div>"
      ],
      "text/plain": [
       "               mt   ribo  n_cells_by_counts  mean_counts  \\\n",
       "LINC02478   False  False                  3     0.000532   \n",
       "AL358333.1  False  False                  3     0.000532   \n",
       "AL139317.3  False  False                  3     0.000532   \n",
       "SH3TC2-DT   False  False                  3     0.000532   \n",
       "TBPL2       False  False                  3     0.000532   \n",
       "...           ...    ...                ...          ...   \n",
       "AKAP13      False  False               4034     2.814696   \n",
       "MBNL1       False  False               4126     2.668974   \n",
       "NEAT1       False  False               4135     4.908591   \n",
       "ZBTB20      False  False               4270     2.399006   \n",
       "MALAT1      False  False               5625    63.596557   \n",
       "\n",
       "            pct_dropout_by_counts  total_counts  n_cells  \n",
       "LINC02478               99.946752           3.0        3  \n",
       "AL358333.1              99.946752           3.0        3  \n",
       "AL139317.3              99.946752           3.0        3  \n",
       "SH3TC2-DT               99.946752           3.0        3  \n",
       "TBPL2                   99.946752           3.0        3  \n",
       "...                           ...           ...      ...  \n",
       "AKAP13                  28.399006       15858.0     4034  \n",
       "MBNL1                   26.766063       15037.0     4126  \n",
       "NEAT1                   26.606319       27655.0     4135  \n",
       "ZBTB20                  24.210153       13516.0     4270  \n",
       "MALAT1                   0.159744      358303.0     5625  \n",
       "\n",
       "[24121 rows x 7 columns]"
      ]
     },
     "execution_count": 84,
     "metadata": {},
     "output_type": "execute_result"
    }
   ],
   "source": [
    "# after filtering each gene occurs at least in 3 cells\n",
    "adata.var.sort_values('n_cells_by_counts')"
   ]
  },
  {
   "cell_type": "code",
   "execution_count": 87,
   "id": "7203ae8f-6dd8-461b-8c5b-0d03cae3e2be",
   "metadata": {
    "execution": {
     "iopub.execute_input": "2025-06-07T18:41:09.172085Z",
     "iopub.status.busy": "2025-06-07T18:41:09.170443Z",
     "iopub.status.idle": "2025-06-07T18:41:09.213376Z",
     "shell.execute_reply": "2025-06-07T18:41:09.212562Z",
     "shell.execute_reply.started": "2025-06-07T18:41:09.171999Z"
    }
   },
   "outputs": [
    {
     "data": {
      "text/html": [
       "<div>\n",
       "<style scoped>\n",
       "    .dataframe tbody tr th:only-of-type {\n",
       "        vertical-align: middle;\n",
       "    }\n",
       "\n",
       "    .dataframe tbody tr th {\n",
       "        vertical-align: top;\n",
       "    }\n",
       "\n",
       "    .dataframe thead th {\n",
       "        text-align: right;\n",
       "    }\n",
       "</style>\n",
       "<table border=\"1\" class=\"dataframe\">\n",
       "  <thead>\n",
       "    <tr style=\"text-align: right;\">\n",
       "      <th></th>\n",
       "      <th>doublet</th>\n",
       "      <th>n_genes_by_counts</th>\n",
       "      <th>total_counts</th>\n",
       "      <th>total_counts_mt</th>\n",
       "      <th>pct_counts_mt</th>\n",
       "      <th>total_counts_ribo</th>\n",
       "      <th>pct_counts_ribo</th>\n",
       "      <th>n_genes</th>\n",
       "    </tr>\n",
       "  </thead>\n",
       "  <tbody>\n",
       "    <tr>\n",
       "      <th>TGGTACAGTTGGTGTT-1_1</th>\n",
       "      <td>False</td>\n",
       "      <td>323</td>\n",
       "      <td>401.0</td>\n",
       "      <td>0.0</td>\n",
       "      <td>0.000000</td>\n",
       "      <td>0.0</td>\n",
       "      <td>0.000000</td>\n",
       "      <td>323</td>\n",
       "    </tr>\n",
       "    <tr>\n",
       "      <th>CGAGAAGGTGAACTAA-1_1</th>\n",
       "      <td>False</td>\n",
       "      <td>308</td>\n",
       "      <td>401.0</td>\n",
       "      <td>0.0</td>\n",
       "      <td>0.000000</td>\n",
       "      <td>0.0</td>\n",
       "      <td>0.000000</td>\n",
       "      <td>307</td>\n",
       "    </tr>\n",
       "    <tr>\n",
       "      <th>CAGGGCTTCATGCGGC-1_1</th>\n",
       "      <td>False</td>\n",
       "      <td>330</td>\n",
       "      <td>401.0</td>\n",
       "      <td>7.0</td>\n",
       "      <td>1.745636</td>\n",
       "      <td>1.0</td>\n",
       "      <td>0.249377</td>\n",
       "      <td>330</td>\n",
       "    </tr>\n",
       "    <tr>\n",
       "      <th>AGGCATTCATCCGTTC-1_1</th>\n",
       "      <td>False</td>\n",
       "      <td>290</td>\n",
       "      <td>401.0</td>\n",
       "      <td>1.0</td>\n",
       "      <td>0.249377</td>\n",
       "      <td>0.0</td>\n",
       "      <td>0.000000</td>\n",
       "      <td>290</td>\n",
       "    </tr>\n",
       "    <tr>\n",
       "      <th>GTCGTTCTCCAAGGGA-1_1</th>\n",
       "      <td>False</td>\n",
       "      <td>300</td>\n",
       "      <td>401.0</td>\n",
       "      <td>0.0</td>\n",
       "      <td>0.000000</td>\n",
       "      <td>0.0</td>\n",
       "      <td>0.000000</td>\n",
       "      <td>299</td>\n",
       "    </tr>\n",
       "    <tr>\n",
       "      <th>...</th>\n",
       "      <td>...</td>\n",
       "      <td>...</td>\n",
       "      <td>...</td>\n",
       "      <td>...</td>\n",
       "      <td>...</td>\n",
       "      <td>...</td>\n",
       "      <td>...</td>\n",
       "      <td>...</td>\n",
       "    </tr>\n",
       "    <tr>\n",
       "      <th>CACTTCGCAGTACTAC-1_1</th>\n",
       "      <td>False</td>\n",
       "      <td>3244</td>\n",
       "      <td>8059.0</td>\n",
       "      <td>253.0</td>\n",
       "      <td>3.139347</td>\n",
       "      <td>14.0</td>\n",
       "      <td>0.173719</td>\n",
       "      <td>3242</td>\n",
       "    </tr>\n",
       "    <tr>\n",
       "      <th>TCTATCACAAGGCTTT-1_1</th>\n",
       "      <td>False</td>\n",
       "      <td>3582</td>\n",
       "      <td>8276.0</td>\n",
       "      <td>183.0</td>\n",
       "      <td>2.211213</td>\n",
       "      <td>5.0</td>\n",
       "      <td>0.060416</td>\n",
       "      <td>3575</td>\n",
       "    </tr>\n",
       "    <tr>\n",
       "      <th>CGCATAACATGCCGGT-1_1</th>\n",
       "      <td>False</td>\n",
       "      <td>3745</td>\n",
       "      <td>8617.0</td>\n",
       "      <td>119.0</td>\n",
       "      <td>1.380991</td>\n",
       "      <td>25.0</td>\n",
       "      <td>0.290124</td>\n",
       "      <td>3729</td>\n",
       "    </tr>\n",
       "    <tr>\n",
       "      <th>TTGGTTTTCCTAGCTC-1_1</th>\n",
       "      <td>False</td>\n",
       "      <td>3902</td>\n",
       "      <td>11472.0</td>\n",
       "      <td>463.0</td>\n",
       "      <td>4.035913</td>\n",
       "      <td>13.0</td>\n",
       "      <td>0.113319</td>\n",
       "      <td>3897</td>\n",
       "    </tr>\n",
       "    <tr>\n",
       "      <th>TAACTTCCAACCACGC-1_1</th>\n",
       "      <td>False</td>\n",
       "      <td>5158</td>\n",
       "      <td>15645.0</td>\n",
       "      <td>221.0</td>\n",
       "      <td>1.412592</td>\n",
       "      <td>211.0</td>\n",
       "      <td>1.348674</td>\n",
       "      <td>5143</td>\n",
       "    </tr>\n",
       "  </tbody>\n",
       "</table>\n",
       "<p>5634 rows × 8 columns</p>\n",
       "</div>"
      ],
      "text/plain": [
       "                      doublet  n_genes_by_counts  total_counts  \\\n",
       "TGGTACAGTTGGTGTT-1_1    False                323         401.0   \n",
       "CGAGAAGGTGAACTAA-1_1    False                308         401.0   \n",
       "CAGGGCTTCATGCGGC-1_1    False                330         401.0   \n",
       "AGGCATTCATCCGTTC-1_1    False                290         401.0   \n",
       "GTCGTTCTCCAAGGGA-1_1    False                300         401.0   \n",
       "...                       ...                ...           ...   \n",
       "CACTTCGCAGTACTAC-1_1    False               3244        8059.0   \n",
       "TCTATCACAAGGCTTT-1_1    False               3582        8276.0   \n",
       "CGCATAACATGCCGGT-1_1    False               3745        8617.0   \n",
       "TTGGTTTTCCTAGCTC-1_1    False               3902       11472.0   \n",
       "TAACTTCCAACCACGC-1_1    False               5158       15645.0   \n",
       "\n",
       "                      total_counts_mt  pct_counts_mt  total_counts_ribo  \\\n",
       "TGGTACAGTTGGTGTT-1_1              0.0       0.000000                0.0   \n",
       "CGAGAAGGTGAACTAA-1_1              0.0       0.000000                0.0   \n",
       "CAGGGCTTCATGCGGC-1_1              7.0       1.745636                1.0   \n",
       "AGGCATTCATCCGTTC-1_1              1.0       0.249377                0.0   \n",
       "GTCGTTCTCCAAGGGA-1_1              0.0       0.000000                0.0   \n",
       "...                               ...            ...                ...   \n",
       "CACTTCGCAGTACTAC-1_1            253.0       3.139347               14.0   \n",
       "TCTATCACAAGGCTTT-1_1            183.0       2.211213                5.0   \n",
       "CGCATAACATGCCGGT-1_1            119.0       1.380991               25.0   \n",
       "TTGGTTTTCCTAGCTC-1_1            463.0       4.035913               13.0   \n",
       "TAACTTCCAACCACGC-1_1            221.0       1.412592              211.0   \n",
       "\n",
       "                      pct_counts_ribo  n_genes  \n",
       "TGGTACAGTTGGTGTT-1_1         0.000000      323  \n",
       "CGAGAAGGTGAACTAA-1_1         0.000000      307  \n",
       "CAGGGCTTCATGCGGC-1_1         0.249377      330  \n",
       "AGGCATTCATCCGTTC-1_1         0.000000      290  \n",
       "GTCGTTCTCCAAGGGA-1_1         0.000000      299  \n",
       "...                               ...      ...  \n",
       "CACTTCGCAGTACTAC-1_1         0.173719     3242  \n",
       "TCTATCACAAGGCTTT-1_1         0.060416     3575  \n",
       "CGCATAACATGCCGGT-1_1         0.290124     3729  \n",
       "TTGGTTTTCCTAGCTC-1_1         0.113319     3897  \n",
       "TAACTTCCAACCACGC-1_1         1.348674     5143  \n",
       "\n",
       "[5634 rows x 8 columns]"
      ]
     },
     "execution_count": 87,
     "metadata": {},
     "output_type": "execute_result"
    }
   ],
   "source": [
    "\n",
    "adata.obs.sort_values('total_counts')"
   ]
  },
  {
   "cell_type": "markdown",
   "id": "02e83442-d16e-4091-9d1e-8ffdbb8b1877",
   "metadata": {},
   "source": [
    "The authors of this paper have already filtered the cells for a minimum count of 400 but if they would have not we would filter the cells to have a minimum number of read counts like following: "
   ]
  },
  {
   "cell_type": "code",
   "execution_count": 86,
   "id": "b64bce65-175c-4725-b008-aef31449eb07",
   "metadata": {
    "execution": {
     "iopub.execute_input": "2025-06-07T18:40:50.774189Z",
     "iopub.status.busy": "2025-06-07T18:40:50.759565Z",
     "iopub.status.idle": "2025-06-07T18:40:51.503565Z",
     "shell.execute_reply": "2025-06-07T18:40:51.502847Z",
     "shell.execute_reply.started": "2025-06-07T18:40:50.765533Z"
    }
   },
   "outputs": [],
   "source": [
    "# sc.pp.filter_cells(adata, min_genes=200) # the 200 is arbitrary based on data"
   ]
  },
  {
   "cell_type": "code",
   "execution_count": 88,
   "id": "e587f734-9c4d-4c5c-8396-3c233993ab90",
   "metadata": {
    "execution": {
     "iopub.execute_input": "2025-06-07T18:43:46.126432Z",
     "iopub.status.busy": "2025-06-07T18:43:46.120106Z",
     "iopub.status.idle": "2025-06-07T18:43:46.906078Z",
     "shell.execute_reply": "2025-06-07T18:43:46.905688Z",
     "shell.execute_reply.started": "2025-06-07T18:43:46.126325Z"
    }
   },
   "outputs": [
    {
     "data": {
      "image/png": "[encoded data removed]",
      "text/plain": [
       "<Figure size 2011.11x500 with 4 Axes>"
      ]
     },
     "metadata": {},
     "output_type": "display_data"
    }
   ],
   "source": [
    "sc.pl.violin(adata, ['n_genes_by_counts', 'total_counts', 'pct_counts_mt', 'pct_counts_ribo'],\n",
    "             jitter = 0.4, multi_panel = True)"
   ]
  },
  {
   "cell_type": "markdown",
   "id": "2fba60a1-2eb3-48d4-a640-544fca0206a9",
   "metadata": {},
   "source": [
    "We use these QC metrics to remove outliers. For instance if a cell still has more genes_by_counts or total_counts (these two are highly correlated) than the average cell population this strongly indicates an artifact. Since those two are corrleated we filter by one metric only. Furthermore we will also exclude cells with too high mitochondrial percentage which indicates sequencing artifacts or that the cell is dying. Typically people filters between 5-20% of MT out. Ribosomal reads are also a quality control. High percentage of ribosomal reads indicates low-quality cells (mRNA degradation and therefore rRNA dominates), low RNA complexity (cell contains mainly houskeeping transcripts) and if ambient RNA is present (due to lysed cells) rRNA can make up larger proportions. "
   ]
  },
  {
   "cell_type": "code",
   "execution_count": 26,
   "id": "b3d73ed7-8d67-442e-afde-bfccfc3ed0bf",
   "metadata": {
    "execution": {
     "iopub.execute_input": "2025-06-09T14:07:03.066261Z",
     "iopub.status.busy": "2025-06-09T14:07:03.048430Z",
     "iopub.status.idle": "2025-06-09T14:07:03.089985Z",
     "shell.execute_reply": "2025-06-09T14:07:03.087912Z",
     "shell.execute_reply.started": "2025-06-09T14:07:03.066113Z"
    }
   },
   "outputs": [],
   "source": [
    "import numpy as np"
   ]
  },
  {
   "cell_type": "code",
   "execution_count": 90,
   "id": "d50c930f-b0f6-4071-9384-f201cedcf2cb",
   "metadata": {
    "execution": {
     "iopub.execute_input": "2025-06-07T19:18:52.733671Z",
     "iopub.status.busy": "2025-06-07T19:18:52.731849Z",
     "iopub.status.idle": "2025-06-07T19:18:52.760866Z",
     "shell.execute_reply": "2025-06-07T19:18:52.759835Z",
     "shell.execute_reply.started": "2025-06-07T19:18:52.733605Z"
    }
   },
   "outputs": [],
   "source": [
    "# Determines the 98th percentile using Numpy to be more objective and not only set a limit by watching the graph.\n",
    "upper_lim = np.quantile(adata.obs.n_genes_by_counts.values, .98)"
   ]
  },
  {
   "cell_type": "code",
   "execution_count": 91,
   "id": "7f9ed306-fc7f-45b9-8e59-0ed7ecf193a9",
   "metadata": {
    "execution": {
     "iopub.execute_input": "2025-06-07T19:19:00.502418Z",
     "iopub.status.busy": "2025-06-07T19:19:00.501954Z",
     "iopub.status.idle": "2025-06-07T19:19:00.510316Z",
     "shell.execute_reply": "2025-06-07T19:19:00.508646Z",
     "shell.execute_reply.started": "2025-06-07T19:19:00.502386Z"
    }
   },
   "outputs": [
    {
     "data": {
      "text/plain": [
       "2256.0"
      ]
     },
     "execution_count": 91,
     "metadata": {},
     "output_type": "execute_result"
    }
   ],
   "source": [
    "upper_lim"
   ]
  },
  {
   "cell_type": "code",
   "execution_count": 92,
   "id": "659f924e-6440-4f8a-b035-78922ebb76e4",
   "metadata": {
    "execution": {
     "iopub.execute_input": "2025-06-07T19:23:48.055804Z",
     "iopub.status.busy": "2025-06-07T19:23:48.054195Z",
     "iopub.status.idle": "2025-06-07T19:23:48.084922Z",
     "shell.execute_reply": "2025-06-07T19:23:48.084245Z",
     "shell.execute_reply.started": "2025-06-07T19:23:48.055746Z"
    }
   },
   "outputs": [],
   "source": [
    "# Fitler adata to contain only cells having less genes than the upper limit\n",
    "adata = adata[adata.obs.n_genes_by_counts < upper_lim]"
   ]
  },
  {
   "cell_type": "code",
   "execution_count": 94,
   "id": "161ba4b3-a615-4568-9a95-59d1e5b06205",
   "metadata": {
    "execution": {
     "iopub.execute_input": "2025-06-07T19:24:20.511771Z",
     "iopub.status.busy": "2025-06-07T19:24:20.510469Z",
     "iopub.status.idle": "2025-06-07T19:24:20.539492Z",
     "shell.execute_reply": "2025-06-07T19:24:20.539034Z",
     "shell.execute_reply.started": "2025-06-07T19:24:20.511717Z"
    }
   },
   "outputs": [
    {
     "data": {
      "text/html": [
       "<div>\n",
       "<style scoped>\n",
       "    .dataframe tbody tr th:only-of-type {\n",
       "        vertical-align: middle;\n",
       "    }\n",
       "\n",
       "    .dataframe tbody tr th {\n",
       "        vertical-align: top;\n",
       "    }\n",
       "\n",
       "    .dataframe thead th {\n",
       "        text-align: right;\n",
       "    }\n",
       "</style>\n",
       "<table border=\"1\" class=\"dataframe\">\n",
       "  <thead>\n",
       "    <tr style=\"text-align: right;\">\n",
       "      <th></th>\n",
       "      <th>doublet</th>\n",
       "      <th>n_genes_by_counts</th>\n",
       "      <th>total_counts</th>\n",
       "      <th>total_counts_mt</th>\n",
       "      <th>pct_counts_mt</th>\n",
       "      <th>total_counts_ribo</th>\n",
       "      <th>pct_counts_ribo</th>\n",
       "      <th>n_genes</th>\n",
       "    </tr>\n",
       "  </thead>\n",
       "  <tbody>\n",
       "    <tr>\n",
       "      <th>ATACTTCCAAGGTCTT-1_1</th>\n",
       "      <td>False</td>\n",
       "      <td>2122</td>\n",
       "      <td>5252.0</td>\n",
       "      <td>1.0</td>\n",
       "      <td>0.019040</td>\n",
       "      <td>4.0</td>\n",
       "      <td>0.076161</td>\n",
       "      <td>2120</td>\n",
       "    </tr>\n",
       "    <tr>\n",
       "      <th>TCATGCCGTCTTTCAT-1_1</th>\n",
       "      <td>False</td>\n",
       "      <td>2234</td>\n",
       "      <td>4993.0</td>\n",
       "      <td>0.0</td>\n",
       "      <td>0.000000</td>\n",
       "      <td>3.0</td>\n",
       "      <td>0.060084</td>\n",
       "      <td>2229</td>\n",
       "    </tr>\n",
       "    <tr>\n",
       "      <th>GATAGCTCAGGCTTGC-1_1</th>\n",
       "      <td>False</td>\n",
       "      <td>2167</td>\n",
       "      <td>4879.0</td>\n",
       "      <td>0.0</td>\n",
       "      <td>0.000000</td>\n",
       "      <td>0.0</td>\n",
       "      <td>0.000000</td>\n",
       "      <td>2166</td>\n",
       "    </tr>\n",
       "    <tr>\n",
       "      <th>TACATTCGTACGTACT-1_1</th>\n",
       "      <td>False</td>\n",
       "      <td>2253</td>\n",
       "      <td>4776.0</td>\n",
       "      <td>13.0</td>\n",
       "      <td>0.272194</td>\n",
       "      <td>1.0</td>\n",
       "      <td>0.020938</td>\n",
       "      <td>2250</td>\n",
       "    </tr>\n",
       "    <tr>\n",
       "      <th>GACCCAGCACCCTATC-1_1</th>\n",
       "      <td>False</td>\n",
       "      <td>2150</td>\n",
       "      <td>4784.0</td>\n",
       "      <td>28.0</td>\n",
       "      <td>0.585284</td>\n",
       "      <td>4.0</td>\n",
       "      <td>0.083612</td>\n",
       "      <td>2149</td>\n",
       "    </tr>\n",
       "    <tr>\n",
       "      <th>...</th>\n",
       "      <td>...</td>\n",
       "      <td>...</td>\n",
       "      <td>...</td>\n",
       "      <td>...</td>\n",
       "      <td>...</td>\n",
       "      <td>...</td>\n",
       "      <td>...</td>\n",
       "      <td>...</td>\n",
       "    </tr>\n",
       "    <tr>\n",
       "      <th>CGCCATTGTTTGCCGG-1_1</th>\n",
       "      <td>False</td>\n",
       "      <td>355</td>\n",
       "      <td>410.0</td>\n",
       "      <td>3.0</td>\n",
       "      <td>0.731707</td>\n",
       "      <td>0.0</td>\n",
       "      <td>0.000000</td>\n",
       "      <td>355</td>\n",
       "    </tr>\n",
       "    <tr>\n",
       "      <th>CACTGGGGTCTACGTA-1_1</th>\n",
       "      <td>False</td>\n",
       "      <td>346</td>\n",
       "      <td>403.0</td>\n",
       "      <td>0.0</td>\n",
       "      <td>0.000000</td>\n",
       "      <td>0.0</td>\n",
       "      <td>0.000000</td>\n",
       "      <td>346</td>\n",
       "    </tr>\n",
       "    <tr>\n",
       "      <th>CATACTTGTAGAGGAA-1_1</th>\n",
       "      <td>False</td>\n",
       "      <td>360</td>\n",
       "      <td>410.0</td>\n",
       "      <td>2.0</td>\n",
       "      <td>0.487805</td>\n",
       "      <td>0.0</td>\n",
       "      <td>0.000000</td>\n",
       "      <td>360</td>\n",
       "    </tr>\n",
       "    <tr>\n",
       "      <th>TTTGGTTTCCACGGAC-1_1</th>\n",
       "      <td>False</td>\n",
       "      <td>299</td>\n",
       "      <td>405.0</td>\n",
       "      <td>0.0</td>\n",
       "      <td>0.000000</td>\n",
       "      <td>2.0</td>\n",
       "      <td>0.493827</td>\n",
       "      <td>299</td>\n",
       "    </tr>\n",
       "    <tr>\n",
       "      <th>ATGCATGAGTCATGAA-1_1</th>\n",
       "      <td>False</td>\n",
       "      <td>351</td>\n",
       "      <td>411.0</td>\n",
       "      <td>0.0</td>\n",
       "      <td>0.000000</td>\n",
       "      <td>0.0</td>\n",
       "      <td>0.000000</td>\n",
       "      <td>350</td>\n",
       "    </tr>\n",
       "  </tbody>\n",
       "</table>\n",
       "<p>5520 rows × 8 columns</p>\n",
       "</div>"
      ],
      "text/plain": [
       "                      doublet  n_genes_by_counts  total_counts  \\\n",
       "ATACTTCCAAGGTCTT-1_1    False               2122        5252.0   \n",
       "TCATGCCGTCTTTCAT-1_1    False               2234        4993.0   \n",
       "GATAGCTCAGGCTTGC-1_1    False               2167        4879.0   \n",
       "TACATTCGTACGTACT-1_1    False               2253        4776.0   \n",
       "GACCCAGCACCCTATC-1_1    False               2150        4784.0   \n",
       "...                       ...                ...           ...   \n",
       "CGCCATTGTTTGCCGG-1_1    False                355         410.0   \n",
       "CACTGGGGTCTACGTA-1_1    False                346         403.0   \n",
       "CATACTTGTAGAGGAA-1_1    False                360         410.0   \n",
       "TTTGGTTTCCACGGAC-1_1    False                299         405.0   \n",
       "ATGCATGAGTCATGAA-1_1    False                351         411.0   \n",
       "\n",
       "                      total_counts_mt  pct_counts_mt  total_counts_ribo  \\\n",
       "ATACTTCCAAGGTCTT-1_1              1.0       0.019040                4.0   \n",
       "TCATGCCGTCTTTCAT-1_1              0.0       0.000000                3.0   \n",
       "GATAGCTCAGGCTTGC-1_1              0.0       0.000000                0.0   \n",
       "TACATTCGTACGTACT-1_1             13.0       0.272194                1.0   \n",
       "GACCCAGCACCCTATC-1_1             28.0       0.585284                4.0   \n",
       "...                               ...            ...                ...   \n",
       "CGCCATTGTTTGCCGG-1_1              3.0       0.731707                0.0   \n",
       "CACTGGGGTCTACGTA-1_1              0.0       0.000000                0.0   \n",
       "CATACTTGTAGAGGAA-1_1              2.0       0.487805                0.0   \n",
       "TTTGGTTTCCACGGAC-1_1              0.0       0.000000                2.0   \n",
       "ATGCATGAGTCATGAA-1_1              0.0       0.000000                0.0   \n",
       "\n",
       "                      pct_counts_ribo  n_genes  \n",
       "ATACTTCCAAGGTCTT-1_1         0.076161     2120  \n",
       "TCATGCCGTCTTTCAT-1_1         0.060084     2229  \n",
       "GATAGCTCAGGCTTGC-1_1         0.000000     2166  \n",
       "TACATTCGTACGTACT-1_1         0.020938     2250  \n",
       "GACCCAGCACCCTATC-1_1         0.083612     2149  \n",
       "...                               ...      ...  \n",
       "CGCCATTGTTTGCCGG-1_1         0.000000      355  \n",
       "CACTGGGGTCTACGTA-1_1         0.000000      346  \n",
       "CATACTTGTAGAGGAA-1_1         0.000000      360  \n",
       "TTTGGTTTCCACGGAC-1_1         0.493827      299  \n",
       "ATGCATGAGTCATGAA-1_1         0.000000      350  \n",
       "\n",
       "[5520 rows x 8 columns]"
      ]
     },
     "execution_count": 94,
     "metadata": {},
     "output_type": "execute_result"
    }
   ],
   "source": [
    "adata.obs"
   ]
  },
  {
   "cell_type": "code",
   "execution_count": 96,
   "id": "367fad64-1d56-4dba-9de7-fc6691224a84",
   "metadata": {
    "execution": {
     "iopub.execute_input": "2025-06-07T19:27:57.274290Z",
     "iopub.status.busy": "2025-06-07T19:27:57.256962Z",
     "iopub.status.idle": "2025-06-07T19:27:57.291645Z",
     "shell.execute_reply": "2025-06-07T19:27:57.291114Z",
     "shell.execute_reply.started": "2025-06-07T19:27:57.274183Z"
    }
   },
   "outputs": [],
   "source": [
    "# Next filter the mitochondria on 20% \n",
    "adata = adata[adata.obs.pct_counts_mt < 20]"
   ]
  },
  {
   "cell_type": "code",
   "execution_count": 97,
   "id": "0c407441-9968-41a4-a365-e299e9e19c6a",
   "metadata": {
    "execution": {
     "iopub.execute_input": "2025-06-07T19:30:13.298647Z",
     "iopub.status.busy": "2025-06-07T19:30:13.297900Z",
     "iopub.status.idle": "2025-06-07T19:30:13.314039Z",
     "shell.execute_reply": "2025-06-07T19:30:13.313036Z",
     "shell.execute_reply.started": "2025-06-07T19:30:13.298584Z"
    }
   },
   "outputs": [],
   "source": [
    "# Filter on ribosomal percentage \n",
    "adata = adata[adata.obs.pct_counts_ribo < 2]"
   ]
  },
  {
   "cell_type": "code",
   "execution_count": 98,
   "id": "5e653cfe-a059-4bee-bfe0-d522e62cef64",
   "metadata": {
    "execution": {
     "iopub.execute_input": "2025-06-07T19:30:32.419493Z",
     "iopub.status.busy": "2025-06-07T19:30:32.417756Z",
     "iopub.status.idle": "2025-06-07T19:30:32.431088Z",
     "shell.execute_reply": "2025-06-07T19:30:32.430141Z",
     "shell.execute_reply.started": "2025-06-07T19:30:32.419414Z"
    }
   },
   "outputs": [
    {
     "data": {
      "text/plain": [
       "View of AnnData object with n_obs × n_vars = 5504 × 24121\n",
       "    obs: 'doublet', 'n_genes_by_counts', 'total_counts', 'total_counts_mt', 'pct_counts_mt', 'total_counts_ribo', 'pct_counts_ribo', 'n_genes'\n",
       "    var: 'mt', 'ribo', 'n_cells_by_counts', 'mean_counts', 'pct_dropout_by_counts', 'total_counts', 'n_cells'"
      ]
     },
     "execution_count": 98,
     "metadata": {},
     "output_type": "execute_result"
    }
   ],
   "source": [
    "adata"
   ]
  },
  {
   "cell_type": "markdown",
   "id": "57d21039-2465-4f6b-b74e-45e7e8d0edb7",
   "metadata": {},
   "source": [
    "# Normalization"
   ]
  },
  {
   "cell_type": "markdown",
   "id": "8f8a5a8d-af22-4c19-bc80-3a317b460258",
   "metadata": {},
   "source": [
    "In adata X each row is a cell and each column is a gene"
   ]
  },
  {
   "cell_type": "code",
   "execution_count": 100,
   "id": "1a74d2d1-589c-4f49-a77d-75c76d583c52",
   "metadata": {
    "execution": {
     "iopub.execute_input": "2025-06-07T19:45:01.923376Z",
     "iopub.status.busy": "2025-06-07T19:45:01.921794Z",
     "iopub.status.idle": "2025-06-07T19:45:02.458701Z",
     "shell.execute_reply": "2025-06-07T19:45:02.457992Z",
     "shell.execute_reply.started": "2025-06-07T19:45:01.923316Z"
    }
   },
   "outputs": [
    {
     "data": {
      "text/plain": [
       "array([5250., 4988., 4878., ...,  410.,  405.,  410.], dtype=float32)"
      ]
     },
     "execution_count": 100,
     "metadata": {},
     "output_type": "execute_result"
    }
   ],
   "source": [
    "# Showing that each cell has a different number of total counts\n",
    "adata.X.sum(axis=1)"
   ]
  },
  {
   "cell_type": "markdown",
   "id": "f4ab7126-c4b3-403c-b43b-4fb129c8ad31",
   "metadata": {},
   "source": [
    "Normalization includes to normalize the counts of each cell so that the total counts adds up to the same value."
   ]
  },
  {
   "cell_type": "code",
   "execution_count": 102,
   "id": "53ae90d1-d1d5-4232-91af-65b13b54deb7",
   "metadata": {
    "execution": {
     "iopub.execute_input": "2025-06-07T19:52:15.769978Z",
     "iopub.status.busy": "2025-06-07T19:52:15.757598Z",
     "iopub.status.idle": "2025-06-07T19:52:16.472943Z",
     "shell.execute_reply": "2025-06-07T19:52:16.472494Z",
     "shell.execute_reply.started": "2025-06-07T19:52:15.769849Z"
    }
   },
   "outputs": [
    {
     "name": "stderr",
     "output_type": "stream",
     "text": [
      "/Users/thorsten/.pyenv/versions/3.10.6/envs/SingleCell/lib/python3.10/site-packages/scanpy/preprocessing/_normalization.py:269: UserWarning: Received a view of an AnnData. Making a copy.\n",
      "  view_to_actual(adata)\n"
     ]
    }
   ],
   "source": [
    "sc.pp.normalize_total(adata, target_sum=1e4) #normalize to 10000 UMIs"
   ]
  },
  {
   "cell_type": "code",
   "execution_count": 103,
   "id": "e545f029-596a-4a88-8c23-230502c4ee89",
   "metadata": {
    "execution": {
     "iopub.execute_input": "2025-06-07T19:52:32.619984Z",
     "iopub.status.busy": "2025-06-07T19:52:32.619050Z",
     "iopub.status.idle": "2025-06-07T19:52:32.790213Z",
     "shell.execute_reply": "2025-06-07T19:52:32.789602Z",
     "shell.execute_reply.started": "2025-06-07T19:52:32.619932Z"
    }
   },
   "outputs": [
    {
     "data": {
      "text/plain": [
       "array([10000., 10000., 10000., ..., 10000., 10000., 10000.], dtype=float32)"
      ]
     },
     "execution_count": 103,
     "metadata": {},
     "output_type": "execute_result"
    }
   ],
   "source": [
    "# After normalization the total counts of each cell is the same!\n",
    "adata.X.sum(axis=1)"
   ]
  },
  {
   "cell_type": "code",
   "execution_count": 104,
   "id": "540f3e94-dab8-4803-b496-df43abf1264e",
   "metadata": {
    "execution": {
     "iopub.execute_input": "2025-06-07T19:53:45.945777Z",
     "iopub.status.busy": "2025-06-07T19:53:45.945127Z",
     "iopub.status.idle": "2025-06-07T19:53:46.440190Z",
     "shell.execute_reply": "2025-06-07T19:53:46.439772Z",
     "shell.execute_reply.started": "2025-06-07T19:53:45.945712Z"
    }
   },
   "outputs": [],
   "source": [
    "# Change to log counts\n",
    "sc.pp.log1p(adata)"
   ]
  },
  {
   "cell_type": "code",
   "execution_count": 105,
   "id": "5a705775-7a29-4080-b60d-9557172cb35e",
   "metadata": {
    "execution": {
     "iopub.execute_input": "2025-06-07T19:53:53.970108Z",
     "iopub.status.busy": "2025-06-07T19:53:53.969458Z",
     "iopub.status.idle": "2025-06-07T19:53:54.187947Z",
     "shell.execute_reply": "2025-06-07T19:53:54.186949Z",
     "shell.execute_reply.started": "2025-06-07T19:53:53.970070Z"
    }
   },
   "outputs": [
    {
     "data": {
      "text/plain": [
       "array([2858.1602, 3191.3232, 3131.851 , ..., 1191.2706, 1022.7512,\n",
       "       1162.8784], dtype=float32)"
      ]
     },
     "execution_count": 105,
     "metadata": {},
     "output_type": "execute_result"
    }
   ],
   "source": [
    "adata.X.sum(axis=1)"
   ]
  },
  {
   "cell_type": "markdown",
   "id": "78ab7caa-05e1-4c05-b1d0-e425bc1e8deb",
   "metadata": {},
   "source": [
    "**!!! Important !!!*** Now it is very important to freeze the data as it is now. Before we do further start filtering out genes, regressing data or scale data. \n",
    "For this we safe it in the raw slot of the adata format. "
   ]
  },
  {
   "cell_type": "code",
   "execution_count": 106,
   "id": "6d21c3b0-1629-48e5-ba70-651bc6e4358a",
   "metadata": {
    "execution": {
     "iopub.execute_input": "2025-06-07T19:57:17.029426Z",
     "iopub.status.busy": "2025-06-07T19:57:17.027288Z",
     "iopub.status.idle": "2025-06-07T19:57:17.045340Z",
     "shell.execute_reply": "2025-06-07T19:57:17.044452Z",
     "shell.execute_reply.started": "2025-06-07T19:57:17.029302Z"
    }
   },
   "outputs": [],
   "source": [
    "adata.raw = adata\n",
    "#Lot of functions later will actually use the raw data!"
   ]
  },
  {
   "cell_type": "markdown",
   "id": "1c6d89bb-cd57-4231-9ae9-54b7c0e78014",
   "metadata": {},
   "source": [
    "# Clustering"
   ]
  },
  {
   "cell_type": "code",
   "execution_count": 107,
   "id": "1019797b-0917-437a-90cc-94a91432d3d0",
   "metadata": {
    "execution": {
     "iopub.execute_input": "2025-06-07T20:11:37.949367Z",
     "iopub.status.busy": "2025-06-07T20:11:37.944426Z",
     "iopub.status.idle": "2025-06-07T20:11:39.275709Z",
     "shell.execute_reply": "2025-06-07T20:11:39.275127Z",
     "shell.execute_reply.started": "2025-06-07T20:11:37.949285Z"
    }
   },
   "outputs": [],
   "source": [
    "#Adds statistic about variability of gene expression into adata.var\n",
    "sc.pp.highly_variable_genes(adata, n_top_genes = 2000)"
   ]
  },
  {
   "cell_type": "code",
   "execution_count": 109,
   "id": "16f1e4ea-251c-4bec-95c4-374c05d7221d",
   "metadata": {
    "execution": {
     "iopub.execute_input": "2025-06-07T20:11:48.073211Z",
     "iopub.status.busy": "2025-06-07T20:11:48.071577Z",
     "iopub.status.idle": "2025-06-07T20:11:48.103889Z",
     "shell.execute_reply": "2025-06-07T20:11:48.103230Z",
     "shell.execute_reply.started": "2025-06-07T20:11:48.073126Z"
    }
   },
   "outputs": [
    {
     "data": {
      "text/html": [
       "<div>\n",
       "<style scoped>\n",
       "    .dataframe tbody tr th:only-of-type {\n",
       "        vertical-align: middle;\n",
       "    }\n",
       "\n",
       "    .dataframe tbody tr th {\n",
       "        vertical-align: top;\n",
       "    }\n",
       "\n",
       "    .dataframe thead th {\n",
       "        text-align: right;\n",
       "    }\n",
       "</style>\n",
       "<table border=\"1\" class=\"dataframe\">\n",
       "  <thead>\n",
       "    <tr style=\"text-align: right;\">\n",
       "      <th></th>\n",
       "      <th>mt</th>\n",
       "      <th>ribo</th>\n",
       "      <th>n_cells_by_counts</th>\n",
       "      <th>mean_counts</th>\n",
       "      <th>pct_dropout_by_counts</th>\n",
       "      <th>total_counts</th>\n",
       "      <th>n_cells</th>\n",
       "      <th>highly_variable</th>\n",
       "      <th>means</th>\n",
       "      <th>dispersions</th>\n",
       "      <th>dispersions_norm</th>\n",
       "    </tr>\n",
       "  </thead>\n",
       "  <tbody>\n",
       "    <tr>\n",
       "      <th>AL627309.1</th>\n",
       "      <td>False</td>\n",
       "      <td>False</td>\n",
       "      <td>6</td>\n",
       "      <td>0.001065</td>\n",
       "      <td>99.893504</td>\n",
       "      <td>6.0</td>\n",
       "      <td>6</td>\n",
       "      <td>True</td>\n",
       "      <td>0.010376</td>\n",
       "      <td>2.815590</td>\n",
       "      <td>1.415001</td>\n",
       "    </tr>\n",
       "    <tr>\n",
       "      <th>AL627309.5</th>\n",
       "      <td>False</td>\n",
       "      <td>False</td>\n",
       "      <td>26</td>\n",
       "      <td>0.004615</td>\n",
       "      <td>99.538516</td>\n",
       "      <td>26.0</td>\n",
       "      <td>26</td>\n",
       "      <td>False</td>\n",
       "      <td>0.029318</td>\n",
       "      <td>2.300095</td>\n",
       "      <td>-0.164139</td>\n",
       "    </tr>\n",
       "    <tr>\n",
       "      <th>AL627309.4</th>\n",
       "      <td>False</td>\n",
       "      <td>False</td>\n",
       "      <td>3</td>\n",
       "      <td>0.000532</td>\n",
       "      <td>99.946752</td>\n",
       "      <td>3.0</td>\n",
       "      <td>3</td>\n",
       "      <td>False</td>\n",
       "      <td>0.002524</td>\n",
       "      <td>1.702826</td>\n",
       "      <td>-1.993777</td>\n",
       "    </tr>\n",
       "    <tr>\n",
       "      <th>LINC01409</th>\n",
       "      <td>False</td>\n",
       "      <td>False</td>\n",
       "      <td>231</td>\n",
       "      <td>0.044373</td>\n",
       "      <td>95.899894</td>\n",
       "      <td>250.0</td>\n",
       "      <td>231</td>\n",
       "      <td>False</td>\n",
       "      <td>0.265627</td>\n",
       "      <td>2.331154</td>\n",
       "      <td>-0.068994</td>\n",
       "    </tr>\n",
       "    <tr>\n",
       "      <th>FAM87B</th>\n",
       "      <td>False</td>\n",
       "      <td>False</td>\n",
       "      <td>6</td>\n",
       "      <td>0.001065</td>\n",
       "      <td>99.893504</td>\n",
       "      <td>6.0</td>\n",
       "      <td>6</td>\n",
       "      <td>False</td>\n",
       "      <td>0.007235</td>\n",
       "      <td>1.947622</td>\n",
       "      <td>-1.243883</td>\n",
       "    </tr>\n",
       "    <tr>\n",
       "      <th>...</th>\n",
       "      <td>...</td>\n",
       "      <td>...</td>\n",
       "      <td>...</td>\n",
       "      <td>...</td>\n",
       "      <td>...</td>\n",
       "      <td>...</td>\n",
       "      <td>...</td>\n",
       "      <td>...</td>\n",
       "      <td>...</td>\n",
       "      <td>...</td>\n",
       "      <td>...</td>\n",
       "    </tr>\n",
       "    <tr>\n",
       "      <th>AL354822.1</th>\n",
       "      <td>False</td>\n",
       "      <td>False</td>\n",
       "      <td>116</td>\n",
       "      <td>0.020944</td>\n",
       "      <td>97.941072</td>\n",
       "      <td>118.0</td>\n",
       "      <td>116</td>\n",
       "      <td>False</td>\n",
       "      <td>0.154065</td>\n",
       "      <td>2.424779</td>\n",
       "      <td>0.217811</td>\n",
       "    </tr>\n",
       "    <tr>\n",
       "      <th>AL592183.1</th>\n",
       "      <td>False</td>\n",
       "      <td>False</td>\n",
       "      <td>858</td>\n",
       "      <td>0.179801</td>\n",
       "      <td>84.771033</td>\n",
       "      <td>1013.0</td>\n",
       "      <td>858</td>\n",
       "      <td>False</td>\n",
       "      <td>0.872996</td>\n",
       "      <td>2.513105</td>\n",
       "      <td>-0.404280</td>\n",
       "    </tr>\n",
       "    <tr>\n",
       "      <th>AC240274.1</th>\n",
       "      <td>False</td>\n",
       "      <td>False</td>\n",
       "      <td>139</td>\n",
       "      <td>0.025204</td>\n",
       "      <td>97.532836</td>\n",
       "      <td>142.0</td>\n",
       "      <td>139</td>\n",
       "      <td>False</td>\n",
       "      <td>0.150549</td>\n",
       "      <td>2.312172</td>\n",
       "      <td>-0.127142</td>\n",
       "    </tr>\n",
       "    <tr>\n",
       "      <th>AC007325.4</th>\n",
       "      <td>False</td>\n",
       "      <td>False</td>\n",
       "      <td>4</td>\n",
       "      <td>0.000710</td>\n",
       "      <td>99.929002</td>\n",
       "      <td>4.0</td>\n",
       "      <td>4</td>\n",
       "      <td>False</td>\n",
       "      <td>0.003033</td>\n",
       "      <td>1.579870</td>\n",
       "      <td>-2.370433</td>\n",
       "    </tr>\n",
       "    <tr>\n",
       "      <th>AC007325.2</th>\n",
       "      <td>False</td>\n",
       "      <td>False</td>\n",
       "      <td>5</td>\n",
       "      <td>0.000887</td>\n",
       "      <td>99.911253</td>\n",
       "      <td>5.0</td>\n",
       "      <td>5</td>\n",
       "      <td>False</td>\n",
       "      <td>0.005456</td>\n",
       "      <td>2.044975</td>\n",
       "      <td>-0.945656</td>\n",
       "    </tr>\n",
       "  </tbody>\n",
       "</table>\n",
       "<p>24121 rows × 11 columns</p>\n",
       "</div>"
      ],
      "text/plain": [
       "               mt   ribo  n_cells_by_counts  mean_counts  \\\n",
       "AL627309.1  False  False                  6     0.001065   \n",
       "AL627309.5  False  False                 26     0.004615   \n",
       "AL627309.4  False  False                  3     0.000532   \n",
       "LINC01409   False  False                231     0.044373   \n",
       "FAM87B      False  False                  6     0.001065   \n",
       "...           ...    ...                ...          ...   \n",
       "AL354822.1  False  False                116     0.020944   \n",
       "AL592183.1  False  False                858     0.179801   \n",
       "AC240274.1  False  False                139     0.025204   \n",
       "AC007325.4  False  False                  4     0.000710   \n",
       "AC007325.2  False  False                  5     0.000887   \n",
       "\n",
       "            pct_dropout_by_counts  total_counts  n_cells  highly_variable  \\\n",
       "AL627309.1              99.893504           6.0        6             True   \n",
       "AL627309.5              99.538516          26.0       26            False   \n",
       "AL627309.4              99.946752           3.0        3            False   \n",
       "LINC01409               95.899894         250.0      231            False   \n",
       "FAM87B                  99.893504           6.0        6            False   \n",
       "...                           ...           ...      ...              ...   \n",
       "AL354822.1              97.941072         118.0      116            False   \n",
       "AL592183.1              84.771033        1013.0      858            False   \n",
       "AC240274.1              97.532836         142.0      139            False   \n",
       "AC007325.4              99.929002           4.0        4            False   \n",
       "AC007325.2              99.911253           5.0        5            False   \n",
       "\n",
       "               means  dispersions  dispersions_norm  \n",
       "AL627309.1  0.010376     2.815590          1.415001  \n",
       "AL627309.5  0.029318     2.300095         -0.164139  \n",
       "AL627309.4  0.002524     1.702826         -1.993777  \n",
       "LINC01409   0.265627     2.331154         -0.068994  \n",
       "FAM87B      0.007235     1.947622         -1.243883  \n",
       "...              ...          ...               ...  \n",
       "AL354822.1  0.154065     2.424779          0.217811  \n",
       "AL592183.1  0.872996     2.513105         -0.404280  \n",
       "AC240274.1  0.150549     2.312172         -0.127142  \n",
       "AC007325.4  0.003033     1.579870         -2.370433  \n",
       "AC007325.2  0.005456     2.044975         -0.945656  \n",
       "\n",
       "[24121 rows x 11 columns]"
      ]
     },
     "execution_count": 109,
     "metadata": {},
     "output_type": "execute_result"
    }
   ],
   "source": [
    "adata.var"
   ]
  },
  {
   "cell_type": "code",
   "execution_count": 110,
   "id": "8b42b259-91a8-4dec-b028-d2f5c5aee061",
   "metadata": {
    "execution": {
     "iopub.execute_input": "2025-06-07T20:18:53.068328Z",
     "iopub.status.busy": "2025-06-07T20:18:53.063644Z",
     "iopub.status.idle": "2025-06-07T20:18:53.385160Z",
     "shell.execute_reply": "2025-06-07T20:18:53.384750Z",
     "shell.execute_reply.started": "2025-06-07T20:18:53.068141Z"
    }
   },
   "outputs": [
    {
     "data": {
      "image/png": "[encoded data removed]",
      "text/plain": [
       "<Figure size 1280x480 with 2 Axes>"
      ]
     },
     "metadata": {},
     "output_type": "display_data"
    }
   ],
   "source": [
    "sc.pl.highly_variable_genes(adata)"
   ]
  },
  {
   "cell_type": "code",
   "execution_count": 111,
   "id": "a12ddcfb-9a22-4331-a341-be292d5db5c8",
   "metadata": {
    "execution": {
     "iopub.execute_input": "2025-06-08T17:30:26.960189Z",
     "iopub.status.busy": "2025-06-08T17:30:26.954983Z",
     "iopub.status.idle": "2025-06-08T17:30:27.038584Z",
     "shell.execute_reply": "2025-06-08T17:30:27.037751Z",
     "shell.execute_reply.started": "2025-06-08T17:30:26.959985Z"
    }
   },
   "outputs": [],
   "source": [
    "# Filter to only keep the highly variable genes, non of this touches the raw data we saved earlier\n",
    "adata = adata[:,adata.var.highly_variable]"
   ]
  },
  {
   "cell_type": "code",
   "execution_count": 113,
   "id": "a7ae60d0-66b7-48bd-a85f-73ee71d7139d",
   "metadata": {
    "execution": {
     "iopub.execute_input": "2025-06-08T17:32:40.441545Z",
     "iopub.status.busy": "2025-06-08T17:32:40.439115Z",
     "iopub.status.idle": "2025-06-08T17:32:44.346083Z",
     "shell.execute_reply": "2025-06-08T17:32:44.345242Z",
     "shell.execute_reply.started": "2025-06-08T17:32:40.441417Z"
    }
   },
   "outputs": [
    {
     "name": "stderr",
     "output_type": "stream",
     "text": [
      "/Users/thorsten/.pyenv/versions/3.10.6/envs/SingleCell/lib/python3.10/site-packages/scanpy/preprocessing/_simple.py:729: UserWarning: Received a view of an AnnData. Making a copy.\n",
      "  view_to_actual(adata)\n",
      "/Users/thorsten/.pyenv/versions/3.10.6/envs/SingleCell/lib/python3.10/site-packages/scanpy/preprocessing/_simple.py:667: NumbaPerformanceWarning: '@' is faster on contiguous arrays, called on (Array(float64, 1, 'A', False, aligned=True), Array(float64, 2, 'C', False, aligned=True))\n",
      "  data[i] -= regressor[i] @ coeff\n",
      "/Users/thorsten/.pyenv/versions/3.10.6/envs/SingleCell/lib/python3.10/site-packages/scanpy/preprocessing/_simple.py:667: NumbaPerformanceWarning: '@' is faster on contiguous arrays, called on (Array(float64, 1, 'A', False, aligned=True), Array(float64, 2, 'C', False, aligned=True))\n",
      "  data[i] -= regressor[i] @ coeff\n",
      "OMP: Info #276: omp_set_nested routine deprecated, please use omp_set_max_active_levels instead.\n"
     ]
    }
   ],
   "source": [
    "# We regress out differences that arise due to total counts, pct_counts_mt, pct_counts_ribo. \n",
    "sc.pp.regress_out(adata, ['total_counts', 'pct_counts_mt', 'pct_counts_ribo'])"
   ]
  },
  {
   "cell_type": "code",
   "execution_count": 114,
   "id": "18c99255-b140-4d7c-b5e9-b3dd7c1c2246",
   "metadata": {
    "execution": {
     "iopub.execute_input": "2025-06-08T17:33:59.124032Z",
     "iopub.status.busy": "2025-06-08T17:33:59.121635Z",
     "iopub.status.idle": "2025-06-08T17:33:59.519666Z",
     "shell.execute_reply": "2025-06-08T17:33:59.519234Z",
     "shell.execute_reply.started": "2025-06-08T17:33:59.123936Z"
    }
   },
   "outputs": [],
   "source": [
    "sc.pp.scale(adata, max_value=10)"
   ]
  },
  {
   "cell_type": "code",
   "execution_count": 117,
   "id": "3445708b-f284-4f4b-a2ad-04c33a81b37d",
   "metadata": {
    "execution": {
     "iopub.execute_input": "2025-06-08T17:35:31.136580Z",
     "iopub.status.busy": "2025-06-08T17:35:31.134707Z",
     "iopub.status.idle": "2025-06-08T17:35:33.072518Z",
     "shell.execute_reply": "2025-06-08T17:35:33.071632Z",
     "shell.execute_reply.started": "2025-06-08T17:35:31.136507Z"
    }
   },
   "outputs": [],
   "source": [
    "sc.tl.pca(adata, svd_solver='arpack')"
   ]
  },
  {
   "cell_type": "code",
   "execution_count": 119,
   "id": "1b35656b-e599-4859-b43a-6bdd740a0ab8",
   "metadata": {
    "execution": {
     "iopub.execute_input": "2025-06-08T17:36:24.833995Z",
     "iopub.status.busy": "2025-06-08T17:36:24.832133Z",
     "iopub.status.idle": "2025-06-08T17:36:24.975673Z",
     "shell.execute_reply": "2025-06-08T17:36:24.975173Z",
     "shell.execute_reply.started": "2025-06-08T17:36:24.833905Z"
    }
   },
   "outputs": [
    {
     "data": {
      "image/png": "[encoded data removed]",
      "text/plain": [
       "<Figure size 640x480 with 1 Axes>"
      ]
     },
     "metadata": {},
     "output_type": "display_data"
    }
   ],
   "source": [
    "sc.pl.pca_variance_ratio(adata, log=True, n_pcs=50)\n",
    "# Find the ellbow"
   ]
  },
  {
   "cell_type": "code",
   "execution_count": 120,
   "id": "744f30f6-ca63-445c-86d2-d5e5a6f53846",
   "metadata": {
    "execution": {
     "iopub.execute_input": "2025-06-08T17:37:53.246888Z",
     "iopub.status.busy": "2025-06-08T17:37:53.244268Z",
     "iopub.status.idle": "2025-06-08T17:38:00.416183Z",
     "shell.execute_reply": "2025-06-08T17:38:00.415590Z",
     "shell.execute_reply.started": "2025-06-08T17:37:53.246800Z"
    }
   },
   "outputs": [],
   "source": [
    "# Calculate the neighbors of the cells using the Top30 PCAs.\n",
    "sc.pp.neighbors(adata, n_pcs = 30)"
   ]
  },
  {
   "cell_type": "markdown",
   "id": "6ab82166-d5a6-4724-a80a-3489e66d5f16",
   "metadata": {},
   "source": [
    "How to look into the \"neighbors\" (cell by cell matrix, if they are connected they have a value in connectivities, \n",
    "and each of the connected cells will also have a distance. Below how to see the matrix (remove # to run it)"
   ]
  },
  {
   "cell_type": "code",
   "execution_count": 125,
   "id": "293285c7-0817-4d84-b917-ecb3880f3218",
   "metadata": {
    "execution": {
     "iopub.execute_input": "2025-06-08T17:57:19.967204Z",
     "iopub.status.busy": "2025-06-08T17:57:19.964351Z",
     "iopub.status.idle": "2025-06-08T17:57:20.089520Z",
     "shell.execute_reply": "2025-06-08T17:57:20.089091Z",
     "shell.execute_reply.started": "2025-06-08T17:57:19.967125Z"
    }
   },
   "outputs": [
    {
     "data": {
      "text/plain": [
       "array([[0.        , 3.98042417, 4.91456842, ..., 0.        , 0.        ,\n",
       "        0.        ],\n",
       "       [3.98042417, 0.        , 3.33684683, ..., 0.        , 0.        ,\n",
       "        0.        ],\n",
       "       [4.91456842, 3.33684683, 0.        , ..., 0.        , 0.        ,\n",
       "        0.        ],\n",
       "       ...,\n",
       "       [0.        , 0.        , 0.        , ..., 0.        , 0.        ,\n",
       "        0.        ],\n",
       "       [0.        , 0.        , 0.        , ..., 0.        , 0.        ,\n",
       "        0.        ],\n",
       "       [0.        , 0.        , 0.        , ..., 0.        , 0.        ,\n",
       "        0.        ]])"
      ]
     },
     "execution_count": 125,
     "metadata": {},
     "output_type": "execute_result"
    }
   ],
   "source": [
    "# adata.obsp['connectivities'].toarray()\n",
    "# adata.obsp['distances'].toarray()"
   ]
  },
  {
   "cell_type": "markdown",
   "id": "596216b2-7f9d-4a40-b69d-6199a5d2c34a",
   "metadata": {},
   "source": [
    "This neighborhood matrices are used for clustering. "
   ]
  },
  {
   "cell_type": "code",
   "execution_count": 159,
   "id": "c4b67228-a98b-4f5f-b9fe-07143542dc9e",
   "metadata": {
    "execution": {
     "iopub.execute_input": "2025-06-08T18:12:49.187263Z",
     "iopub.status.busy": "2025-06-08T18:12:49.186403Z",
     "iopub.status.idle": "2025-06-08T18:12:54.816761Z",
     "shell.execute_reply": "2025-06-08T18:12:54.816342Z",
     "shell.execute_reply.started": "2025-06-08T18:12:49.187205Z"
    }
   },
   "outputs": [],
   "source": [
    "sc.tl.umap(adata)"
   ]
  },
  {
   "cell_type": "code",
   "execution_count": 160,
   "id": "5e98b173-6829-468d-8645-e6e6b76cb838",
   "metadata": {
    "execution": {
     "iopub.execute_input": "2025-06-08T18:12:54.817715Z",
     "iopub.status.busy": "2025-06-08T18:12:54.817618Z",
     "iopub.status.idle": "2025-06-08T18:12:54.867583Z",
     "shell.execute_reply": "2025-06-08T18:12:54.867162Z",
     "shell.execute_reply.started": "2025-06-08T18:12:54.817704Z"
    }
   },
   "outputs": [
    {
     "data": {
      "image/png": "[encoded data removed]",
      "text/plain": [
       "<Figure size 640x480 with 1 Axes>"
      ]
     },
     "metadata": {},
     "output_type": "display_data"
    }
   ],
   "source": [
    "sc.pl.umap(adata)"
   ]
  },
  {
   "cell_type": "code",
   "execution_count": 165,
   "id": "1c24abd4-c135-4e06-a5cf-ce806ec40a30",
   "metadata": {
    "execution": {
     "iopub.execute_input": "2025-06-08T18:16:24.915528Z",
     "iopub.status.busy": "2025-06-08T18:16:24.913411Z",
     "iopub.status.idle": "2025-06-08T18:16:25.057591Z",
     "shell.execute_reply": "2025-06-08T18:16:25.057190Z",
     "shell.execute_reply.started": "2025-06-08T18:16:24.915431Z"
    }
   },
   "outputs": [],
   "source": [
    "sc.tl.leiden(adata, resolution=0.3, key_added='leiden_fc', flavor=\"igraph\", n_iterations=1)"
   ]
  },
  {
   "cell_type": "code",
   "execution_count": 166,
   "id": "97a6c9bc-2ab9-4461-9ee2-1f41027ccb8c",
   "metadata": {
    "execution": {
     "iopub.execute_input": "2025-06-08T18:16:26.594750Z",
     "iopub.status.busy": "2025-06-08T18:16:26.593975Z",
     "iopub.status.idle": "2025-06-08T18:16:26.626995Z",
     "shell.execute_reply": "2025-06-08T18:16:26.626348Z",
     "shell.execute_reply.started": "2025-06-08T18:16:26.594688Z"
    }
   },
   "outputs": [
    {
     "data": {
      "text/html": [
       "<div>\n",
       "<style scoped>\n",
       "    .dataframe tbody tr th:only-of-type {\n",
       "        vertical-align: middle;\n",
       "    }\n",
       "\n",
       "    .dataframe tbody tr th {\n",
       "        vertical-align: top;\n",
       "    }\n",
       "\n",
       "    .dataframe thead th {\n",
       "        text-align: right;\n",
       "    }\n",
       "</style>\n",
       "<table border=\"1\" class=\"dataframe\">\n",
       "  <thead>\n",
       "    <tr style=\"text-align: right;\">\n",
       "      <th></th>\n",
       "      <th>doublet</th>\n",
       "      <th>n_genes_by_counts</th>\n",
       "      <th>total_counts</th>\n",
       "      <th>total_counts_mt</th>\n",
       "      <th>pct_counts_mt</th>\n",
       "      <th>total_counts_ribo</th>\n",
       "      <th>pct_counts_ribo</th>\n",
       "      <th>n_genes</th>\n",
       "      <th>leiden</th>\n",
       "      <th>leiden_fc</th>\n",
       "    </tr>\n",
       "  </thead>\n",
       "  <tbody>\n",
       "    <tr>\n",
       "      <th>ATACTTCCAAGGTCTT-1_1</th>\n",
       "      <td>False</td>\n",
       "      <td>2122</td>\n",
       "      <td>5252.0</td>\n",
       "      <td>1.0</td>\n",
       "      <td>0.019040</td>\n",
       "      <td>4.0</td>\n",
       "      <td>0.076161</td>\n",
       "      <td>2120</td>\n",
       "      <td>0</td>\n",
       "      <td>0</td>\n",
       "    </tr>\n",
       "    <tr>\n",
       "      <th>TCATGCCGTCTTTCAT-1_1</th>\n",
       "      <td>False</td>\n",
       "      <td>2234</td>\n",
       "      <td>4993.0</td>\n",
       "      <td>0.0</td>\n",
       "      <td>0.000000</td>\n",
       "      <td>3.0</td>\n",
       "      <td>0.060084</td>\n",
       "      <td>2229</td>\n",
       "      <td>0</td>\n",
       "      <td>0</td>\n",
       "    </tr>\n",
       "    <tr>\n",
       "      <th>GATAGCTCAGGCTTGC-1_1</th>\n",
       "      <td>False</td>\n",
       "      <td>2167</td>\n",
       "      <td>4879.0</td>\n",
       "      <td>0.0</td>\n",
       "      <td>0.000000</td>\n",
       "      <td>0.0</td>\n",
       "      <td>0.000000</td>\n",
       "      <td>2166</td>\n",
       "      <td>0</td>\n",
       "      <td>0</td>\n",
       "    </tr>\n",
       "    <tr>\n",
       "      <th>TACATTCGTACGTACT-1_1</th>\n",
       "      <td>False</td>\n",
       "      <td>2253</td>\n",
       "      <td>4776.0</td>\n",
       "      <td>13.0</td>\n",
       "      <td>0.272194</td>\n",
       "      <td>1.0</td>\n",
       "      <td>0.020938</td>\n",
       "      <td>2250</td>\n",
       "      <td>1</td>\n",
       "      <td>1</td>\n",
       "    </tr>\n",
       "    <tr>\n",
       "      <th>GACCCAGCACCCTATC-1_1</th>\n",
       "      <td>False</td>\n",
       "      <td>2150</td>\n",
       "      <td>4784.0</td>\n",
       "      <td>28.0</td>\n",
       "      <td>0.585284</td>\n",
       "      <td>4.0</td>\n",
       "      <td>0.083612</td>\n",
       "      <td>2149</td>\n",
       "      <td>0</td>\n",
       "      <td>0</td>\n",
       "    </tr>\n",
       "    <tr>\n",
       "      <th>...</th>\n",
       "      <td>...</td>\n",
       "      <td>...</td>\n",
       "      <td>...</td>\n",
       "      <td>...</td>\n",
       "      <td>...</td>\n",
       "      <td>...</td>\n",
       "      <td>...</td>\n",
       "      <td>...</td>\n",
       "      <td>...</td>\n",
       "      <td>...</td>\n",
       "    </tr>\n",
       "    <tr>\n",
       "      <th>CGCCATTGTTTGCCGG-1_1</th>\n",
       "      <td>False</td>\n",
       "      <td>355</td>\n",
       "      <td>410.0</td>\n",
       "      <td>3.0</td>\n",
       "      <td>0.731707</td>\n",
       "      <td>0.0</td>\n",
       "      <td>0.000000</td>\n",
       "      <td>355</td>\n",
       "      <td>1</td>\n",
       "      <td>1</td>\n",
       "    </tr>\n",
       "    <tr>\n",
       "      <th>CACTGGGGTCTACGTA-1_1</th>\n",
       "      <td>False</td>\n",
       "      <td>346</td>\n",
       "      <td>403.0</td>\n",
       "      <td>0.0</td>\n",
       "      <td>0.000000</td>\n",
       "      <td>0.0</td>\n",
       "      <td>0.000000</td>\n",
       "      <td>346</td>\n",
       "      <td>2</td>\n",
       "      <td>2</td>\n",
       "    </tr>\n",
       "    <tr>\n",
       "      <th>CATACTTGTAGAGGAA-1_1</th>\n",
       "      <td>False</td>\n",
       "      <td>360</td>\n",
       "      <td>410.0</td>\n",
       "      <td>2.0</td>\n",
       "      <td>0.487805</td>\n",
       "      <td>0.0</td>\n",
       "      <td>0.000000</td>\n",
       "      <td>360</td>\n",
       "      <td>12</td>\n",
       "      <td>12</td>\n",
       "    </tr>\n",
       "    <tr>\n",
       "      <th>TTTGGTTTCCACGGAC-1_1</th>\n",
       "      <td>False</td>\n",
       "      <td>299</td>\n",
       "      <td>405.0</td>\n",
       "      <td>0.0</td>\n",
       "      <td>0.000000</td>\n",
       "      <td>2.0</td>\n",
       "      <td>0.493827</td>\n",
       "      <td>299</td>\n",
       "      <td>7</td>\n",
       "      <td>7</td>\n",
       "    </tr>\n",
       "    <tr>\n",
       "      <th>ATGCATGAGTCATGAA-1_1</th>\n",
       "      <td>False</td>\n",
       "      <td>351</td>\n",
       "      <td>411.0</td>\n",
       "      <td>0.0</td>\n",
       "      <td>0.000000</td>\n",
       "      <td>0.0</td>\n",
       "      <td>0.000000</td>\n",
       "      <td>350</td>\n",
       "      <td>2</td>\n",
       "      <td>2</td>\n",
       "    </tr>\n",
       "  </tbody>\n",
       "</table>\n",
       "<p>5504 rows × 10 columns</p>\n",
       "</div>"
      ],
      "text/plain": [
       "                      doublet  n_genes_by_counts  total_counts  \\\n",
       "ATACTTCCAAGGTCTT-1_1    False               2122        5252.0   \n",
       "TCATGCCGTCTTTCAT-1_1    False               2234        4993.0   \n",
       "GATAGCTCAGGCTTGC-1_1    False               2167        4879.0   \n",
       "TACATTCGTACGTACT-1_1    False               2253        4776.0   \n",
       "GACCCAGCACCCTATC-1_1    False               2150        4784.0   \n",
       "...                       ...                ...           ...   \n",
       "CGCCATTGTTTGCCGG-1_1    False                355         410.0   \n",
       "CACTGGGGTCTACGTA-1_1    False                346         403.0   \n",
       "CATACTTGTAGAGGAA-1_1    False                360         410.0   \n",
       "TTTGGTTTCCACGGAC-1_1    False                299         405.0   \n",
       "ATGCATGAGTCATGAA-1_1    False                351         411.0   \n",
       "\n",
       "                      total_counts_mt  pct_counts_mt  total_counts_ribo  \\\n",
       "ATACTTCCAAGGTCTT-1_1              1.0       0.019040                4.0   \n",
       "TCATGCCGTCTTTCAT-1_1              0.0       0.000000                3.0   \n",
       "GATAGCTCAGGCTTGC-1_1              0.0       0.000000                0.0   \n",
       "TACATTCGTACGTACT-1_1             13.0       0.272194                1.0   \n",
       "GACCCAGCACCCTATC-1_1             28.0       0.585284                4.0   \n",
       "...                               ...            ...                ...   \n",
       "CGCCATTGTTTGCCGG-1_1              3.0       0.731707                0.0   \n",
       "CACTGGGGTCTACGTA-1_1              0.0       0.000000                0.0   \n",
       "CATACTTGTAGAGGAA-1_1              2.0       0.487805                0.0   \n",
       "TTTGGTTTCCACGGAC-1_1              0.0       0.000000                2.0   \n",
       "ATGCATGAGTCATGAA-1_1              0.0       0.000000                0.0   \n",
       "\n",
       "                      pct_counts_ribo  n_genes leiden leiden_fc  \n",
       "ATACTTCCAAGGTCTT-1_1         0.076161     2120      0         0  \n",
       "TCATGCCGTCTTTCAT-1_1         0.060084     2229      0         0  \n",
       "GATAGCTCAGGCTTGC-1_1         0.000000     2166      0         0  \n",
       "TACATTCGTACGTACT-1_1         0.020938     2250      1         1  \n",
       "GACCCAGCACCCTATC-1_1         0.083612     2149      0         0  \n",
       "...                               ...      ...    ...       ...  \n",
       "CGCCATTGTTTGCCGG-1_1         0.000000      355      1         1  \n",
       "CACTGGGGTCTACGTA-1_1         0.000000      346      2         2  \n",
       "CATACTTGTAGAGGAA-1_1         0.000000      360     12        12  \n",
       "TTTGGTTTCCACGGAC-1_1         0.493827      299      7         7  \n",
       "ATGCATGAGTCATGAA-1_1         0.000000      350      2         2  \n",
       "\n",
       "[5504 rows x 10 columns]"
      ]
     },
     "execution_count": 166,
     "metadata": {},
     "output_type": "execute_result"
    }
   ],
   "source": [
    "adata.obs"
   ]
  },
  {
   "cell_type": "code",
   "execution_count": 167,
   "id": "85a37f30-9220-465c-8cc8-8f6d5dabe207",
   "metadata": {
    "execution": {
     "iopub.execute_input": "2025-06-08T18:16:35.338373Z",
     "iopub.status.busy": "2025-06-08T18:16:35.336334Z",
     "iopub.status.idle": "2025-06-08T18:16:35.565478Z",
     "shell.execute_reply": "2025-06-08T18:16:35.565063Z",
     "shell.execute_reply.started": "2025-06-08T18:16:35.338287Z"
    }
   },
   "outputs": [
    {
     "data": {
      "image/png": "[encoded data removed]",
      "text/plain": [
       "<Figure size 640x480 with 1 Axes>"
      ]
     },
     "metadata": {},
     "output_type": "display_data"
    }
   ],
   "source": [
    "sc.pl.umap(adata, color=['leiden_fc'])"
   ]
  },
  {
   "cell_type": "markdown",
   "id": "f387d41f-83bc-4352-9e12-0236db2113c4",
   "metadata": {},
   "source": [
    "# Integration of multiple samples (above  was only one!)"
   ]
  },
  {
   "cell_type": "code",
   "execution_count": 27,
   "id": "9a181322-45d2-4d89-92ee-b24956eab995",
   "metadata": {
    "execution": {
     "iopub.execute_input": "2025-06-09T14:07:13.903953Z",
     "iopub.status.busy": "2025-06-09T14:07:13.902029Z",
     "iopub.status.idle": "2025-06-09T14:07:13.928934Z",
     "shell.execute_reply": "2025-06-09T14:07:13.927183Z",
     "shell.execute_reply.started": "2025-06-09T14:07:13.903886Z"
    }
   },
   "outputs": [],
   "source": [
    "# Function for preprocessing of each sample\n",
    "def preprocessing(csv_path):\n",
    "    adata = sc.read_csv(csv_path).T\n",
    "    # Fitler genes to be expressed at least in 10 cells\n",
    "    sc.pp.filter_genes(adata, min_cells = 10)\n",
    "    #Subsetting for doublet removal the 2000 top-variable genes)\n",
    "    sc.pp.highly_variable_genes(adata, n_top_genes = 2000, subset = True, flavor = 'seurat_v3')\n",
    "    #SCVI model for doublet removal\n",
    "    scvi.model.SCVI.setup_anndata(adata)\n",
    "    vae = scvi.model.SCVI(adata)\n",
    "    vae.train()\n",
    "    solo = scvi.external.SOLO.from_scvi_model(vae)\n",
    "    solo.train()\n",
    "    df = solo.predict()\n",
    "    df['prediction'] = solo.predict(soft = False)\n",
    "    #df.index = df.index.map(lambda x: x[:-2])\n",
    "    df['dif'] = df.doublet - df.singlet\n",
    "    doublets = df[(df.prediction == 'doublet') & (df.dif > 0.42)]\n",
    "    \n",
    "    adata = sc.read_csv(csv_path).T\n",
    "    adata.obs['Sample'] = csv_path.split('_')[2] #'raw_counts/GSM5226574_C51ctr_raw_counts.csv'\n",
    "    \n",
    "    adata.obs['doublet'] = adata.obs.index.isin(doublets.index)\n",
    "    adata = adata[~adata.obs.doublet]\n",
    "    \n",
    "    \n",
    "    sc.pp.filter_cells(adata, min_genes=200) #get rid of cells with fewer than 200 genes\n",
    "    #sc.pp.filter_genes(adata, min_cells=3) #get rid of genes that are found in fewer than 3 cells\n",
    "    adata.var['mt'] = adata.var_names.str.startswith('mt-')  # annotate the group of mitochondrial genes as 'mt'\n",
    "    adata.var['ribo'] = adata.var_names.isin(ribo_genes[0].values)\n",
    "    sc.pp.calculate_qc_metrics(adata, qc_vars=['mt', 'ribo'], percent_top=None, log1p=False, inplace=True)\n",
    "    upper_lim = np.quantile(adata.obs.n_genes_by_counts.values, .98)\n",
    "    adata = adata[adata.obs.n_genes_by_counts < upper_lim]\n",
    "    adata = adata[adata.obs.pct_counts_mt < 20]\n",
    "    adata = adata[adata.obs.pct_counts_ribo < 2]\n",
    "    adata.X = csr_matrix(adata.X)\n",
    "\n",
    "    return adata"
   ]
  },
  {
   "cell_type": "code",
   "execution_count": 28,
   "id": "49ad4c05-71a4-4934-883f-2b2fd20a7205",
   "metadata": {
    "execution": {
     "iopub.execute_input": "2025-06-09T14:07:14.329146Z",
     "iopub.status.busy": "2025-06-09T14:07:14.328509Z",
     "iopub.status.idle": "2025-06-09T14:07:14.333678Z",
     "shell.execute_reply": "2025-06-09T14:07:14.332478Z",
     "shell.execute_reply.started": "2025-06-09T14:07:14.329113Z"
    }
   },
   "outputs": [],
   "source": [
    "import os"
   ]
  },
  {
   "cell_type": "code",
   "execution_count": 29,
   "id": "cec676dd-ca97-4cae-ae8c-2c0e5ad88af7",
   "metadata": {
    "execution": {
     "iopub.execute_input": "2025-06-09T14:07:14.760958Z",
     "iopub.status.busy": "2025-06-09T14:07:14.760399Z",
     "iopub.status.idle": "2025-06-09T16:02:34.754933Z",
     "shell.execute_reply": "2025-06-09T16:02:34.753176Z",
     "shell.execute_reply.started": "2025-06-09T14:07:14.760922Z"
    }
   },
   "outputs": [
    {
     "name": "stderr",
     "output_type": "stream",
     "text": [
      "/Users/thorsten/.pyenv/versions/3.10.6/envs/SingleCell/lib/python3.10/site-packages/scvi/train/_trainrunner.py:69: UserWarning: `accelerator` has been automatically set to `cpu` although 'mps' exists. If you wish to run on mps backend, use explicitly accelerator=='mps' in train function.In future releases it will become default for mps supported machines.\n",
      "  accelerator, lightning_devices, device = parse_device_args(\n",
      "GPU available: True (mps), used: False\n",
      "TPU available: False, using: 0 TPU cores\n",
      "HPU available: False, using: 0 HPUs\n",
      "/Users/thorsten/.pyenv/versions/3.10.6/envs/SingleCell/lib/python3.10/site-packages/lightning/pytorch/trainer/setup.py:177: GPU available but not used. You can set it by doing `Trainer(accelerator='gpu')`.\n",
      "/Users/thorsten/.pyenv/versions/3.10.6/envs/SingleCell/lib/python3.10/site-packages/lightning/pytorch/trainer/connectors/data_connector.py:425: The 'train_dataloader' does not have many workers which may be a bottleneck. Consider increasing the value of the `num_workers` argument` to `num_workers=7` in the `DataLoader` to improve performance.\n"
     ]
    },
    {
     "data": {
      "application/vnd.jupyter.widget-view+json": {
       "model_id": "aa99b317960c476786824d8cfae4095e",
       "version_major": 2,
       "version_minor": 0
      },
      "text/plain": [
       "Training:   0%|          | 0/400 [00:00<?, ?it/s]"
      ]
     },
     "metadata": {},
     "output_type": "display_data"
    },
    {
     "name": "stderr",
     "output_type": "stream",
     "text": [
      "`Trainer.fit` stopped: `max_epochs=400` reached.\n"
     ]
    },
    {
     "name": "stdout",
     "output_type": "stream",
     "text": [
      "\u001b[34mINFO    \u001b[0m Creating doublets, preparing SOLO model.                                                                  \n"
     ]
    },
    {
     "name": "stderr",
     "output_type": "stream",
     "text": [
      "/Users/thorsten/.pyenv/versions/3.10.6/envs/SingleCell/lib/python3.10/site-packages/scvi/train/_trainrunner.py:69: UserWarning: `accelerator` has been automatically set to `cpu` although 'mps' exists. If you wish to run on mps backend, use explicitly accelerator=='mps' in train function.In future releases it will become default for mps supported machines.\n",
      "  accelerator, lightning_devices, device = parse_device_args(\n",
      "GPU available: True (mps), used: False\n",
      "TPU available: False, using: 0 TPU cores\n",
      "HPU available: False, using: 0 HPUs\n",
      "/Users/thorsten/.pyenv/versions/3.10.6/envs/SingleCell/lib/python3.10/site-packages/lightning/pytorch/trainer/setup.py:177: GPU available but not used. You can set it by doing `Trainer(accelerator='gpu')`.\n",
      "/Users/thorsten/.pyenv/versions/3.10.6/envs/SingleCell/lib/python3.10/site-packages/lightning/pytorch/trainer/connectors/data_connector.py:425: The 'train_dataloader' does not have many workers which may be a bottleneck. Consider increasing the value of the `num_workers` argument` to `num_workers=7` in the `DataLoader` to improve performance.\n",
      "/Users/thorsten/.pyenv/versions/3.10.6/envs/SingleCell/lib/python3.10/site-packages/lightning/pytorch/trainer/connectors/data_connector.py:425: The 'val_dataloader' does not have many workers which may be a bottleneck. Consider increasing the value of the `num_workers` argument` to `num_workers=7` in the `DataLoader` to improve performance.\n"
     ]
    },
    {
     "data": {
      "application/vnd.jupyter.widget-view+json": {
       "model_id": "42c1f16ef79d4c97bb5c8f557b0ce522",
       "version_major": 2,
       "version_minor": 0
      },
      "text/plain": [
       "Training:   0%|          | 0/400 [00:00<?, ?it/s]"
      ]
     },
     "metadata": {},
     "output_type": "display_data"
    },
    {
     "name": "stdout",
     "output_type": "stream",
     "text": [
      "Monitored metric validation_loss did not improve in the last 30 records. Best score: 0.199. Signaling Trainer to stop.\n"
     ]
    },
    {
     "name": "stderr",
     "output_type": "stream",
     "text": [
      "/Users/thorsten/.pyenv/versions/3.10.6/envs/SingleCell/lib/python3.10/site-packages/torch/utils/_contextlib.py:116: UserWarning: Prior to scvi-tools 1.1.3, `SOLO.predict` with `soft=True` (the default option) returned logits instead of probabilities. This behavior has since been corrected to return probabiltiies. The previous behavior can be replicated by passing in `return_logits=True`.\n",
      "  return func(*args, **kwargs)\n",
      "/Users/thorsten/.pyenv/versions/3.10.6/envs/SingleCell/lib/python3.10/site-packages/torch/utils/_contextlib.py:116: UserWarning: Prior to scvi-tools 1.1.3, `SOLO.predict` with `soft=True` (the default option) returned logits instead of probabilities. This behavior has since been corrected to return probabiltiies. The previous behavior can be replicated by passing in `return_logits=True`.\n",
      "  return func(*args, **kwargs)\n",
      "/Users/thorsten/.pyenv/versions/3.10.6/envs/SingleCell/lib/python3.10/site-packages/scanpy/preprocessing/_simple.py:176: ImplicitModificationWarning: Trying to modify attribute `.obs` of view, initializing view as actual.\n",
      "  adata.obs[\"n_genes\"] = number\n",
      "/Users/thorsten/.pyenv/versions/3.10.6/envs/SingleCell/lib/python3.10/site-packages/anndata/_core/anndata.py:602: FutureWarning: You are attempting to set `X` to a matrix on a view which has non-unique indices. The resulting `adata.X` will likely not equal the value to which you set it. To avoid this potential issue, please make a copy of the data first. In the future, this operation will throw an error.\n",
      "  warnings.warn(msg, FutureWarning, stacklevel=1)\n",
      "/var/folders/vn/wdw36m4d5k13n07b5xlhgmsr0000gn/T/ipykernel_69002/1836990459.py:36: UserWarning: Trying to set a dense array with a sparse array on a view.Densifying the sparse array.This may incur excessive memory usage\n",
      "  adata.X = csr_matrix(adata.X)\n",
      "/var/folders/vn/wdw36m4d5k13n07b5xlhgmsr0000gn/T/ipykernel_69002/1836990459.py:36: ImplicitModificationWarning: Modifying `X` on a view results in data being overridden\n",
      "  adata.X = csr_matrix(adata.X)\n",
      "/Users/thorsten/.pyenv/versions/3.10.6/envs/SingleCell/lib/python3.10/site-packages/scvi/train/_trainrunner.py:69: UserWarning: `accelerator` has been automatically set to `cpu` although 'mps' exists. If you wish to run on mps backend, use explicitly accelerator=='mps' in train function.In future releases it will become default for mps supported machines.\n",
      "  accelerator, lightning_devices, device = parse_device_args(\n",
      "GPU available: True (mps), used: False\n",
      "TPU available: False, using: 0 TPU cores\n",
      "HPU available: False, using: 0 HPUs\n",
      "/Users/thorsten/.pyenv/versions/3.10.6/envs/SingleCell/lib/python3.10/site-packages/lightning/pytorch/trainer/setup.py:177: GPU available but not used. You can set it by doing `Trainer(accelerator='gpu')`.\n",
      "/Users/thorsten/.pyenv/versions/3.10.6/envs/SingleCell/lib/python3.10/site-packages/lightning/pytorch/trainer/connectors/data_connector.py:425: The 'train_dataloader' does not have many workers which may be a bottleneck. Consider increasing the value of the `num_workers` argument` to `num_workers=7` in the `DataLoader` to improve performance.\n"
     ]
    },
    {
     "data": {
      "application/vnd.jupyter.widget-view+json": {
       "model_id": "fab67b453df74b168019a19378b6f203",
       "version_major": 2,
       "version_minor": 0
      },
      "text/plain": [
       "Training:   0%|          | 0/400 [00:00<?, ?it/s]"
      ]
     },
     "metadata": {},
     "output_type": "display_data"
    },
    {
     "name": "stderr",
     "output_type": "stream",
     "text": [
      "`Trainer.fit` stopped: `max_epochs=400` reached.\n"
     ]
    },
    {
     "name": "stdout",
     "output_type": "stream",
     "text": [
      "\u001b[34mINFO    \u001b[0m Creating doublets, preparing SOLO model.                                                                  \n"
     ]
    },
    {
     "name": "stderr",
     "output_type": "stream",
     "text": [
      "/Users/thorsten/.pyenv/versions/3.10.6/envs/SingleCell/lib/python3.10/site-packages/scvi/train/_trainrunner.py:69: UserWarning: `accelerator` has been automatically set to `cpu` although 'mps' exists. If you wish to run on mps backend, use explicitly accelerator=='mps' in train function.In future releases it will become default for mps supported machines.\n",
      "  accelerator, lightning_devices, device = parse_device_args(\n",
      "GPU available: True (mps), used: False\n",
      "TPU available: False, using: 0 TPU cores\n",
      "HPU available: False, using: 0 HPUs\n",
      "/Users/thorsten/.pyenv/versions/3.10.6/envs/SingleCell/lib/python3.10/site-packages/lightning/pytorch/trainer/setup.py:177: GPU available but not used. You can set it by doing `Trainer(accelerator='gpu')`.\n",
      "/Users/thorsten/.pyenv/versions/3.10.6/envs/SingleCell/lib/python3.10/site-packages/lightning/pytorch/trainer/connectors/data_connector.py:425: The 'train_dataloader' does not have many workers which may be a bottleneck. Consider increasing the value of the `num_workers` argument` to `num_workers=7` in the `DataLoader` to improve performance.\n",
      "/Users/thorsten/.pyenv/versions/3.10.6/envs/SingleCell/lib/python3.10/site-packages/lightning/pytorch/trainer/connectors/data_connector.py:425: The 'val_dataloader' does not have many workers which may be a bottleneck. Consider increasing the value of the `num_workers` argument` to `num_workers=7` in the `DataLoader` to improve performance.\n"
     ]
    },
    {
     "data": {
      "application/vnd.jupyter.widget-view+json": {
       "model_id": "453f190bee0c4ba48f93b2644f0b8ed5",
       "version_major": 2,
       "version_minor": 0
      },
      "text/plain": [
       "Training:   0%|          | 0/400 [00:00<?, ?it/s]"
      ]
     },
     "metadata": {},
     "output_type": "display_data"
    },
    {
     "name": "stdout",
     "output_type": "stream",
     "text": [
      "Monitored metric validation_loss did not improve in the last 30 records. Best score: 0.287. Signaling Trainer to stop.\n"
     ]
    },
    {
     "name": "stderr",
     "output_type": "stream",
     "text": [
      "/Users/thorsten/.pyenv/versions/3.10.6/envs/SingleCell/lib/python3.10/site-packages/torch/utils/_contextlib.py:116: UserWarning: Prior to scvi-tools 1.1.3, `SOLO.predict` with `soft=True` (the default option) returned logits instead of probabilities. This behavior has since been corrected to return probabiltiies. The previous behavior can be replicated by passing in `return_logits=True`.\n",
      "  return func(*args, **kwargs)\n",
      "/Users/thorsten/.pyenv/versions/3.10.6/envs/SingleCell/lib/python3.10/site-packages/torch/utils/_contextlib.py:116: UserWarning: Prior to scvi-tools 1.1.3, `SOLO.predict` with `soft=True` (the default option) returned logits instead of probabilities. This behavior has since been corrected to return probabiltiies. The previous behavior can be replicated by passing in `return_logits=True`.\n",
      "  return func(*args, **kwargs)\n",
      "/Users/thorsten/.pyenv/versions/3.10.6/envs/SingleCell/lib/python3.10/site-packages/scanpy/preprocessing/_simple.py:176: ImplicitModificationWarning: Trying to modify attribute `.obs` of view, initializing view as actual.\n",
      "  adata.obs[\"n_genes\"] = number\n",
      "/Users/thorsten/.pyenv/versions/3.10.6/envs/SingleCell/lib/python3.10/site-packages/anndata/_core/anndata.py:602: FutureWarning: You are attempting to set `X` to a matrix on a view which has non-unique indices. The resulting `adata.X` will likely not equal the value to which you set it. To avoid this potential issue, please make a copy of the data first. In the future, this operation will throw an error.\n",
      "  warnings.warn(msg, FutureWarning, stacklevel=1)\n",
      "/var/folders/vn/wdw36m4d5k13n07b5xlhgmsr0000gn/T/ipykernel_69002/1836990459.py:36: UserWarning: Trying to set a dense array with a sparse array on a view.Densifying the sparse array.This may incur excessive memory usage\n",
      "  adata.X = csr_matrix(adata.X)\n",
      "/var/folders/vn/wdw36m4d5k13n07b5xlhgmsr0000gn/T/ipykernel_69002/1836990459.py:36: ImplicitModificationWarning: Modifying `X` on a view results in data being overridden\n",
      "  adata.X = csr_matrix(adata.X)\n",
      "/Users/thorsten/.pyenv/versions/3.10.6/envs/SingleCell/lib/python3.10/site-packages/scvi/train/_trainrunner.py:69: UserWarning: `accelerator` has been automatically set to `cpu` although 'mps' exists. If you wish to run on mps backend, use explicitly accelerator=='mps' in train function.In future releases it will become default for mps supported machines.\n",
      "  accelerator, lightning_devices, device = parse_device_args(\n",
      "GPU available: True (mps), used: False\n",
      "TPU available: False, using: 0 TPU cores\n",
      "HPU available: False, using: 0 HPUs\n",
      "/Users/thorsten/.pyenv/versions/3.10.6/envs/SingleCell/lib/python3.10/site-packages/lightning/pytorch/trainer/setup.py:177: GPU available but not used. You can set it by doing `Trainer(accelerator='gpu')`.\n",
      "/Users/thorsten/.pyenv/versions/3.10.6/envs/SingleCell/lib/python3.10/site-packages/lightning/pytorch/trainer/connectors/data_connector.py:425: The 'train_dataloader' does not have many workers which may be a bottleneck. Consider increasing the value of the `num_workers` argument` to `num_workers=7` in the `DataLoader` to improve performance.\n"
     ]
    },
    {
     "data": {
      "application/vnd.jupyter.widget-view+json": {
       "model_id": "5ffa64f94e3b4e91ae34a460ecb8f49a",
       "version_major": 2,
       "version_minor": 0
      },
      "text/plain": [
       "Training:   0%|          | 0/400 [00:00<?, ?it/s]"
      ]
     },
     "metadata": {},
     "output_type": "display_data"
    },
    {
     "name": "stderr",
     "output_type": "stream",
     "text": [
      "`Trainer.fit` stopped: `max_epochs=400` reached.\n"
     ]
    },
    {
     "name": "stdout",
     "output_type": "stream",
     "text": [
      "\u001b[34mINFO    \u001b[0m Creating doublets, preparing SOLO model.                                                                  \n"
     ]
    },
    {
     "name": "stderr",
     "output_type": "stream",
     "text": [
      "/Users/thorsten/.pyenv/versions/3.10.6/envs/SingleCell/lib/python3.10/site-packages/scvi/train/_trainrunner.py:69: UserWarning: `accelerator` has been automatically set to `cpu` although 'mps' exists. If you wish to run on mps backend, use explicitly accelerator=='mps' in train function.In future releases it will become default for mps supported machines.\n",
      "  accelerator, lightning_devices, device = parse_device_args(\n",
      "GPU available: True (mps), used: False\n",
      "TPU available: False, using: 0 TPU cores\n",
      "HPU available: False, using: 0 HPUs\n",
      "/Users/thorsten/.pyenv/versions/3.10.6/envs/SingleCell/lib/python3.10/site-packages/lightning/pytorch/trainer/setup.py:177: GPU available but not used. You can set it by doing `Trainer(accelerator='gpu')`.\n",
      "/Users/thorsten/.pyenv/versions/3.10.6/envs/SingleCell/lib/python3.10/site-packages/lightning/pytorch/trainer/connectors/data_connector.py:425: The 'train_dataloader' does not have many workers which may be a bottleneck. Consider increasing the value of the `num_workers` argument` to `num_workers=7` in the `DataLoader` to improve performance.\n",
      "/Users/thorsten/.pyenv/versions/3.10.6/envs/SingleCell/lib/python3.10/site-packages/lightning/pytorch/trainer/connectors/data_connector.py:425: The 'val_dataloader' does not have many workers which may be a bottleneck. Consider increasing the value of the `num_workers` argument` to `num_workers=7` in the `DataLoader` to improve performance.\n"
     ]
    },
    {
     "data": {
      "application/vnd.jupyter.widget-view+json": {
       "model_id": "77f2cee3ae794e25aebbf5e1ac1d6f34",
       "version_major": 2,
       "version_minor": 0
      },
      "text/plain": [
       "Training:   0%|          | 0/400 [00:00<?, ?it/s]"
      ]
     },
     "metadata": {},
     "output_type": "display_data"
    },
    {
     "name": "stdout",
     "output_type": "stream",
     "text": [
      "Monitored metric validation_loss did not improve in the last 30 records. Best score: 0.261. Signaling Trainer to stop.\n"
     ]
    },
    {
     "name": "stderr",
     "output_type": "stream",
     "text": [
      "/Users/thorsten/.pyenv/versions/3.10.6/envs/SingleCell/lib/python3.10/site-packages/torch/utils/_contextlib.py:116: UserWarning: Prior to scvi-tools 1.1.3, `SOLO.predict` with `soft=True` (the default option) returned logits instead of probabilities. This behavior has since been corrected to return probabiltiies. The previous behavior can be replicated by passing in `return_logits=True`.\n",
      "  return func(*args, **kwargs)\n",
      "/Users/thorsten/.pyenv/versions/3.10.6/envs/SingleCell/lib/python3.10/site-packages/torch/utils/_contextlib.py:116: UserWarning: Prior to scvi-tools 1.1.3, `SOLO.predict` with `soft=True` (the default option) returned logits instead of probabilities. This behavior has since been corrected to return probabiltiies. The previous behavior can be replicated by passing in `return_logits=True`.\n",
      "  return func(*args, **kwargs)\n",
      "/Users/thorsten/.pyenv/versions/3.10.6/envs/SingleCell/lib/python3.10/site-packages/scanpy/preprocessing/_simple.py:176: ImplicitModificationWarning: Trying to modify attribute `.obs` of view, initializing view as actual.\n",
      "  adata.obs[\"n_genes\"] = number\n",
      "/Users/thorsten/.pyenv/versions/3.10.6/envs/SingleCell/lib/python3.10/site-packages/anndata/_core/anndata.py:602: FutureWarning: You are attempting to set `X` to a matrix on a view which has non-unique indices. The resulting `adata.X` will likely not equal the value to which you set it. To avoid this potential issue, please make a copy of the data first. In the future, this operation will throw an error.\n",
      "  warnings.warn(msg, FutureWarning, stacklevel=1)\n",
      "/var/folders/vn/wdw36m4d5k13n07b5xlhgmsr0000gn/T/ipykernel_69002/1836990459.py:36: UserWarning: Trying to set a dense array with a sparse array on a view.Densifying the sparse array.This may incur excessive memory usage\n",
      "  adata.X = csr_matrix(adata.X)\n",
      "/var/folders/vn/wdw36m4d5k13n07b5xlhgmsr0000gn/T/ipykernel_69002/1836990459.py:36: ImplicitModificationWarning: Modifying `X` on a view results in data being overridden\n",
      "  adata.X = csr_matrix(adata.X)\n",
      "/Users/thorsten/.pyenv/versions/3.10.6/envs/SingleCell/lib/python3.10/site-packages/scvi/train/_trainrunner.py:69: UserWarning: `accelerator` has been automatically set to `cpu` although 'mps' exists. If you wish to run on mps backend, use explicitly accelerator=='mps' in train function.In future releases it will become default for mps supported machines.\n",
      "  accelerator, lightning_devices, device = parse_device_args(\n",
      "GPU available: True (mps), used: False\n",
      "TPU available: False, using: 0 TPU cores\n",
      "HPU available: False, using: 0 HPUs\n",
      "/Users/thorsten/.pyenv/versions/3.10.6/envs/SingleCell/lib/python3.10/site-packages/lightning/pytorch/trainer/setup.py:177: GPU available but not used. You can set it by doing `Trainer(accelerator='gpu')`.\n",
      "/Users/thorsten/.pyenv/versions/3.10.6/envs/SingleCell/lib/python3.10/site-packages/lightning/pytorch/trainer/connectors/data_connector.py:425: The 'train_dataloader' does not have many workers which may be a bottleneck. Consider increasing the value of the `num_workers` argument` to `num_workers=7` in the `DataLoader` to improve performance.\n"
     ]
    },
    {
     "data": {
      "application/vnd.jupyter.widget-view+json": {
       "model_id": "791fd06e4b1e44aaafc26a0670a61a54",
       "version_major": 2,
       "version_minor": 0
      },
      "text/plain": [
       "Training:   0%|          | 0/400 [00:00<?, ?it/s]"
      ]
     },
     "metadata": {},
     "output_type": "display_data"
    },
    {
     "name": "stderr",
     "output_type": "stream",
     "text": [
      "`Trainer.fit` stopped: `max_epochs=400` reached.\n"
     ]
    },
    {
     "name": "stdout",
     "output_type": "stream",
     "text": [
      "\u001b[34mINFO    \u001b[0m Creating doublets, preparing SOLO model.                                                                  \n"
     ]
    },
    {
     "name": "stderr",
     "output_type": "stream",
     "text": [
      "/Users/thorsten/.pyenv/versions/3.10.6/envs/SingleCell/lib/python3.10/site-packages/scvi/train/_trainrunner.py:69: UserWarning: `accelerator` has been automatically set to `cpu` although 'mps' exists. If you wish to run on mps backend, use explicitly accelerator=='mps' in train function.In future releases it will become default for mps supported machines.\n",
      "  accelerator, lightning_devices, device = parse_device_args(\n",
      "GPU available: True (mps), used: False\n",
      "TPU available: False, using: 0 TPU cores\n",
      "HPU available: False, using: 0 HPUs\n",
      "/Users/thorsten/.pyenv/versions/3.10.6/envs/SingleCell/lib/python3.10/site-packages/lightning/pytorch/trainer/setup.py:177: GPU available but not used. You can set it by doing `Trainer(accelerator='gpu')`.\n",
      "/Users/thorsten/.pyenv/versions/3.10.6/envs/SingleCell/lib/python3.10/site-packages/lightning/pytorch/trainer/connectors/data_connector.py:425: The 'train_dataloader' does not have many workers which may be a bottleneck. Consider increasing the value of the `num_workers` argument` to `num_workers=7` in the `DataLoader` to improve performance.\n",
      "/Users/thorsten/.pyenv/versions/3.10.6/envs/SingleCell/lib/python3.10/site-packages/lightning/pytorch/trainer/connectors/data_connector.py:425: The 'val_dataloader' does not have many workers which may be a bottleneck. Consider increasing the value of the `num_workers` argument` to `num_workers=7` in the `DataLoader` to improve performance.\n"
     ]
    },
    {
     "data": {
      "application/vnd.jupyter.widget-view+json": {
       "model_id": "3a55c81e0f934510aed0e3cd19656083",
       "version_major": 2,
       "version_minor": 0
      },
      "text/plain": [
       "Training:   0%|          | 0/400 [00:00<?, ?it/s]"
      ]
     },
     "metadata": {},
     "output_type": "display_data"
    },
    {
     "name": "stdout",
     "output_type": "stream",
     "text": [
      "Monitored metric validation_loss did not improve in the last 30 records. Best score: 0.312. Signaling Trainer to stop.\n"
     ]
    },
    {
     "name": "stderr",
     "output_type": "stream",
     "text": [
      "/Users/thorsten/.pyenv/versions/3.10.6/envs/SingleCell/lib/python3.10/site-packages/torch/utils/_contextlib.py:116: UserWarning: Prior to scvi-tools 1.1.3, `SOLO.predict` with `soft=True` (the default option) returned logits instead of probabilities. This behavior has since been corrected to return probabiltiies. The previous behavior can be replicated by passing in `return_logits=True`.\n",
      "  return func(*args, **kwargs)\n",
      "/Users/thorsten/.pyenv/versions/3.10.6/envs/SingleCell/lib/python3.10/site-packages/torch/utils/_contextlib.py:116: UserWarning: Prior to scvi-tools 1.1.3, `SOLO.predict` with `soft=True` (the default option) returned logits instead of probabilities. This behavior has since been corrected to return probabiltiies. The previous behavior can be replicated by passing in `return_logits=True`.\n",
      "  return func(*args, **kwargs)\n",
      "/Users/thorsten/.pyenv/versions/3.10.6/envs/SingleCell/lib/python3.10/site-packages/scanpy/preprocessing/_simple.py:176: ImplicitModificationWarning: Trying to modify attribute `.obs` of view, initializing view as actual.\n",
      "  adata.obs[\"n_genes\"] = number\n",
      "/Users/thorsten/.pyenv/versions/3.10.6/envs/SingleCell/lib/python3.10/site-packages/anndata/_core/anndata.py:602: FutureWarning: You are attempting to set `X` to a matrix on a view which has non-unique indices. The resulting `adata.X` will likely not equal the value to which you set it. To avoid this potential issue, please make a copy of the data first. In the future, this operation will throw an error.\n",
      "  warnings.warn(msg, FutureWarning, stacklevel=1)\n",
      "/var/folders/vn/wdw36m4d5k13n07b5xlhgmsr0000gn/T/ipykernel_69002/1836990459.py:36: UserWarning: Trying to set a dense array with a sparse array on a view.Densifying the sparse array.This may incur excessive memory usage\n",
      "  adata.X = csr_matrix(adata.X)\n",
      "/var/folders/vn/wdw36m4d5k13n07b5xlhgmsr0000gn/T/ipykernel_69002/1836990459.py:36: ImplicitModificationWarning: Modifying `X` on a view results in data being overridden\n",
      "  adata.X = csr_matrix(adata.X)\n",
      "/Users/thorsten/.pyenv/versions/3.10.6/envs/SingleCell/lib/python3.10/site-packages/scvi/train/_trainrunner.py:69: UserWarning: `accelerator` has been automatically set to `cpu` although 'mps' exists. If you wish to run on mps backend, use explicitly accelerator=='mps' in train function.In future releases it will become default for mps supported machines.\n",
      "  accelerator, lightning_devices, device = parse_device_args(\n",
      "GPU available: True (mps), used: False\n",
      "TPU available: False, using: 0 TPU cores\n",
      "HPU available: False, using: 0 HPUs\n",
      "/Users/thorsten/.pyenv/versions/3.10.6/envs/SingleCell/lib/python3.10/site-packages/lightning/pytorch/trainer/setup.py:177: GPU available but not used. You can set it by doing `Trainer(accelerator='gpu')`.\n",
      "/Users/thorsten/.pyenv/versions/3.10.6/envs/SingleCell/lib/python3.10/site-packages/lightning/pytorch/trainer/connectors/data_connector.py:425: The 'train_dataloader' does not have many workers which may be a bottleneck. Consider increasing the value of the `num_workers` argument` to `num_workers=7` in the `DataLoader` to improve performance.\n"
     ]
    },
    {
     "data": {
      "application/vnd.jupyter.widget-view+json": {
       "model_id": "b57725fa4e304fd2b0d7a7198a6adc80",
       "version_major": 2,
       "version_minor": 0
      },
      "text/plain": [
       "Training:   0%|          | 0/400 [00:00<?, ?it/s]"
      ]
     },
     "metadata": {},
     "output_type": "display_data"
    },
    {
     "name": "stderr",
     "output_type": "stream",
     "text": [
      "`Trainer.fit` stopped: `max_epochs=400` reached.\n"
     ]
    },
    {
     "name": "stdout",
     "output_type": "stream",
     "text": [
      "\u001b[34mINFO    \u001b[0m Creating doublets, preparing SOLO model.                                                                  \n"
     ]
    },
    {
     "name": "stderr",
     "output_type": "stream",
     "text": [
      "/Users/thorsten/.pyenv/versions/3.10.6/envs/SingleCell/lib/python3.10/site-packages/scvi/train/_trainrunner.py:69: UserWarning: `accelerator` has been automatically set to `cpu` although 'mps' exists. If you wish to run on mps backend, use explicitly accelerator=='mps' in train function.In future releases it will become default for mps supported machines.\n",
      "  accelerator, lightning_devices, device = parse_device_args(\n",
      "GPU available: True (mps), used: False\n",
      "TPU available: False, using: 0 TPU cores\n",
      "HPU available: False, using: 0 HPUs\n",
      "/Users/thorsten/.pyenv/versions/3.10.6/envs/SingleCell/lib/python3.10/site-packages/lightning/pytorch/trainer/setup.py:177: GPU available but not used. You can set it by doing `Trainer(accelerator='gpu')`.\n",
      "/Users/thorsten/.pyenv/versions/3.10.6/envs/SingleCell/lib/python3.10/site-packages/lightning/pytorch/trainer/connectors/data_connector.py:425: The 'train_dataloader' does not have many workers which may be a bottleneck. Consider increasing the value of the `num_workers` argument` to `num_workers=7` in the `DataLoader` to improve performance.\n",
      "/Users/thorsten/.pyenv/versions/3.10.6/envs/SingleCell/lib/python3.10/site-packages/lightning/pytorch/trainer/connectors/data_connector.py:425: The 'val_dataloader' does not have many workers which may be a bottleneck. Consider increasing the value of the `num_workers` argument` to `num_workers=7` in the `DataLoader` to improve performance.\n"
     ]
    },
    {
     "data": {
      "application/vnd.jupyter.widget-view+json": {
       "model_id": "3d0a04d0c61343f39f27ea34c905cd24",
       "version_major": 2,
       "version_minor": 0
      },
      "text/plain": [
       "Training:   0%|          | 0/400 [00:00<?, ?it/s]"
      ]
     },
     "metadata": {},
     "output_type": "display_data"
    },
    {
     "name": "stdout",
     "output_type": "stream",
     "text": [
      "Monitored metric validation_loss did not improve in the last 30 records. Best score: 0.317. Signaling Trainer to stop.\n"
     ]
    },
    {
     "name": "stderr",
     "output_type": "stream",
     "text": [
      "/Users/thorsten/.pyenv/versions/3.10.6/envs/SingleCell/lib/python3.10/site-packages/torch/utils/_contextlib.py:116: UserWarning: Prior to scvi-tools 1.1.3, `SOLO.predict` with `soft=True` (the default option) returned logits instead of probabilities. This behavior has since been corrected to return probabiltiies. The previous behavior can be replicated by passing in `return_logits=True`.\n",
      "  return func(*args, **kwargs)\n",
      "/Users/thorsten/.pyenv/versions/3.10.6/envs/SingleCell/lib/python3.10/site-packages/torch/utils/_contextlib.py:116: UserWarning: Prior to scvi-tools 1.1.3, `SOLO.predict` with `soft=True` (the default option) returned logits instead of probabilities. This behavior has since been corrected to return probabiltiies. The previous behavior can be replicated by passing in `return_logits=True`.\n",
      "  return func(*args, **kwargs)\n",
      "/Users/thorsten/.pyenv/versions/3.10.6/envs/SingleCell/lib/python3.10/site-packages/scanpy/preprocessing/_simple.py:176: ImplicitModificationWarning: Trying to modify attribute `.obs` of view, initializing view as actual.\n",
      "  adata.obs[\"n_genes\"] = number\n",
      "/Users/thorsten/.pyenv/versions/3.10.6/envs/SingleCell/lib/python3.10/site-packages/anndata/_core/anndata.py:602: FutureWarning: You are attempting to set `X` to a matrix on a view which has non-unique indices. The resulting `adata.X` will likely not equal the value to which you set it. To avoid this potential issue, please make a copy of the data first. In the future, this operation will throw an error.\n",
      "  warnings.warn(msg, FutureWarning, stacklevel=1)\n",
      "/var/folders/vn/wdw36m4d5k13n07b5xlhgmsr0000gn/T/ipykernel_69002/1836990459.py:36: UserWarning: Trying to set a dense array with a sparse array on a view.Densifying the sparse array.This may incur excessive memory usage\n",
      "  adata.X = csr_matrix(adata.X)\n",
      "/var/folders/vn/wdw36m4d5k13n07b5xlhgmsr0000gn/T/ipykernel_69002/1836990459.py:36: ImplicitModificationWarning: Modifying `X` on a view results in data being overridden\n",
      "  adata.X = csr_matrix(adata.X)\n",
      "/Users/thorsten/.pyenv/versions/3.10.6/envs/SingleCell/lib/python3.10/site-packages/scvi/train/_trainrunner.py:69: UserWarning: `accelerator` has been automatically set to `cpu` although 'mps' exists. If you wish to run on mps backend, use explicitly accelerator=='mps' in train function.In future releases it will become default for mps supported machines.\n",
      "  accelerator, lightning_devices, device = parse_device_args(\n",
      "GPU available: True (mps), used: False\n",
      "TPU available: False, using: 0 TPU cores\n",
      "HPU available: False, using: 0 HPUs\n",
      "/Users/thorsten/.pyenv/versions/3.10.6/envs/SingleCell/lib/python3.10/site-packages/lightning/pytorch/trainer/setup.py:177: GPU available but not used. You can set it by doing `Trainer(accelerator='gpu')`.\n",
      "/Users/thorsten/.pyenv/versions/3.10.6/envs/SingleCell/lib/python3.10/site-packages/lightning/pytorch/trainer/connectors/data_connector.py:425: The 'train_dataloader' does not have many workers which may be a bottleneck. Consider increasing the value of the `num_workers` argument` to `num_workers=7` in the `DataLoader` to improve performance.\n"
     ]
    },
    {
     "data": {
      "application/vnd.jupyter.widget-view+json": {
       "model_id": "6b8cda57d2434373aa3d72222b0927c3",
       "version_major": 2,
       "version_minor": 0
      },
      "text/plain": [
       "Training:   0%|          | 0/400 [00:00<?, ?it/s]"
      ]
     },
     "metadata": {},
     "output_type": "display_data"
    },
    {
     "name": "stderr",
     "output_type": "stream",
     "text": [
      "`Trainer.fit` stopped: `max_epochs=400` reached.\n"
     ]
    },
    {
     "name": "stdout",
     "output_type": "stream",
     "text": [
      "\u001b[34mINFO    \u001b[0m Creating doublets, preparing SOLO model.                                                                  \n"
     ]
    },
    {
     "name": "stderr",
     "output_type": "stream",
     "text": [
      "/Users/thorsten/.pyenv/versions/3.10.6/envs/SingleCell/lib/python3.10/site-packages/scvi/train/_trainrunner.py:69: UserWarning: `accelerator` has been automatically set to `cpu` although 'mps' exists. If you wish to run on mps backend, use explicitly accelerator=='mps' in train function.In future releases it will become default for mps supported machines.\n",
      "  accelerator, lightning_devices, device = parse_device_args(\n",
      "GPU available: True (mps), used: False\n",
      "TPU available: False, using: 0 TPU cores\n",
      "HPU available: False, using: 0 HPUs\n",
      "/Users/thorsten/.pyenv/versions/3.10.6/envs/SingleCell/lib/python3.10/site-packages/lightning/pytorch/trainer/setup.py:177: GPU available but not used. You can set it by doing `Trainer(accelerator='gpu')`.\n",
      "/Users/thorsten/.pyenv/versions/3.10.6/envs/SingleCell/lib/python3.10/site-packages/lightning/pytorch/trainer/connectors/data_connector.py:425: The 'train_dataloader' does not have many workers which may be a bottleneck. Consider increasing the value of the `num_workers` argument` to `num_workers=7` in the `DataLoader` to improve performance.\n",
      "/Users/thorsten/.pyenv/versions/3.10.6/envs/SingleCell/lib/python3.10/site-packages/lightning/pytorch/trainer/connectors/data_connector.py:425: The 'val_dataloader' does not have many workers which may be a bottleneck. Consider increasing the value of the `num_workers` argument` to `num_workers=7` in the `DataLoader` to improve performance.\n"
     ]
    },
    {
     "data": {
      "application/vnd.jupyter.widget-view+json": {
       "model_id": "3375f7088c1247d48400ffce4ed260ed",
       "version_major": 2,
       "version_minor": 0
      },
      "text/plain": [
       "Training:   0%|          | 0/400 [00:00<?, ?it/s]"
      ]
     },
     "metadata": {},
     "output_type": "display_data"
    },
    {
     "name": "stdout",
     "output_type": "stream",
     "text": [
      "Monitored metric validation_loss did not improve in the last 30 records. Best score: 0.194. Signaling Trainer to stop.\n"
     ]
    },
    {
     "name": "stderr",
     "output_type": "stream",
     "text": [
      "/Users/thorsten/.pyenv/versions/3.10.6/envs/SingleCell/lib/python3.10/site-packages/torch/utils/_contextlib.py:116: UserWarning: Prior to scvi-tools 1.1.3, `SOLO.predict` with `soft=True` (the default option) returned logits instead of probabilities. This behavior has since been corrected to return probabiltiies. The previous behavior can be replicated by passing in `return_logits=True`.\n",
      "  return func(*args, **kwargs)\n",
      "/Users/thorsten/.pyenv/versions/3.10.6/envs/SingleCell/lib/python3.10/site-packages/torch/utils/_contextlib.py:116: UserWarning: Prior to scvi-tools 1.1.3, `SOLO.predict` with `soft=True` (the default option) returned logits instead of probabilities. This behavior has since been corrected to return probabiltiies. The previous behavior can be replicated by passing in `return_logits=True`.\n",
      "  return func(*args, **kwargs)\n",
      "/Users/thorsten/.pyenv/versions/3.10.6/envs/SingleCell/lib/python3.10/site-packages/scanpy/preprocessing/_simple.py:176: ImplicitModificationWarning: Trying to modify attribute `.obs` of view, initializing view as actual.\n",
      "  adata.obs[\"n_genes\"] = number\n",
      "/Users/thorsten/.pyenv/versions/3.10.6/envs/SingleCell/lib/python3.10/site-packages/anndata/_core/anndata.py:602: FutureWarning: You are attempting to set `X` to a matrix on a view which has non-unique indices. The resulting `adata.X` will likely not equal the value to which you set it. To avoid this potential issue, please make a copy of the data first. In the future, this operation will throw an error.\n",
      "  warnings.warn(msg, FutureWarning, stacklevel=1)\n",
      "/var/folders/vn/wdw36m4d5k13n07b5xlhgmsr0000gn/T/ipykernel_69002/1836990459.py:36: UserWarning: Trying to set a dense array with a sparse array on a view.Densifying the sparse array.This may incur excessive memory usage\n",
      "  adata.X = csr_matrix(adata.X)\n",
      "/var/folders/vn/wdw36m4d5k13n07b5xlhgmsr0000gn/T/ipykernel_69002/1836990459.py:36: ImplicitModificationWarning: Modifying `X` on a view results in data being overridden\n",
      "  adata.X = csr_matrix(adata.X)\n",
      "/Users/thorsten/.pyenv/versions/3.10.6/envs/SingleCell/lib/python3.10/site-packages/scvi/train/_trainrunner.py:69: UserWarning: `accelerator` has been automatically set to `cpu` although 'mps' exists. If you wish to run on mps backend, use explicitly accelerator=='mps' in train function.In future releases it will become default for mps supported machines.\n",
      "  accelerator, lightning_devices, device = parse_device_args(\n",
      "GPU available: True (mps), used: False\n",
      "TPU available: False, using: 0 TPU cores\n",
      "HPU available: False, using: 0 HPUs\n",
      "/Users/thorsten/.pyenv/versions/3.10.6/envs/SingleCell/lib/python3.10/site-packages/lightning/pytorch/trainer/setup.py:177: GPU available but not used. You can set it by doing `Trainer(accelerator='gpu')`.\n",
      "/Users/thorsten/.pyenv/versions/3.10.6/envs/SingleCell/lib/python3.10/site-packages/lightning/pytorch/trainer/connectors/data_connector.py:425: The 'train_dataloader' does not have many workers which may be a bottleneck. Consider increasing the value of the `num_workers` argument` to `num_workers=7` in the `DataLoader` to improve performance.\n"
     ]
    },
    {
     "data": {
      "application/vnd.jupyter.widget-view+json": {
       "model_id": "d6f9fe70f8494189aaa9136d68363551",
       "version_major": 2,
       "version_minor": 0
      },
      "text/plain": [
       "Training:   0%|          | 0/400 [00:00<?, ?it/s]"
      ]
     },
     "metadata": {},
     "output_type": "display_data"
    },
    {
     "name": "stderr",
     "output_type": "stream",
     "text": [
      "`Trainer.fit` stopped: `max_epochs=400` reached.\n"
     ]
    },
    {
     "name": "stdout",
     "output_type": "stream",
     "text": [
      "\u001b[34mINFO    \u001b[0m Creating doublets, preparing SOLO model.                                                                  \n"
     ]
    },
    {
     "name": "stderr",
     "output_type": "stream",
     "text": [
      "/Users/thorsten/.pyenv/versions/3.10.6/envs/SingleCell/lib/python3.10/site-packages/scvi/train/_trainrunner.py:69: UserWarning: `accelerator` has been automatically set to `cpu` although 'mps' exists. If you wish to run on mps backend, use explicitly accelerator=='mps' in train function.In future releases it will become default for mps supported machines.\n",
      "  accelerator, lightning_devices, device = parse_device_args(\n",
      "GPU available: True (mps), used: False\n",
      "TPU available: False, using: 0 TPU cores\n",
      "HPU available: False, using: 0 HPUs\n",
      "/Users/thorsten/.pyenv/versions/3.10.6/envs/SingleCell/lib/python3.10/site-packages/lightning/pytorch/trainer/setup.py:177: GPU available but not used. You can set it by doing `Trainer(accelerator='gpu')`.\n",
      "/Users/thorsten/.pyenv/versions/3.10.6/envs/SingleCell/lib/python3.10/site-packages/lightning/pytorch/trainer/connectors/data_connector.py:425: The 'train_dataloader' does not have many workers which may be a bottleneck. Consider increasing the value of the `num_workers` argument` to `num_workers=7` in the `DataLoader` to improve performance.\n",
      "/Users/thorsten/.pyenv/versions/3.10.6/envs/SingleCell/lib/python3.10/site-packages/lightning/pytorch/trainer/connectors/data_connector.py:425: The 'val_dataloader' does not have many workers which may be a bottleneck. Consider increasing the value of the `num_workers` argument` to `num_workers=7` in the `DataLoader` to improve performance.\n"
     ]
    },
    {
     "data": {
      "application/vnd.jupyter.widget-view+json": {
       "model_id": "995f201df1e94ac58983b2f629e9105e",
       "version_major": 2,
       "version_minor": 0
      },
      "text/plain": [
       "Training:   0%|          | 0/400 [00:00<?, ?it/s]"
      ]
     },
     "metadata": {},
     "output_type": "display_data"
    },
    {
     "name": "stdout",
     "output_type": "stream",
     "text": [
      "Monitored metric validation_loss did not improve in the last 30 records. Best score: 0.363. Signaling Trainer to stop.\n"
     ]
    },
    {
     "name": "stderr",
     "output_type": "stream",
     "text": [
      "/Users/thorsten/.pyenv/versions/3.10.6/envs/SingleCell/lib/python3.10/site-packages/torch/utils/_contextlib.py:116: UserWarning: Prior to scvi-tools 1.1.3, `SOLO.predict` with `soft=True` (the default option) returned logits instead of probabilities. This behavior has since been corrected to return probabiltiies. The previous behavior can be replicated by passing in `return_logits=True`.\n",
      "  return func(*args, **kwargs)\n",
      "/Users/thorsten/.pyenv/versions/3.10.6/envs/SingleCell/lib/python3.10/site-packages/torch/utils/_contextlib.py:116: UserWarning: Prior to scvi-tools 1.1.3, `SOLO.predict` with `soft=True` (the default option) returned logits instead of probabilities. This behavior has since been corrected to return probabiltiies. The previous behavior can be replicated by passing in `return_logits=True`.\n",
      "  return func(*args, **kwargs)\n",
      "/Users/thorsten/.pyenv/versions/3.10.6/envs/SingleCell/lib/python3.10/site-packages/scanpy/preprocessing/_simple.py:176: ImplicitModificationWarning: Trying to modify attribute `.obs` of view, initializing view as actual.\n",
      "  adata.obs[\"n_genes\"] = number\n",
      "/Users/thorsten/.pyenv/versions/3.10.6/envs/SingleCell/lib/python3.10/site-packages/anndata/_core/anndata.py:602: FutureWarning: You are attempting to set `X` to a matrix on a view which has non-unique indices. The resulting `adata.X` will likely not equal the value to which you set it. To avoid this potential issue, please make a copy of the data first. In the future, this operation will throw an error.\n",
      "  warnings.warn(msg, FutureWarning, stacklevel=1)\n",
      "/var/folders/vn/wdw36m4d5k13n07b5xlhgmsr0000gn/T/ipykernel_69002/1836990459.py:36: UserWarning: Trying to set a dense array with a sparse array on a view.Densifying the sparse array.This may incur excessive memory usage\n",
      "  adata.X = csr_matrix(adata.X)\n",
      "/var/folders/vn/wdw36m4d5k13n07b5xlhgmsr0000gn/T/ipykernel_69002/1836990459.py:36: ImplicitModificationWarning: Modifying `X` on a view results in data being overridden\n",
      "  adata.X = csr_matrix(adata.X)\n",
      "/Users/thorsten/.pyenv/versions/3.10.6/envs/SingleCell/lib/python3.10/site-packages/scvi/train/_trainrunner.py:69: UserWarning: `accelerator` has been automatically set to `cpu` although 'mps' exists. If you wish to run on mps backend, use explicitly accelerator=='mps' in train function.In future releases it will become default for mps supported machines.\n",
      "  accelerator, lightning_devices, device = parse_device_args(\n",
      "GPU available: True (mps), used: False\n",
      "TPU available: False, using: 0 TPU cores\n",
      "HPU available: False, using: 0 HPUs\n",
      "/Users/thorsten/.pyenv/versions/3.10.6/envs/SingleCell/lib/python3.10/site-packages/lightning/pytorch/trainer/setup.py:177: GPU available but not used. You can set it by doing `Trainer(accelerator='gpu')`.\n",
      "/Users/thorsten/.pyenv/versions/3.10.6/envs/SingleCell/lib/python3.10/site-packages/lightning/pytorch/trainer/connectors/data_connector.py:425: The 'train_dataloader' does not have many workers which may be a bottleneck. Consider increasing the value of the `num_workers` argument` to `num_workers=7` in the `DataLoader` to improve performance.\n"
     ]
    },
    {
     "data": {
      "application/vnd.jupyter.widget-view+json": {
       "model_id": "3d7c1dec1c5d44ad8f43ba669718a949",
       "version_major": 2,
       "version_minor": 0
      },
      "text/plain": [
       "Training:   0%|          | 0/400 [00:00<?, ?it/s]"
      ]
     },
     "metadata": {},
     "output_type": "display_data"
    },
    {
     "name": "stderr",
     "output_type": "stream",
     "text": [
      "`Trainer.fit` stopped: `max_epochs=400` reached.\n"
     ]
    },
    {
     "name": "stdout",
     "output_type": "stream",
     "text": [
      "\u001b[34mINFO    \u001b[0m Creating doublets, preparing SOLO model.                                                                  \n"
     ]
    },
    {
     "name": "stderr",
     "output_type": "stream",
     "text": [
      "/Users/thorsten/.pyenv/versions/3.10.6/envs/SingleCell/lib/python3.10/site-packages/scvi/train/_trainrunner.py:69: UserWarning: `accelerator` has been automatically set to `cpu` although 'mps' exists. If you wish to run on mps backend, use explicitly accelerator=='mps' in train function.In future releases it will become default for mps supported machines.\n",
      "  accelerator, lightning_devices, device = parse_device_args(\n",
      "GPU available: True (mps), used: False\n",
      "TPU available: False, using: 0 TPU cores\n",
      "HPU available: False, using: 0 HPUs\n",
      "/Users/thorsten/.pyenv/versions/3.10.6/envs/SingleCell/lib/python3.10/site-packages/lightning/pytorch/trainer/setup.py:177: GPU available but not used. You can set it by doing `Trainer(accelerator='gpu')`.\n",
      "/Users/thorsten/.pyenv/versions/3.10.6/envs/SingleCell/lib/python3.10/site-packages/lightning/pytorch/trainer/connectors/data_connector.py:425: The 'train_dataloader' does not have many workers which may be a bottleneck. Consider increasing the value of the `num_workers` argument` to `num_workers=7` in the `DataLoader` to improve performance.\n",
      "/Users/thorsten/.pyenv/versions/3.10.6/envs/SingleCell/lib/python3.10/site-packages/lightning/pytorch/trainer/connectors/data_connector.py:425: The 'val_dataloader' does not have many workers which may be a bottleneck. Consider increasing the value of the `num_workers` argument` to `num_workers=7` in the `DataLoader` to improve performance.\n"
     ]
    },
    {
     "data": {
      "application/vnd.jupyter.widget-view+json": {
       "model_id": "28612ad5dc4a4353a1412cfab8526a92",
       "version_major": 2,
       "version_minor": 0
      },
      "text/plain": [
       "Training:   0%|          | 0/400 [00:00<?, ?it/s]"
      ]
     },
     "metadata": {},
     "output_type": "display_data"
    },
    {
     "name": "stdout",
     "output_type": "stream",
     "text": [
      "Monitored metric validation_loss did not improve in the last 30 records. Best score: 0.237. Signaling Trainer to stop.\n"
     ]
    },
    {
     "name": "stderr",
     "output_type": "stream",
     "text": [
      "/Users/thorsten/.pyenv/versions/3.10.6/envs/SingleCell/lib/python3.10/site-packages/torch/utils/_contextlib.py:116: UserWarning: Prior to scvi-tools 1.1.3, `SOLO.predict` with `soft=True` (the default option) returned logits instead of probabilities. This behavior has since been corrected to return probabiltiies. The previous behavior can be replicated by passing in `return_logits=True`.\n",
      "  return func(*args, **kwargs)\n",
      "/Users/thorsten/.pyenv/versions/3.10.6/envs/SingleCell/lib/python3.10/site-packages/torch/utils/_contextlib.py:116: UserWarning: Prior to scvi-tools 1.1.3, `SOLO.predict` with `soft=True` (the default option) returned logits instead of probabilities. This behavior has since been corrected to return probabiltiies. The previous behavior can be replicated by passing in `return_logits=True`.\n",
      "  return func(*args, **kwargs)\n",
      "/Users/thorsten/.pyenv/versions/3.10.6/envs/SingleCell/lib/python3.10/site-packages/scanpy/preprocessing/_simple.py:176: ImplicitModificationWarning: Trying to modify attribute `.obs` of view, initializing view as actual.\n",
      "  adata.obs[\"n_genes\"] = number\n",
      "/Users/thorsten/.pyenv/versions/3.10.6/envs/SingleCell/lib/python3.10/site-packages/anndata/_core/anndata.py:602: FutureWarning: You are attempting to set `X` to a matrix on a view which has non-unique indices. The resulting `adata.X` will likely not equal the value to which you set it. To avoid this potential issue, please make a copy of the data first. In the future, this operation will throw an error.\n",
      "  warnings.warn(msg, FutureWarning, stacklevel=1)\n",
      "/var/folders/vn/wdw36m4d5k13n07b5xlhgmsr0000gn/T/ipykernel_69002/1836990459.py:36: UserWarning: Trying to set a dense array with a sparse array on a view.Densifying the sparse array.This may incur excessive memory usage\n",
      "  adata.X = csr_matrix(adata.X)\n",
      "/var/folders/vn/wdw36m4d5k13n07b5xlhgmsr0000gn/T/ipykernel_69002/1836990459.py:36: ImplicitModificationWarning: Modifying `X` on a view results in data being overridden\n",
      "  adata.X = csr_matrix(adata.X)\n",
      "/Users/thorsten/.pyenv/versions/3.10.6/envs/SingleCell/lib/python3.10/site-packages/scvi/train/_trainrunner.py:69: UserWarning: `accelerator` has been automatically set to `cpu` although 'mps' exists. If you wish to run on mps backend, use explicitly accelerator=='mps' in train function.In future releases it will become default for mps supported machines.\n",
      "  accelerator, lightning_devices, device = parse_device_args(\n",
      "GPU available: True (mps), used: False\n",
      "TPU available: False, using: 0 TPU cores\n",
      "HPU available: False, using: 0 HPUs\n",
      "/Users/thorsten/.pyenv/versions/3.10.6/envs/SingleCell/lib/python3.10/site-packages/lightning/pytorch/trainer/setup.py:177: GPU available but not used. You can set it by doing `Trainer(accelerator='gpu')`.\n",
      "/Users/thorsten/.pyenv/versions/3.10.6/envs/SingleCell/lib/python3.10/site-packages/lightning/pytorch/trainer/connectors/data_connector.py:425: The 'train_dataloader' does not have many workers which may be a bottleneck. Consider increasing the value of the `num_workers` argument` to `num_workers=7` in the `DataLoader` to improve performance.\n"
     ]
    },
    {
     "data": {
      "application/vnd.jupyter.widget-view+json": {
       "model_id": "75121278df844486a346511f4e0db1f1",
       "version_major": 2,
       "version_minor": 0
      },
      "text/plain": [
       "Training:   0%|          | 0/400 [00:00<?, ?it/s]"
      ]
     },
     "metadata": {},
     "output_type": "display_data"
    },
    {
     "name": "stderr",
     "output_type": "stream",
     "text": [
      "`Trainer.fit` stopped: `max_epochs=400` reached.\n"
     ]
    },
    {
     "name": "stdout",
     "output_type": "stream",
     "text": [
      "\u001b[34mINFO    \u001b[0m Creating doublets, preparing SOLO model.                                                                  \n"
     ]
    },
    {
     "name": "stderr",
     "output_type": "stream",
     "text": [
      "/Users/thorsten/.pyenv/versions/3.10.6/envs/SingleCell/lib/python3.10/site-packages/scvi/train/_trainrunner.py:69: UserWarning: `accelerator` has been automatically set to `cpu` although 'mps' exists. If you wish to run on mps backend, use explicitly accelerator=='mps' in train function.In future releases it will become default for mps supported machines.\n",
      "  accelerator, lightning_devices, device = parse_device_args(\n",
      "GPU available: True (mps), used: False\n",
      "TPU available: False, using: 0 TPU cores\n",
      "HPU available: False, using: 0 HPUs\n",
      "/Users/thorsten/.pyenv/versions/3.10.6/envs/SingleCell/lib/python3.10/site-packages/lightning/pytorch/trainer/setup.py:177: GPU available but not used. You can set it by doing `Trainer(accelerator='gpu')`.\n",
      "/Users/thorsten/.pyenv/versions/3.10.6/envs/SingleCell/lib/python3.10/site-packages/lightning/pytorch/trainer/connectors/data_connector.py:425: The 'train_dataloader' does not have many workers which may be a bottleneck. Consider increasing the value of the `num_workers` argument` to `num_workers=7` in the `DataLoader` to improve performance.\n",
      "/Users/thorsten/.pyenv/versions/3.10.6/envs/SingleCell/lib/python3.10/site-packages/lightning/pytorch/trainer/connectors/data_connector.py:425: The 'val_dataloader' does not have many workers which may be a bottleneck. Consider increasing the value of the `num_workers` argument` to `num_workers=7` in the `DataLoader` to improve performance.\n"
     ]
    },
    {
     "data": {
      "application/vnd.jupyter.widget-view+json": {
       "model_id": "db514b2d493f4407b782818e19182a17",
       "version_major": 2,
       "version_minor": 0
      },
      "text/plain": [
       "Training:   0%|          | 0/400 [00:00<?, ?it/s]"
      ]
     },
     "metadata": {},
     "output_type": "display_data"
    },
    {
     "name": "stdout",
     "output_type": "stream",
     "text": [
      "Monitored metric validation_loss did not improve in the last 30 records. Best score: 0.274. Signaling Trainer to stop.\n"
     ]
    },
    {
     "name": "stderr",
     "output_type": "stream",
     "text": [
      "/Users/thorsten/.pyenv/versions/3.10.6/envs/SingleCell/lib/python3.10/site-packages/torch/utils/_contextlib.py:116: UserWarning: Prior to scvi-tools 1.1.3, `SOLO.predict` with `soft=True` (the default option) returned logits instead of probabilities. This behavior has since been corrected to return probabiltiies. The previous behavior can be replicated by passing in `return_logits=True`.\n",
      "  return func(*args, **kwargs)\n",
      "/Users/thorsten/.pyenv/versions/3.10.6/envs/SingleCell/lib/python3.10/site-packages/torch/utils/_contextlib.py:116: UserWarning: Prior to scvi-tools 1.1.3, `SOLO.predict` with `soft=True` (the default option) returned logits instead of probabilities. This behavior has since been corrected to return probabiltiies. The previous behavior can be replicated by passing in `return_logits=True`.\n",
      "  return func(*args, **kwargs)\n",
      "/Users/thorsten/.pyenv/versions/3.10.6/envs/SingleCell/lib/python3.10/site-packages/scanpy/preprocessing/_simple.py:176: ImplicitModificationWarning: Trying to modify attribute `.obs` of view, initializing view as actual.\n",
      "  adata.obs[\"n_genes\"] = number\n",
      "/Users/thorsten/.pyenv/versions/3.10.6/envs/SingleCell/lib/python3.10/site-packages/anndata/_core/anndata.py:602: FutureWarning: You are attempting to set `X` to a matrix on a view which has non-unique indices. The resulting `adata.X` will likely not equal the value to which you set it. To avoid this potential issue, please make a copy of the data first. In the future, this operation will throw an error.\n",
      "  warnings.warn(msg, FutureWarning, stacklevel=1)\n",
      "/var/folders/vn/wdw36m4d5k13n07b5xlhgmsr0000gn/T/ipykernel_69002/1836990459.py:36: UserWarning: Trying to set a dense array with a sparse array on a view.Densifying the sparse array.This may incur excessive memory usage\n",
      "  adata.X = csr_matrix(adata.X)\n",
      "/var/folders/vn/wdw36m4d5k13n07b5xlhgmsr0000gn/T/ipykernel_69002/1836990459.py:36: ImplicitModificationWarning: Modifying `X` on a view results in data being overridden\n",
      "  adata.X = csr_matrix(adata.X)\n",
      "/Users/thorsten/.pyenv/versions/3.10.6/envs/SingleCell/lib/python3.10/site-packages/scvi/train/_trainrunner.py:69: UserWarning: `accelerator` has been automatically set to `cpu` although 'mps' exists. If you wish to run on mps backend, use explicitly accelerator=='mps' in train function.In future releases it will become default for mps supported machines.\n",
      "  accelerator, lightning_devices, device = parse_device_args(\n",
      "GPU available: True (mps), used: False\n",
      "TPU available: False, using: 0 TPU cores\n",
      "HPU available: False, using: 0 HPUs\n",
      "/Users/thorsten/.pyenv/versions/3.10.6/envs/SingleCell/lib/python3.10/site-packages/lightning/pytorch/trainer/setup.py:177: GPU available but not used. You can set it by doing `Trainer(accelerator='gpu')`.\n",
      "/Users/thorsten/.pyenv/versions/3.10.6/envs/SingleCell/lib/python3.10/site-packages/lightning/pytorch/trainer/connectors/data_connector.py:425: The 'train_dataloader' does not have many workers which may be a bottleneck. Consider increasing the value of the `num_workers` argument` to `num_workers=7` in the `DataLoader` to improve performance.\n"
     ]
    },
    {
     "data": {
      "application/vnd.jupyter.widget-view+json": {
       "model_id": "4c2c7c2555874341a8dc781ab07c64dc",
       "version_major": 2,
       "version_minor": 0
      },
      "text/plain": [
       "Training:   0%|          | 0/400 [00:00<?, ?it/s]"
      ]
     },
     "metadata": {},
     "output_type": "display_data"
    },
    {
     "name": "stderr",
     "output_type": "stream",
     "text": [
      "`Trainer.fit` stopped: `max_epochs=400` reached.\n"
     ]
    },
    {
     "name": "stdout",
     "output_type": "stream",
     "text": [
      "\u001b[34mINFO    \u001b[0m Creating doublets, preparing SOLO model.                                                                  \n"
     ]
    },
    {
     "name": "stderr",
     "output_type": "stream",
     "text": [
      "/Users/thorsten/.pyenv/versions/3.10.6/envs/SingleCell/lib/python3.10/site-packages/scvi/train/_trainrunner.py:69: UserWarning: `accelerator` has been automatically set to `cpu` although 'mps' exists. If you wish to run on mps backend, use explicitly accelerator=='mps' in train function.In future releases it will become default for mps supported machines.\n",
      "  accelerator, lightning_devices, device = parse_device_args(\n",
      "GPU available: True (mps), used: False\n",
      "TPU available: False, using: 0 TPU cores\n",
      "HPU available: False, using: 0 HPUs\n",
      "/Users/thorsten/.pyenv/versions/3.10.6/envs/SingleCell/lib/python3.10/site-packages/lightning/pytorch/trainer/setup.py:177: GPU available but not used. You can set it by doing `Trainer(accelerator='gpu')`.\n",
      "/Users/thorsten/.pyenv/versions/3.10.6/envs/SingleCell/lib/python3.10/site-packages/lightning/pytorch/trainer/connectors/data_connector.py:425: The 'train_dataloader' does not have many workers which may be a bottleneck. Consider increasing the value of the `num_workers` argument` to `num_workers=7` in the `DataLoader` to improve performance.\n",
      "/Users/thorsten/.pyenv/versions/3.10.6/envs/SingleCell/lib/python3.10/site-packages/lightning/pytorch/trainer/connectors/data_connector.py:425: The 'val_dataloader' does not have many workers which may be a bottleneck. Consider increasing the value of the `num_workers` argument` to `num_workers=7` in the `DataLoader` to improve performance.\n"
     ]
    },
    {
     "data": {
      "application/vnd.jupyter.widget-view+json": {
       "model_id": "0db95624cad94951923eb8b9f7a0eb06",
       "version_major": 2,
       "version_minor": 0
      },
      "text/plain": [
       "Training:   0%|          | 0/400 [00:00<?, ?it/s]"
      ]
     },
     "metadata": {},
     "output_type": "display_data"
    },
    {
     "name": "stdout",
     "output_type": "stream",
     "text": [
      "Monitored metric validation_loss did not improve in the last 30 records. Best score: 0.279. Signaling Trainer to stop.\n"
     ]
    },
    {
     "name": "stderr",
     "output_type": "stream",
     "text": [
      "/Users/thorsten/.pyenv/versions/3.10.6/envs/SingleCell/lib/python3.10/site-packages/torch/utils/_contextlib.py:116: UserWarning: Prior to scvi-tools 1.1.3, `SOLO.predict` with `soft=True` (the default option) returned logits instead of probabilities. This behavior has since been corrected to return probabiltiies. The previous behavior can be replicated by passing in `return_logits=True`.\n",
      "  return func(*args, **kwargs)\n",
      "/Users/thorsten/.pyenv/versions/3.10.6/envs/SingleCell/lib/python3.10/site-packages/torch/utils/_contextlib.py:116: UserWarning: Prior to scvi-tools 1.1.3, `SOLO.predict` with `soft=True` (the default option) returned logits instead of probabilities. This behavior has since been corrected to return probabiltiies. The previous behavior can be replicated by passing in `return_logits=True`.\n",
      "  return func(*args, **kwargs)\n",
      "/Users/thorsten/.pyenv/versions/3.10.6/envs/SingleCell/lib/python3.10/site-packages/scanpy/preprocessing/_simple.py:176: ImplicitModificationWarning: Trying to modify attribute `.obs` of view, initializing view as actual.\n",
      "  adata.obs[\"n_genes\"] = number\n",
      "/Users/thorsten/.pyenv/versions/3.10.6/envs/SingleCell/lib/python3.10/site-packages/anndata/_core/anndata.py:602: FutureWarning: You are attempting to set `X` to a matrix on a view which has non-unique indices. The resulting `adata.X` will likely not equal the value to which you set it. To avoid this potential issue, please make a copy of the data first. In the future, this operation will throw an error.\n",
      "  warnings.warn(msg, FutureWarning, stacklevel=1)\n",
      "/var/folders/vn/wdw36m4d5k13n07b5xlhgmsr0000gn/T/ipykernel_69002/1836990459.py:36: UserWarning: Trying to set a dense array with a sparse array on a view.Densifying the sparse array.This may incur excessive memory usage\n",
      "  adata.X = csr_matrix(adata.X)\n",
      "/var/folders/vn/wdw36m4d5k13n07b5xlhgmsr0000gn/T/ipykernel_69002/1836990459.py:36: ImplicitModificationWarning: Modifying `X` on a view results in data being overridden\n",
      "  adata.X = csr_matrix(adata.X)\n",
      "/Users/thorsten/.pyenv/versions/3.10.6/envs/SingleCell/lib/python3.10/site-packages/scvi/train/_trainrunner.py:69: UserWarning: `accelerator` has been automatically set to `cpu` although 'mps' exists. If you wish to run on mps backend, use explicitly accelerator=='mps' in train function.In future releases it will become default for mps supported machines.\n",
      "  accelerator, lightning_devices, device = parse_device_args(\n",
      "GPU available: True (mps), used: False\n",
      "TPU available: False, using: 0 TPU cores\n",
      "HPU available: False, using: 0 HPUs\n",
      "/Users/thorsten/.pyenv/versions/3.10.6/envs/SingleCell/lib/python3.10/site-packages/lightning/pytorch/trainer/setup.py:177: GPU available but not used. You can set it by doing `Trainer(accelerator='gpu')`.\n",
      "/Users/thorsten/.pyenv/versions/3.10.6/envs/SingleCell/lib/python3.10/site-packages/lightning/pytorch/trainer/connectors/data_connector.py:425: The 'train_dataloader' does not have many workers which may be a bottleneck. Consider increasing the value of the `num_workers` argument` to `num_workers=7` in the `DataLoader` to improve performance.\n"
     ]
    },
    {
     "data": {
      "application/vnd.jupyter.widget-view+json": {
       "model_id": "712d8289c30f4ef98d9495816bc990ba",
       "version_major": 2,
       "version_minor": 0
      },
      "text/plain": [
       "Training:   0%|          | 0/400 [00:00<?, ?it/s]"
      ]
     },
     "metadata": {},
     "output_type": "display_data"
    },
    {
     "name": "stderr",
     "output_type": "stream",
     "text": [
      "`Trainer.fit` stopped: `max_epochs=400` reached.\n"
     ]
    },
    {
     "name": "stdout",
     "output_type": "stream",
     "text": [
      "\u001b[34mINFO    \u001b[0m Creating doublets, preparing SOLO model.                                                                  \n"
     ]
    },
    {
     "name": "stderr",
     "output_type": "stream",
     "text": [
      "/Users/thorsten/.pyenv/versions/3.10.6/envs/SingleCell/lib/python3.10/site-packages/scvi/train/_trainrunner.py:69: UserWarning: `accelerator` has been automatically set to `cpu` although 'mps' exists. If you wish to run on mps backend, use explicitly accelerator=='mps' in train function.In future releases it will become default for mps supported machines.\n",
      "  accelerator, lightning_devices, device = parse_device_args(\n",
      "GPU available: True (mps), used: False\n",
      "TPU available: False, using: 0 TPU cores\n",
      "HPU available: False, using: 0 HPUs\n",
      "/Users/thorsten/.pyenv/versions/3.10.6/envs/SingleCell/lib/python3.10/site-packages/lightning/pytorch/trainer/setup.py:177: GPU available but not used. You can set it by doing `Trainer(accelerator='gpu')`.\n",
      "/Users/thorsten/.pyenv/versions/3.10.6/envs/SingleCell/lib/python3.10/site-packages/lightning/pytorch/trainer/connectors/data_connector.py:425: The 'train_dataloader' does not have many workers which may be a bottleneck. Consider increasing the value of the `num_workers` argument` to `num_workers=7` in the `DataLoader` to improve performance.\n",
      "/Users/thorsten/.pyenv/versions/3.10.6/envs/SingleCell/lib/python3.10/site-packages/lightning/pytorch/trainer/connectors/data_connector.py:425: The 'val_dataloader' does not have many workers which may be a bottleneck. Consider increasing the value of the `num_workers` argument` to `num_workers=7` in the `DataLoader` to improve performance.\n"
     ]
    },
    {
     "data": {
      "application/vnd.jupyter.widget-view+json": {
       "model_id": "aa98618e28af472a9ecfcddec5787075",
       "version_major": 2,
       "version_minor": 0
      },
      "text/plain": [
       "Training:   0%|          | 0/400 [00:00<?, ?it/s]"
      ]
     },
     "metadata": {},
     "output_type": "display_data"
    },
    {
     "name": "stdout",
     "output_type": "stream",
     "text": [
      "Monitored metric validation_loss did not improve in the last 30 records. Best score: 0.311. Signaling Trainer to stop.\n"
     ]
    },
    {
     "name": "stderr",
     "output_type": "stream",
     "text": [
      "/Users/thorsten/.pyenv/versions/3.10.6/envs/SingleCell/lib/python3.10/site-packages/torch/utils/_contextlib.py:116: UserWarning: Prior to scvi-tools 1.1.3, `SOLO.predict` with `soft=True` (the default option) returned logits instead of probabilities. This behavior has since been corrected to return probabiltiies. The previous behavior can be replicated by passing in `return_logits=True`.\n",
      "  return func(*args, **kwargs)\n",
      "/Users/thorsten/.pyenv/versions/3.10.6/envs/SingleCell/lib/python3.10/site-packages/torch/utils/_contextlib.py:116: UserWarning: Prior to scvi-tools 1.1.3, `SOLO.predict` with `soft=True` (the default option) returned logits instead of probabilities. This behavior has since been corrected to return probabiltiies. The previous behavior can be replicated by passing in `return_logits=True`.\n",
      "  return func(*args, **kwargs)\n",
      "/Users/thorsten/.pyenv/versions/3.10.6/envs/SingleCell/lib/python3.10/site-packages/scanpy/preprocessing/_simple.py:176: ImplicitModificationWarning: Trying to modify attribute `.obs` of view, initializing view as actual.\n",
      "  adata.obs[\"n_genes\"] = number\n",
      "/Users/thorsten/.pyenv/versions/3.10.6/envs/SingleCell/lib/python3.10/site-packages/anndata/_core/anndata.py:602: FutureWarning: You are attempting to set `X` to a matrix on a view which has non-unique indices. The resulting `adata.X` will likely not equal the value to which you set it. To avoid this potential issue, please make a copy of the data first. In the future, this operation will throw an error.\n",
      "  warnings.warn(msg, FutureWarning, stacklevel=1)\n",
      "/var/folders/vn/wdw36m4d5k13n07b5xlhgmsr0000gn/T/ipykernel_69002/1836990459.py:36: UserWarning: Trying to set a dense array with a sparse array on a view.Densifying the sparse array.This may incur excessive memory usage\n",
      "  adata.X = csr_matrix(adata.X)\n",
      "/var/folders/vn/wdw36m4d5k13n07b5xlhgmsr0000gn/T/ipykernel_69002/1836990459.py:36: ImplicitModificationWarning: Modifying `X` on a view results in data being overridden\n",
      "  adata.X = csr_matrix(adata.X)\n",
      "/Users/thorsten/.pyenv/versions/3.10.6/envs/SingleCell/lib/python3.10/site-packages/scvi/train/_trainrunner.py:69: UserWarning: `accelerator` has been automatically set to `cpu` although 'mps' exists. If you wish to run on mps backend, use explicitly accelerator=='mps' in train function.In future releases it will become default for mps supported machines.\n",
      "  accelerator, lightning_devices, device = parse_device_args(\n",
      "GPU available: True (mps), used: False\n",
      "TPU available: False, using: 0 TPU cores\n",
      "HPU available: False, using: 0 HPUs\n",
      "/Users/thorsten/.pyenv/versions/3.10.6/envs/SingleCell/lib/python3.10/site-packages/lightning/pytorch/trainer/setup.py:177: GPU available but not used. You can set it by doing `Trainer(accelerator='gpu')`.\n",
      "/Users/thorsten/.pyenv/versions/3.10.6/envs/SingleCell/lib/python3.10/site-packages/lightning/pytorch/trainer/connectors/data_connector.py:425: The 'train_dataloader' does not have many workers which may be a bottleneck. Consider increasing the value of the `num_workers` argument` to `num_workers=7` in the `DataLoader` to improve performance.\n"
     ]
    },
    {
     "data": {
      "application/vnd.jupyter.widget-view+json": {
       "model_id": "db3182117d604d7c997dfb92529e6d3c",
       "version_major": 2,
       "version_minor": 0
      },
      "text/plain": [
       "Training:   0%|          | 0/400 [00:00<?, ?it/s]"
      ]
     },
     "metadata": {},
     "output_type": "display_data"
    },
    {
     "name": "stderr",
     "output_type": "stream",
     "text": [
      "`Trainer.fit` stopped: `max_epochs=400` reached.\n"
     ]
    },
    {
     "name": "stdout",
     "output_type": "stream",
     "text": [
      "\u001b[34mINFO    \u001b[0m Creating doublets, preparing SOLO model.                                                                  \n"
     ]
    },
    {
     "name": "stderr",
     "output_type": "stream",
     "text": [
      "/Users/thorsten/.pyenv/versions/3.10.6/envs/SingleCell/lib/python3.10/site-packages/scvi/train/_trainrunner.py:69: UserWarning: `accelerator` has been automatically set to `cpu` although 'mps' exists. If you wish to run on mps backend, use explicitly accelerator=='mps' in train function.In future releases it will become default for mps supported machines.\n",
      "  accelerator, lightning_devices, device = parse_device_args(\n",
      "GPU available: True (mps), used: False\n",
      "TPU available: False, using: 0 TPU cores\n",
      "HPU available: False, using: 0 HPUs\n",
      "/Users/thorsten/.pyenv/versions/3.10.6/envs/SingleCell/lib/python3.10/site-packages/lightning/pytorch/trainer/setup.py:177: GPU available but not used. You can set it by doing `Trainer(accelerator='gpu')`.\n",
      "/Users/thorsten/.pyenv/versions/3.10.6/envs/SingleCell/lib/python3.10/site-packages/lightning/pytorch/trainer/connectors/data_connector.py:425: The 'train_dataloader' does not have many workers which may be a bottleneck. Consider increasing the value of the `num_workers` argument` to `num_workers=7` in the `DataLoader` to improve performance.\n",
      "/Users/thorsten/.pyenv/versions/3.10.6/envs/SingleCell/lib/python3.10/site-packages/lightning/pytorch/trainer/connectors/data_connector.py:425: The 'val_dataloader' does not have many workers which may be a bottleneck. Consider increasing the value of the `num_workers` argument` to `num_workers=7` in the `DataLoader` to improve performance.\n"
     ]
    },
    {
     "data": {
      "application/vnd.jupyter.widget-view+json": {
       "model_id": "551e28ba57ea45839d3603ffa25606dc",
       "version_major": 2,
       "version_minor": 0
      },
      "text/plain": [
       "Training:   0%|          | 0/400 [00:00<?, ?it/s]"
      ]
     },
     "metadata": {},
     "output_type": "display_data"
    },
    {
     "name": "stdout",
     "output_type": "stream",
     "text": [
      "Monitored metric validation_loss did not improve in the last 30 records. Best score: 0.344. Signaling Trainer to stop.\n"
     ]
    },
    {
     "name": "stderr",
     "output_type": "stream",
     "text": [
      "/Users/thorsten/.pyenv/versions/3.10.6/envs/SingleCell/lib/python3.10/site-packages/torch/utils/_contextlib.py:116: UserWarning: Prior to scvi-tools 1.1.3, `SOLO.predict` with `soft=True` (the default option) returned logits instead of probabilities. This behavior has since been corrected to return probabiltiies. The previous behavior can be replicated by passing in `return_logits=True`.\n",
      "  return func(*args, **kwargs)\n",
      "/Users/thorsten/.pyenv/versions/3.10.6/envs/SingleCell/lib/python3.10/site-packages/torch/utils/_contextlib.py:116: UserWarning: Prior to scvi-tools 1.1.3, `SOLO.predict` with `soft=True` (the default option) returned logits instead of probabilities. This behavior has since been corrected to return probabiltiies. The previous behavior can be replicated by passing in `return_logits=True`.\n",
      "  return func(*args, **kwargs)\n",
      "/Users/thorsten/.pyenv/versions/3.10.6/envs/SingleCell/lib/python3.10/site-packages/scanpy/preprocessing/_simple.py:176: ImplicitModificationWarning: Trying to modify attribute `.obs` of view, initializing view as actual.\n",
      "  adata.obs[\"n_genes\"] = number\n",
      "/Users/thorsten/.pyenv/versions/3.10.6/envs/SingleCell/lib/python3.10/site-packages/anndata/_core/anndata.py:602: FutureWarning: You are attempting to set `X` to a matrix on a view which has non-unique indices. The resulting `adata.X` will likely not equal the value to which you set it. To avoid this potential issue, please make a copy of the data first. In the future, this operation will throw an error.\n",
      "  warnings.warn(msg, FutureWarning, stacklevel=1)\n",
      "/var/folders/vn/wdw36m4d5k13n07b5xlhgmsr0000gn/T/ipykernel_69002/1836990459.py:36: UserWarning: Trying to set a dense array with a sparse array on a view.Densifying the sparse array.This may incur excessive memory usage\n",
      "  adata.X = csr_matrix(adata.X)\n",
      "/var/folders/vn/wdw36m4d5k13n07b5xlhgmsr0000gn/T/ipykernel_69002/1836990459.py:36: ImplicitModificationWarning: Modifying `X` on a view results in data being overridden\n",
      "  adata.X = csr_matrix(adata.X)\n",
      "/Users/thorsten/.pyenv/versions/3.10.6/envs/SingleCell/lib/python3.10/site-packages/scvi/train/_trainrunner.py:69: UserWarning: `accelerator` has been automatically set to `cpu` although 'mps' exists. If you wish to run on mps backend, use explicitly accelerator=='mps' in train function.In future releases it will become default for mps supported machines.\n",
      "  accelerator, lightning_devices, device = parse_device_args(\n",
      "GPU available: True (mps), used: False\n",
      "TPU available: False, using: 0 TPU cores\n",
      "HPU available: False, using: 0 HPUs\n",
      "/Users/thorsten/.pyenv/versions/3.10.6/envs/SingleCell/lib/python3.10/site-packages/lightning/pytorch/trainer/setup.py:177: GPU available but not used. You can set it by doing `Trainer(accelerator='gpu')`.\n",
      "/Users/thorsten/.pyenv/versions/3.10.6/envs/SingleCell/lib/python3.10/site-packages/lightning/pytorch/trainer/connectors/data_connector.py:425: The 'train_dataloader' does not have many workers which may be a bottleneck. Consider increasing the value of the `num_workers` argument` to `num_workers=7` in the `DataLoader` to improve performance.\n"
     ]
    },
    {
     "data": {
      "application/vnd.jupyter.widget-view+json": {
       "model_id": "926f56971b3f47fbb532519655312001",
       "version_major": 2,
       "version_minor": 0
      },
      "text/plain": [
       "Training:   0%|          | 0/400 [00:00<?, ?it/s]"
      ]
     },
     "metadata": {},
     "output_type": "display_data"
    },
    {
     "name": "stderr",
     "output_type": "stream",
     "text": [
      "`Trainer.fit` stopped: `max_epochs=400` reached.\n"
     ]
    },
    {
     "name": "stdout",
     "output_type": "stream",
     "text": [
      "\u001b[34mINFO    \u001b[0m Creating doublets, preparing SOLO model.                                                                  \n"
     ]
    },
    {
     "name": "stderr",
     "output_type": "stream",
     "text": [
      "/Users/thorsten/.pyenv/versions/3.10.6/envs/SingleCell/lib/python3.10/site-packages/scvi/train/_trainrunner.py:69: UserWarning: `accelerator` has been automatically set to `cpu` although 'mps' exists. If you wish to run on mps backend, use explicitly accelerator=='mps' in train function.In future releases it will become default for mps supported machines.\n",
      "  accelerator, lightning_devices, device = parse_device_args(\n",
      "GPU available: True (mps), used: False\n",
      "TPU available: False, using: 0 TPU cores\n",
      "HPU available: False, using: 0 HPUs\n",
      "/Users/thorsten/.pyenv/versions/3.10.6/envs/SingleCell/lib/python3.10/site-packages/lightning/pytorch/trainer/setup.py:177: GPU available but not used. You can set it by doing `Trainer(accelerator='gpu')`.\n",
      "/Users/thorsten/.pyenv/versions/3.10.6/envs/SingleCell/lib/python3.10/site-packages/lightning/pytorch/trainer/connectors/data_connector.py:425: The 'train_dataloader' does not have many workers which may be a bottleneck. Consider increasing the value of the `num_workers` argument` to `num_workers=7` in the `DataLoader` to improve performance.\n",
      "/Users/thorsten/.pyenv/versions/3.10.6/envs/SingleCell/lib/python3.10/site-packages/lightning/pytorch/trainer/connectors/data_connector.py:425: The 'val_dataloader' does not have many workers which may be a bottleneck. Consider increasing the value of the `num_workers` argument` to `num_workers=7` in the `DataLoader` to improve performance.\n"
     ]
    },
    {
     "data": {
      "application/vnd.jupyter.widget-view+json": {
       "model_id": "3f7918f2917b4c458c1236c5808814ef",
       "version_major": 2,
       "version_minor": 0
      },
      "text/plain": [
       "Training:   0%|          | 0/400 [00:00<?, ?it/s]"
      ]
     },
     "metadata": {},
     "output_type": "display_data"
    },
    {
     "name": "stdout",
     "output_type": "stream",
     "text": [
      "Monitored metric validation_loss did not improve in the last 30 records. Best score: 0.299. Signaling Trainer to stop.\n"
     ]
    },
    {
     "name": "stderr",
     "output_type": "stream",
     "text": [
      "/Users/thorsten/.pyenv/versions/3.10.6/envs/SingleCell/lib/python3.10/site-packages/torch/utils/_contextlib.py:116: UserWarning: Prior to scvi-tools 1.1.3, `SOLO.predict` with `soft=True` (the default option) returned logits instead of probabilities. This behavior has since been corrected to return probabiltiies. The previous behavior can be replicated by passing in `return_logits=True`.\n",
      "  return func(*args, **kwargs)\n",
      "/Users/thorsten/.pyenv/versions/3.10.6/envs/SingleCell/lib/python3.10/site-packages/torch/utils/_contextlib.py:116: UserWarning: Prior to scvi-tools 1.1.3, `SOLO.predict` with `soft=True` (the default option) returned logits instead of probabilities. This behavior has since been corrected to return probabiltiies. The previous behavior can be replicated by passing in `return_logits=True`.\n",
      "  return func(*args, **kwargs)\n",
      "/Users/thorsten/.pyenv/versions/3.10.6/envs/SingleCell/lib/python3.10/site-packages/scanpy/preprocessing/_simple.py:176: ImplicitModificationWarning: Trying to modify attribute `.obs` of view, initializing view as actual.\n",
      "  adata.obs[\"n_genes\"] = number\n",
      "/Users/thorsten/.pyenv/versions/3.10.6/envs/SingleCell/lib/python3.10/site-packages/anndata/_core/anndata.py:602: FutureWarning: You are attempting to set `X` to a matrix on a view which has non-unique indices. The resulting `adata.X` will likely not equal the value to which you set it. To avoid this potential issue, please make a copy of the data first. In the future, this operation will throw an error.\n",
      "  warnings.warn(msg, FutureWarning, stacklevel=1)\n",
      "/var/folders/vn/wdw36m4d5k13n07b5xlhgmsr0000gn/T/ipykernel_69002/1836990459.py:36: UserWarning: Trying to set a dense array with a sparse array on a view.Densifying the sparse array.This may incur excessive memory usage\n",
      "  adata.X = csr_matrix(adata.X)\n",
      "/var/folders/vn/wdw36m4d5k13n07b5xlhgmsr0000gn/T/ipykernel_69002/1836990459.py:36: ImplicitModificationWarning: Modifying `X` on a view results in data being overridden\n",
      "  adata.X = csr_matrix(adata.X)\n",
      "/Users/thorsten/.pyenv/versions/3.10.6/envs/SingleCell/lib/python3.10/site-packages/scvi/train/_trainrunner.py:69: UserWarning: `accelerator` has been automatically set to `cpu` although 'mps' exists. If you wish to run on mps backend, use explicitly accelerator=='mps' in train function.In future releases it will become default for mps supported machines.\n",
      "  accelerator, lightning_devices, device = parse_device_args(\n",
      "GPU available: True (mps), used: False\n",
      "TPU available: False, using: 0 TPU cores\n",
      "HPU available: False, using: 0 HPUs\n",
      "/Users/thorsten/.pyenv/versions/3.10.6/envs/SingleCell/lib/python3.10/site-packages/lightning/pytorch/trainer/setup.py:177: GPU available but not used. You can set it by doing `Trainer(accelerator='gpu')`.\n",
      "/Users/thorsten/.pyenv/versions/3.10.6/envs/SingleCell/lib/python3.10/site-packages/lightning/pytorch/trainer/connectors/data_connector.py:425: The 'train_dataloader' does not have many workers which may be a bottleneck. Consider increasing the value of the `num_workers` argument` to `num_workers=7` in the `DataLoader` to improve performance.\n"
     ]
    },
    {
     "data": {
      "application/vnd.jupyter.widget-view+json": {
       "model_id": "0d99fc01cd4f4aeaa07fd0841b1d2fab",
       "version_major": 2,
       "version_minor": 0
      },
      "text/plain": [
       "Training:   0%|          | 0/400 [00:00<?, ?it/s]"
      ]
     },
     "metadata": {},
     "output_type": "display_data"
    },
    {
     "name": "stderr",
     "output_type": "stream",
     "text": [
      "`Trainer.fit` stopped: `max_epochs=400` reached.\n"
     ]
    },
    {
     "name": "stdout",
     "output_type": "stream",
     "text": [
      "\u001b[34mINFO    \u001b[0m Creating doublets, preparing SOLO model.                                                                  \n"
     ]
    },
    {
     "name": "stderr",
     "output_type": "stream",
     "text": [
      "/Users/thorsten/.pyenv/versions/3.10.6/envs/SingleCell/lib/python3.10/site-packages/scvi/train/_trainrunner.py:69: UserWarning: `accelerator` has been automatically set to `cpu` although 'mps' exists. If you wish to run on mps backend, use explicitly accelerator=='mps' in train function.In future releases it will become default for mps supported machines.\n",
      "  accelerator, lightning_devices, device = parse_device_args(\n",
      "GPU available: True (mps), used: False\n",
      "TPU available: False, using: 0 TPU cores\n",
      "HPU available: False, using: 0 HPUs\n",
      "/Users/thorsten/.pyenv/versions/3.10.6/envs/SingleCell/lib/python3.10/site-packages/lightning/pytorch/trainer/setup.py:177: GPU available but not used. You can set it by doing `Trainer(accelerator='gpu')`.\n",
      "/Users/thorsten/.pyenv/versions/3.10.6/envs/SingleCell/lib/python3.10/site-packages/lightning/pytorch/trainer/connectors/data_connector.py:425: The 'train_dataloader' does not have many workers which may be a bottleneck. Consider increasing the value of the `num_workers` argument` to `num_workers=7` in the `DataLoader` to improve performance.\n",
      "/Users/thorsten/.pyenv/versions/3.10.6/envs/SingleCell/lib/python3.10/site-packages/lightning/pytorch/trainer/connectors/data_connector.py:425: The 'val_dataloader' does not have many workers which may be a bottleneck. Consider increasing the value of the `num_workers` argument` to `num_workers=7` in the `DataLoader` to improve performance.\n"
     ]
    },
    {
     "data": {
      "application/vnd.jupyter.widget-view+json": {
       "model_id": "764b5f382145439bb6531f38da815b21",
       "version_major": 2,
       "version_minor": 0
      },
      "text/plain": [
       "Training:   0%|          | 0/400 [00:00<?, ?it/s]"
      ]
     },
     "metadata": {},
     "output_type": "display_data"
    },
    {
     "name": "stdout",
     "output_type": "stream",
     "text": [
      "Monitored metric validation_loss did not improve in the last 30 records. Best score: 0.289. Signaling Trainer to stop.\n"
     ]
    },
    {
     "name": "stderr",
     "output_type": "stream",
     "text": [
      "/Users/thorsten/.pyenv/versions/3.10.6/envs/SingleCell/lib/python3.10/site-packages/torch/utils/_contextlib.py:116: UserWarning: Prior to scvi-tools 1.1.3, `SOLO.predict` with `soft=True` (the default option) returned logits instead of probabilities. This behavior has since been corrected to return probabiltiies. The previous behavior can be replicated by passing in `return_logits=True`.\n",
      "  return func(*args, **kwargs)\n",
      "/Users/thorsten/.pyenv/versions/3.10.6/envs/SingleCell/lib/python3.10/site-packages/torch/utils/_contextlib.py:116: UserWarning: Prior to scvi-tools 1.1.3, `SOLO.predict` with `soft=True` (the default option) returned logits instead of probabilities. This behavior has since been corrected to return probabiltiies. The previous behavior can be replicated by passing in `return_logits=True`.\n",
      "  return func(*args, **kwargs)\n",
      "/Users/thorsten/.pyenv/versions/3.10.6/envs/SingleCell/lib/python3.10/site-packages/scanpy/preprocessing/_simple.py:176: ImplicitModificationWarning: Trying to modify attribute `.obs` of view, initializing view as actual.\n",
      "  adata.obs[\"n_genes\"] = number\n",
      "/Users/thorsten/.pyenv/versions/3.10.6/envs/SingleCell/lib/python3.10/site-packages/anndata/_core/anndata.py:602: FutureWarning: You are attempting to set `X` to a matrix on a view which has non-unique indices. The resulting `adata.X` will likely not equal the value to which you set it. To avoid this potential issue, please make a copy of the data first. In the future, this operation will throw an error.\n",
      "  warnings.warn(msg, FutureWarning, stacklevel=1)\n",
      "/var/folders/vn/wdw36m4d5k13n07b5xlhgmsr0000gn/T/ipykernel_69002/1836990459.py:36: UserWarning: Trying to set a dense array with a sparse array on a view.Densifying the sparse array.This may incur excessive memory usage\n",
      "  adata.X = csr_matrix(adata.X)\n",
      "/var/folders/vn/wdw36m4d5k13n07b5xlhgmsr0000gn/T/ipykernel_69002/1836990459.py:36: ImplicitModificationWarning: Modifying `X` on a view results in data being overridden\n",
      "  adata.X = csr_matrix(adata.X)\n",
      "/Users/thorsten/.pyenv/versions/3.10.6/envs/SingleCell/lib/python3.10/site-packages/scvi/train/_trainrunner.py:69: UserWarning: `accelerator` has been automatically set to `cpu` although 'mps' exists. If you wish to run on mps backend, use explicitly accelerator=='mps' in train function.In future releases it will become default for mps supported machines.\n",
      "  accelerator, lightning_devices, device = parse_device_args(\n",
      "GPU available: True (mps), used: False\n",
      "TPU available: False, using: 0 TPU cores\n",
      "HPU available: False, using: 0 HPUs\n",
      "/Users/thorsten/.pyenv/versions/3.10.6/envs/SingleCell/lib/python3.10/site-packages/lightning/pytorch/trainer/setup.py:177: GPU available but not used. You can set it by doing `Trainer(accelerator='gpu')`.\n",
      "/Users/thorsten/.pyenv/versions/3.10.6/envs/SingleCell/lib/python3.10/site-packages/lightning/pytorch/trainer/connectors/data_connector.py:425: The 'train_dataloader' does not have many workers which may be a bottleneck. Consider increasing the value of the `num_workers` argument` to `num_workers=7` in the `DataLoader` to improve performance.\n"
     ]
    },
    {
     "data": {
      "application/vnd.jupyter.widget-view+json": {
       "model_id": "84ea07d43523473e91bcc27597005579",
       "version_major": 2,
       "version_minor": 0
      },
      "text/plain": [
       "Training:   0%|          | 0/400 [00:00<?, ?it/s]"
      ]
     },
     "metadata": {},
     "output_type": "display_data"
    },
    {
     "name": "stderr",
     "output_type": "stream",
     "text": [
      "`Trainer.fit` stopped: `max_epochs=400` reached.\n"
     ]
    },
    {
     "name": "stdout",
     "output_type": "stream",
     "text": [
      "\u001b[34mINFO    \u001b[0m Creating doublets, preparing SOLO model.                                                                  \n"
     ]
    },
    {
     "name": "stderr",
     "output_type": "stream",
     "text": [
      "/Users/thorsten/.pyenv/versions/3.10.6/envs/SingleCell/lib/python3.10/site-packages/scvi/train/_trainrunner.py:69: UserWarning: `accelerator` has been automatically set to `cpu` although 'mps' exists. If you wish to run on mps backend, use explicitly accelerator=='mps' in train function.In future releases it will become default for mps supported machines.\n",
      "  accelerator, lightning_devices, device = parse_device_args(\n",
      "GPU available: True (mps), used: False\n",
      "TPU available: False, using: 0 TPU cores\n",
      "HPU available: False, using: 0 HPUs\n",
      "/Users/thorsten/.pyenv/versions/3.10.6/envs/SingleCell/lib/python3.10/site-packages/lightning/pytorch/trainer/setup.py:177: GPU available but not used. You can set it by doing `Trainer(accelerator='gpu')`.\n",
      "/Users/thorsten/.pyenv/versions/3.10.6/envs/SingleCell/lib/python3.10/site-packages/lightning/pytorch/trainer/connectors/data_connector.py:425: The 'train_dataloader' does not have many workers which may be a bottleneck. Consider increasing the value of the `num_workers` argument` to `num_workers=7` in the `DataLoader` to improve performance.\n",
      "/Users/thorsten/.pyenv/versions/3.10.6/envs/SingleCell/lib/python3.10/site-packages/lightning/pytorch/trainer/connectors/data_connector.py:425: The 'val_dataloader' does not have many workers which may be a bottleneck. Consider increasing the value of the `num_workers` argument` to `num_workers=7` in the `DataLoader` to improve performance.\n"
     ]
    },
    {
     "data": {
      "application/vnd.jupyter.widget-view+json": {
       "model_id": "9e2cdf0067e94a29971e607c5e5e8130",
       "version_major": 2,
       "version_minor": 0
      },
      "text/plain": [
       "Training:   0%|          | 0/400 [00:00<?, ?it/s]"
      ]
     },
     "metadata": {},
     "output_type": "display_data"
    },
    {
     "name": "stdout",
     "output_type": "stream",
     "text": [
      "Monitored metric validation_loss did not improve in the last 30 records. Best score: 0.320. Signaling Trainer to stop.\n"
     ]
    },
    {
     "name": "stderr",
     "output_type": "stream",
     "text": [
      "/Users/thorsten/.pyenv/versions/3.10.6/envs/SingleCell/lib/python3.10/site-packages/torch/utils/_contextlib.py:116: UserWarning: Prior to scvi-tools 1.1.3, `SOLO.predict` with `soft=True` (the default option) returned logits instead of probabilities. This behavior has since been corrected to return probabiltiies. The previous behavior can be replicated by passing in `return_logits=True`.\n",
      "  return func(*args, **kwargs)\n",
      "/Users/thorsten/.pyenv/versions/3.10.6/envs/SingleCell/lib/python3.10/site-packages/torch/utils/_contextlib.py:116: UserWarning: Prior to scvi-tools 1.1.3, `SOLO.predict` with `soft=True` (the default option) returned logits instead of probabilities. This behavior has since been corrected to return probabiltiies. The previous behavior can be replicated by passing in `return_logits=True`.\n",
      "  return func(*args, **kwargs)\n",
      "/Users/thorsten/.pyenv/versions/3.10.6/envs/SingleCell/lib/python3.10/site-packages/scanpy/preprocessing/_simple.py:176: ImplicitModificationWarning: Trying to modify attribute `.obs` of view, initializing view as actual.\n",
      "  adata.obs[\"n_genes\"] = number\n",
      "/Users/thorsten/.pyenv/versions/3.10.6/envs/SingleCell/lib/python3.10/site-packages/anndata/_core/anndata.py:602: FutureWarning: You are attempting to set `X` to a matrix on a view which has non-unique indices. The resulting `adata.X` will likely not equal the value to which you set it. To avoid this potential issue, please make a copy of the data first. In the future, this operation will throw an error.\n",
      "  warnings.warn(msg, FutureWarning, stacklevel=1)\n",
      "/var/folders/vn/wdw36m4d5k13n07b5xlhgmsr0000gn/T/ipykernel_69002/1836990459.py:36: UserWarning: Trying to set a dense array with a sparse array on a view.Densifying the sparse array.This may incur excessive memory usage\n",
      "  adata.X = csr_matrix(adata.X)\n",
      "/var/folders/vn/wdw36m4d5k13n07b5xlhgmsr0000gn/T/ipykernel_69002/1836990459.py:36: ImplicitModificationWarning: Modifying `X` on a view results in data being overridden\n",
      "  adata.X = csr_matrix(adata.X)\n",
      "/Users/thorsten/.pyenv/versions/3.10.6/envs/SingleCell/lib/python3.10/site-packages/scvi/train/_trainrunner.py:69: UserWarning: `accelerator` has been automatically set to `cpu` although 'mps' exists. If you wish to run on mps backend, use explicitly accelerator=='mps' in train function.In future releases it will become default for mps supported machines.\n",
      "  accelerator, lightning_devices, device = parse_device_args(\n",
      "GPU available: True (mps), used: False\n",
      "TPU available: False, using: 0 TPU cores\n",
      "HPU available: False, using: 0 HPUs\n",
      "/Users/thorsten/.pyenv/versions/3.10.6/envs/SingleCell/lib/python3.10/site-packages/lightning/pytorch/trainer/setup.py:177: GPU available but not used. You can set it by doing `Trainer(accelerator='gpu')`.\n",
      "/Users/thorsten/.pyenv/versions/3.10.6/envs/SingleCell/lib/python3.10/site-packages/lightning/pytorch/trainer/connectors/data_connector.py:425: The 'train_dataloader' does not have many workers which may be a bottleneck. Consider increasing the value of the `num_workers` argument` to `num_workers=7` in the `DataLoader` to improve performance.\n"
     ]
    },
    {
     "data": {
      "application/vnd.jupyter.widget-view+json": {
       "model_id": "2820d90219644184983e09b1a22664b6",
       "version_major": 2,
       "version_minor": 0
      },
      "text/plain": [
       "Training:   0%|          | 0/400 [00:00<?, ?it/s]"
      ]
     },
     "metadata": {},
     "output_type": "display_data"
    },
    {
     "name": "stderr",
     "output_type": "stream",
     "text": [
      "`Trainer.fit` stopped: `max_epochs=400` reached.\n"
     ]
    },
    {
     "name": "stdout",
     "output_type": "stream",
     "text": [
      "\u001b[34mINFO    \u001b[0m Creating doublets, preparing SOLO model.                                                                  \n"
     ]
    },
    {
     "name": "stderr",
     "output_type": "stream",
     "text": [
      "/Users/thorsten/.pyenv/versions/3.10.6/envs/SingleCell/lib/python3.10/site-packages/scvi/train/_trainrunner.py:69: UserWarning: `accelerator` has been automatically set to `cpu` although 'mps' exists. If you wish to run on mps backend, use explicitly accelerator=='mps' in train function.In future releases it will become default for mps supported machines.\n",
      "  accelerator, lightning_devices, device = parse_device_args(\n",
      "GPU available: True (mps), used: False\n",
      "TPU available: False, using: 0 TPU cores\n",
      "HPU available: False, using: 0 HPUs\n",
      "/Users/thorsten/.pyenv/versions/3.10.6/envs/SingleCell/lib/python3.10/site-packages/lightning/pytorch/trainer/setup.py:177: GPU available but not used. You can set it by doing `Trainer(accelerator='gpu')`.\n",
      "/Users/thorsten/.pyenv/versions/3.10.6/envs/SingleCell/lib/python3.10/site-packages/lightning/pytorch/trainer/connectors/data_connector.py:425: The 'train_dataloader' does not have many workers which may be a bottleneck. Consider increasing the value of the `num_workers` argument` to `num_workers=7` in the `DataLoader` to improve performance.\n",
      "/Users/thorsten/.pyenv/versions/3.10.6/envs/SingleCell/lib/python3.10/site-packages/lightning/pytorch/trainer/connectors/data_connector.py:425: The 'val_dataloader' does not have many workers which may be a bottleneck. Consider increasing the value of the `num_workers` argument` to `num_workers=7` in the `DataLoader` to improve performance.\n"
     ]
    },
    {
     "data": {
      "application/vnd.jupyter.widget-view+json": {
       "model_id": "06402f0c14ff4fff99c1cd63f700cbbc",
       "version_major": 2,
       "version_minor": 0
      },
      "text/plain": [
       "Training:   0%|          | 0/400 [00:00<?, ?it/s]"
      ]
     },
     "metadata": {},
     "output_type": "display_data"
    },
    {
     "name": "stdout",
     "output_type": "stream",
     "text": [
      "Monitored metric validation_loss did not improve in the last 30 records. Best score: 0.286. Signaling Trainer to stop.\n"
     ]
    },
    {
     "name": "stderr",
     "output_type": "stream",
     "text": [
      "/Users/thorsten/.pyenv/versions/3.10.6/envs/SingleCell/lib/python3.10/site-packages/torch/utils/_contextlib.py:116: UserWarning: Prior to scvi-tools 1.1.3, `SOLO.predict` with `soft=True` (the default option) returned logits instead of probabilities. This behavior has since been corrected to return probabiltiies. The previous behavior can be replicated by passing in `return_logits=True`.\n",
      "  return func(*args, **kwargs)\n",
      "/Users/thorsten/.pyenv/versions/3.10.6/envs/SingleCell/lib/python3.10/site-packages/torch/utils/_contextlib.py:116: UserWarning: Prior to scvi-tools 1.1.3, `SOLO.predict` with `soft=True` (the default option) returned logits instead of probabilities. This behavior has since been corrected to return probabiltiies. The previous behavior can be replicated by passing in `return_logits=True`.\n",
      "  return func(*args, **kwargs)\n",
      "/Users/thorsten/.pyenv/versions/3.10.6/envs/SingleCell/lib/python3.10/site-packages/scanpy/preprocessing/_simple.py:176: ImplicitModificationWarning: Trying to modify attribute `.obs` of view, initializing view as actual.\n",
      "  adata.obs[\"n_genes\"] = number\n",
      "/Users/thorsten/.pyenv/versions/3.10.6/envs/SingleCell/lib/python3.10/site-packages/anndata/_core/anndata.py:602: FutureWarning: You are attempting to set `X` to a matrix on a view which has non-unique indices. The resulting `adata.X` will likely not equal the value to which you set it. To avoid this potential issue, please make a copy of the data first. In the future, this operation will throw an error.\n",
      "  warnings.warn(msg, FutureWarning, stacklevel=1)\n",
      "/var/folders/vn/wdw36m4d5k13n07b5xlhgmsr0000gn/T/ipykernel_69002/1836990459.py:36: UserWarning: Trying to set a dense array with a sparse array on a view.Densifying the sparse array.This may incur excessive memory usage\n",
      "  adata.X = csr_matrix(adata.X)\n",
      "/var/folders/vn/wdw36m4d5k13n07b5xlhgmsr0000gn/T/ipykernel_69002/1836990459.py:36: ImplicitModificationWarning: Modifying `X` on a view results in data being overridden\n",
      "  adata.X = csr_matrix(adata.X)\n",
      "/Users/thorsten/.pyenv/versions/3.10.6/envs/SingleCell/lib/python3.10/site-packages/scvi/train/_trainrunner.py:69: UserWarning: `accelerator` has been automatically set to `cpu` although 'mps' exists. If you wish to run on mps backend, use explicitly accelerator=='mps' in train function.In future releases it will become default for mps supported machines.\n",
      "  accelerator, lightning_devices, device = parse_device_args(\n",
      "GPU available: True (mps), used: False\n",
      "TPU available: False, using: 0 TPU cores\n",
      "HPU available: False, using: 0 HPUs\n",
      "/Users/thorsten/.pyenv/versions/3.10.6/envs/SingleCell/lib/python3.10/site-packages/lightning/pytorch/trainer/setup.py:177: GPU available but not used. You can set it by doing `Trainer(accelerator='gpu')`.\n",
      "/Users/thorsten/.pyenv/versions/3.10.6/envs/SingleCell/lib/python3.10/site-packages/lightning/pytorch/trainer/connectors/data_connector.py:425: The 'train_dataloader' does not have many workers which may be a bottleneck. Consider increasing the value of the `num_workers` argument` to `num_workers=7` in the `DataLoader` to improve performance.\n"
     ]
    },
    {
     "data": {
      "application/vnd.jupyter.widget-view+json": {
       "model_id": "7d631841f74c48a39a0be2bc29b8354a",
       "version_major": 2,
       "version_minor": 0
      },
      "text/plain": [
       "Training:   0%|          | 0/400 [00:00<?, ?it/s]"
      ]
     },
     "metadata": {},
     "output_type": "display_data"
    },
    {
     "name": "stderr",
     "output_type": "stream",
     "text": [
      "`Trainer.fit` stopped: `max_epochs=400` reached.\n"
     ]
    },
    {
     "name": "stdout",
     "output_type": "stream",
     "text": [
      "\u001b[34mINFO    \u001b[0m Creating doublets, preparing SOLO model.                                                                  \n"
     ]
    },
    {
     "name": "stderr",
     "output_type": "stream",
     "text": [
      "/Users/thorsten/.pyenv/versions/3.10.6/envs/SingleCell/lib/python3.10/site-packages/scvi/train/_trainrunner.py:69: UserWarning: `accelerator` has been automatically set to `cpu` although 'mps' exists. If you wish to run on mps backend, use explicitly accelerator=='mps' in train function.In future releases it will become default for mps supported machines.\n",
      "  accelerator, lightning_devices, device = parse_device_args(\n",
      "GPU available: True (mps), used: False\n",
      "TPU available: False, using: 0 TPU cores\n",
      "HPU available: False, using: 0 HPUs\n",
      "/Users/thorsten/.pyenv/versions/3.10.6/envs/SingleCell/lib/python3.10/site-packages/lightning/pytorch/trainer/setup.py:177: GPU available but not used. You can set it by doing `Trainer(accelerator='gpu')`.\n",
      "/Users/thorsten/.pyenv/versions/3.10.6/envs/SingleCell/lib/python3.10/site-packages/lightning/pytorch/trainer/connectors/data_connector.py:425: The 'train_dataloader' does not have many workers which may be a bottleneck. Consider increasing the value of the `num_workers` argument` to `num_workers=7` in the `DataLoader` to improve performance.\n",
      "/Users/thorsten/.pyenv/versions/3.10.6/envs/SingleCell/lib/python3.10/site-packages/lightning/pytorch/trainer/connectors/data_connector.py:425: The 'val_dataloader' does not have many workers which may be a bottleneck. Consider increasing the value of the `num_workers` argument` to `num_workers=7` in the `DataLoader` to improve performance.\n"
     ]
    },
    {
     "data": {
      "application/vnd.jupyter.widget-view+json": {
       "model_id": "951793f08e4b41f2b16b09fc544fc4cb",
       "version_major": 2,
       "version_minor": 0
      },
      "text/plain": [
       "Training:   0%|          | 0/400 [00:00<?, ?it/s]"
      ]
     },
     "metadata": {},
     "output_type": "display_data"
    },
    {
     "name": "stdout",
     "output_type": "stream",
     "text": [
      "Monitored metric validation_loss did not improve in the last 30 records. Best score: 0.182. Signaling Trainer to stop.\n"
     ]
    },
    {
     "name": "stderr",
     "output_type": "stream",
     "text": [
      "/Users/thorsten/.pyenv/versions/3.10.6/envs/SingleCell/lib/python3.10/site-packages/torch/utils/_contextlib.py:116: UserWarning: Prior to scvi-tools 1.1.3, `SOLO.predict` with `soft=True` (the default option) returned logits instead of probabilities. This behavior has since been corrected to return probabiltiies. The previous behavior can be replicated by passing in `return_logits=True`.\n",
      "  return func(*args, **kwargs)\n",
      "/Users/thorsten/.pyenv/versions/3.10.6/envs/SingleCell/lib/python3.10/site-packages/torch/utils/_contextlib.py:116: UserWarning: Prior to scvi-tools 1.1.3, `SOLO.predict` with `soft=True` (the default option) returned logits instead of probabilities. This behavior has since been corrected to return probabiltiies. The previous behavior can be replicated by passing in `return_logits=True`.\n",
      "  return func(*args, **kwargs)\n",
      "/Users/thorsten/.pyenv/versions/3.10.6/envs/SingleCell/lib/python3.10/site-packages/scanpy/preprocessing/_simple.py:176: ImplicitModificationWarning: Trying to modify attribute `.obs` of view, initializing view as actual.\n",
      "  adata.obs[\"n_genes\"] = number\n",
      "/Users/thorsten/.pyenv/versions/3.10.6/envs/SingleCell/lib/python3.10/site-packages/anndata/_core/anndata.py:602: FutureWarning: You are attempting to set `X` to a matrix on a view which has non-unique indices. The resulting `adata.X` will likely not equal the value to which you set it. To avoid this potential issue, please make a copy of the data first. In the future, this operation will throw an error.\n",
      "  warnings.warn(msg, FutureWarning, stacklevel=1)\n",
      "/var/folders/vn/wdw36m4d5k13n07b5xlhgmsr0000gn/T/ipykernel_69002/1836990459.py:36: UserWarning: Trying to set a dense array with a sparse array on a view.Densifying the sparse array.This may incur excessive memory usage\n",
      "  adata.X = csr_matrix(adata.X)\n",
      "/var/folders/vn/wdw36m4d5k13n07b5xlhgmsr0000gn/T/ipykernel_69002/1836990459.py:36: ImplicitModificationWarning: Modifying `X` on a view results in data being overridden\n",
      "  adata.X = csr_matrix(adata.X)\n",
      "/Users/thorsten/.pyenv/versions/3.10.6/envs/SingleCell/lib/python3.10/site-packages/scvi/train/_trainrunner.py:69: UserWarning: `accelerator` has been automatically set to `cpu` although 'mps' exists. If you wish to run on mps backend, use explicitly accelerator=='mps' in train function.In future releases it will become default for mps supported machines.\n",
      "  accelerator, lightning_devices, device = parse_device_args(\n",
      "GPU available: True (mps), used: False\n",
      "TPU available: False, using: 0 TPU cores\n",
      "HPU available: False, using: 0 HPUs\n",
      "/Users/thorsten/.pyenv/versions/3.10.6/envs/SingleCell/lib/python3.10/site-packages/lightning/pytorch/trainer/setup.py:177: GPU available but not used. You can set it by doing `Trainer(accelerator='gpu')`.\n",
      "/Users/thorsten/.pyenv/versions/3.10.6/envs/SingleCell/lib/python3.10/site-packages/lightning/pytorch/trainer/connectors/data_connector.py:425: The 'train_dataloader' does not have many workers which may be a bottleneck. Consider increasing the value of the `num_workers` argument` to `num_workers=7` in the `DataLoader` to improve performance.\n"
     ]
    },
    {
     "data": {
      "application/vnd.jupyter.widget-view+json": {
       "model_id": "e0585a6ab799491fbc0b8adbe91dfb58",
       "version_major": 2,
       "version_minor": 0
      },
      "text/plain": [
       "Training:   0%|          | 0/400 [00:00<?, ?it/s]"
      ]
     },
     "metadata": {},
     "output_type": "display_data"
    },
    {
     "name": "stderr",
     "output_type": "stream",
     "text": [
      "`Trainer.fit` stopped: `max_epochs=400` reached.\n"
     ]
    },
    {
     "name": "stdout",
     "output_type": "stream",
     "text": [
      "\u001b[34mINFO    \u001b[0m Creating doublets, preparing SOLO model.                                                                  \n"
     ]
    },
    {
     "name": "stderr",
     "output_type": "stream",
     "text": [
      "/Users/thorsten/.pyenv/versions/3.10.6/envs/SingleCell/lib/python3.10/site-packages/scvi/train/_trainrunner.py:69: UserWarning: `accelerator` has been automatically set to `cpu` although 'mps' exists. If you wish to run on mps backend, use explicitly accelerator=='mps' in train function.In future releases it will become default for mps supported machines.\n",
      "  accelerator, lightning_devices, device = parse_device_args(\n",
      "GPU available: True (mps), used: False\n",
      "TPU available: False, using: 0 TPU cores\n",
      "HPU available: False, using: 0 HPUs\n",
      "/Users/thorsten/.pyenv/versions/3.10.6/envs/SingleCell/lib/python3.10/site-packages/lightning/pytorch/trainer/setup.py:177: GPU available but not used. You can set it by doing `Trainer(accelerator='gpu')`.\n",
      "/Users/thorsten/.pyenv/versions/3.10.6/envs/SingleCell/lib/python3.10/site-packages/lightning/pytorch/trainer/connectors/data_connector.py:425: The 'train_dataloader' does not have many workers which may be a bottleneck. Consider increasing the value of the `num_workers` argument` to `num_workers=7` in the `DataLoader` to improve performance.\n",
      "/Users/thorsten/.pyenv/versions/3.10.6/envs/SingleCell/lib/python3.10/site-packages/lightning/pytorch/trainer/connectors/data_connector.py:425: The 'val_dataloader' does not have many workers which may be a bottleneck. Consider increasing the value of the `num_workers` argument` to `num_workers=7` in the `DataLoader` to improve performance.\n"
     ]
    },
    {
     "data": {
      "application/vnd.jupyter.widget-view+json": {
       "model_id": "c26904ff642e487d81d437238ec5196b",
       "version_major": 2,
       "version_minor": 0
      },
      "text/plain": [
       "Training:   0%|          | 0/400 [00:00<?, ?it/s]"
      ]
     },
     "metadata": {},
     "output_type": "display_data"
    },
    {
     "name": "stdout",
     "output_type": "stream",
     "text": [
      "Monitored metric validation_loss did not improve in the last 30 records. Best score: 0.212. Signaling Trainer to stop.\n"
     ]
    },
    {
     "name": "stderr",
     "output_type": "stream",
     "text": [
      "/Users/thorsten/.pyenv/versions/3.10.6/envs/SingleCell/lib/python3.10/site-packages/torch/utils/_contextlib.py:116: UserWarning: Prior to scvi-tools 1.1.3, `SOLO.predict` with `soft=True` (the default option) returned logits instead of probabilities. This behavior has since been corrected to return probabiltiies. The previous behavior can be replicated by passing in `return_logits=True`.\n",
      "  return func(*args, **kwargs)\n",
      "/Users/thorsten/.pyenv/versions/3.10.6/envs/SingleCell/lib/python3.10/site-packages/torch/utils/_contextlib.py:116: UserWarning: Prior to scvi-tools 1.1.3, `SOLO.predict` with `soft=True` (the default option) returned logits instead of probabilities. This behavior has since been corrected to return probabiltiies. The previous behavior can be replicated by passing in `return_logits=True`.\n",
      "  return func(*args, **kwargs)\n",
      "/Users/thorsten/.pyenv/versions/3.10.6/envs/SingleCell/lib/python3.10/site-packages/scanpy/preprocessing/_simple.py:176: ImplicitModificationWarning: Trying to modify attribute `.obs` of view, initializing view as actual.\n",
      "  adata.obs[\"n_genes\"] = number\n",
      "/Users/thorsten/.pyenv/versions/3.10.6/envs/SingleCell/lib/python3.10/site-packages/anndata/_core/anndata.py:602: FutureWarning: You are attempting to set `X` to a matrix on a view which has non-unique indices. The resulting `adata.X` will likely not equal the value to which you set it. To avoid this potential issue, please make a copy of the data first. In the future, this operation will throw an error.\n",
      "  warnings.warn(msg, FutureWarning, stacklevel=1)\n",
      "/var/folders/vn/wdw36m4d5k13n07b5xlhgmsr0000gn/T/ipykernel_69002/1836990459.py:36: UserWarning: Trying to set a dense array with a sparse array on a view.Densifying the sparse array.This may incur excessive memory usage\n",
      "  adata.X = csr_matrix(adata.X)\n",
      "/var/folders/vn/wdw36m4d5k13n07b5xlhgmsr0000gn/T/ipykernel_69002/1836990459.py:36: ImplicitModificationWarning: Modifying `X` on a view results in data being overridden\n",
      "  adata.X = csr_matrix(adata.X)\n",
      "/Users/thorsten/.pyenv/versions/3.10.6/envs/SingleCell/lib/python3.10/site-packages/scvi/train/_trainrunner.py:69: UserWarning: `accelerator` has been automatically set to `cpu` although 'mps' exists. If you wish to run on mps backend, use explicitly accelerator=='mps' in train function.In future releases it will become default for mps supported machines.\n",
      "  accelerator, lightning_devices, device = parse_device_args(\n",
      "GPU available: True (mps), used: False\n",
      "TPU available: False, using: 0 TPU cores\n",
      "HPU available: False, using: 0 HPUs\n",
      "/Users/thorsten/.pyenv/versions/3.10.6/envs/SingleCell/lib/python3.10/site-packages/lightning/pytorch/trainer/setup.py:177: GPU available but not used. You can set it by doing `Trainer(accelerator='gpu')`.\n",
      "/Users/thorsten/.pyenv/versions/3.10.6/envs/SingleCell/lib/python3.10/site-packages/lightning/pytorch/trainer/connectors/data_connector.py:425: The 'train_dataloader' does not have many workers which may be a bottleneck. Consider increasing the value of the `num_workers` argument` to `num_workers=7` in the `DataLoader` to improve performance.\n"
     ]
    },
    {
     "data": {
      "application/vnd.jupyter.widget-view+json": {
       "model_id": "106365f8e1e24ccf8b5c27d48fcda059",
       "version_major": 2,
       "version_minor": 0
      },
      "text/plain": [
       "Training:   0%|          | 0/400 [00:00<?, ?it/s]"
      ]
     },
     "metadata": {},
     "output_type": "display_data"
    },
    {
     "name": "stderr",
     "output_type": "stream",
     "text": [
      "`Trainer.fit` stopped: `max_epochs=400` reached.\n"
     ]
    },
    {
     "name": "stdout",
     "output_type": "stream",
     "text": [
      "\u001b[34mINFO    \u001b[0m Creating doublets, preparing SOLO model.                                                                  \n"
     ]
    },
    {
     "name": "stderr",
     "output_type": "stream",
     "text": [
      "/Users/thorsten/.pyenv/versions/3.10.6/envs/SingleCell/lib/python3.10/site-packages/scvi/train/_trainrunner.py:69: UserWarning: `accelerator` has been automatically set to `cpu` although 'mps' exists. If you wish to run on mps backend, use explicitly accelerator=='mps' in train function.In future releases it will become default for mps supported machines.\n",
      "  accelerator, lightning_devices, device = parse_device_args(\n",
      "GPU available: True (mps), used: False\n",
      "TPU available: False, using: 0 TPU cores\n",
      "HPU available: False, using: 0 HPUs\n",
      "/Users/thorsten/.pyenv/versions/3.10.6/envs/SingleCell/lib/python3.10/site-packages/lightning/pytorch/trainer/setup.py:177: GPU available but not used. You can set it by doing `Trainer(accelerator='gpu')`.\n",
      "/Users/thorsten/.pyenv/versions/3.10.6/envs/SingleCell/lib/python3.10/site-packages/lightning/pytorch/trainer/connectors/data_connector.py:425: The 'train_dataloader' does not have many workers which may be a bottleneck. Consider increasing the value of the `num_workers` argument` to `num_workers=7` in the `DataLoader` to improve performance.\n",
      "/Users/thorsten/.pyenv/versions/3.10.6/envs/SingleCell/lib/python3.10/site-packages/lightning/pytorch/trainer/connectors/data_connector.py:425: The 'val_dataloader' does not have many workers which may be a bottleneck. Consider increasing the value of the `num_workers` argument` to `num_workers=7` in the `DataLoader` to improve performance.\n"
     ]
    },
    {
     "data": {
      "application/vnd.jupyter.widget-view+json": {
       "model_id": "ff008219be61462d893047c9bac21c18",
       "version_major": 2,
       "version_minor": 0
      },
      "text/plain": [
       "Training:   0%|          | 0/400 [00:00<?, ?it/s]"
      ]
     },
     "metadata": {},
     "output_type": "display_data"
    },
    {
     "name": "stdout",
     "output_type": "stream",
     "text": [
      "Monitored metric validation_loss did not improve in the last 30 records. Best score: 0.248. Signaling Trainer to stop.\n"
     ]
    },
    {
     "name": "stderr",
     "output_type": "stream",
     "text": [
      "/Users/thorsten/.pyenv/versions/3.10.6/envs/SingleCell/lib/python3.10/site-packages/torch/utils/_contextlib.py:116: UserWarning: Prior to scvi-tools 1.1.3, `SOLO.predict` with `soft=True` (the default option) returned logits instead of probabilities. This behavior has since been corrected to return probabiltiies. The previous behavior can be replicated by passing in `return_logits=True`.\n",
      "  return func(*args, **kwargs)\n",
      "/Users/thorsten/.pyenv/versions/3.10.6/envs/SingleCell/lib/python3.10/site-packages/torch/utils/_contextlib.py:116: UserWarning: Prior to scvi-tools 1.1.3, `SOLO.predict` with `soft=True` (the default option) returned logits instead of probabilities. This behavior has since been corrected to return probabiltiies. The previous behavior can be replicated by passing in `return_logits=True`.\n",
      "  return func(*args, **kwargs)\n",
      "/Users/thorsten/.pyenv/versions/3.10.6/envs/SingleCell/lib/python3.10/site-packages/scanpy/preprocessing/_simple.py:176: ImplicitModificationWarning: Trying to modify attribute `.obs` of view, initializing view as actual.\n",
      "  adata.obs[\"n_genes\"] = number\n",
      "/Users/thorsten/.pyenv/versions/3.10.6/envs/SingleCell/lib/python3.10/site-packages/anndata/_core/anndata.py:602: FutureWarning: You are attempting to set `X` to a matrix on a view which has non-unique indices. The resulting `adata.X` will likely not equal the value to which you set it. To avoid this potential issue, please make a copy of the data first. In the future, this operation will throw an error.\n",
      "  warnings.warn(msg, FutureWarning, stacklevel=1)\n",
      "/var/folders/vn/wdw36m4d5k13n07b5xlhgmsr0000gn/T/ipykernel_69002/1836990459.py:36: UserWarning: Trying to set a dense array with a sparse array on a view.Densifying the sparse array.This may incur excessive memory usage\n",
      "  adata.X = csr_matrix(adata.X)\n",
      "/var/folders/vn/wdw36m4d5k13n07b5xlhgmsr0000gn/T/ipykernel_69002/1836990459.py:36: ImplicitModificationWarning: Modifying `X` on a view results in data being overridden\n",
      "  adata.X = csr_matrix(adata.X)\n",
      "/Users/thorsten/.pyenv/versions/3.10.6/envs/SingleCell/lib/python3.10/site-packages/scvi/train/_trainrunner.py:69: UserWarning: `accelerator` has been automatically set to `cpu` although 'mps' exists. If you wish to run on mps backend, use explicitly accelerator=='mps' in train function.In future releases it will become default for mps supported machines.\n",
      "  accelerator, lightning_devices, device = parse_device_args(\n",
      "GPU available: True (mps), used: False\n",
      "TPU available: False, using: 0 TPU cores\n",
      "HPU available: False, using: 0 HPUs\n",
      "/Users/thorsten/.pyenv/versions/3.10.6/envs/SingleCell/lib/python3.10/site-packages/lightning/pytorch/trainer/setup.py:177: GPU available but not used. You can set it by doing `Trainer(accelerator='gpu')`.\n",
      "/Users/thorsten/.pyenv/versions/3.10.6/envs/SingleCell/lib/python3.10/site-packages/lightning/pytorch/trainer/connectors/data_connector.py:425: The 'train_dataloader' does not have many workers which may be a bottleneck. Consider increasing the value of the `num_workers` argument` to `num_workers=7` in the `DataLoader` to improve performance.\n"
     ]
    },
    {
     "data": {
      "application/vnd.jupyter.widget-view+json": {
       "model_id": "48b1adfd3f8042f893037a8c67608711",
       "version_major": 2,
       "version_minor": 0
      },
      "text/plain": [
       "Training:   0%|          | 0/400 [00:00<?, ?it/s]"
      ]
     },
     "metadata": {},
     "output_type": "display_data"
    },
    {
     "name": "stderr",
     "output_type": "stream",
     "text": [
      "`Trainer.fit` stopped: `max_epochs=400` reached.\n"
     ]
    },
    {
     "name": "stdout",
     "output_type": "stream",
     "text": [
      "\u001b[34mINFO    \u001b[0m Creating doublets, preparing SOLO model.                                                                  \n"
     ]
    },
    {
     "name": "stderr",
     "output_type": "stream",
     "text": [
      "/Users/thorsten/.pyenv/versions/3.10.6/envs/SingleCell/lib/python3.10/site-packages/scvi/train/_trainrunner.py:69: UserWarning: `accelerator` has been automatically set to `cpu` although 'mps' exists. If you wish to run on mps backend, use explicitly accelerator=='mps' in train function.In future releases it will become default for mps supported machines.\n",
      "  accelerator, lightning_devices, device = parse_device_args(\n",
      "GPU available: True (mps), used: False\n",
      "TPU available: False, using: 0 TPU cores\n",
      "HPU available: False, using: 0 HPUs\n",
      "/Users/thorsten/.pyenv/versions/3.10.6/envs/SingleCell/lib/python3.10/site-packages/lightning/pytorch/trainer/setup.py:177: GPU available but not used. You can set it by doing `Trainer(accelerator='gpu')`.\n",
      "/Users/thorsten/.pyenv/versions/3.10.6/envs/SingleCell/lib/python3.10/site-packages/lightning/pytorch/trainer/connectors/data_connector.py:425: The 'train_dataloader' does not have many workers which may be a bottleneck. Consider increasing the value of the `num_workers` argument` to `num_workers=7` in the `DataLoader` to improve performance.\n",
      "/Users/thorsten/.pyenv/versions/3.10.6/envs/SingleCell/lib/python3.10/site-packages/lightning/pytorch/trainer/connectors/data_connector.py:425: The 'val_dataloader' does not have many workers which may be a bottleneck. Consider increasing the value of the `num_workers` argument` to `num_workers=7` in the `DataLoader` to improve performance.\n"
     ]
    },
    {
     "data": {
      "application/vnd.jupyter.widget-view+json": {
       "model_id": "dcab982b067947879d814fbc0243a9c3",
       "version_major": 2,
       "version_minor": 0
      },
      "text/plain": [
       "Training:   0%|          | 0/400 [00:00<?, ?it/s]"
      ]
     },
     "metadata": {},
     "output_type": "display_data"
    },
    {
     "name": "stdout",
     "output_type": "stream",
     "text": [
      "Monitored metric validation_loss did not improve in the last 30 records. Best score: 0.293. Signaling Trainer to stop.\n"
     ]
    },
    {
     "name": "stderr",
     "output_type": "stream",
     "text": [
      "/Users/thorsten/.pyenv/versions/3.10.6/envs/SingleCell/lib/python3.10/site-packages/torch/utils/_contextlib.py:116: UserWarning: Prior to scvi-tools 1.1.3, `SOLO.predict` with `soft=True` (the default option) returned logits instead of probabilities. This behavior has since been corrected to return probabiltiies. The previous behavior can be replicated by passing in `return_logits=True`.\n",
      "  return func(*args, **kwargs)\n",
      "/Users/thorsten/.pyenv/versions/3.10.6/envs/SingleCell/lib/python3.10/site-packages/torch/utils/_contextlib.py:116: UserWarning: Prior to scvi-tools 1.1.3, `SOLO.predict` with `soft=True` (the default option) returned logits instead of probabilities. This behavior has since been corrected to return probabiltiies. The previous behavior can be replicated by passing in `return_logits=True`.\n",
      "  return func(*args, **kwargs)\n",
      "/Users/thorsten/.pyenv/versions/3.10.6/envs/SingleCell/lib/python3.10/site-packages/scanpy/preprocessing/_simple.py:176: ImplicitModificationWarning: Trying to modify attribute `.obs` of view, initializing view as actual.\n",
      "  adata.obs[\"n_genes\"] = number\n",
      "/Users/thorsten/.pyenv/versions/3.10.6/envs/SingleCell/lib/python3.10/site-packages/anndata/_core/anndata.py:602: FutureWarning: You are attempting to set `X` to a matrix on a view which has non-unique indices. The resulting `adata.X` will likely not equal the value to which you set it. To avoid this potential issue, please make a copy of the data first. In the future, this operation will throw an error.\n",
      "  warnings.warn(msg, FutureWarning, stacklevel=1)\n",
      "/var/folders/vn/wdw36m4d5k13n07b5xlhgmsr0000gn/T/ipykernel_69002/1836990459.py:36: UserWarning: Trying to set a dense array with a sparse array on a view.Densifying the sparse array.This may incur excessive memory usage\n",
      "  adata.X = csr_matrix(adata.X)\n",
      "/var/folders/vn/wdw36m4d5k13n07b5xlhgmsr0000gn/T/ipykernel_69002/1836990459.py:36: ImplicitModificationWarning: Modifying `X` on a view results in data being overridden\n",
      "  adata.X = csr_matrix(adata.X)\n",
      "/Users/thorsten/.pyenv/versions/3.10.6/envs/SingleCell/lib/python3.10/site-packages/scvi/train/_trainrunner.py:69: UserWarning: `accelerator` has been automatically set to `cpu` although 'mps' exists. If you wish to run on mps backend, use explicitly accelerator=='mps' in train function.In future releases it will become default for mps supported machines.\n",
      "  accelerator, lightning_devices, device = parse_device_args(\n",
      "GPU available: True (mps), used: False\n",
      "TPU available: False, using: 0 TPU cores\n",
      "HPU available: False, using: 0 HPUs\n",
      "/Users/thorsten/.pyenv/versions/3.10.6/envs/SingleCell/lib/python3.10/site-packages/lightning/pytorch/trainer/setup.py:177: GPU available but not used. You can set it by doing `Trainer(accelerator='gpu')`.\n",
      "/Users/thorsten/.pyenv/versions/3.10.6/envs/SingleCell/lib/python3.10/site-packages/lightning/pytorch/trainer/connectors/data_connector.py:425: The 'train_dataloader' does not have many workers which may be a bottleneck. Consider increasing the value of the `num_workers` argument` to `num_workers=7` in the `DataLoader` to improve performance.\n"
     ]
    },
    {
     "data": {
      "application/vnd.jupyter.widget-view+json": {
       "model_id": "f65c064456a040bbae6f86846b9247ed",
       "version_major": 2,
       "version_minor": 0
      },
      "text/plain": [
       "Training:   0%|          | 0/400 [00:00<?, ?it/s]"
      ]
     },
     "metadata": {},
     "output_type": "display_data"
    },
    {
     "name": "stderr",
     "output_type": "stream",
     "text": [
      "`Trainer.fit` stopped: `max_epochs=400` reached.\n"
     ]
    },
    {
     "name": "stdout",
     "output_type": "stream",
     "text": [
      "\u001b[34mINFO    \u001b[0m Creating doublets, preparing SOLO model.                                                                  \n"
     ]
    },
    {
     "name": "stderr",
     "output_type": "stream",
     "text": [
      "/Users/thorsten/.pyenv/versions/3.10.6/envs/SingleCell/lib/python3.10/site-packages/scvi/train/_trainrunner.py:69: UserWarning: `accelerator` has been automatically set to `cpu` although 'mps' exists. If you wish to run on mps backend, use explicitly accelerator=='mps' in train function.In future releases it will become default for mps supported machines.\n",
      "  accelerator, lightning_devices, device = parse_device_args(\n",
      "GPU available: True (mps), used: False\n",
      "TPU available: False, using: 0 TPU cores\n",
      "HPU available: False, using: 0 HPUs\n",
      "/Users/thorsten/.pyenv/versions/3.10.6/envs/SingleCell/lib/python3.10/site-packages/lightning/pytorch/trainer/setup.py:177: GPU available but not used. You can set it by doing `Trainer(accelerator='gpu')`.\n",
      "/Users/thorsten/.pyenv/versions/3.10.6/envs/SingleCell/lib/python3.10/site-packages/lightning/pytorch/trainer/connectors/data_connector.py:425: The 'train_dataloader' does not have many workers which may be a bottleneck. Consider increasing the value of the `num_workers` argument` to `num_workers=7` in the `DataLoader` to improve performance.\n",
      "/Users/thorsten/.pyenv/versions/3.10.6/envs/SingleCell/lib/python3.10/site-packages/lightning/pytorch/trainer/connectors/data_connector.py:425: The 'val_dataloader' does not have many workers which may be a bottleneck. Consider increasing the value of the `num_workers` argument` to `num_workers=7` in the `DataLoader` to improve performance.\n"
     ]
    },
    {
     "data": {
      "application/vnd.jupyter.widget-view+json": {
       "model_id": "8d72463cf9b04b5c8b196e107499f757",
       "version_major": 2,
       "version_minor": 0
      },
      "text/plain": [
       "Training:   0%|          | 0/400 [00:00<?, ?it/s]"
      ]
     },
     "metadata": {},
     "output_type": "display_data"
    },
    {
     "name": "stdout",
     "output_type": "stream",
     "text": [
      "Monitored metric validation_loss did not improve in the last 30 records. Best score: 0.328. Signaling Trainer to stop.\n"
     ]
    },
    {
     "name": "stderr",
     "output_type": "stream",
     "text": [
      "/Users/thorsten/.pyenv/versions/3.10.6/envs/SingleCell/lib/python3.10/site-packages/torch/utils/_contextlib.py:116: UserWarning: Prior to scvi-tools 1.1.3, `SOLO.predict` with `soft=True` (the default option) returned logits instead of probabilities. This behavior has since been corrected to return probabiltiies. The previous behavior can be replicated by passing in `return_logits=True`.\n",
      "  return func(*args, **kwargs)\n",
      "/Users/thorsten/.pyenv/versions/3.10.6/envs/SingleCell/lib/python3.10/site-packages/torch/utils/_contextlib.py:116: UserWarning: Prior to scvi-tools 1.1.3, `SOLO.predict` with `soft=True` (the default option) returned logits instead of probabilities. This behavior has since been corrected to return probabiltiies. The previous behavior can be replicated by passing in `return_logits=True`.\n",
      "  return func(*args, **kwargs)\n",
      "/Users/thorsten/.pyenv/versions/3.10.6/envs/SingleCell/lib/python3.10/site-packages/scanpy/preprocessing/_simple.py:176: ImplicitModificationWarning: Trying to modify attribute `.obs` of view, initializing view as actual.\n",
      "  adata.obs[\"n_genes\"] = number\n",
      "/Users/thorsten/.pyenv/versions/3.10.6/envs/SingleCell/lib/python3.10/site-packages/anndata/_core/anndata.py:602: FutureWarning: You are attempting to set `X` to a matrix on a view which has non-unique indices. The resulting `adata.X` will likely not equal the value to which you set it. To avoid this potential issue, please make a copy of the data first. In the future, this operation will throw an error.\n",
      "  warnings.warn(msg, FutureWarning, stacklevel=1)\n",
      "/var/folders/vn/wdw36m4d5k13n07b5xlhgmsr0000gn/T/ipykernel_69002/1836990459.py:36: UserWarning: Trying to set a dense array with a sparse array on a view.Densifying the sparse array.This may incur excessive memory usage\n",
      "  adata.X = csr_matrix(adata.X)\n",
      "/var/folders/vn/wdw36m4d5k13n07b5xlhgmsr0000gn/T/ipykernel_69002/1836990459.py:36: ImplicitModificationWarning: Modifying `X` on a view results in data being overridden\n",
      "  adata.X = csr_matrix(adata.X)\n",
      "/Users/thorsten/.pyenv/versions/3.10.6/envs/SingleCell/lib/python3.10/site-packages/scvi/train/_trainrunner.py:69: UserWarning: `accelerator` has been automatically set to `cpu` although 'mps' exists. If you wish to run on mps backend, use explicitly accelerator=='mps' in train function.In future releases it will become default for mps supported machines.\n",
      "  accelerator, lightning_devices, device = parse_device_args(\n",
      "GPU available: True (mps), used: False\n",
      "TPU available: False, using: 0 TPU cores\n",
      "HPU available: False, using: 0 HPUs\n",
      "/Users/thorsten/.pyenv/versions/3.10.6/envs/SingleCell/lib/python3.10/site-packages/lightning/pytorch/trainer/setup.py:177: GPU available but not used. You can set it by doing `Trainer(accelerator='gpu')`.\n",
      "/Users/thorsten/.pyenv/versions/3.10.6/envs/SingleCell/lib/python3.10/site-packages/lightning/pytorch/trainer/connectors/data_connector.py:425: The 'train_dataloader' does not have many workers which may be a bottleneck. Consider increasing the value of the `num_workers` argument` to `num_workers=7` in the `DataLoader` to improve performance.\n"
     ]
    },
    {
     "data": {
      "application/vnd.jupyter.widget-view+json": {
       "model_id": "0c32965b5b9b469f90eccfdad18ee68f",
       "version_major": 2,
       "version_minor": 0
      },
      "text/plain": [
       "Training:   0%|          | 0/400 [00:00<?, ?it/s]"
      ]
     },
     "metadata": {},
     "output_type": "display_data"
    },
    {
     "name": "stderr",
     "output_type": "stream",
     "text": [
      "`Trainer.fit` stopped: `max_epochs=400` reached.\n"
     ]
    },
    {
     "name": "stdout",
     "output_type": "stream",
     "text": [
      "\u001b[34mINFO    \u001b[0m Creating doublets, preparing SOLO model.                                                                  \n"
     ]
    },
    {
     "name": "stderr",
     "output_type": "stream",
     "text": [
      "/Users/thorsten/.pyenv/versions/3.10.6/envs/SingleCell/lib/python3.10/site-packages/scvi/train/_trainrunner.py:69: UserWarning: `accelerator` has been automatically set to `cpu` although 'mps' exists. If you wish to run on mps backend, use explicitly accelerator=='mps' in train function.In future releases it will become default for mps supported machines.\n",
      "  accelerator, lightning_devices, device = parse_device_args(\n",
      "GPU available: True (mps), used: False\n",
      "TPU available: False, using: 0 TPU cores\n",
      "HPU available: False, using: 0 HPUs\n",
      "/Users/thorsten/.pyenv/versions/3.10.6/envs/SingleCell/lib/python3.10/site-packages/lightning/pytorch/trainer/setup.py:177: GPU available but not used. You can set it by doing `Trainer(accelerator='gpu')`.\n",
      "/Users/thorsten/.pyenv/versions/3.10.6/envs/SingleCell/lib/python3.10/site-packages/lightning/pytorch/trainer/connectors/data_connector.py:425: The 'train_dataloader' does not have many workers which may be a bottleneck. Consider increasing the value of the `num_workers` argument` to `num_workers=7` in the `DataLoader` to improve performance.\n",
      "/Users/thorsten/.pyenv/versions/3.10.6/envs/SingleCell/lib/python3.10/site-packages/lightning/pytorch/trainer/connectors/data_connector.py:425: The 'val_dataloader' does not have many workers which may be a bottleneck. Consider increasing the value of the `num_workers` argument` to `num_workers=7` in the `DataLoader` to improve performance.\n"
     ]
    },
    {
     "data": {
      "application/vnd.jupyter.widget-view+json": {
       "model_id": "2d0d7c9fece64bf291385dc51890685d",
       "version_major": 2,
       "version_minor": 0
      },
      "text/plain": [
       "Training:   0%|          | 0/400 [00:00<?, ?it/s]"
      ]
     },
     "metadata": {},
     "output_type": "display_data"
    },
    {
     "name": "stdout",
     "output_type": "stream",
     "text": [
      "Monitored metric validation_loss did not improve in the last 30 records. Best score: 0.341. Signaling Trainer to stop.\n"
     ]
    },
    {
     "name": "stderr",
     "output_type": "stream",
     "text": [
      "/Users/thorsten/.pyenv/versions/3.10.6/envs/SingleCell/lib/python3.10/site-packages/torch/utils/_contextlib.py:116: UserWarning: Prior to scvi-tools 1.1.3, `SOLO.predict` with `soft=True` (the default option) returned logits instead of probabilities. This behavior has since been corrected to return probabiltiies. The previous behavior can be replicated by passing in `return_logits=True`.\n",
      "  return func(*args, **kwargs)\n",
      "/Users/thorsten/.pyenv/versions/3.10.6/envs/SingleCell/lib/python3.10/site-packages/torch/utils/_contextlib.py:116: UserWarning: Prior to scvi-tools 1.1.3, `SOLO.predict` with `soft=True` (the default option) returned logits instead of probabilities. This behavior has since been corrected to return probabiltiies. The previous behavior can be replicated by passing in `return_logits=True`.\n",
      "  return func(*args, **kwargs)\n",
      "/Users/thorsten/.pyenv/versions/3.10.6/envs/SingleCell/lib/python3.10/site-packages/scanpy/preprocessing/_simple.py:176: ImplicitModificationWarning: Trying to modify attribute `.obs` of view, initializing view as actual.\n",
      "  adata.obs[\"n_genes\"] = number\n",
      "/Users/thorsten/.pyenv/versions/3.10.6/envs/SingleCell/lib/python3.10/site-packages/anndata/_core/anndata.py:602: FutureWarning: You are attempting to set `X` to a matrix on a view which has non-unique indices. The resulting `adata.X` will likely not equal the value to which you set it. To avoid this potential issue, please make a copy of the data first. In the future, this operation will throw an error.\n",
      "  warnings.warn(msg, FutureWarning, stacklevel=1)\n",
      "/var/folders/vn/wdw36m4d5k13n07b5xlhgmsr0000gn/T/ipykernel_69002/1836990459.py:36: UserWarning: Trying to set a dense array with a sparse array on a view.Densifying the sparse array.This may incur excessive memory usage\n",
      "  adata.X = csr_matrix(adata.X)\n",
      "/var/folders/vn/wdw36m4d5k13n07b5xlhgmsr0000gn/T/ipykernel_69002/1836990459.py:36: ImplicitModificationWarning: Modifying `X` on a view results in data being overridden\n",
      "  adata.X = csr_matrix(adata.X)\n",
      "/Users/thorsten/.pyenv/versions/3.10.6/envs/SingleCell/lib/python3.10/site-packages/scvi/train/_trainrunner.py:69: UserWarning: `accelerator` has been automatically set to `cpu` although 'mps' exists. If you wish to run on mps backend, use explicitly accelerator=='mps' in train function.In future releases it will become default for mps supported machines.\n",
      "  accelerator, lightning_devices, device = parse_device_args(\n",
      "GPU available: True (mps), used: False\n",
      "TPU available: False, using: 0 TPU cores\n",
      "HPU available: False, using: 0 HPUs\n",
      "/Users/thorsten/.pyenv/versions/3.10.6/envs/SingleCell/lib/python3.10/site-packages/lightning/pytorch/trainer/setup.py:177: GPU available but not used. You can set it by doing `Trainer(accelerator='gpu')`.\n",
      "/Users/thorsten/.pyenv/versions/3.10.6/envs/SingleCell/lib/python3.10/site-packages/lightning/pytorch/trainer/connectors/data_connector.py:425: The 'train_dataloader' does not have many workers which may be a bottleneck. Consider increasing the value of the `num_workers` argument` to `num_workers=7` in the `DataLoader` to improve performance.\n"
     ]
    },
    {
     "data": {
      "application/vnd.jupyter.widget-view+json": {
       "model_id": "5ebb11bbf90d4a37870f486958a68ac8",
       "version_major": 2,
       "version_minor": 0
      },
      "text/plain": [
       "Training:   0%|          | 0/400 [00:00<?, ?it/s]"
      ]
     },
     "metadata": {},
     "output_type": "display_data"
    },
    {
     "name": "stderr",
     "output_type": "stream",
     "text": [
      "`Trainer.fit` stopped: `max_epochs=400` reached.\n"
     ]
    },
    {
     "name": "stdout",
     "output_type": "stream",
     "text": [
      "\u001b[34mINFO    \u001b[0m Creating doublets, preparing SOLO model.                                                                  \n"
     ]
    },
    {
     "name": "stderr",
     "output_type": "stream",
     "text": [
      "/Users/thorsten/.pyenv/versions/3.10.6/envs/SingleCell/lib/python3.10/site-packages/scvi/train/_trainrunner.py:69: UserWarning: `accelerator` has been automatically set to `cpu` although 'mps' exists. If you wish to run on mps backend, use explicitly accelerator=='mps' in train function.In future releases it will become default for mps supported machines.\n",
      "  accelerator, lightning_devices, device = parse_device_args(\n",
      "GPU available: True (mps), used: False\n",
      "TPU available: False, using: 0 TPU cores\n",
      "HPU available: False, using: 0 HPUs\n",
      "/Users/thorsten/.pyenv/versions/3.10.6/envs/SingleCell/lib/python3.10/site-packages/lightning/pytorch/trainer/setup.py:177: GPU available but not used. You can set it by doing `Trainer(accelerator='gpu')`.\n",
      "/Users/thorsten/.pyenv/versions/3.10.6/envs/SingleCell/lib/python3.10/site-packages/lightning/pytorch/trainer/connectors/data_connector.py:425: The 'train_dataloader' does not have many workers which may be a bottleneck. Consider increasing the value of the `num_workers` argument` to `num_workers=7` in the `DataLoader` to improve performance.\n",
      "/Users/thorsten/.pyenv/versions/3.10.6/envs/SingleCell/lib/python3.10/site-packages/lightning/pytorch/trainer/connectors/data_connector.py:425: The 'val_dataloader' does not have many workers which may be a bottleneck. Consider increasing the value of the `num_workers` argument` to `num_workers=7` in the `DataLoader` to improve performance.\n"
     ]
    },
    {
     "data": {
      "application/vnd.jupyter.widget-view+json": {
       "model_id": "d70b3ecc14da450985bc1dbc2e1bf6a6",
       "version_major": 2,
       "version_minor": 0
      },
      "text/plain": [
       "Training:   0%|          | 0/400 [00:00<?, ?it/s]"
      ]
     },
     "metadata": {},
     "output_type": "display_data"
    },
    {
     "name": "stdout",
     "output_type": "stream",
     "text": [
      "Monitored metric validation_loss did not improve in the last 30 records. Best score: 0.305. Signaling Trainer to stop.\n"
     ]
    },
    {
     "name": "stderr",
     "output_type": "stream",
     "text": [
      "/Users/thorsten/.pyenv/versions/3.10.6/envs/SingleCell/lib/python3.10/site-packages/torch/utils/_contextlib.py:116: UserWarning: Prior to scvi-tools 1.1.3, `SOLO.predict` with `soft=True` (the default option) returned logits instead of probabilities. This behavior has since been corrected to return probabiltiies. The previous behavior can be replicated by passing in `return_logits=True`.\n",
      "  return func(*args, **kwargs)\n",
      "/Users/thorsten/.pyenv/versions/3.10.6/envs/SingleCell/lib/python3.10/site-packages/torch/utils/_contextlib.py:116: UserWarning: Prior to scvi-tools 1.1.3, `SOLO.predict` with `soft=True` (the default option) returned logits instead of probabilities. This behavior has since been corrected to return probabiltiies. The previous behavior can be replicated by passing in `return_logits=True`.\n",
      "  return func(*args, **kwargs)\n",
      "/Users/thorsten/.pyenv/versions/3.10.6/envs/SingleCell/lib/python3.10/site-packages/scanpy/preprocessing/_simple.py:176: ImplicitModificationWarning: Trying to modify attribute `.obs` of view, initializing view as actual.\n",
      "  adata.obs[\"n_genes\"] = number\n",
      "/Users/thorsten/.pyenv/versions/3.10.6/envs/SingleCell/lib/python3.10/site-packages/anndata/_core/anndata.py:602: FutureWarning: You are attempting to set `X` to a matrix on a view which has non-unique indices. The resulting `adata.X` will likely not equal the value to which you set it. To avoid this potential issue, please make a copy of the data first. In the future, this operation will throw an error.\n",
      "  warnings.warn(msg, FutureWarning, stacklevel=1)\n",
      "/var/folders/vn/wdw36m4d5k13n07b5xlhgmsr0000gn/T/ipykernel_69002/1836990459.py:36: UserWarning: Trying to set a dense array with a sparse array on a view.Densifying the sparse array.This may incur excessive memory usage\n",
      "  adata.X = csr_matrix(adata.X)\n",
      "/var/folders/vn/wdw36m4d5k13n07b5xlhgmsr0000gn/T/ipykernel_69002/1836990459.py:36: ImplicitModificationWarning: Modifying `X` on a view results in data being overridden\n",
      "  adata.X = csr_matrix(adata.X)\n",
      "/Users/thorsten/.pyenv/versions/3.10.6/envs/SingleCell/lib/python3.10/site-packages/scvi/train/_trainrunner.py:69: UserWarning: `accelerator` has been automatically set to `cpu` although 'mps' exists. If you wish to run on mps backend, use explicitly accelerator=='mps' in train function.In future releases it will become default for mps supported machines.\n",
      "  accelerator, lightning_devices, device = parse_device_args(\n",
      "GPU available: True (mps), used: False\n",
      "TPU available: False, using: 0 TPU cores\n",
      "HPU available: False, using: 0 HPUs\n",
      "/Users/thorsten/.pyenv/versions/3.10.6/envs/SingleCell/lib/python3.10/site-packages/lightning/pytorch/trainer/setup.py:177: GPU available but not used. You can set it by doing `Trainer(accelerator='gpu')`.\n",
      "/Users/thorsten/.pyenv/versions/3.10.6/envs/SingleCell/lib/python3.10/site-packages/lightning/pytorch/trainer/connectors/data_connector.py:425: The 'train_dataloader' does not have many workers which may be a bottleneck. Consider increasing the value of the `num_workers` argument` to `num_workers=7` in the `DataLoader` to improve performance.\n"
     ]
    },
    {
     "data": {
      "application/vnd.jupyter.widget-view+json": {
       "model_id": "b139fb2321eb4d93adb637e2b7ed80af",
       "version_major": 2,
       "version_minor": 0
      },
      "text/plain": [
       "Training:   0%|          | 0/400 [00:00<?, ?it/s]"
      ]
     },
     "metadata": {},
     "output_type": "display_data"
    },
    {
     "name": "stderr",
     "output_type": "stream",
     "text": [
      "`Trainer.fit` stopped: `max_epochs=400` reached.\n"
     ]
    },
    {
     "name": "stdout",
     "output_type": "stream",
     "text": [
      "\u001b[34mINFO    \u001b[0m Creating doublets, preparing SOLO model.                                                                  \n"
     ]
    },
    {
     "name": "stderr",
     "output_type": "stream",
     "text": [
      "/Users/thorsten/.pyenv/versions/3.10.6/envs/SingleCell/lib/python3.10/site-packages/scvi/train/_trainrunner.py:69: UserWarning: `accelerator` has been automatically set to `cpu` although 'mps' exists. If you wish to run on mps backend, use explicitly accelerator=='mps' in train function.In future releases it will become default for mps supported machines.\n",
      "  accelerator, lightning_devices, device = parse_device_args(\n",
      "GPU available: True (mps), used: False\n",
      "TPU available: False, using: 0 TPU cores\n",
      "HPU available: False, using: 0 HPUs\n",
      "/Users/thorsten/.pyenv/versions/3.10.6/envs/SingleCell/lib/python3.10/site-packages/lightning/pytorch/trainer/setup.py:177: GPU available but not used. You can set it by doing `Trainer(accelerator='gpu')`.\n",
      "/Users/thorsten/.pyenv/versions/3.10.6/envs/SingleCell/lib/python3.10/site-packages/lightning/pytorch/trainer/connectors/data_connector.py:425: The 'train_dataloader' does not have many workers which may be a bottleneck. Consider increasing the value of the `num_workers` argument` to `num_workers=7` in the `DataLoader` to improve performance.\n",
      "/Users/thorsten/.pyenv/versions/3.10.6/envs/SingleCell/lib/python3.10/site-packages/lightning/pytorch/trainer/connectors/data_connector.py:425: The 'val_dataloader' does not have many workers which may be a bottleneck. Consider increasing the value of the `num_workers` argument` to `num_workers=7` in the `DataLoader` to improve performance.\n"
     ]
    },
    {
     "data": {
      "application/vnd.jupyter.widget-view+json": {
       "model_id": "80d989d1af2f49bbbc0b722f43ab6069",
       "version_major": 2,
       "version_minor": 0
      },
      "text/plain": [
       "Training:   0%|          | 0/400 [00:00<?, ?it/s]"
      ]
     },
     "metadata": {},
     "output_type": "display_data"
    },
    {
     "name": "stdout",
     "output_type": "stream",
     "text": [
      "Monitored metric validation_loss did not improve in the last 30 records. Best score: 0.270. Signaling Trainer to stop.\n"
     ]
    },
    {
     "name": "stderr",
     "output_type": "stream",
     "text": [
      "/Users/thorsten/.pyenv/versions/3.10.6/envs/SingleCell/lib/python3.10/site-packages/torch/utils/_contextlib.py:116: UserWarning: Prior to scvi-tools 1.1.3, `SOLO.predict` with `soft=True` (the default option) returned logits instead of probabilities. This behavior has since been corrected to return probabiltiies. The previous behavior can be replicated by passing in `return_logits=True`.\n",
      "  return func(*args, **kwargs)\n",
      "/Users/thorsten/.pyenv/versions/3.10.6/envs/SingleCell/lib/python3.10/site-packages/torch/utils/_contextlib.py:116: UserWarning: Prior to scvi-tools 1.1.3, `SOLO.predict` with `soft=True` (the default option) returned logits instead of probabilities. This behavior has since been corrected to return probabiltiies. The previous behavior can be replicated by passing in `return_logits=True`.\n",
      "  return func(*args, **kwargs)\n",
      "/Users/thorsten/.pyenv/versions/3.10.6/envs/SingleCell/lib/python3.10/site-packages/scanpy/preprocessing/_simple.py:176: ImplicitModificationWarning: Trying to modify attribute `.obs` of view, initializing view as actual.\n",
      "  adata.obs[\"n_genes\"] = number\n",
      "/Users/thorsten/.pyenv/versions/3.10.6/envs/SingleCell/lib/python3.10/site-packages/anndata/_core/anndata.py:602: FutureWarning: You are attempting to set `X` to a matrix on a view which has non-unique indices. The resulting `adata.X` will likely not equal the value to which you set it. To avoid this potential issue, please make a copy of the data first. In the future, this operation will throw an error.\n",
      "  warnings.warn(msg, FutureWarning, stacklevel=1)\n",
      "/var/folders/vn/wdw36m4d5k13n07b5xlhgmsr0000gn/T/ipykernel_69002/1836990459.py:36: UserWarning: Trying to set a dense array with a sparse array on a view.Densifying the sparse array.This may incur excessive memory usage\n",
      "  adata.X = csr_matrix(adata.X)\n",
      "/var/folders/vn/wdw36m4d5k13n07b5xlhgmsr0000gn/T/ipykernel_69002/1836990459.py:36: ImplicitModificationWarning: Modifying `X` on a view results in data being overridden\n",
      "  adata.X = csr_matrix(adata.X)\n",
      "/Users/thorsten/.pyenv/versions/3.10.6/envs/SingleCell/lib/python3.10/site-packages/scvi/train/_trainrunner.py:69: UserWarning: `accelerator` has been automatically set to `cpu` although 'mps' exists. If you wish to run on mps backend, use explicitly accelerator=='mps' in train function.In future releases it will become default for mps supported machines.\n",
      "  accelerator, lightning_devices, device = parse_device_args(\n",
      "GPU available: True (mps), used: False\n",
      "TPU available: False, using: 0 TPU cores\n",
      "HPU available: False, using: 0 HPUs\n",
      "/Users/thorsten/.pyenv/versions/3.10.6/envs/SingleCell/lib/python3.10/site-packages/lightning/pytorch/trainer/setup.py:177: GPU available but not used. You can set it by doing `Trainer(accelerator='gpu')`.\n",
      "/Users/thorsten/.pyenv/versions/3.10.6/envs/SingleCell/lib/python3.10/site-packages/lightning/pytorch/trainer/connectors/data_connector.py:425: The 'train_dataloader' does not have many workers which may be a bottleneck. Consider increasing the value of the `num_workers` argument` to `num_workers=7` in the `DataLoader` to improve performance.\n"
     ]
    },
    {
     "data": {
      "application/vnd.jupyter.widget-view+json": {
       "model_id": "71e36e0a74fb4300ab695d28205e3de9",
       "version_major": 2,
       "version_minor": 0
      },
      "text/plain": [
       "Training:   0%|          | 0/400 [00:00<?, ?it/s]"
      ]
     },
     "metadata": {},
     "output_type": "display_data"
    },
    {
     "name": "stderr",
     "output_type": "stream",
     "text": [
      "`Trainer.fit` stopped: `max_epochs=400` reached.\n"
     ]
    },
    {
     "name": "stdout",
     "output_type": "stream",
     "text": [
      "\u001b[34mINFO    \u001b[0m Creating doublets, preparing SOLO model.                                                                  \n"
     ]
    },
    {
     "name": "stderr",
     "output_type": "stream",
     "text": [
      "/Users/thorsten/.pyenv/versions/3.10.6/envs/SingleCell/lib/python3.10/site-packages/scvi/train/_trainrunner.py:69: UserWarning: `accelerator` has been automatically set to `cpu` although 'mps' exists. If you wish to run on mps backend, use explicitly accelerator=='mps' in train function.In future releases it will become default for mps supported machines.\n",
      "  accelerator, lightning_devices, device = parse_device_args(\n",
      "GPU available: True (mps), used: False\n",
      "TPU available: False, using: 0 TPU cores\n",
      "HPU available: False, using: 0 HPUs\n",
      "/Users/thorsten/.pyenv/versions/3.10.6/envs/SingleCell/lib/python3.10/site-packages/lightning/pytorch/trainer/setup.py:177: GPU available but not used. You can set it by doing `Trainer(accelerator='gpu')`.\n",
      "/Users/thorsten/.pyenv/versions/3.10.6/envs/SingleCell/lib/python3.10/site-packages/lightning/pytorch/trainer/connectors/data_connector.py:425: The 'train_dataloader' does not have many workers which may be a bottleneck. Consider increasing the value of the `num_workers` argument` to `num_workers=7` in the `DataLoader` to improve performance.\n",
      "/Users/thorsten/.pyenv/versions/3.10.6/envs/SingleCell/lib/python3.10/site-packages/lightning/pytorch/trainer/connectors/data_connector.py:425: The 'val_dataloader' does not have many workers which may be a bottleneck. Consider increasing the value of the `num_workers` argument` to `num_workers=7` in the `DataLoader` to improve performance.\n"
     ]
    },
    {
     "data": {
      "application/vnd.jupyter.widget-view+json": {
       "model_id": "8ece96b755554aa1878a0301cf16ab3e",
       "version_major": 2,
       "version_minor": 0
      },
      "text/plain": [
       "Training:   0%|          | 0/400 [00:00<?, ?it/s]"
      ]
     },
     "metadata": {},
     "output_type": "display_data"
    },
    {
     "name": "stdout",
     "output_type": "stream",
     "text": [
      "Monitored metric validation_loss did not improve in the last 30 records. Best score: 0.313. Signaling Trainer to stop.\n"
     ]
    },
    {
     "name": "stderr",
     "output_type": "stream",
     "text": [
      "/Users/thorsten/.pyenv/versions/3.10.6/envs/SingleCell/lib/python3.10/site-packages/torch/utils/_contextlib.py:116: UserWarning: Prior to scvi-tools 1.1.3, `SOLO.predict` with `soft=True` (the default option) returned logits instead of probabilities. This behavior has since been corrected to return probabiltiies. The previous behavior can be replicated by passing in `return_logits=True`.\n",
      "  return func(*args, **kwargs)\n",
      "/Users/thorsten/.pyenv/versions/3.10.6/envs/SingleCell/lib/python3.10/site-packages/torch/utils/_contextlib.py:116: UserWarning: Prior to scvi-tools 1.1.3, `SOLO.predict` with `soft=True` (the default option) returned logits instead of probabilities. This behavior has since been corrected to return probabiltiies. The previous behavior can be replicated by passing in `return_logits=True`.\n",
      "  return func(*args, **kwargs)\n",
      "/Users/thorsten/.pyenv/versions/3.10.6/envs/SingleCell/lib/python3.10/site-packages/scanpy/preprocessing/_simple.py:176: ImplicitModificationWarning: Trying to modify attribute `.obs` of view, initializing view as actual.\n",
      "  adata.obs[\"n_genes\"] = number\n",
      "/Users/thorsten/.pyenv/versions/3.10.6/envs/SingleCell/lib/python3.10/site-packages/anndata/_core/anndata.py:602: FutureWarning: You are attempting to set `X` to a matrix on a view which has non-unique indices. The resulting `adata.X` will likely not equal the value to which you set it. To avoid this potential issue, please make a copy of the data first. In the future, this operation will throw an error.\n",
      "  warnings.warn(msg, FutureWarning, stacklevel=1)\n",
      "/var/folders/vn/wdw36m4d5k13n07b5xlhgmsr0000gn/T/ipykernel_69002/1836990459.py:36: UserWarning: Trying to set a dense array with a sparse array on a view.Densifying the sparse array.This may incur excessive memory usage\n",
      "  adata.X = csr_matrix(adata.X)\n",
      "/var/folders/vn/wdw36m4d5k13n07b5xlhgmsr0000gn/T/ipykernel_69002/1836990459.py:36: ImplicitModificationWarning: Modifying `X` on a view results in data being overridden\n",
      "  adata.X = csr_matrix(adata.X)\n",
      "/Users/thorsten/.pyenv/versions/3.10.6/envs/SingleCell/lib/python3.10/site-packages/scvi/train/_trainrunner.py:69: UserWarning: `accelerator` has been automatically set to `cpu` although 'mps' exists. If you wish to run on mps backend, use explicitly accelerator=='mps' in train function.In future releases it will become default for mps supported machines.\n",
      "  accelerator, lightning_devices, device = parse_device_args(\n",
      "GPU available: True (mps), used: False\n",
      "TPU available: False, using: 0 TPU cores\n",
      "HPU available: False, using: 0 HPUs\n",
      "/Users/thorsten/.pyenv/versions/3.10.6/envs/SingleCell/lib/python3.10/site-packages/lightning/pytorch/trainer/setup.py:177: GPU available but not used. You can set it by doing `Trainer(accelerator='gpu')`.\n",
      "/Users/thorsten/.pyenv/versions/3.10.6/envs/SingleCell/lib/python3.10/site-packages/lightning/pytorch/trainer/connectors/data_connector.py:425: The 'train_dataloader' does not have many workers which may be a bottleneck. Consider increasing the value of the `num_workers` argument` to `num_workers=7` in the `DataLoader` to improve performance.\n"
     ]
    },
    {
     "data": {
      "application/vnd.jupyter.widget-view+json": {
       "model_id": "6d35c62464c3456c9b4791c06c49b159",
       "version_major": 2,
       "version_minor": 0
      },
      "text/plain": [
       "Training:   0%|          | 0/400 [00:00<?, ?it/s]"
      ]
     },
     "metadata": {},
     "output_type": "display_data"
    },
    {
     "name": "stderr",
     "output_type": "stream",
     "text": [
      "`Trainer.fit` stopped: `max_epochs=400` reached.\n"
     ]
    },
    {
     "name": "stdout",
     "output_type": "stream",
     "text": [
      "\u001b[34mINFO    \u001b[0m Creating doublets, preparing SOLO model.                                                                  \n"
     ]
    },
    {
     "name": "stderr",
     "output_type": "stream",
     "text": [
      "/Users/thorsten/.pyenv/versions/3.10.6/envs/SingleCell/lib/python3.10/site-packages/scvi/train/_trainrunner.py:69: UserWarning: `accelerator` has been automatically set to `cpu` although 'mps' exists. If you wish to run on mps backend, use explicitly accelerator=='mps' in train function.In future releases it will become default for mps supported machines.\n",
      "  accelerator, lightning_devices, device = parse_device_args(\n",
      "GPU available: True (mps), used: False\n",
      "TPU available: False, using: 0 TPU cores\n",
      "HPU available: False, using: 0 HPUs\n",
      "/Users/thorsten/.pyenv/versions/3.10.6/envs/SingleCell/lib/python3.10/site-packages/lightning/pytorch/trainer/setup.py:177: GPU available but not used. You can set it by doing `Trainer(accelerator='gpu')`.\n",
      "/Users/thorsten/.pyenv/versions/3.10.6/envs/SingleCell/lib/python3.10/site-packages/lightning/pytorch/trainer/connectors/data_connector.py:425: The 'train_dataloader' does not have many workers which may be a bottleneck. Consider increasing the value of the `num_workers` argument` to `num_workers=7` in the `DataLoader` to improve performance.\n",
      "/Users/thorsten/.pyenv/versions/3.10.6/envs/SingleCell/lib/python3.10/site-packages/lightning/pytorch/trainer/connectors/data_connector.py:425: The 'val_dataloader' does not have many workers which may be a bottleneck. Consider increasing the value of the `num_workers` argument` to `num_workers=7` in the `DataLoader` to improve performance.\n"
     ]
    },
    {
     "data": {
      "application/vnd.jupyter.widget-view+json": {
       "model_id": "881752a4d1064009bdc1278b568c5311",
       "version_major": 2,
       "version_minor": 0
      },
      "text/plain": [
       "Training:   0%|          | 0/400 [00:00<?, ?it/s]"
      ]
     },
     "metadata": {},
     "output_type": "display_data"
    },
    {
     "name": "stdout",
     "output_type": "stream",
     "text": [
      "Monitored metric validation_loss did not improve in the last 30 records. Best score: 0.246. Signaling Trainer to stop.\n"
     ]
    },
    {
     "name": "stderr",
     "output_type": "stream",
     "text": [
      "/Users/thorsten/.pyenv/versions/3.10.6/envs/SingleCell/lib/python3.10/site-packages/torch/utils/_contextlib.py:116: UserWarning: Prior to scvi-tools 1.1.3, `SOLO.predict` with `soft=True` (the default option) returned logits instead of probabilities. This behavior has since been corrected to return probabiltiies. The previous behavior can be replicated by passing in `return_logits=True`.\n",
      "  return func(*args, **kwargs)\n",
      "/Users/thorsten/.pyenv/versions/3.10.6/envs/SingleCell/lib/python3.10/site-packages/torch/utils/_contextlib.py:116: UserWarning: Prior to scvi-tools 1.1.3, `SOLO.predict` with `soft=True` (the default option) returned logits instead of probabilities. This behavior has since been corrected to return probabiltiies. The previous behavior can be replicated by passing in `return_logits=True`.\n",
      "  return func(*args, **kwargs)\n",
      "/Users/thorsten/.pyenv/versions/3.10.6/envs/SingleCell/lib/python3.10/site-packages/scanpy/preprocessing/_simple.py:176: ImplicitModificationWarning: Trying to modify attribute `.obs` of view, initializing view as actual.\n",
      "  adata.obs[\"n_genes\"] = number\n",
      "/Users/thorsten/.pyenv/versions/3.10.6/envs/SingleCell/lib/python3.10/site-packages/anndata/_core/anndata.py:602: FutureWarning: You are attempting to set `X` to a matrix on a view which has non-unique indices. The resulting `adata.X` will likely not equal the value to which you set it. To avoid this potential issue, please make a copy of the data first. In the future, this operation will throw an error.\n",
      "  warnings.warn(msg, FutureWarning, stacklevel=1)\n",
      "/var/folders/vn/wdw36m4d5k13n07b5xlhgmsr0000gn/T/ipykernel_69002/1836990459.py:36: UserWarning: Trying to set a dense array with a sparse array on a view.Densifying the sparse array.This may incur excessive memory usage\n",
      "  adata.X = csr_matrix(adata.X)\n",
      "/var/folders/vn/wdw36m4d5k13n07b5xlhgmsr0000gn/T/ipykernel_69002/1836990459.py:36: ImplicitModificationWarning: Modifying `X` on a view results in data being overridden\n",
      "  adata.X = csr_matrix(adata.X)\n",
      "/Users/thorsten/.pyenv/versions/3.10.6/envs/SingleCell/lib/python3.10/site-packages/scvi/train/_trainrunner.py:69: UserWarning: `accelerator` has been automatically set to `cpu` although 'mps' exists. If you wish to run on mps backend, use explicitly accelerator=='mps' in train function.In future releases it will become default for mps supported machines.\n",
      "  accelerator, lightning_devices, device = parse_device_args(\n",
      "GPU available: True (mps), used: False\n",
      "TPU available: False, using: 0 TPU cores\n",
      "HPU available: False, using: 0 HPUs\n",
      "/Users/thorsten/.pyenv/versions/3.10.6/envs/SingleCell/lib/python3.10/site-packages/lightning/pytorch/trainer/setup.py:177: GPU available but not used. You can set it by doing `Trainer(accelerator='gpu')`.\n",
      "/Users/thorsten/.pyenv/versions/3.10.6/envs/SingleCell/lib/python3.10/site-packages/lightning/pytorch/trainer/connectors/data_connector.py:425: The 'train_dataloader' does not have many workers which may be a bottleneck. Consider increasing the value of the `num_workers` argument` to `num_workers=7` in the `DataLoader` to improve performance.\n"
     ]
    },
    {
     "data": {
      "application/vnd.jupyter.widget-view+json": {
       "model_id": "5685a92cd99d45618e77c71e404024e9",
       "version_major": 2,
       "version_minor": 0
      },
      "text/plain": [
       "Training:   0%|          | 0/400 [00:00<?, ?it/s]"
      ]
     },
     "metadata": {},
     "output_type": "display_data"
    },
    {
     "name": "stderr",
     "output_type": "stream",
     "text": [
      "`Trainer.fit` stopped: `max_epochs=400` reached.\n"
     ]
    },
    {
     "name": "stdout",
     "output_type": "stream",
     "text": [
      "\u001b[34mINFO    \u001b[0m Creating doublets, preparing SOLO model.                                                                  \n"
     ]
    },
    {
     "name": "stderr",
     "output_type": "stream",
     "text": [
      "/Users/thorsten/.pyenv/versions/3.10.6/envs/SingleCell/lib/python3.10/site-packages/scvi/train/_trainrunner.py:69: UserWarning: `accelerator` has been automatically set to `cpu` although 'mps' exists. If you wish to run on mps backend, use explicitly accelerator=='mps' in train function.In future releases it will become default for mps supported machines.\n",
      "  accelerator, lightning_devices, device = parse_device_args(\n",
      "GPU available: True (mps), used: False\n",
      "TPU available: False, using: 0 TPU cores\n",
      "HPU available: False, using: 0 HPUs\n",
      "/Users/thorsten/.pyenv/versions/3.10.6/envs/SingleCell/lib/python3.10/site-packages/lightning/pytorch/trainer/setup.py:177: GPU available but not used. You can set it by doing `Trainer(accelerator='gpu')`.\n",
      "/Users/thorsten/.pyenv/versions/3.10.6/envs/SingleCell/lib/python3.10/site-packages/lightning/pytorch/trainer/connectors/data_connector.py:425: The 'train_dataloader' does not have many workers which may be a bottleneck. Consider increasing the value of the `num_workers` argument` to `num_workers=7` in the `DataLoader` to improve performance.\n",
      "/Users/thorsten/.pyenv/versions/3.10.6/envs/SingleCell/lib/python3.10/site-packages/lightning/pytorch/trainer/connectors/data_connector.py:425: The 'val_dataloader' does not have many workers which may be a bottleneck. Consider increasing the value of the `num_workers` argument` to `num_workers=7` in the `DataLoader` to improve performance.\n"
     ]
    },
    {
     "data": {
      "application/vnd.jupyter.widget-view+json": {
       "model_id": "f3c6999a1d0b4518908ec5780d953e59",
       "version_major": 2,
       "version_minor": 0
      },
      "text/plain": [
       "Training:   0%|          | 0/400 [00:00<?, ?it/s]"
      ]
     },
     "metadata": {},
     "output_type": "display_data"
    },
    {
     "name": "stdout",
     "output_type": "stream",
     "text": [
      "Monitored metric validation_loss did not improve in the last 30 records. Best score: 0.262. Signaling Trainer to stop.\n"
     ]
    },
    {
     "name": "stderr",
     "output_type": "stream",
     "text": [
      "/Users/thorsten/.pyenv/versions/3.10.6/envs/SingleCell/lib/python3.10/site-packages/torch/utils/_contextlib.py:116: UserWarning: Prior to scvi-tools 1.1.3, `SOLO.predict` with `soft=True` (the default option) returned logits instead of probabilities. This behavior has since been corrected to return probabiltiies. The previous behavior can be replicated by passing in `return_logits=True`.\n",
      "  return func(*args, **kwargs)\n",
      "/Users/thorsten/.pyenv/versions/3.10.6/envs/SingleCell/lib/python3.10/site-packages/torch/utils/_contextlib.py:116: UserWarning: Prior to scvi-tools 1.1.3, `SOLO.predict` with `soft=True` (the default option) returned logits instead of probabilities. This behavior has since been corrected to return probabiltiies. The previous behavior can be replicated by passing in `return_logits=True`.\n",
      "  return func(*args, **kwargs)\n",
      "/Users/thorsten/.pyenv/versions/3.10.6/envs/SingleCell/lib/python3.10/site-packages/scanpy/preprocessing/_simple.py:176: ImplicitModificationWarning: Trying to modify attribute `.obs` of view, initializing view as actual.\n",
      "  adata.obs[\"n_genes\"] = number\n",
      "/Users/thorsten/.pyenv/versions/3.10.6/envs/SingleCell/lib/python3.10/site-packages/anndata/_core/anndata.py:602: FutureWarning: You are attempting to set `X` to a matrix on a view which has non-unique indices. The resulting `adata.X` will likely not equal the value to which you set it. To avoid this potential issue, please make a copy of the data first. In the future, this operation will throw an error.\n",
      "  warnings.warn(msg, FutureWarning, stacklevel=1)\n",
      "/var/folders/vn/wdw36m4d5k13n07b5xlhgmsr0000gn/T/ipykernel_69002/1836990459.py:36: UserWarning: Trying to set a dense array with a sparse array on a view.Densifying the sparse array.This may incur excessive memory usage\n",
      "  adata.X = csr_matrix(adata.X)\n",
      "/var/folders/vn/wdw36m4d5k13n07b5xlhgmsr0000gn/T/ipykernel_69002/1836990459.py:36: ImplicitModificationWarning: Modifying `X` on a view results in data being overridden\n",
      "  adata.X = csr_matrix(adata.X)\n"
     ]
    }
   ],
   "source": [
    "out = []\n",
    "for f in [file for file in os.listdir('./') if file.endswith ('.csv.gz')]:    \n",
    "    out.append(preprocessing('./' + f))\n"
   ]
  },
  {
   "cell_type": "markdown",
   "id": "fdfeb9b7",
   "metadata": {},
   "source": [
    "⚠️ Memory Warning (SCVI Training)\n",
    "\n",
    "    Note: Training SCVI models, especially during data concatenation or preprocessing, can be very memory-intensive. On a typical laptop setup (e.g., MacBook), this step often causes the Jupyter kernel to crash due to insufficient RAM. Running this pipeline on a machine with larger memory resources (e.g., a workstation or cloud VM) is highly recommended.\n",
    "\n",
    "To avoid the hassle of reinstalling dependencies or configuring Python environments on another machine, this repository includes a **Docker setup**. Simply use the provided Dockerfile to replicate the environment on any compatible system. How to run the docker: \n",
    "\n",
    "1.) Move the files (Dockerfile, requirements.txt, SCVI_Model_Training_Concatenation.py) in the Docker directory,   into the folder where youre have your directory named **raw_counts** which contain the raw counts of the single cell dataset. <br>\n",
    "2.) Change the directory in your terminal to the same location. <br>\n",
    "3.) Build the Docker by running: **docker build -t scvimodel .** <br>\n",
    "4.) When the image was build run the Docker with: run --rm -v $(pwd):/app scvimodel \n",
    "\n",
    "**Note:** that the SCVI_Model_Training_Concatenation.py script is adapted to this dataset (mt, ribo cutoffs, nameing of files etc). If you use it for a different dataset make sure to change the parameters to your setting!\n"
   ]
  },
  {
   "cell_type": "code",
   "execution_count": null,
   "id": "492f335c",
   "metadata": {},
   "outputs": [],
   "source": [
    "# adata = sc.concat(out)"
   ]
  },
  {
   "cell_type": "code",
   "execution_count": 2,
   "id": "da31b620",
   "metadata": {},
   "outputs": [
    {
     "name": "stderr",
     "output_type": "stream",
     "text": [
      "/Users/thorsten/.pyenv/versions/3.10.6/envs/Bioinformatics/lib/python3.10/site-packages/anndata/utils.py:434: FutureWarning: Importing read_csv from `anndata` is deprecated. Import anndata.io.read_csv instead.\n",
      "  warnings.warn(msg, FutureWarning)\n",
      "/Users/thorsten/.pyenv/versions/3.10.6/envs/Bioinformatics/lib/python3.10/site-packages/anndata/utils.py:434: FutureWarning: Importing read_excel from `anndata` is deprecated. Import anndata.io.read_excel instead.\n",
      "  warnings.warn(msg, FutureWarning)\n",
      "/Users/thorsten/.pyenv/versions/3.10.6/envs/Bioinformatics/lib/python3.10/site-packages/anndata/utils.py:434: FutureWarning: Importing read_hdf from `anndata` is deprecated. Import anndata.io.read_hdf instead.\n",
      "  warnings.warn(msg, FutureWarning)\n",
      "/Users/thorsten/.pyenv/versions/3.10.6/envs/Bioinformatics/lib/python3.10/site-packages/anndata/utils.py:434: FutureWarning: Importing read_loom from `anndata` is deprecated. Import anndata.io.read_loom instead.\n",
      "  warnings.warn(msg, FutureWarning)\n",
      "/Users/thorsten/.pyenv/versions/3.10.6/envs/Bioinformatics/lib/python3.10/site-packages/anndata/utils.py:434: FutureWarning: Importing read_mtx from `anndata` is deprecated. Import anndata.io.read_mtx instead.\n",
      "  warnings.warn(msg, FutureWarning)\n",
      "/Users/thorsten/.pyenv/versions/3.10.6/envs/Bioinformatics/lib/python3.10/site-packages/anndata/utils.py:434: FutureWarning: Importing read_text from `anndata` is deprecated. Import anndata.io.read_text instead.\n",
      "  warnings.warn(msg, FutureWarning)\n",
      "/Users/thorsten/.pyenv/versions/3.10.6/envs/Bioinformatics/lib/python3.10/site-packages/anndata/utils.py:434: FutureWarning: Importing read_umi_tools from `anndata` is deprecated. Import anndata.io.read_umi_tools instead.\n",
      "  warnings.warn(msg, FutureWarning)\n"
     ]
    }
   ],
   "source": [
    "import scanpy as sc\n",
    "import scvi\n",
    "import seaborn as sns\n",
    "import numpy as np\n",
    "import pandas as pd"
   ]
  },
  {
   "cell_type": "code",
   "execution_count": 5,
   "id": "c5779d55",
   "metadata": {},
   "outputs": [
    {
     "data": {
      "text/plain": [
       "AnnData object with n_obs × n_vars = 108822 × 29581\n",
       "    obs: 'Sample', 'doublet', 'n_genes', 'n_genes_by_counts', 'total_counts', 'total_counts_mt', 'pct_counts_mt', 'total_counts_ribo', 'pct_counts_ribo'\n",
       "    var: 'n_cells'"
      ]
     },
     "execution_count": 5,
     "metadata": {},
     "output_type": "execute_result"
    }
   ],
   "source": [
    "adata = sc.read_h5ad('TK_SCA_combined.h5ad')\n",
    "adata"
   ]
  },
  {
   "cell_type": "code",
   "execution_count": 6,
   "id": "975e4785-f7e9-4d32-bfcf-596374873b6a",
   "metadata": {},
   "outputs": [
    {
     "data": {
      "text/plain": [
       "<108822x29581 sparse matrix of type '<class 'numpy.float32'>'\n",
       "\twith 95760461 stored elements in Compressed Sparse Row format>"
      ]
     },
     "execution_count": 6,
     "metadata": {},
     "output_type": "execute_result"
    }
   ],
   "source": [
    "adata.X"
   ]
  },
  {
   "cell_type": "code",
   "execution_count": 8,
   "id": "52664e4c",
   "metadata": {},
   "outputs": [
    {
     "name": "stderr",
     "output_type": "stream",
     "text": [
      "/var/folders/vn/wdw36m4d5k13n07b5xlhgmsr0000gn/T/ipykernel_77220/2340059915.py:1: FutureWarning: The default of observed=False is deprecated and will be changed to True in a future version of pandas. Pass observed=False to retain current behavior or observed=True to adopt the future default and silence this warning.\n",
      "  adata.obs.groupby('Sample').count()\n"
     ]
    },
    {
     "data": {
      "text/html": [
       "<div>\n",
       "<style scoped>\n",
       "    .dataframe tbody tr th:only-of-type {\n",
       "        vertical-align: middle;\n",
       "    }\n",
       "\n",
       "    .dataframe tbody tr th {\n",
       "        vertical-align: top;\n",
       "    }\n",
       "\n",
       "    .dataframe thead th {\n",
       "        text-align: right;\n",
       "    }\n",
       "</style>\n",
       "<table border=\"1\" class=\"dataframe\">\n",
       "  <thead>\n",
       "    <tr style=\"text-align: right;\">\n",
       "      <th></th>\n",
       "      <th>doublet</th>\n",
       "      <th>n_genes</th>\n",
       "      <th>n_genes_by_counts</th>\n",
       "      <th>total_counts</th>\n",
       "      <th>total_counts_mt</th>\n",
       "      <th>pct_counts_mt</th>\n",
       "      <th>total_counts_ribo</th>\n",
       "      <th>pct_counts_ribo</th>\n",
       "    </tr>\n",
       "    <tr>\n",
       "      <th>Sample</th>\n",
       "      <th></th>\n",
       "      <th></th>\n",
       "      <th></th>\n",
       "      <th></th>\n",
       "      <th></th>\n",
       "      <th></th>\n",
       "      <th></th>\n",
       "      <th></th>\n",
       "    </tr>\n",
       "  </thead>\n",
       "  <tbody>\n",
       "    <tr>\n",
       "      <th>C51ctr</th>\n",
       "      <td>5960</td>\n",
       "      <td>5960</td>\n",
       "      <td>5960</td>\n",
       "      <td>5960</td>\n",
       "      <td>5960</td>\n",
       "      <td>5960</td>\n",
       "      <td>5960</td>\n",
       "      <td>5960</td>\n",
       "    </tr>\n",
       "    <tr>\n",
       "      <th>C52ctr</th>\n",
       "      <td>4415</td>\n",
       "      <td>4415</td>\n",
       "      <td>4415</td>\n",
       "      <td>4415</td>\n",
       "      <td>4415</td>\n",
       "      <td>4415</td>\n",
       "      <td>4415</td>\n",
       "      <td>4415</td>\n",
       "    </tr>\n",
       "    <tr>\n",
       "      <th>C53ctr</th>\n",
       "      <td>6928</td>\n",
       "      <td>6928</td>\n",
       "      <td>6928</td>\n",
       "      <td>6928</td>\n",
       "      <td>6928</td>\n",
       "      <td>6928</td>\n",
       "      <td>6928</td>\n",
       "      <td>6928</td>\n",
       "    </tr>\n",
       "    <tr>\n",
       "      <th>C54ctr</th>\n",
       "      <td>4284</td>\n",
       "      <td>4284</td>\n",
       "      <td>4284</td>\n",
       "      <td>4284</td>\n",
       "      <td>4284</td>\n",
       "      <td>4284</td>\n",
       "      <td>4284</td>\n",
       "      <td>4284</td>\n",
       "    </tr>\n",
       "    <tr>\n",
       "      <th>C55ctr</th>\n",
       "      <td>5565</td>\n",
       "      <td>5565</td>\n",
       "      <td>5565</td>\n",
       "      <td>5565</td>\n",
       "      <td>5565</td>\n",
       "      <td>5565</td>\n",
       "      <td>5565</td>\n",
       "      <td>5565</td>\n",
       "    </tr>\n",
       "    <tr>\n",
       "      <th>C56ctr</th>\n",
       "      <td>3904</td>\n",
       "      <td>3904</td>\n",
       "      <td>3904</td>\n",
       "      <td>3904</td>\n",
       "      <td>3904</td>\n",
       "      <td>3904</td>\n",
       "      <td>3904</td>\n",
       "      <td>3904</td>\n",
       "    </tr>\n",
       "    <tr>\n",
       "      <th>C57ctr</th>\n",
       "      <td>4687</td>\n",
       "      <td>4687</td>\n",
       "      <td>4687</td>\n",
       "      <td>4687</td>\n",
       "      <td>4687</td>\n",
       "      <td>4687</td>\n",
       "      <td>4687</td>\n",
       "      <td>4687</td>\n",
       "    </tr>\n",
       "    <tr>\n",
       "      <th>L01cov</th>\n",
       "      <td>2952</td>\n",
       "      <td>2952</td>\n",
       "      <td>2952</td>\n",
       "      <td>2952</td>\n",
       "      <td>2952</td>\n",
       "      <td>2952</td>\n",
       "      <td>2952</td>\n",
       "      <td>2952</td>\n",
       "    </tr>\n",
       "    <tr>\n",
       "      <th>L03cov</th>\n",
       "      <td>3953</td>\n",
       "      <td>3953</td>\n",
       "      <td>3953</td>\n",
       "      <td>3953</td>\n",
       "      <td>3953</td>\n",
       "      <td>3953</td>\n",
       "      <td>3953</td>\n",
       "      <td>3953</td>\n",
       "    </tr>\n",
       "    <tr>\n",
       "      <th>L04cov</th>\n",
       "      <td>3401</td>\n",
       "      <td>3401</td>\n",
       "      <td>3401</td>\n",
       "      <td>3401</td>\n",
       "      <td>3401</td>\n",
       "      <td>3401</td>\n",
       "      <td>3401</td>\n",
       "      <td>3401</td>\n",
       "    </tr>\n",
       "    <tr>\n",
       "      <th>L04covaddon</th>\n",
       "      <td>4386</td>\n",
       "      <td>4386</td>\n",
       "      <td>4386</td>\n",
       "      <td>4386</td>\n",
       "      <td>4386</td>\n",
       "      <td>4386</td>\n",
       "      <td>4386</td>\n",
       "      <td>4386</td>\n",
       "    </tr>\n",
       "    <tr>\n",
       "      <th>L05cov</th>\n",
       "      <td>2696</td>\n",
       "      <td>2696</td>\n",
       "      <td>2696</td>\n",
       "      <td>2696</td>\n",
       "      <td>2696</td>\n",
       "      <td>2696</td>\n",
       "      <td>2696</td>\n",
       "      <td>2696</td>\n",
       "    </tr>\n",
       "    <tr>\n",
       "      <th>L06cov</th>\n",
       "      <td>6306</td>\n",
       "      <td>6306</td>\n",
       "      <td>6306</td>\n",
       "      <td>6306</td>\n",
       "      <td>6306</td>\n",
       "      <td>6306</td>\n",
       "      <td>6306</td>\n",
       "      <td>6306</td>\n",
       "    </tr>\n",
       "    <tr>\n",
       "      <th>L07cov</th>\n",
       "      <td>4753</td>\n",
       "      <td>4753</td>\n",
       "      <td>4753</td>\n",
       "      <td>4753</td>\n",
       "      <td>4753</td>\n",
       "      <td>4753</td>\n",
       "      <td>4753</td>\n",
       "      <td>4753</td>\n",
       "    </tr>\n",
       "    <tr>\n",
       "      <th>L08cov</th>\n",
       "      <td>3767</td>\n",
       "      <td>3767</td>\n",
       "      <td>3767</td>\n",
       "      <td>3767</td>\n",
       "      <td>3767</td>\n",
       "      <td>3767</td>\n",
       "      <td>3767</td>\n",
       "      <td>3767</td>\n",
       "    </tr>\n",
       "    <tr>\n",
       "      <th>L09cov</th>\n",
       "      <td>3368</td>\n",
       "      <td>3368</td>\n",
       "      <td>3368</td>\n",
       "      <td>3368</td>\n",
       "      <td>3368</td>\n",
       "      <td>3368</td>\n",
       "      <td>3368</td>\n",
       "      <td>3368</td>\n",
       "    </tr>\n",
       "    <tr>\n",
       "      <th>L10cov</th>\n",
       "      <td>1501</td>\n",
       "      <td>1501</td>\n",
       "      <td>1501</td>\n",
       "      <td>1501</td>\n",
       "      <td>1501</td>\n",
       "      <td>1501</td>\n",
       "      <td>1501</td>\n",
       "      <td>1501</td>\n",
       "    </tr>\n",
       "    <tr>\n",
       "      <th>L11cov</th>\n",
       "      <td>2888</td>\n",
       "      <td>2888</td>\n",
       "      <td>2888</td>\n",
       "      <td>2888</td>\n",
       "      <td>2888</td>\n",
       "      <td>2888</td>\n",
       "      <td>2888</td>\n",
       "      <td>2888</td>\n",
       "    </tr>\n",
       "    <tr>\n",
       "      <th>L12cov</th>\n",
       "      <td>3648</td>\n",
       "      <td>3648</td>\n",
       "      <td>3648</td>\n",
       "      <td>3648</td>\n",
       "      <td>3648</td>\n",
       "      <td>3648</td>\n",
       "      <td>3648</td>\n",
       "      <td>3648</td>\n",
       "    </tr>\n",
       "    <tr>\n",
       "      <th>L13cov</th>\n",
       "      <td>4732</td>\n",
       "      <td>4732</td>\n",
       "      <td>4732</td>\n",
       "      <td>4732</td>\n",
       "      <td>4732</td>\n",
       "      <td>4732</td>\n",
       "      <td>4732</td>\n",
       "      <td>4732</td>\n",
       "    </tr>\n",
       "    <tr>\n",
       "      <th>L15cov</th>\n",
       "      <td>3905</td>\n",
       "      <td>3905</td>\n",
       "      <td>3905</td>\n",
       "      <td>3905</td>\n",
       "      <td>3905</td>\n",
       "      <td>3905</td>\n",
       "      <td>3905</td>\n",
       "      <td>3905</td>\n",
       "    </tr>\n",
       "    <tr>\n",
       "      <th>L16cov</th>\n",
       "      <td>1773</td>\n",
       "      <td>1773</td>\n",
       "      <td>1773</td>\n",
       "      <td>1773</td>\n",
       "      <td>1773</td>\n",
       "      <td>1773</td>\n",
       "      <td>1773</td>\n",
       "      <td>1773</td>\n",
       "    </tr>\n",
       "    <tr>\n",
       "      <th>L17cov</th>\n",
       "      <td>4341</td>\n",
       "      <td>4341</td>\n",
       "      <td>4341</td>\n",
       "      <td>4341</td>\n",
       "      <td>4341</td>\n",
       "      <td>4341</td>\n",
       "      <td>4341</td>\n",
       "      <td>4341</td>\n",
       "    </tr>\n",
       "    <tr>\n",
       "      <th>L18cov</th>\n",
       "      <td>2633</td>\n",
       "      <td>2633</td>\n",
       "      <td>2633</td>\n",
       "      <td>2633</td>\n",
       "      <td>2633</td>\n",
       "      <td>2633</td>\n",
       "      <td>2633</td>\n",
       "      <td>2633</td>\n",
       "    </tr>\n",
       "    <tr>\n",
       "      <th>L19cov</th>\n",
       "      <td>2429</td>\n",
       "      <td>2429</td>\n",
       "      <td>2429</td>\n",
       "      <td>2429</td>\n",
       "      <td>2429</td>\n",
       "      <td>2429</td>\n",
       "      <td>2429</td>\n",
       "      <td>2429</td>\n",
       "    </tr>\n",
       "    <tr>\n",
       "      <th>L21cov</th>\n",
       "      <td>3257</td>\n",
       "      <td>3257</td>\n",
       "      <td>3257</td>\n",
       "      <td>3257</td>\n",
       "      <td>3257</td>\n",
       "      <td>3257</td>\n",
       "      <td>3257</td>\n",
       "      <td>3257</td>\n",
       "    </tr>\n",
       "    <tr>\n",
       "      <th>L22cov</th>\n",
       "      <td>6390</td>\n",
       "      <td>6390</td>\n",
       "      <td>6390</td>\n",
       "      <td>6390</td>\n",
       "      <td>6390</td>\n",
       "      <td>6390</td>\n",
       "      <td>6390</td>\n",
       "      <td>6390</td>\n",
       "    </tr>\n",
       "  </tbody>\n",
       "</table>\n",
       "</div>"
      ],
      "text/plain": [
       "             doublet  n_genes  n_genes_by_counts  total_counts  \\\n",
       "Sample                                                           \n",
       "C51ctr          5960     5960               5960          5960   \n",
       "C52ctr          4415     4415               4415          4415   \n",
       "C53ctr          6928     6928               6928          6928   \n",
       "C54ctr          4284     4284               4284          4284   \n",
       "C55ctr          5565     5565               5565          5565   \n",
       "C56ctr          3904     3904               3904          3904   \n",
       "C57ctr          4687     4687               4687          4687   \n",
       "L01cov          2952     2952               2952          2952   \n",
       "L03cov          3953     3953               3953          3953   \n",
       "L04cov          3401     3401               3401          3401   \n",
       "L04covaddon     4386     4386               4386          4386   \n",
       "L05cov          2696     2696               2696          2696   \n",
       "L06cov          6306     6306               6306          6306   \n",
       "L07cov          4753     4753               4753          4753   \n",
       "L08cov          3767     3767               3767          3767   \n",
       "L09cov          3368     3368               3368          3368   \n",
       "L10cov          1501     1501               1501          1501   \n",
       "L11cov          2888     2888               2888          2888   \n",
       "L12cov          3648     3648               3648          3648   \n",
       "L13cov          4732     4732               4732          4732   \n",
       "L15cov          3905     3905               3905          3905   \n",
       "L16cov          1773     1773               1773          1773   \n",
       "L17cov          4341     4341               4341          4341   \n",
       "L18cov          2633     2633               2633          2633   \n",
       "L19cov          2429     2429               2429          2429   \n",
       "L21cov          3257     3257               3257          3257   \n",
       "L22cov          6390     6390               6390          6390   \n",
       "\n",
       "             total_counts_mt  pct_counts_mt  total_counts_ribo  \\\n",
       "Sample                                                           \n",
       "C51ctr                  5960           5960               5960   \n",
       "C52ctr                  4415           4415               4415   \n",
       "C53ctr                  6928           6928               6928   \n",
       "C54ctr                  4284           4284               4284   \n",
       "C55ctr                  5565           5565               5565   \n",
       "C56ctr                  3904           3904               3904   \n",
       "C57ctr                  4687           4687               4687   \n",
       "L01cov                  2952           2952               2952   \n",
       "L03cov                  3953           3953               3953   \n",
       "L04cov                  3401           3401               3401   \n",
       "L04covaddon             4386           4386               4386   \n",
       "L05cov                  2696           2696               2696   \n",
       "L06cov                  6306           6306               6306   \n",
       "L07cov                  4753           4753               4753   \n",
       "L08cov                  3767           3767               3767   \n",
       "L09cov                  3368           3368               3368   \n",
       "L10cov                  1501           1501               1501   \n",
       "L11cov                  2888           2888               2888   \n",
       "L12cov                  3648           3648               3648   \n",
       "L13cov                  4732           4732               4732   \n",
       "L15cov                  3905           3905               3905   \n",
       "L16cov                  1773           1773               1773   \n",
       "L17cov                  4341           4341               4341   \n",
       "L18cov                  2633           2633               2633   \n",
       "L19cov                  2429           2429               2429   \n",
       "L21cov                  3257           3257               3257   \n",
       "L22cov                  6390           6390               6390   \n",
       "\n",
       "             pct_counts_ribo  \n",
       "Sample                        \n",
       "C51ctr                  5960  \n",
       "C52ctr                  4415  \n",
       "C53ctr                  6928  \n",
       "C54ctr                  4284  \n",
       "C55ctr                  5565  \n",
       "C56ctr                  3904  \n",
       "C57ctr                  4687  \n",
       "L01cov                  2952  \n",
       "L03cov                  3953  \n",
       "L04cov                  3401  \n",
       "L04covaddon             4386  \n",
       "L05cov                  2696  \n",
       "L06cov                  6306  \n",
       "L07cov                  4753  \n",
       "L08cov                  3767  \n",
       "L09cov                  3368  \n",
       "L10cov                  1501  \n",
       "L11cov                  2888  \n",
       "L12cov                  3648  \n",
       "L13cov                  4732  \n",
       "L15cov                  3905  \n",
       "L16cov                  1773  \n",
       "L17cov                  4341  \n",
       "L18cov                  2633  \n",
       "L19cov                  2429  \n",
       "L21cov                  3257  \n",
       "L22cov                  6390  "
      ]
     },
     "execution_count": 8,
     "metadata": {},
     "output_type": "execute_result"
    }
   ],
   "source": [
    "#Check how many cells per sample by groupby count\n",
    "adata.obs.groupby('Sample').count()"
   ]
  },
  {
   "cell_type": "code",
   "execution_count": 9,
   "id": "fbd23cfa",
   "metadata": {},
   "outputs": [],
   "source": [
    "# Since we still have ~29K genes, to and over 100K cells so we can take strikter rules to keep \n",
    "# only genes that occur at least in 100 cells.\n",
    "sc.pp.filter_genes(adata, min_cells = 100)"
   ]
  },
  {
   "cell_type": "code",
   "execution_count": 10,
   "id": "0251b18b",
   "metadata": {},
   "outputs": [
    {
     "data": {
      "text/plain": [
       "AnnData object with n_obs × n_vars = 108822 × 21306\n",
       "    obs: 'Sample', 'doublet', 'n_genes', 'n_genes_by_counts', 'total_counts', 'total_counts_mt', 'pct_counts_mt', 'total_counts_ribo', 'pct_counts_ribo'\n",
       "    var: 'n_cells'"
      ]
     },
     "execution_count": 10,
     "metadata": {},
     "output_type": "execute_result"
    }
   ],
   "source": [
    "adata"
   ]
  },
  {
   "cell_type": "markdown",
   "id": "89ab998b",
   "metadata": {},
   "source": [
    "This is the integration of the data. Although the data is combined now, the actual integration is just starting. We still need to take care of batch effects (since the data might be from different batches, conditions or experiments) and also again remove artifacts and dead cells (pct_counts_mt, pct_counts_ribo). There are several ways to integrate data. We will use the deep-learning driven scVI. However other methods are:  \n",
    "- scVI/scArches (Deep Learning based models)\n",
    "- Harmony (faster than scVI)\n",
    "- Scanorama (alterntive to scVI in python)\n",
    "- Batch balanced k-nearest neighbor (BBKNN)"
   ]
  },
  {
   "cell_type": "markdown",
   "id": "4aabf543",
   "metadata": {},
   "source": [
    "However, before we do the integration we save the raw data (not normalized, not converted to log or anything!). "
   ]
  },
  {
   "cell_type": "code",
   "execution_count": 11,
   "id": "a5294f22",
   "metadata": {},
   "outputs": [],
   "source": [
    "adata.layers['counts'] = adata.X.copy() #scVI will use this counts layer"
   ]
  },
  {
   "cell_type": "code",
   "execution_count": 13,
   "id": "9f95af38",
   "metadata": {},
   "outputs": [],
   "source": [
    "# a lot of other functions will use this raw data\n",
    "sc.pp.normalize_total(adata, target_sum=1e4)\n",
    "sc.pp.log1p(adata)\n",
    "adata.raw = adata"
   ]
  },
  {
   "cell_type": "code",
   "execution_count": 15,
   "id": "566e0e05",
   "metadata": {},
   "outputs": [
    {
     "data": {
      "text/html": [
       "<div>\n",
       "<style scoped>\n",
       "    .dataframe tbody tr th:only-of-type {\n",
       "        vertical-align: middle;\n",
       "    }\n",
       "\n",
       "    .dataframe tbody tr th {\n",
       "        vertical-align: top;\n",
       "    }\n",
       "\n",
       "    .dataframe thead th {\n",
       "        text-align: right;\n",
       "    }\n",
       "</style>\n",
       "<table border=\"1\" class=\"dataframe\">\n",
       "  <thead>\n",
       "    <tr style=\"text-align: right;\">\n",
       "      <th></th>\n",
       "      <th>Sample</th>\n",
       "      <th>doublet</th>\n",
       "      <th>n_genes</th>\n",
       "      <th>n_genes_by_counts</th>\n",
       "      <th>total_counts</th>\n",
       "      <th>total_counts_mt</th>\n",
       "      <th>pct_counts_mt</th>\n",
       "      <th>total_counts_ribo</th>\n",
       "      <th>pct_counts_ribo</th>\n",
       "    </tr>\n",
       "  </thead>\n",
       "  <tbody>\n",
       "    <tr>\n",
       "      <th>CTCCAACCATACACCA-1_7</th>\n",
       "      <td>C57ctr</td>\n",
       "      <td>False</td>\n",
       "      <td>1812</td>\n",
       "      <td>1812</td>\n",
       "      <td>3962.0</td>\n",
       "      <td>0.0</td>\n",
       "      <td>0.0</td>\n",
       "      <td>1.0</td>\n",
       "      <td>0.025240</td>\n",
       "    </tr>\n",
       "    <tr>\n",
       "      <th>TACTTACTCCATACTT-1_7</th>\n",
       "      <td>C57ctr</td>\n",
       "      <td>False</td>\n",
       "      <td>1845</td>\n",
       "      <td>1845</td>\n",
       "      <td>3643.0</td>\n",
       "      <td>0.0</td>\n",
       "      <td>0.0</td>\n",
       "      <td>1.0</td>\n",
       "      <td>0.027450</td>\n",
       "    </tr>\n",
       "    <tr>\n",
       "      <th>CCTCCAAGTGACATCT-1_7</th>\n",
       "      <td>C57ctr</td>\n",
       "      <td>False</td>\n",
       "      <td>1864</td>\n",
       "      <td>1864</td>\n",
       "      <td>3438.0</td>\n",
       "      <td>0.0</td>\n",
       "      <td>0.0</td>\n",
       "      <td>10.0</td>\n",
       "      <td>0.290867</td>\n",
       "    </tr>\n",
       "    <tr>\n",
       "      <th>GACTTCCAGACAACTA-1_7</th>\n",
       "      <td>C57ctr</td>\n",
       "      <td>False</td>\n",
       "      <td>1827</td>\n",
       "      <td>1827</td>\n",
       "      <td>3406.0</td>\n",
       "      <td>0.0</td>\n",
       "      <td>0.0</td>\n",
       "      <td>0.0</td>\n",
       "      <td>0.000000</td>\n",
       "    </tr>\n",
       "    <tr>\n",
       "      <th>CAACGATGTTGCTCAA-1_7</th>\n",
       "      <td>C57ctr</td>\n",
       "      <td>False</td>\n",
       "      <td>1845</td>\n",
       "      <td>1845</td>\n",
       "      <td>3405.0</td>\n",
       "      <td>0.0</td>\n",
       "      <td>0.0</td>\n",
       "      <td>0.0</td>\n",
       "      <td>0.000000</td>\n",
       "    </tr>\n",
       "  </tbody>\n",
       "</table>\n",
       "</div>"
      ],
      "text/plain": [
       "                      Sample  doublet  n_genes  n_genes_by_counts  \\\n",
       "CTCCAACCATACACCA-1_7  C57ctr    False     1812               1812   \n",
       "TACTTACTCCATACTT-1_7  C57ctr    False     1845               1845   \n",
       "CCTCCAAGTGACATCT-1_7  C57ctr    False     1864               1864   \n",
       "GACTTCCAGACAACTA-1_7  C57ctr    False     1827               1827   \n",
       "CAACGATGTTGCTCAA-1_7  C57ctr    False     1845               1845   \n",
       "\n",
       "                      total_counts  total_counts_mt  pct_counts_mt  \\\n",
       "CTCCAACCATACACCA-1_7        3962.0              0.0            0.0   \n",
       "TACTTACTCCATACTT-1_7        3643.0              0.0            0.0   \n",
       "CCTCCAAGTGACATCT-1_7        3438.0              0.0            0.0   \n",
       "GACTTCCAGACAACTA-1_7        3406.0              0.0            0.0   \n",
       "CAACGATGTTGCTCAA-1_7        3405.0              0.0            0.0   \n",
       "\n",
       "                      total_counts_ribo  pct_counts_ribo  \n",
       "CTCCAACCATACACCA-1_7                1.0         0.025240  \n",
       "TACTTACTCCATACTT-1_7                1.0         0.027450  \n",
       "CCTCCAAGTGACATCT-1_7               10.0         0.290867  \n",
       "GACTTCCAGACAACTA-1_7                0.0         0.000000  \n",
       "CAACGATGTTGCTCAA-1_7                0.0         0.000000  "
      ]
     },
     "execution_count": 15,
     "metadata": {},
     "output_type": "execute_result"
    }
   ],
   "source": [
    "adata.obs.head(5)"
   ]
  },
  {
   "cell_type": "markdown",
   "id": "1f547e4a",
   "metadata": {},
   "source": [
    "You're number of genes should be at least 1/2 to 1/3 of your number of cells (if you have 10 000 cells genes should be maximum 3000). If you have more than run the following to reduce the number of genes further! We have around 100K cells here for 20K genes, so we don't run it. "
   ]
  },
  {
   "cell_type": "code",
   "execution_count": null,
   "id": "c6888d5a",
   "metadata": {},
   "outputs": [],
   "source": [
    "# sc.pp.highly_variable_genes(adata, n_top_genes=3000, subset=True, layer = 'counts', flavor='seurat_v3', batch_key='Sample') #no batch key if you only have one sample"
   ]
  },
  {
   "cell_type": "code",
   "execution_count": 16,
   "id": "66c88e4d",
   "metadata": {},
   "outputs": [],
   "source": [
    "# Now we train the integration model for batch correction, mitochondrial, total and ribo counts correction using scvi:\n",
    "scvi.model.SCVI.setup_anndata(adata, layer = 'counts',\n",
    "                             categorical_covariate_keys= ['Sample'], # if one has multiple batches or sequencing technologies those can be added here as e.g. ,['batch']\n",
    "                             continuous_covariate_keys= ['pct_counts_mt', 'total_counts','pct_counts_ribo'])"
   ]
  },
  {
   "cell_type": "code",
   "execution_count": 17,
   "id": "e4f9efba",
   "metadata": {},
   "outputs": [],
   "source": [
    "model = scvi.model.SCVI(adata)"
   ]
  },
  {
   "cell_type": "code",
   "execution_count": 20,
   "id": "cfc03c36",
   "metadata": {},
   "outputs": [
    {
     "name": "stderr",
     "output_type": "stream",
     "text": [
      "/Users/thorsten/.pyenv/versions/3.10.6/envs/Bioinformatics/lib/python3.10/site-packages/scvi/train/_trainrunner.py:69: UserWarning: `accelerator` has been automatically set to `cpu` although 'mps' exists. If you wish to run on mps backend, use explicitly accelerator=='mps' in train function.In future releases it will become default for mps supported machines.\n",
      "  accelerator, lightning_devices, device = parse_device_args(\n",
      "GPU available: True (mps), used: False\n",
      "TPU available: False, using: 0 TPU cores\n",
      "HPU available: False, using: 0 HPUs\n",
      "/Users/thorsten/.pyenv/versions/3.10.6/envs/Bioinformatics/lib/python3.10/site-packages/lightning/pytorch/trainer/setup.py:177: GPU available but not used. You can set it by doing `Trainer(accelerator='gpu')`.\n",
      "/Users/thorsten/.pyenv/versions/3.10.6/envs/Bioinformatics/lib/python3.10/site-packages/lightning/pytorch/trainer/connectors/data_connector.py:425: The 'train_dataloader' does not have many workers which may be a bottleneck. Consider increasing the value of the `num_workers` argument` to `num_workers=7` in the `DataLoader` to improve performance.\n"
     ]
    },
    {
     "data": {
      "application/vnd.jupyter.widget-view+json": {
       "model_id": "2263e069249a49f1b063bd313b936d83",
       "version_major": 2,
       "version_minor": 0
      },
      "text/plain": [
       "Training:   0%|          | 0/74 [00:00<?, ?it/s]"
      ]
     },
     "metadata": {},
     "output_type": "display_data"
    },
    {
     "name": "stderr",
     "output_type": "stream",
     "text": [
      "`Trainer.fit` stopped: `max_epochs=74` reached.\n"
     ]
    }
   ],
   "source": [
    "model.train()"
   ]
  },
  {
   "cell_type": "code",
   "execution_count": 21,
   "id": "c5e35e2e",
   "metadata": {},
   "outputs": [
    {
     "data": {
      "text/plain": [
       "(108822, 10)"
      ]
     },
     "execution_count": 21,
     "metadata": {},
     "output_type": "execute_result"
    }
   ],
   "source": [
    "# It is a numpy array with the number of rows equals the cells and 10 columns\n",
    "model.get_latent_representation().shape"
   ]
  },
  {
   "cell_type": "code",
   "execution_count": 22,
   "id": "25a93a30",
   "metadata": {},
   "outputs": [],
   "source": [
    "# We store it in adata.obsm named as \"X_scVI\" \n",
    "adata.obsm['X_scVI'] = model.get_latent_representation()"
   ]
  },
  {
   "cell_type": "code",
   "execution_count": 23,
   "id": "d5ca1caf",
   "metadata": {},
   "outputs": [
    {
     "data": {
      "text/html": [
       "<div>\n",
       "<style scoped>\n",
       "    .dataframe tbody tr th:only-of-type {\n",
       "        vertical-align: middle;\n",
       "    }\n",
       "\n",
       "    .dataframe tbody tr th {\n",
       "        vertical-align: top;\n",
       "    }\n",
       "\n",
       "    .dataframe thead th {\n",
       "        text-align: right;\n",
       "    }\n",
       "</style>\n",
       "<table border=\"1\" class=\"dataframe\">\n",
       "  <thead>\n",
       "    <tr style=\"text-align: right;\">\n",
       "      <th></th>\n",
       "      <th>AL627309.1</th>\n",
       "      <th>AL627309.5</th>\n",
       "      <th>LINC01409</th>\n",
       "      <th>LINC01128</th>\n",
       "      <th>LINC00115</th>\n",
       "      <th>AL645608.6</th>\n",
       "      <th>AL645608.2</th>\n",
       "      <th>LINC02593</th>\n",
       "      <th>SAMD11</th>\n",
       "      <th>NOC2L</th>\n",
       "      <th>...</th>\n",
       "      <th>MT1A</th>\n",
       "      <th>IGSF5</th>\n",
       "      <th>AC244213.1</th>\n",
       "      <th>DDX3Y</th>\n",
       "      <th>NLGN4Y</th>\n",
       "      <th>AC011751.1</th>\n",
       "      <th>AC010889.1</th>\n",
       "      <th>AC010889.2</th>\n",
       "      <th>CCL7</th>\n",
       "      <th>TFF2</th>\n",
       "    </tr>\n",
       "  </thead>\n",
       "  <tbody>\n",
       "    <tr>\n",
       "      <th>CTCCAACCATACACCA-1_7</th>\n",
       "      <td>0.021409</td>\n",
       "      <td>0.069072</td>\n",
       "      <td>0.117206</td>\n",
       "      <td>0.031886</td>\n",
       "      <td>0.007379</td>\n",
       "      <td>0.003995</td>\n",
       "      <td>0.001766</td>\n",
       "      <td>0.009311</td>\n",
       "      <td>0.022086</td>\n",
       "      <td>0.057813</td>\n",
       "      <td>...</td>\n",
       "      <td>0.005328</td>\n",
       "      <td>0.001194</td>\n",
       "      <td>0.076784</td>\n",
       "      <td>0.440496</td>\n",
       "      <td>0.560820</td>\n",
       "      <td>0.002579</td>\n",
       "      <td>0.052707</td>\n",
       "      <td>0.026447</td>\n",
       "      <td>0.000469</td>\n",
       "      <td>0.000318</td>\n",
       "    </tr>\n",
       "    <tr>\n",
       "      <th>TACTTACTCCATACTT-1_7</th>\n",
       "      <td>0.029427</td>\n",
       "      <td>0.110464</td>\n",
       "      <td>0.224376</td>\n",
       "      <td>0.045439</td>\n",
       "      <td>0.011399</td>\n",
       "      <td>0.007446</td>\n",
       "      <td>0.002560</td>\n",
       "      <td>0.013526</td>\n",
       "      <td>0.045429</td>\n",
       "      <td>0.073541</td>\n",
       "      <td>...</td>\n",
       "      <td>0.007450</td>\n",
       "      <td>0.001669</td>\n",
       "      <td>0.107509</td>\n",
       "      <td>0.674842</td>\n",
       "      <td>1.085181</td>\n",
       "      <td>0.004894</td>\n",
       "      <td>0.109322</td>\n",
       "      <td>0.062029</td>\n",
       "      <td>0.001235</td>\n",
       "      <td>0.000615</td>\n",
       "    </tr>\n",
       "    <tr>\n",
       "      <th>CCTCCAAGTGACATCT-1_7</th>\n",
       "      <td>0.017359</td>\n",
       "      <td>0.043527</td>\n",
       "      <td>0.204152</td>\n",
       "      <td>0.062233</td>\n",
       "      <td>0.006795</td>\n",
       "      <td>0.007614</td>\n",
       "      <td>0.005600</td>\n",
       "      <td>0.001640</td>\n",
       "      <td>0.030338</td>\n",
       "      <td>0.210175</td>\n",
       "      <td>...</td>\n",
       "      <td>0.007013</td>\n",
       "      <td>0.002705</td>\n",
       "      <td>0.053542</td>\n",
       "      <td>0.609725</td>\n",
       "      <td>0.175979</td>\n",
       "      <td>0.006703</td>\n",
       "      <td>0.015448</td>\n",
       "      <td>0.003874</td>\n",
       "      <td>0.006331</td>\n",
       "      <td>0.010257</td>\n",
       "    </tr>\n",
       "    <tr>\n",
       "      <th>GACTTCCAGACAACTA-1_7</th>\n",
       "      <td>0.023482</td>\n",
       "      <td>0.115287</td>\n",
       "      <td>0.174625</td>\n",
       "      <td>0.050244</td>\n",
       "      <td>0.007866</td>\n",
       "      <td>0.010063</td>\n",
       "      <td>0.003578</td>\n",
       "      <td>0.017050</td>\n",
       "      <td>0.043319</td>\n",
       "      <td>0.110174</td>\n",
       "      <td>...</td>\n",
       "      <td>0.010279</td>\n",
       "      <td>0.003544</td>\n",
       "      <td>0.121657</td>\n",
       "      <td>0.596760</td>\n",
       "      <td>0.972100</td>\n",
       "      <td>0.003226</td>\n",
       "      <td>0.106348</td>\n",
       "      <td>0.055103</td>\n",
       "      <td>0.001956</td>\n",
       "      <td>0.000857</td>\n",
       "    </tr>\n",
       "    <tr>\n",
       "      <th>CAACGATGTTGCTCAA-1_7</th>\n",
       "      <td>0.047958</td>\n",
       "      <td>0.094768</td>\n",
       "      <td>0.178530</td>\n",
       "      <td>0.060060</td>\n",
       "      <td>0.013935</td>\n",
       "      <td>0.010225</td>\n",
       "      <td>0.003882</td>\n",
       "      <td>0.012498</td>\n",
       "      <td>0.040408</td>\n",
       "      <td>0.138338</td>\n",
       "      <td>...</td>\n",
       "      <td>0.013915</td>\n",
       "      <td>0.004871</td>\n",
       "      <td>0.186401</td>\n",
       "      <td>0.366210</td>\n",
       "      <td>0.703869</td>\n",
       "      <td>0.002723</td>\n",
       "      <td>0.074777</td>\n",
       "      <td>0.053617</td>\n",
       "      <td>0.001850</td>\n",
       "      <td>0.000720</td>\n",
       "    </tr>\n",
       "    <tr>\n",
       "      <th>...</th>\n",
       "      <td>...</td>\n",
       "      <td>...</td>\n",
       "      <td>...</td>\n",
       "      <td>...</td>\n",
       "      <td>...</td>\n",
       "      <td>...</td>\n",
       "      <td>...</td>\n",
       "      <td>...</td>\n",
       "      <td>...</td>\n",
       "      <td>...</td>\n",
       "      <td>...</td>\n",
       "      <td>...</td>\n",
       "      <td>...</td>\n",
       "      <td>...</td>\n",
       "      <td>...</td>\n",
       "      <td>...</td>\n",
       "      <td>...</td>\n",
       "      <td>...</td>\n",
       "      <td>...</td>\n",
       "      <td>...</td>\n",
       "      <td>...</td>\n",
       "    </tr>\n",
       "    <tr>\n",
       "      <th>CGCCATTGTTTGCCGG-1_1</th>\n",
       "      <td>0.001832</td>\n",
       "      <td>0.020121</td>\n",
       "      <td>0.460056</td>\n",
       "      <td>0.094763</td>\n",
       "      <td>0.029755</td>\n",
       "      <td>0.005697</td>\n",
       "      <td>0.000292</td>\n",
       "      <td>0.002160</td>\n",
       "      <td>0.016294</td>\n",
       "      <td>0.328217</td>\n",
       "      <td>...</td>\n",
       "      <td>0.000135</td>\n",
       "      <td>0.002187</td>\n",
       "      <td>0.001802</td>\n",
       "      <td>0.014827</td>\n",
       "      <td>0.000705</td>\n",
       "      <td>0.106306</td>\n",
       "      <td>0.000927</td>\n",
       "      <td>0.002625</td>\n",
       "      <td>0.000111</td>\n",
       "      <td>0.000338</td>\n",
       "    </tr>\n",
       "    <tr>\n",
       "      <th>CACTGGGGTCTACGTA-1_1</th>\n",
       "      <td>0.006435</td>\n",
       "      <td>0.022176</td>\n",
       "      <td>0.278877</td>\n",
       "      <td>0.107240</td>\n",
       "      <td>0.017862</td>\n",
       "      <td>0.000865</td>\n",
       "      <td>0.000931</td>\n",
       "      <td>0.012738</td>\n",
       "      <td>0.002674</td>\n",
       "      <td>0.376281</td>\n",
       "      <td>...</td>\n",
       "      <td>0.006955</td>\n",
       "      <td>0.011917</td>\n",
       "      <td>0.003106</td>\n",
       "      <td>0.005738</td>\n",
       "      <td>0.005694</td>\n",
       "      <td>0.000711</td>\n",
       "      <td>0.000780</td>\n",
       "      <td>0.000764</td>\n",
       "      <td>0.001668</td>\n",
       "      <td>0.000379</td>\n",
       "    </tr>\n",
       "    <tr>\n",
       "      <th>CATACTTGTAGAGGAA-1_1</th>\n",
       "      <td>0.002091</td>\n",
       "      <td>0.016685</td>\n",
       "      <td>0.460353</td>\n",
       "      <td>0.184785</td>\n",
       "      <td>0.020454</td>\n",
       "      <td>0.008678</td>\n",
       "      <td>0.000886</td>\n",
       "      <td>0.001913</td>\n",
       "      <td>0.016851</td>\n",
       "      <td>0.411103</td>\n",
       "      <td>...</td>\n",
       "      <td>0.001042</td>\n",
       "      <td>0.001978</td>\n",
       "      <td>0.011422</td>\n",
       "      <td>0.033381</td>\n",
       "      <td>0.021968</td>\n",
       "      <td>0.000258</td>\n",
       "      <td>0.003920</td>\n",
       "      <td>0.002382</td>\n",
       "      <td>0.000152</td>\n",
       "      <td>0.000510</td>\n",
       "    </tr>\n",
       "    <tr>\n",
       "      <th>TTTGGTTTCCACGGAC-1_1</th>\n",
       "      <td>0.009122</td>\n",
       "      <td>0.007406</td>\n",
       "      <td>0.193853</td>\n",
       "      <td>0.058337</td>\n",
       "      <td>0.009402</td>\n",
       "      <td>0.004051</td>\n",
       "      <td>0.005435</td>\n",
       "      <td>0.041053</td>\n",
       "      <td>0.167772</td>\n",
       "      <td>0.371152</td>\n",
       "      <td>...</td>\n",
       "      <td>0.009792</td>\n",
       "      <td>0.018006</td>\n",
       "      <td>0.002533</td>\n",
       "      <td>0.015661</td>\n",
       "      <td>0.001217</td>\n",
       "      <td>0.001058</td>\n",
       "      <td>0.000678</td>\n",
       "      <td>0.002021</td>\n",
       "      <td>0.000746</td>\n",
       "      <td>0.000414</td>\n",
       "    </tr>\n",
       "    <tr>\n",
       "      <th>ATGCATGAGTCATGAA-1_1</th>\n",
       "      <td>0.003994</td>\n",
       "      <td>0.021538</td>\n",
       "      <td>0.251617</td>\n",
       "      <td>0.079993</td>\n",
       "      <td>0.012555</td>\n",
       "      <td>0.000557</td>\n",
       "      <td>0.000902</td>\n",
       "      <td>0.013564</td>\n",
       "      <td>0.002168</td>\n",
       "      <td>0.303285</td>\n",
       "      <td>...</td>\n",
       "      <td>0.005585</td>\n",
       "      <td>0.011424</td>\n",
       "      <td>0.002778</td>\n",
       "      <td>0.005318</td>\n",
       "      <td>0.006437</td>\n",
       "      <td>0.000700</td>\n",
       "      <td>0.000999</td>\n",
       "      <td>0.000665</td>\n",
       "      <td>0.001178</td>\n",
       "      <td>0.000142</td>\n",
       "    </tr>\n",
       "  </tbody>\n",
       "</table>\n",
       "<p>108822 rows × 21306 columns</p>\n",
       "</div>"
      ],
      "text/plain": [
       "                      AL627309.1  AL627309.5  LINC01409  LINC01128  LINC00115  \\\n",
       "CTCCAACCATACACCA-1_7    0.021409    0.069072   0.117206   0.031886   0.007379   \n",
       "TACTTACTCCATACTT-1_7    0.029427    0.110464   0.224376   0.045439   0.011399   \n",
       "CCTCCAAGTGACATCT-1_7    0.017359    0.043527   0.204152   0.062233   0.006795   \n",
       "GACTTCCAGACAACTA-1_7    0.023482    0.115287   0.174625   0.050244   0.007866   \n",
       "CAACGATGTTGCTCAA-1_7    0.047958    0.094768   0.178530   0.060060   0.013935   \n",
       "...                          ...         ...        ...        ...        ...   \n",
       "CGCCATTGTTTGCCGG-1_1    0.001832    0.020121   0.460056   0.094763   0.029755   \n",
       "CACTGGGGTCTACGTA-1_1    0.006435    0.022176   0.278877   0.107240   0.017862   \n",
       "CATACTTGTAGAGGAA-1_1    0.002091    0.016685   0.460353   0.184785   0.020454   \n",
       "TTTGGTTTCCACGGAC-1_1    0.009122    0.007406   0.193853   0.058337   0.009402   \n",
       "ATGCATGAGTCATGAA-1_1    0.003994    0.021538   0.251617   0.079993   0.012555   \n",
       "\n",
       "                      AL645608.6  AL645608.2  LINC02593    SAMD11     NOC2L  \\\n",
       "CTCCAACCATACACCA-1_7    0.003995    0.001766   0.009311  0.022086  0.057813   \n",
       "TACTTACTCCATACTT-1_7    0.007446    0.002560   0.013526  0.045429  0.073541   \n",
       "CCTCCAAGTGACATCT-1_7    0.007614    0.005600   0.001640  0.030338  0.210175   \n",
       "GACTTCCAGACAACTA-1_7    0.010063    0.003578   0.017050  0.043319  0.110174   \n",
       "CAACGATGTTGCTCAA-1_7    0.010225    0.003882   0.012498  0.040408  0.138338   \n",
       "...                          ...         ...        ...       ...       ...   \n",
       "CGCCATTGTTTGCCGG-1_1    0.005697    0.000292   0.002160  0.016294  0.328217   \n",
       "CACTGGGGTCTACGTA-1_1    0.000865    0.000931   0.012738  0.002674  0.376281   \n",
       "CATACTTGTAGAGGAA-1_1    0.008678    0.000886   0.001913  0.016851  0.411103   \n",
       "TTTGGTTTCCACGGAC-1_1    0.004051    0.005435   0.041053  0.167772  0.371152   \n",
       "ATGCATGAGTCATGAA-1_1    0.000557    0.000902   0.013564  0.002168  0.303285   \n",
       "\n",
       "                      ...      MT1A     IGSF5  AC244213.1     DDX3Y    NLGN4Y  \\\n",
       "CTCCAACCATACACCA-1_7  ...  0.005328  0.001194    0.076784  0.440496  0.560820   \n",
       "TACTTACTCCATACTT-1_7  ...  0.007450  0.001669    0.107509  0.674842  1.085181   \n",
       "CCTCCAAGTGACATCT-1_7  ...  0.007013  0.002705    0.053542  0.609725  0.175979   \n",
       "GACTTCCAGACAACTA-1_7  ...  0.010279  0.003544    0.121657  0.596760  0.972100   \n",
       "CAACGATGTTGCTCAA-1_7  ...  0.013915  0.004871    0.186401  0.366210  0.703869   \n",
       "...                   ...       ...       ...         ...       ...       ...   \n",
       "CGCCATTGTTTGCCGG-1_1  ...  0.000135  0.002187    0.001802  0.014827  0.000705   \n",
       "CACTGGGGTCTACGTA-1_1  ...  0.006955  0.011917    0.003106  0.005738  0.005694   \n",
       "CATACTTGTAGAGGAA-1_1  ...  0.001042  0.001978    0.011422  0.033381  0.021968   \n",
       "TTTGGTTTCCACGGAC-1_1  ...  0.009792  0.018006    0.002533  0.015661  0.001217   \n",
       "ATGCATGAGTCATGAA-1_1  ...  0.005585  0.011424    0.002778  0.005318  0.006437   \n",
       "\n",
       "                      AC011751.1  AC010889.1  AC010889.2      CCL7      TFF2  \n",
       "CTCCAACCATACACCA-1_7    0.002579    0.052707    0.026447  0.000469  0.000318  \n",
       "TACTTACTCCATACTT-1_7    0.004894    0.109322    0.062029  0.001235  0.000615  \n",
       "CCTCCAAGTGACATCT-1_7    0.006703    0.015448    0.003874  0.006331  0.010257  \n",
       "GACTTCCAGACAACTA-1_7    0.003226    0.106348    0.055103  0.001956  0.000857  \n",
       "CAACGATGTTGCTCAA-1_7    0.002723    0.074777    0.053617  0.001850  0.000720  \n",
       "...                          ...         ...         ...       ...       ...  \n",
       "CGCCATTGTTTGCCGG-1_1    0.106306    0.000927    0.002625  0.000111  0.000338  \n",
       "CACTGGGGTCTACGTA-1_1    0.000711    0.000780    0.000764  0.001668  0.000379  \n",
       "CATACTTGTAGAGGAA-1_1    0.000258    0.003920    0.002382  0.000152  0.000510  \n",
       "TTTGGTTTCCACGGAC-1_1    0.001058    0.000678    0.002021  0.000746  0.000414  \n",
       "ATGCATGAGTCATGAA-1_1    0.000700    0.000999    0.000665  0.001178  0.000142  \n",
       "\n",
       "[108822 rows x 21306 columns]"
      ]
     },
     "execution_count": 23,
     "metadata": {},
     "output_type": "execute_result"
    }
   ],
   "source": [
    "#Scvi normalized expression is a cell by gene dataframe\n",
    "model.get_normalized_expression(library_size = 1e4)"
   ]
  },
  {
   "cell_type": "code",
   "execution_count": 1,
   "id": "acb9ed40",
   "metadata": {},
   "outputs": [
    {
     "ename": "NameError",
     "evalue": "name 'model' is not defined",
     "output_type": "error",
     "traceback": [
      "\u001b[0;31m---------------------------------------------------------------------------\u001b[0m",
      "\u001b[0;31mNameError\u001b[0m                                 Traceback (most recent call last)",
      "Cell \u001b[0;32mIn[1], line 2\u001b[0m\n\u001b[1;32m      1\u001b[0m \u001b[38;5;66;03m#Store it as an layer in adata (instead of overwriting the raw values)\u001b[39;00m\n\u001b[0;32m----> 2\u001b[0m adata\u001b[38;5;241m.\u001b[39mlayers[\u001b[38;5;124m'\u001b[39m\u001b[38;5;124mscvi_normalized\u001b[39m\u001b[38;5;124m'\u001b[39m] \u001b[38;5;241m=\u001b[39m \u001b[43mmodel\u001b[49m\u001b[38;5;241m.\u001b[39mget_normalized_expression(library_size \u001b[38;5;241m=\u001b[39m \u001b[38;5;241m1e4\u001b[39m)\n",
      "\u001b[0;31mNameError\u001b[0m: name 'model' is not defined"
     ]
    }
   ],
   "source": [
    "#Store it as an layer in adata (instead of overwriting the raw values)\n",
    "adata.layers['scvi_normalized'] = model.get_normalized_expression(library_size = 1e4)"
   ]
  },
  {
   "cell_type": "code",
   "execution_count": null,
   "id": "b7ddcabb",
   "metadata": {},
   "outputs": [],
   "source": [
    "# Now we do the clustering but using the representation of scVI to calculate the neighbors\n",
    "sc.pp.neighbors(adata, use_rep= 'X_scVI')"
   ]
  },
  {
   "cell_type": "code",
   "execution_count": null,
   "id": "1dc8614e",
   "metadata": {},
   "outputs": [],
   "source": [
    "sc.tl.umap(adata)\n",
    "sc.tl.leiden(adata, resolution = 0.5)"
   ]
  },
  {
   "cell_type": "code",
   "execution_count": null,
   "id": "7837b7e5",
   "metadata": {},
   "outputs": [],
   "source": [
    "sc.pl.umap(adata, color = ['leiden', 'Sample'], frameon = False)"
   ]
  },
  {
   "cell_type": "code",
   "execution_count": null,
   "id": "b5dbd14d",
   "metadata": {},
   "outputs": [],
   "source": [
    "adata.write_h5ad('integratedSC_dataset.h5ad')"
   ]
  },
  {
   "cell_type": "code",
   "execution_count": null,
   "id": "d05f41de",
   "metadata": {},
   "outputs": [],
   "source": []
  }
 ],
 "metadata": {
  "kernelspec": {
   "display_name": "Python 3 (ipykernel)",
   "language": "python",
   "name": "python3"
  },
  "language_info": {
   "codemirror_mode": {
    "name": "ipython",
    "version": 3
   },
   "file_extension": ".py",
   "mimetype": "text/x-python",
   "name": "python",
   "nbconvert_exporter": "python",
   "pygments_lexer": "ipython3",
   "version": "3.10.6"
  },
  "toc": {
   "base_numbering": 1,
   "nav_menu": {},
   "number_sections": true,
   "sideBar": true,
   "skip_h1_title": false,
   "title_cell": "Table of Contents",
   "title_sidebar": "Contents",
   "toc_cell": false,
   "toc_position": {},
   "toc_section_display": true,
   "toc_window_display": false
  }
 },
 "nbformat": 4,
 "nbformat_minor": 5
}
